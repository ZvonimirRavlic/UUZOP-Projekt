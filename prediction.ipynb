{
 "cells": [
  {
   "cell_type": "code",
   "execution_count": 2,
   "metadata": {
    "collapsed": true
   },
   "outputs": [],
   "source": [
    "import pandas as pd\n",
    "from sklearn.preprocessing import PolynomialFeatures\n",
    "from sklearn.linear_model import LinearRegression"
   ]
  },
  {
   "cell_type": "code",
   "execution_count": 4,
   "outputs": [
    {
     "data": {
      "text/plain": "       wteam  lteam  rpiRankW  rpiRankL  ptsW  ptsL    fgPcgW    fgPcgL  stlW  \\\n0       1228   1414      41.0     289.0  2413  2312  0.468063  0.418592   188   \n1       1268   1370      84.0     294.0  2536  2138  0.470707  0.399578   222   \n2       1338   1348      11.0     101.0  2514  2186  0.474812  0.421024   160   \n3       1400   1298      10.0     301.0  2701  2039  0.454502  0.394814   207   \n4       1228   1405      41.0     334.0  2413  1773  0.468063  0.404000   188   \n...      ...    ...       ...       ...   ...   ...       ...       ...   ...   \n21377   1196   1246       1.0      16.0  2405  2581  0.462096  0.451239   245   \n21378   1277   1276      13.0      10.0  2582  2455  0.474654  0.475788   236   \n21379   1386   1433      30.0      19.0  2352  2549  0.468588  0.418583   148   \n21380   1418   1209     102.0      93.0  2475  2407  0.458423  0.469914   217   \n21381   1438   1181       7.0       8.0  2242  2674  0.452395  0.463228   181   \n\n       stlL  blkW  blkL  \n0       202   152    53  \n1       259   150    60  \n2       210   111   123  \n3       269   183    72  \n4       171   152    43  \n...     ...   ...   ...  \n21377   162    97   212  \n21378   169   164    83  \n21379   380   152   145  \n21380   244   122   146  \n21381   238   135   104  \n\n[21382 rows x 12 columns]",
      "text/html": "<div>\n<style scoped>\n    .dataframe tbody tr th:only-of-type {\n        vertical-align: middle;\n    }\n\n    .dataframe tbody tr th {\n        vertical-align: top;\n    }\n\n    .dataframe thead th {\n        text-align: right;\n    }\n</style>\n<table border=\"1\" class=\"dataframe\">\n  <thead>\n    <tr style=\"text-align: right;\">\n      <th></th>\n      <th>wteam</th>\n      <th>lteam</th>\n      <th>rpiRankW</th>\n      <th>rpiRankL</th>\n      <th>ptsW</th>\n      <th>ptsL</th>\n      <th>fgPcgW</th>\n      <th>fgPcgL</th>\n      <th>stlW</th>\n      <th>stlL</th>\n      <th>blkW</th>\n      <th>blkL</th>\n    </tr>\n  </thead>\n  <tbody>\n    <tr>\n      <th>0</th>\n      <td>1228</td>\n      <td>1414</td>\n      <td>41.0</td>\n      <td>289.0</td>\n      <td>2413</td>\n      <td>2312</td>\n      <td>0.468063</td>\n      <td>0.418592</td>\n      <td>188</td>\n      <td>202</td>\n      <td>152</td>\n      <td>53</td>\n    </tr>\n    <tr>\n      <th>1</th>\n      <td>1268</td>\n      <td>1370</td>\n      <td>84.0</td>\n      <td>294.0</td>\n      <td>2536</td>\n      <td>2138</td>\n      <td>0.470707</td>\n      <td>0.399578</td>\n      <td>222</td>\n      <td>259</td>\n      <td>150</td>\n      <td>60</td>\n    </tr>\n    <tr>\n      <th>2</th>\n      <td>1338</td>\n      <td>1348</td>\n      <td>11.0</td>\n      <td>101.0</td>\n      <td>2514</td>\n      <td>2186</td>\n      <td>0.474812</td>\n      <td>0.421024</td>\n      <td>160</td>\n      <td>210</td>\n      <td>111</td>\n      <td>123</td>\n    </tr>\n    <tr>\n      <th>3</th>\n      <td>1400</td>\n      <td>1298</td>\n      <td>10.0</td>\n      <td>301.0</td>\n      <td>2701</td>\n      <td>2039</td>\n      <td>0.454502</td>\n      <td>0.394814</td>\n      <td>207</td>\n      <td>269</td>\n      <td>183</td>\n      <td>72</td>\n    </tr>\n    <tr>\n      <th>4</th>\n      <td>1228</td>\n      <td>1405</td>\n      <td>41.0</td>\n      <td>334.0</td>\n      <td>2413</td>\n      <td>1773</td>\n      <td>0.468063</td>\n      <td>0.404000</td>\n      <td>188</td>\n      <td>171</td>\n      <td>152</td>\n      <td>43</td>\n    </tr>\n    <tr>\n      <th>...</th>\n      <td>...</td>\n      <td>...</td>\n      <td>...</td>\n      <td>...</td>\n      <td>...</td>\n      <td>...</td>\n      <td>...</td>\n      <td>...</td>\n      <td>...</td>\n      <td>...</td>\n      <td>...</td>\n      <td>...</td>\n    </tr>\n    <tr>\n      <th>21377</th>\n      <td>1196</td>\n      <td>1246</td>\n      <td>1.0</td>\n      <td>16.0</td>\n      <td>2405</td>\n      <td>2581</td>\n      <td>0.462096</td>\n      <td>0.451239</td>\n      <td>245</td>\n      <td>162</td>\n      <td>97</td>\n      <td>212</td>\n    </tr>\n    <tr>\n      <th>21378</th>\n      <td>1277</td>\n      <td>1276</td>\n      <td>13.0</td>\n      <td>10.0</td>\n      <td>2582</td>\n      <td>2455</td>\n      <td>0.474654</td>\n      <td>0.475788</td>\n      <td>236</td>\n      <td>169</td>\n      <td>164</td>\n      <td>83</td>\n    </tr>\n    <tr>\n      <th>21379</th>\n      <td>1386</td>\n      <td>1433</td>\n      <td>30.0</td>\n      <td>19.0</td>\n      <td>2352</td>\n      <td>2549</td>\n      <td>0.468588</td>\n      <td>0.418583</td>\n      <td>148</td>\n      <td>380</td>\n      <td>152</td>\n      <td>145</td>\n    </tr>\n    <tr>\n      <th>21380</th>\n      <td>1418</td>\n      <td>1209</td>\n      <td>102.0</td>\n      <td>93.0</td>\n      <td>2475</td>\n      <td>2407</td>\n      <td>0.458423</td>\n      <td>0.469914</td>\n      <td>217</td>\n      <td>244</td>\n      <td>122</td>\n      <td>146</td>\n    </tr>\n    <tr>\n      <th>21381</th>\n      <td>1438</td>\n      <td>1181</td>\n      <td>7.0</td>\n      <td>8.0</td>\n      <td>2242</td>\n      <td>2674</td>\n      <td>0.452395</td>\n      <td>0.463228</td>\n      <td>181</td>\n      <td>238</td>\n      <td>135</td>\n      <td>104</td>\n    </tr>\n  </tbody>\n</table>\n<p>21382 rows × 12 columns</p>\n</div>"
     },
     "execution_count": 4,
     "metadata": {},
     "output_type": "execute_result"
    }
   ],
   "source": [
    "games = pd.read_csv(\"gamesTraining.csv\")\n",
    "games"
   ],
   "metadata": {
    "collapsed": false
   }
  },
  {
   "cell_type": "code",
   "execution_count": null,
   "outputs": [],
   "source": [
    "model = np.poly1d(np.polyfit(hours, happ, 2))"
   ],
   "metadata": {
    "collapsed": false
   }
  }
 ],
 "metadata": {
  "kernelspec": {
   "display_name": "Python 3",
   "language": "python",
   "name": "python3"
  },
  "language_info": {
   "codemirror_mode": {
    "name": "ipython",
    "version": 2
   },
   "file_extension": ".py",
   "mimetype": "text/x-python",
   "name": "python",
   "nbconvert_exporter": "python",
   "pygments_lexer": "ipython2",
   "version": "2.7.6"
  }
 },
 "nbformat": 4,
 "nbformat_minor": 0
}
