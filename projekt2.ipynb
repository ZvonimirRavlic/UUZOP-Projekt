{
 "cells": [
  {
   "cell_type": "code",
   "execution_count": 78,
   "metadata": {
    "collapsed": true
   },
   "outputs": [],
   "source": [
    "import pandas as pd\n",
    "from ast import literal_eval\n",
    "from sklearn.preprocessing import PolynomialFeatures\n",
    "from sklearn.linear_model import LinearRegression"
   ]
  },
  {
   "cell_type": "code",
   "execution_count": 79,
   "outputs": [
    {
     "data": {
      "text/plain": "(780, 34)"
     },
     "execution_count": 79,
     "metadata": {},
     "output_type": "execute_result"
    }
   ],
   "source": [
    "tourney_results = pd.read_csv(\"tourney_detailed_results.csv\")\n",
    "tourney_results.shape"
   ],
   "metadata": {
    "collapsed": false
   }
  },
  {
   "cell_type": "code",
   "execution_count": 80,
   "outputs": [
    {
     "data": {
      "text/plain": "     season  daynum  wteam  wscore  lteam  lscore wloc  numot  wfgm  wfga  \\\n512    2011     134   1155      70   1412      52    N      0    26    50   \n513    2011     134   1421      81   1114      77    N      1    27    54   \n514    2011     135   1427      70   1106      61    N      0    23    54   \n515    2011     135   1433      59   1425      46    N      0    20    59   \n516    2011     136   1139      60   1330      58    N      0    22    54   \n..      ...     ...    ...     ...    ...     ...  ...    ...   ...   ...   \n574    2011     146   1246      76   1314      69    N      0    27    56   \n575    2011     146   1433      71   1242      61    N      0    21    53   \n576    2011     152   1139      70   1433      62    N      0    21    59   \n577    2011     152   1163      56   1246      55    N      0    23    49   \n578    2011     154   1163      53   1139      41    N      0    19    55   \n\n     ...  lfga3  lftm  lfta  lor  ldr  last  lto  lstl  lblk  lpf  \n512  ...     24     4     7    7   22    10   19     4     3   10  \n513  ...     29    20    26    7   26    19   16     6     2   24  \n514  ...     26    10    12   11   28    13   12     6     3   22  \n515  ...      9    15    25    5   26     4   15     2     6   20  \n516  ...     15    21    27   13   16     8   15     9     2   17  \n..   ...    ...   ...   ...  ...  ...   ...  ...   ...   ...  ...  \n574  ...     16    12    15   11   25    13   13     9     5   17  \n575  ...     21    15    28   19   26    10   14     8     6   20  \n576  ...     22     8    13    6   26    17   10     3     4   24  \n577  ...     27     4    12   15   22    12   10    11     3   12  \n578  ...     33     8    14   20   21     5    6     8     2   17  \n\n[67 rows x 34 columns]",
      "text/html": "<div>\n<style scoped>\n    .dataframe tbody tr th:only-of-type {\n        vertical-align: middle;\n    }\n\n    .dataframe tbody tr th {\n        vertical-align: top;\n    }\n\n    .dataframe thead th {\n        text-align: right;\n    }\n</style>\n<table border=\"1\" class=\"dataframe\">\n  <thead>\n    <tr style=\"text-align: right;\">\n      <th></th>\n      <th>season</th>\n      <th>daynum</th>\n      <th>wteam</th>\n      <th>wscore</th>\n      <th>lteam</th>\n      <th>lscore</th>\n      <th>wloc</th>\n      <th>numot</th>\n      <th>wfgm</th>\n      <th>wfga</th>\n      <th>...</th>\n      <th>lfga3</th>\n      <th>lftm</th>\n      <th>lfta</th>\n      <th>lor</th>\n      <th>ldr</th>\n      <th>last</th>\n      <th>lto</th>\n      <th>lstl</th>\n      <th>lblk</th>\n      <th>lpf</th>\n    </tr>\n  </thead>\n  <tbody>\n    <tr>\n      <th>512</th>\n      <td>2011</td>\n      <td>134</td>\n      <td>1155</td>\n      <td>70</td>\n      <td>1412</td>\n      <td>52</td>\n      <td>N</td>\n      <td>0</td>\n      <td>26</td>\n      <td>50</td>\n      <td>...</td>\n      <td>24</td>\n      <td>4</td>\n      <td>7</td>\n      <td>7</td>\n      <td>22</td>\n      <td>10</td>\n      <td>19</td>\n      <td>4</td>\n      <td>3</td>\n      <td>10</td>\n    </tr>\n    <tr>\n      <th>513</th>\n      <td>2011</td>\n      <td>134</td>\n      <td>1421</td>\n      <td>81</td>\n      <td>1114</td>\n      <td>77</td>\n      <td>N</td>\n      <td>1</td>\n      <td>27</td>\n      <td>54</td>\n      <td>...</td>\n      <td>29</td>\n      <td>20</td>\n      <td>26</td>\n      <td>7</td>\n      <td>26</td>\n      <td>19</td>\n      <td>16</td>\n      <td>6</td>\n      <td>2</td>\n      <td>24</td>\n    </tr>\n    <tr>\n      <th>514</th>\n      <td>2011</td>\n      <td>135</td>\n      <td>1427</td>\n      <td>70</td>\n      <td>1106</td>\n      <td>61</td>\n      <td>N</td>\n      <td>0</td>\n      <td>23</td>\n      <td>54</td>\n      <td>...</td>\n      <td>26</td>\n      <td>10</td>\n      <td>12</td>\n      <td>11</td>\n      <td>28</td>\n      <td>13</td>\n      <td>12</td>\n      <td>6</td>\n      <td>3</td>\n      <td>22</td>\n    </tr>\n    <tr>\n      <th>515</th>\n      <td>2011</td>\n      <td>135</td>\n      <td>1433</td>\n      <td>59</td>\n      <td>1425</td>\n      <td>46</td>\n      <td>N</td>\n      <td>0</td>\n      <td>20</td>\n      <td>59</td>\n      <td>...</td>\n      <td>9</td>\n      <td>15</td>\n      <td>25</td>\n      <td>5</td>\n      <td>26</td>\n      <td>4</td>\n      <td>15</td>\n      <td>2</td>\n      <td>6</td>\n      <td>20</td>\n    </tr>\n    <tr>\n      <th>516</th>\n      <td>2011</td>\n      <td>136</td>\n      <td>1139</td>\n      <td>60</td>\n      <td>1330</td>\n      <td>58</td>\n      <td>N</td>\n      <td>0</td>\n      <td>22</td>\n      <td>54</td>\n      <td>...</td>\n      <td>15</td>\n      <td>21</td>\n      <td>27</td>\n      <td>13</td>\n      <td>16</td>\n      <td>8</td>\n      <td>15</td>\n      <td>9</td>\n      <td>2</td>\n      <td>17</td>\n    </tr>\n    <tr>\n      <th>...</th>\n      <td>...</td>\n      <td>...</td>\n      <td>...</td>\n      <td>...</td>\n      <td>...</td>\n      <td>...</td>\n      <td>...</td>\n      <td>...</td>\n      <td>...</td>\n      <td>...</td>\n      <td>...</td>\n      <td>...</td>\n      <td>...</td>\n      <td>...</td>\n      <td>...</td>\n      <td>...</td>\n      <td>...</td>\n      <td>...</td>\n      <td>...</td>\n      <td>...</td>\n      <td>...</td>\n    </tr>\n    <tr>\n      <th>574</th>\n      <td>2011</td>\n      <td>146</td>\n      <td>1246</td>\n      <td>76</td>\n      <td>1314</td>\n      <td>69</td>\n      <td>N</td>\n      <td>0</td>\n      <td>27</td>\n      <td>56</td>\n      <td>...</td>\n      <td>16</td>\n      <td>12</td>\n      <td>15</td>\n      <td>11</td>\n      <td>25</td>\n      <td>13</td>\n      <td>13</td>\n      <td>9</td>\n      <td>5</td>\n      <td>17</td>\n    </tr>\n    <tr>\n      <th>575</th>\n      <td>2011</td>\n      <td>146</td>\n      <td>1433</td>\n      <td>71</td>\n      <td>1242</td>\n      <td>61</td>\n      <td>N</td>\n      <td>0</td>\n      <td>21</td>\n      <td>53</td>\n      <td>...</td>\n      <td>21</td>\n      <td>15</td>\n      <td>28</td>\n      <td>19</td>\n      <td>26</td>\n      <td>10</td>\n      <td>14</td>\n      <td>8</td>\n      <td>6</td>\n      <td>20</td>\n    </tr>\n    <tr>\n      <th>576</th>\n      <td>2011</td>\n      <td>152</td>\n      <td>1139</td>\n      <td>70</td>\n      <td>1433</td>\n      <td>62</td>\n      <td>N</td>\n      <td>0</td>\n      <td>21</td>\n      <td>59</td>\n      <td>...</td>\n      <td>22</td>\n      <td>8</td>\n      <td>13</td>\n      <td>6</td>\n      <td>26</td>\n      <td>17</td>\n      <td>10</td>\n      <td>3</td>\n      <td>4</td>\n      <td>24</td>\n    </tr>\n    <tr>\n      <th>577</th>\n      <td>2011</td>\n      <td>152</td>\n      <td>1163</td>\n      <td>56</td>\n      <td>1246</td>\n      <td>55</td>\n      <td>N</td>\n      <td>0</td>\n      <td>23</td>\n      <td>49</td>\n      <td>...</td>\n      <td>27</td>\n      <td>4</td>\n      <td>12</td>\n      <td>15</td>\n      <td>22</td>\n      <td>12</td>\n      <td>10</td>\n      <td>11</td>\n      <td>3</td>\n      <td>12</td>\n    </tr>\n    <tr>\n      <th>578</th>\n      <td>2011</td>\n      <td>154</td>\n      <td>1163</td>\n      <td>53</td>\n      <td>1139</td>\n      <td>41</td>\n      <td>N</td>\n      <td>0</td>\n      <td>19</td>\n      <td>55</td>\n      <td>...</td>\n      <td>33</td>\n      <td>8</td>\n      <td>14</td>\n      <td>20</td>\n      <td>21</td>\n      <td>5</td>\n      <td>6</td>\n      <td>8</td>\n      <td>2</td>\n      <td>17</td>\n    </tr>\n  </tbody>\n</table>\n<p>67 rows × 34 columns</p>\n</div>"
     },
     "execution_count": 80,
     "metadata": {},
     "output_type": "execute_result"
    }
   ],
   "source": [
    "tourney_results = tourney_results[(tourney_results[\"season\"] == 2011)]\n",
    "tourney_results"
   ],
   "metadata": {
    "collapsed": false
   }
  },
  {
   "cell_type": "code",
   "execution_count": 81,
   "outputs": [
    {
     "data": {
      "text/plain": "(60518, 34)"
     },
     "execution_count": 81,
     "metadata": {},
     "output_type": "execute_result"
    }
   ],
   "source": [
    "regular_results = pd.read_csv(\"regular_season_detailed_results.csv\")\n",
    "regular_results.shape"
   ],
   "metadata": {
    "collapsed": false
   }
  },
  {
   "cell_type": "code",
   "execution_count": 82,
   "outputs": [
    {
     "data": {
      "text/plain": "       season  daynum  wteam  wscore  lteam  lscore wloc  numot  wfgm  wfga  \\\n39337    2011       7   1228      79   1414      65    H      0    29    58   \n39338    2011       7   1268     105   1370      76    H      0    35    62   \n39339    2011       7   1338      83   1348      75    H      0    29    64   \n39340    2011       7   1400      83   1298      52    H      0    30    59   \n39341    2011       9   1228      84   1405      45    H      0    37    64   \n...       ...     ...    ...     ...    ...     ...  ...    ...   ...   ...   \n44578    2011     131   1449      77   1112      75    N      1    30    66   \n44579    2011     132   1181      75   1314      58    N      0    29    58   \n44580    2011     132   1246      70   1196      54    N      0    20    48   \n44581    2011     132   1326      71   1336      60    N      0    26    51   \n44582    2011     132   1350      67   1173      54    N      0    19    45   \n\n       ...  lfga3  lftm  lfta  lor  ldr  last  lto  lstl  lblk  lpf  \n39337  ...     20    14    22   11   26    12   14     7     1   21  \n39338  ...     16    17    22   18   16    11   27    18     1   31  \n39339  ...     32    13    16   10   21    16   17     7     6   25  \n39340  ...     23    10    18    8   22     8   16     5     5   24  \n39341  ...     12    10    19    6   17     9   23     6     0   14  \n...    ...    ...   ...   ...  ...  ...   ...  ...   ...   ...  ...  \n44578  ...     21    20    30   11   21    12    8     4     2   15  \n44579  ...      8    14    21   19   25     8   16     4     5   16  \n44580  ...     20     3     8   15   22    11   14     1     5   22  \n44581  ...     18     9     9   10   22     8   10     3     2   17  \n44582  ...     14     9    12   11   22    11   11     5     5   19  \n\n[5246 rows x 34 columns]",
      "text/html": "<div>\n<style scoped>\n    .dataframe tbody tr th:only-of-type {\n        vertical-align: middle;\n    }\n\n    .dataframe tbody tr th {\n        vertical-align: top;\n    }\n\n    .dataframe thead th {\n        text-align: right;\n    }\n</style>\n<table border=\"1\" class=\"dataframe\">\n  <thead>\n    <tr style=\"text-align: right;\">\n      <th></th>\n      <th>season</th>\n      <th>daynum</th>\n      <th>wteam</th>\n      <th>wscore</th>\n      <th>lteam</th>\n      <th>lscore</th>\n      <th>wloc</th>\n      <th>numot</th>\n      <th>wfgm</th>\n      <th>wfga</th>\n      <th>...</th>\n      <th>lfga3</th>\n      <th>lftm</th>\n      <th>lfta</th>\n      <th>lor</th>\n      <th>ldr</th>\n      <th>last</th>\n      <th>lto</th>\n      <th>lstl</th>\n      <th>lblk</th>\n      <th>lpf</th>\n    </tr>\n  </thead>\n  <tbody>\n    <tr>\n      <th>39337</th>\n      <td>2011</td>\n      <td>7</td>\n      <td>1228</td>\n      <td>79</td>\n      <td>1414</td>\n      <td>65</td>\n      <td>H</td>\n      <td>0</td>\n      <td>29</td>\n      <td>58</td>\n      <td>...</td>\n      <td>20</td>\n      <td>14</td>\n      <td>22</td>\n      <td>11</td>\n      <td>26</td>\n      <td>12</td>\n      <td>14</td>\n      <td>7</td>\n      <td>1</td>\n      <td>21</td>\n    </tr>\n    <tr>\n      <th>39338</th>\n      <td>2011</td>\n      <td>7</td>\n      <td>1268</td>\n      <td>105</td>\n      <td>1370</td>\n      <td>76</td>\n      <td>H</td>\n      <td>0</td>\n      <td>35</td>\n      <td>62</td>\n      <td>...</td>\n      <td>16</td>\n      <td>17</td>\n      <td>22</td>\n      <td>18</td>\n      <td>16</td>\n      <td>11</td>\n      <td>27</td>\n      <td>18</td>\n      <td>1</td>\n      <td>31</td>\n    </tr>\n    <tr>\n      <th>39339</th>\n      <td>2011</td>\n      <td>7</td>\n      <td>1338</td>\n      <td>83</td>\n      <td>1348</td>\n      <td>75</td>\n      <td>H</td>\n      <td>0</td>\n      <td>29</td>\n      <td>64</td>\n      <td>...</td>\n      <td>32</td>\n      <td>13</td>\n      <td>16</td>\n      <td>10</td>\n      <td>21</td>\n      <td>16</td>\n      <td>17</td>\n      <td>7</td>\n      <td>6</td>\n      <td>25</td>\n    </tr>\n    <tr>\n      <th>39340</th>\n      <td>2011</td>\n      <td>7</td>\n      <td>1400</td>\n      <td>83</td>\n      <td>1298</td>\n      <td>52</td>\n      <td>H</td>\n      <td>0</td>\n      <td>30</td>\n      <td>59</td>\n      <td>...</td>\n      <td>23</td>\n      <td>10</td>\n      <td>18</td>\n      <td>8</td>\n      <td>22</td>\n      <td>8</td>\n      <td>16</td>\n      <td>5</td>\n      <td>5</td>\n      <td>24</td>\n    </tr>\n    <tr>\n      <th>39341</th>\n      <td>2011</td>\n      <td>9</td>\n      <td>1228</td>\n      <td>84</td>\n      <td>1405</td>\n      <td>45</td>\n      <td>H</td>\n      <td>0</td>\n      <td>37</td>\n      <td>64</td>\n      <td>...</td>\n      <td>12</td>\n      <td>10</td>\n      <td>19</td>\n      <td>6</td>\n      <td>17</td>\n      <td>9</td>\n      <td>23</td>\n      <td>6</td>\n      <td>0</td>\n      <td>14</td>\n    </tr>\n    <tr>\n      <th>...</th>\n      <td>...</td>\n      <td>...</td>\n      <td>...</td>\n      <td>...</td>\n      <td>...</td>\n      <td>...</td>\n      <td>...</td>\n      <td>...</td>\n      <td>...</td>\n      <td>...</td>\n      <td>...</td>\n      <td>...</td>\n      <td>...</td>\n      <td>...</td>\n      <td>...</td>\n      <td>...</td>\n      <td>...</td>\n      <td>...</td>\n      <td>...</td>\n      <td>...</td>\n      <td>...</td>\n    </tr>\n    <tr>\n      <th>44578</th>\n      <td>2011</td>\n      <td>131</td>\n      <td>1449</td>\n      <td>77</td>\n      <td>1112</td>\n      <td>75</td>\n      <td>N</td>\n      <td>1</td>\n      <td>30</td>\n      <td>66</td>\n      <td>...</td>\n      <td>21</td>\n      <td>20</td>\n      <td>30</td>\n      <td>11</td>\n      <td>21</td>\n      <td>12</td>\n      <td>8</td>\n      <td>4</td>\n      <td>2</td>\n      <td>15</td>\n    </tr>\n    <tr>\n      <th>44579</th>\n      <td>2011</td>\n      <td>132</td>\n      <td>1181</td>\n      <td>75</td>\n      <td>1314</td>\n      <td>58</td>\n      <td>N</td>\n      <td>0</td>\n      <td>29</td>\n      <td>58</td>\n      <td>...</td>\n      <td>8</td>\n      <td>14</td>\n      <td>21</td>\n      <td>19</td>\n      <td>25</td>\n      <td>8</td>\n      <td>16</td>\n      <td>4</td>\n      <td>5</td>\n      <td>16</td>\n    </tr>\n    <tr>\n      <th>44580</th>\n      <td>2011</td>\n      <td>132</td>\n      <td>1246</td>\n      <td>70</td>\n      <td>1196</td>\n      <td>54</td>\n      <td>N</td>\n      <td>0</td>\n      <td>20</td>\n      <td>48</td>\n      <td>...</td>\n      <td>20</td>\n      <td>3</td>\n      <td>8</td>\n      <td>15</td>\n      <td>22</td>\n      <td>11</td>\n      <td>14</td>\n      <td>1</td>\n      <td>5</td>\n      <td>22</td>\n    </tr>\n    <tr>\n      <th>44581</th>\n      <td>2011</td>\n      <td>132</td>\n      <td>1326</td>\n      <td>71</td>\n      <td>1336</td>\n      <td>60</td>\n      <td>N</td>\n      <td>0</td>\n      <td>26</td>\n      <td>51</td>\n      <td>...</td>\n      <td>18</td>\n      <td>9</td>\n      <td>9</td>\n      <td>10</td>\n      <td>22</td>\n      <td>8</td>\n      <td>10</td>\n      <td>3</td>\n      <td>2</td>\n      <td>17</td>\n    </tr>\n    <tr>\n      <th>44582</th>\n      <td>2011</td>\n      <td>132</td>\n      <td>1350</td>\n      <td>67</td>\n      <td>1173</td>\n      <td>54</td>\n      <td>N</td>\n      <td>0</td>\n      <td>19</td>\n      <td>45</td>\n      <td>...</td>\n      <td>14</td>\n      <td>9</td>\n      <td>12</td>\n      <td>11</td>\n      <td>22</td>\n      <td>11</td>\n      <td>11</td>\n      <td>5</td>\n      <td>5</td>\n      <td>19</td>\n    </tr>\n  </tbody>\n</table>\n<p>5246 rows × 34 columns</p>\n</div>"
     },
     "execution_count": 82,
     "metadata": {},
     "output_type": "execute_result"
    }
   ],
   "source": [
    "regular_results = regular_results[(regular_results[\"season\"] == 2011)]\n",
    "regular_results"
   ],
   "metadata": {
    "collapsed": false
   }
  },
  {
   "cell_type": "code",
   "execution_count": 83,
   "outputs": [
    {
     "name": "stderr",
     "output_type": "stream",
     "text": [
      "C:\\Users\\Zvonimir Ravlic\\AppData\\Local\\Temp\\ipykernel_12476\\3570724505.py:1: FutureWarning: The frame.append method is deprecated and will be removed from pandas in a future version. Use pandas.concat instead.\n",
      "  training_set = regular_results.append(tourney_results)\n"
     ]
    },
    {
     "data": {
      "text/plain": "       season  daynum  wteam  wscore  lteam  lscore wloc  numot  wfgm  wfga  \\\n39337    2011       7   1228      79   1414      65    H      0    29    58   \n39338    2011       7   1268     105   1370      76    H      0    35    62   \n39339    2011       7   1338      83   1348      75    H      0    29    64   \n39340    2011       7   1400      83   1298      52    H      0    30    59   \n39341    2011       9   1228      84   1405      45    H      0    37    64   \n...       ...     ...    ...     ...    ...     ...  ...    ...   ...   ...   \n574      2011     146   1246      76   1314      69    N      0    27    56   \n575      2011     146   1433      71   1242      61    N      0    21    53   \n576      2011     152   1139      70   1433      62    N      0    21    59   \n577      2011     152   1163      56   1246      55    N      0    23    49   \n578      2011     154   1163      53   1139      41    N      0    19    55   \n\n       ...  lfga3  lftm  lfta  lor  ldr  last  lto  lstl  lblk  lpf  \n39337  ...     20    14    22   11   26    12   14     7     1   21  \n39338  ...     16    17    22   18   16    11   27    18     1   31  \n39339  ...     32    13    16   10   21    16   17     7     6   25  \n39340  ...     23    10    18    8   22     8   16     5     5   24  \n39341  ...     12    10    19    6   17     9   23     6     0   14  \n...    ...    ...   ...   ...  ...  ...   ...  ...   ...   ...  ...  \n574    ...     16    12    15   11   25    13   13     9     5   17  \n575    ...     21    15    28   19   26    10   14     8     6   20  \n576    ...     22     8    13    6   26    17   10     3     4   24  \n577    ...     27     4    12   15   22    12   10    11     3   12  \n578    ...     33     8    14   20   21     5    6     8     2   17  \n\n[5313 rows x 34 columns]",
      "text/html": "<div>\n<style scoped>\n    .dataframe tbody tr th:only-of-type {\n        vertical-align: middle;\n    }\n\n    .dataframe tbody tr th {\n        vertical-align: top;\n    }\n\n    .dataframe thead th {\n        text-align: right;\n    }\n</style>\n<table border=\"1\" class=\"dataframe\">\n  <thead>\n    <tr style=\"text-align: right;\">\n      <th></th>\n      <th>season</th>\n      <th>daynum</th>\n      <th>wteam</th>\n      <th>wscore</th>\n      <th>lteam</th>\n      <th>lscore</th>\n      <th>wloc</th>\n      <th>numot</th>\n      <th>wfgm</th>\n      <th>wfga</th>\n      <th>...</th>\n      <th>lfga3</th>\n      <th>lftm</th>\n      <th>lfta</th>\n      <th>lor</th>\n      <th>ldr</th>\n      <th>last</th>\n      <th>lto</th>\n      <th>lstl</th>\n      <th>lblk</th>\n      <th>lpf</th>\n    </tr>\n  </thead>\n  <tbody>\n    <tr>\n      <th>39337</th>\n      <td>2011</td>\n      <td>7</td>\n      <td>1228</td>\n      <td>79</td>\n      <td>1414</td>\n      <td>65</td>\n      <td>H</td>\n      <td>0</td>\n      <td>29</td>\n      <td>58</td>\n      <td>...</td>\n      <td>20</td>\n      <td>14</td>\n      <td>22</td>\n      <td>11</td>\n      <td>26</td>\n      <td>12</td>\n      <td>14</td>\n      <td>7</td>\n      <td>1</td>\n      <td>21</td>\n    </tr>\n    <tr>\n      <th>39338</th>\n      <td>2011</td>\n      <td>7</td>\n      <td>1268</td>\n      <td>105</td>\n      <td>1370</td>\n      <td>76</td>\n      <td>H</td>\n      <td>0</td>\n      <td>35</td>\n      <td>62</td>\n      <td>...</td>\n      <td>16</td>\n      <td>17</td>\n      <td>22</td>\n      <td>18</td>\n      <td>16</td>\n      <td>11</td>\n      <td>27</td>\n      <td>18</td>\n      <td>1</td>\n      <td>31</td>\n    </tr>\n    <tr>\n      <th>39339</th>\n      <td>2011</td>\n      <td>7</td>\n      <td>1338</td>\n      <td>83</td>\n      <td>1348</td>\n      <td>75</td>\n      <td>H</td>\n      <td>0</td>\n      <td>29</td>\n      <td>64</td>\n      <td>...</td>\n      <td>32</td>\n      <td>13</td>\n      <td>16</td>\n      <td>10</td>\n      <td>21</td>\n      <td>16</td>\n      <td>17</td>\n      <td>7</td>\n      <td>6</td>\n      <td>25</td>\n    </tr>\n    <tr>\n      <th>39340</th>\n      <td>2011</td>\n      <td>7</td>\n      <td>1400</td>\n      <td>83</td>\n      <td>1298</td>\n      <td>52</td>\n      <td>H</td>\n      <td>0</td>\n      <td>30</td>\n      <td>59</td>\n      <td>...</td>\n      <td>23</td>\n      <td>10</td>\n      <td>18</td>\n      <td>8</td>\n      <td>22</td>\n      <td>8</td>\n      <td>16</td>\n      <td>5</td>\n      <td>5</td>\n      <td>24</td>\n    </tr>\n    <tr>\n      <th>39341</th>\n      <td>2011</td>\n      <td>9</td>\n      <td>1228</td>\n      <td>84</td>\n      <td>1405</td>\n      <td>45</td>\n      <td>H</td>\n      <td>0</td>\n      <td>37</td>\n      <td>64</td>\n      <td>...</td>\n      <td>12</td>\n      <td>10</td>\n      <td>19</td>\n      <td>6</td>\n      <td>17</td>\n      <td>9</td>\n      <td>23</td>\n      <td>6</td>\n      <td>0</td>\n      <td>14</td>\n    </tr>\n    <tr>\n      <th>...</th>\n      <td>...</td>\n      <td>...</td>\n      <td>...</td>\n      <td>...</td>\n      <td>...</td>\n      <td>...</td>\n      <td>...</td>\n      <td>...</td>\n      <td>...</td>\n      <td>...</td>\n      <td>...</td>\n      <td>...</td>\n      <td>...</td>\n      <td>...</td>\n      <td>...</td>\n      <td>...</td>\n      <td>...</td>\n      <td>...</td>\n      <td>...</td>\n      <td>...</td>\n      <td>...</td>\n    </tr>\n    <tr>\n      <th>574</th>\n      <td>2011</td>\n      <td>146</td>\n      <td>1246</td>\n      <td>76</td>\n      <td>1314</td>\n      <td>69</td>\n      <td>N</td>\n      <td>0</td>\n      <td>27</td>\n      <td>56</td>\n      <td>...</td>\n      <td>16</td>\n      <td>12</td>\n      <td>15</td>\n      <td>11</td>\n      <td>25</td>\n      <td>13</td>\n      <td>13</td>\n      <td>9</td>\n      <td>5</td>\n      <td>17</td>\n    </tr>\n    <tr>\n      <th>575</th>\n      <td>2011</td>\n      <td>146</td>\n      <td>1433</td>\n      <td>71</td>\n      <td>1242</td>\n      <td>61</td>\n      <td>N</td>\n      <td>0</td>\n      <td>21</td>\n      <td>53</td>\n      <td>...</td>\n      <td>21</td>\n      <td>15</td>\n      <td>28</td>\n      <td>19</td>\n      <td>26</td>\n      <td>10</td>\n      <td>14</td>\n      <td>8</td>\n      <td>6</td>\n      <td>20</td>\n    </tr>\n    <tr>\n      <th>576</th>\n      <td>2011</td>\n      <td>152</td>\n      <td>1139</td>\n      <td>70</td>\n      <td>1433</td>\n      <td>62</td>\n      <td>N</td>\n      <td>0</td>\n      <td>21</td>\n      <td>59</td>\n      <td>...</td>\n      <td>22</td>\n      <td>8</td>\n      <td>13</td>\n      <td>6</td>\n      <td>26</td>\n      <td>17</td>\n      <td>10</td>\n      <td>3</td>\n      <td>4</td>\n      <td>24</td>\n    </tr>\n    <tr>\n      <th>577</th>\n      <td>2011</td>\n      <td>152</td>\n      <td>1163</td>\n      <td>56</td>\n      <td>1246</td>\n      <td>55</td>\n      <td>N</td>\n      <td>0</td>\n      <td>23</td>\n      <td>49</td>\n      <td>...</td>\n      <td>27</td>\n      <td>4</td>\n      <td>12</td>\n      <td>15</td>\n      <td>22</td>\n      <td>12</td>\n      <td>10</td>\n      <td>11</td>\n      <td>3</td>\n      <td>12</td>\n    </tr>\n    <tr>\n      <th>578</th>\n      <td>2011</td>\n      <td>154</td>\n      <td>1163</td>\n      <td>53</td>\n      <td>1139</td>\n      <td>41</td>\n      <td>N</td>\n      <td>0</td>\n      <td>19</td>\n      <td>55</td>\n      <td>...</td>\n      <td>33</td>\n      <td>8</td>\n      <td>14</td>\n      <td>20</td>\n      <td>21</td>\n      <td>5</td>\n      <td>6</td>\n      <td>8</td>\n      <td>2</td>\n      <td>17</td>\n    </tr>\n  </tbody>\n</table>\n<p>5313 rows × 34 columns</p>\n</div>"
     },
     "execution_count": 83,
     "metadata": {},
     "output_type": "execute_result"
    }
   ],
   "source": [
    "training_set = regular_results.append(tourney_results)\n",
    "training_set"
   ],
   "metadata": {
    "collapsed": false
   }
  },
  {
   "cell_type": "code",
   "execution_count": 84,
   "outputs": [
    {
     "data": {
      "text/plain": "season    0\ndaynum    0\nwteam     0\nwscore    0\nlteam     0\nlscore    0\nwloc      0\nnumot     0\nwfgm      0\nwfga      0\nwfgm3     0\nwfga3     0\nwftm      0\nwfta      0\nwor       0\nwdr       0\nwast      0\nwto       0\nwstl      0\nwblk      0\nwpf       0\nlfgm      0\nlfga      0\nlfgm3     0\nlfga3     0\nlftm      0\nlfta      0\nlor       0\nldr       0\nlast      0\nlto       0\nlstl      0\nlblk      0\nlpf       0\ndtype: int64"
     },
     "execution_count": 84,
     "metadata": {},
     "output_type": "execute_result"
    }
   ],
   "source": [
    "training_set.isna().sum()"
   ],
   "metadata": {
    "collapsed": false
   }
  },
  {
   "cell_type": "code",
   "execution_count": 85,
   "outputs": [
    {
     "data": {
      "text/plain": "(345, 2)"
     },
     "execution_count": 85,
     "metadata": {},
     "output_type": "execute_result"
    }
   ],
   "source": [
    "statistics = pd.read_csv(\"teams.csv\")\n",
    "teamsW = statistics.loc[statistics['team_id'].isin((training_set['wteam'].tolist()))]\n",
    "teamsW.shape"
   ],
   "metadata": {
    "collapsed": false
   }
  },
  {
   "cell_type": "code",
   "execution_count": 86,
   "outputs": [
    {
     "name": "stderr",
     "output_type": "stream",
     "text": [
      "C:\\Users\\Zvonimir Ravlic\\AppData\\Local\\Temp\\ipykernel_12476\\2097467678.py:2: FutureWarning: The frame.append method is deprecated and will be removed from pandas in a future version. Use pandas.concat instead.\n",
      "  teams = teamsW.append(teamsL)\n"
     ]
    },
    {
     "data": {
      "text/plain": "     team_id      team_name\n1       1102      Air Force\n2       1103          Akron\n3       1104        Alabama\n4       1105    Alabama A&M\n5       1106     Alabama St\n..       ...            ...\n359     1460      Wright St\n360     1461        Wyoming\n361     1462         Xavier\n362     1463           Yale\n363     1464  Youngstown St\n\n[345 rows x 2 columns]",
      "text/html": "<div>\n<style scoped>\n    .dataframe tbody tr th:only-of-type {\n        vertical-align: middle;\n    }\n\n    .dataframe tbody tr th {\n        vertical-align: top;\n    }\n\n    .dataframe thead th {\n        text-align: right;\n    }\n</style>\n<table border=\"1\" class=\"dataframe\">\n  <thead>\n    <tr style=\"text-align: right;\">\n      <th></th>\n      <th>team_id</th>\n      <th>team_name</th>\n    </tr>\n  </thead>\n  <tbody>\n    <tr>\n      <th>1</th>\n      <td>1102</td>\n      <td>Air Force</td>\n    </tr>\n    <tr>\n      <th>2</th>\n      <td>1103</td>\n      <td>Akron</td>\n    </tr>\n    <tr>\n      <th>3</th>\n      <td>1104</td>\n      <td>Alabama</td>\n    </tr>\n    <tr>\n      <th>4</th>\n      <td>1105</td>\n      <td>Alabama A&amp;M</td>\n    </tr>\n    <tr>\n      <th>5</th>\n      <td>1106</td>\n      <td>Alabama St</td>\n    </tr>\n    <tr>\n      <th>...</th>\n      <td>...</td>\n      <td>...</td>\n    </tr>\n    <tr>\n      <th>359</th>\n      <td>1460</td>\n      <td>Wright St</td>\n    </tr>\n    <tr>\n      <th>360</th>\n      <td>1461</td>\n      <td>Wyoming</td>\n    </tr>\n    <tr>\n      <th>361</th>\n      <td>1462</td>\n      <td>Xavier</td>\n    </tr>\n    <tr>\n      <th>362</th>\n      <td>1463</td>\n      <td>Yale</td>\n    </tr>\n    <tr>\n      <th>363</th>\n      <td>1464</td>\n      <td>Youngstown St</td>\n    </tr>\n  </tbody>\n</table>\n<p>345 rows × 2 columns</p>\n</div>"
     },
     "execution_count": 86,
     "metadata": {},
     "output_type": "execute_result"
    }
   ],
   "source": [
    "teamsL = statistics.loc[statistics['team_id'].isin(training_set['lteam'].tolist())]\n",
    "teams = teamsW.append(teamsL)\n",
    "teams = teams.drop_duplicates()\n",
    "teams"
   ],
   "metadata": {
    "collapsed": false
   }
  },
  {
   "cell_type": "code",
   "execution_count": 87,
   "outputs": [
    {
     "ename": "KeyboardInterrupt",
     "evalue": "",
     "output_type": "error",
     "traceback": [
      "\u001B[1;31m---------------------------------------------------------------------------\u001B[0m",
      "\u001B[1;31mKeyboardInterrupt\u001B[0m                         Traceback (most recent call last)",
      "Input \u001B[1;32mIn [87]\u001B[0m, in \u001B[0;36m<cell line: 6>\u001B[1;34m()\u001B[0m\n\u001B[0;32m     11\u001B[0m     sumFgm \u001B[38;5;241m=\u001B[39m sumFgm \u001B[38;5;241m+\u001B[39m row2[\u001B[38;5;124m'\u001B[39m\u001B[38;5;124mwfgm\u001B[39m\u001B[38;5;124m'\u001B[39m]\n\u001B[0;32m     12\u001B[0m     sumFga \u001B[38;5;241m=\u001B[39m sumFga \u001B[38;5;241m+\u001B[39m row2[\u001B[38;5;124m'\u001B[39m\u001B[38;5;124mwfga\u001B[39m\u001B[38;5;124m'\u001B[39m]\n\u001B[1;32m---> 13\u001B[0m \u001B[38;5;28;01mif\u001B[39;00m row1[\u001B[38;5;124m'\u001B[39m\u001B[38;5;124mteam_id\u001B[39m\u001B[38;5;124m'\u001B[39m] \u001B[38;5;241m==\u001B[39m \u001B[43mrow2\u001B[49m\u001B[43m[\u001B[49m\u001B[38;5;124;43m'\u001B[39;49m\u001B[38;5;124;43mlteam\u001B[39;49m\u001B[38;5;124;43m'\u001B[39;49m\u001B[43m]\u001B[49m:\n\u001B[0;32m     14\u001B[0m     sumFgm \u001B[38;5;241m=\u001B[39m sumFgm \u001B[38;5;241m+\u001B[39m row2[\u001B[38;5;124m'\u001B[39m\u001B[38;5;124mlfgm\u001B[39m\u001B[38;5;124m'\u001B[39m]\n\u001B[0;32m     15\u001B[0m     sumFga \u001B[38;5;241m=\u001B[39m sumFga \u001B[38;5;241m+\u001B[39m row2[\u001B[38;5;124m'\u001B[39m\u001B[38;5;124mlfga\u001B[39m\u001B[38;5;124m'\u001B[39m]\n",
      "File \u001B[1;32m~\\miniconda3\\lib\\site-packages\\pandas\\core\\series.py:958\u001B[0m, in \u001B[0;36mSeries.__getitem__\u001B[1;34m(self, key)\u001B[0m\n\u001B[0;32m    955\u001B[0m     \u001B[38;5;28;01mreturn\u001B[39;00m \u001B[38;5;28mself\u001B[39m\u001B[38;5;241m.\u001B[39m_values[key]\n\u001B[0;32m    957\u001B[0m \u001B[38;5;28;01melif\u001B[39;00m key_is_scalar:\n\u001B[1;32m--> 958\u001B[0m     \u001B[38;5;28;01mreturn\u001B[39;00m \u001B[38;5;28;43mself\u001B[39;49m\u001B[38;5;241;43m.\u001B[39;49m\u001B[43m_get_value\u001B[49m\u001B[43m(\u001B[49m\u001B[43mkey\u001B[49m\u001B[43m)\u001B[49m\n\u001B[0;32m    960\u001B[0m \u001B[38;5;28;01mif\u001B[39;00m is_hashable(key):\n\u001B[0;32m    961\u001B[0m     \u001B[38;5;66;03m# Otherwise index.get_value will raise InvalidIndexError\u001B[39;00m\n\u001B[0;32m    962\u001B[0m     \u001B[38;5;28;01mtry\u001B[39;00m:\n\u001B[0;32m    963\u001B[0m         \u001B[38;5;66;03m# For labels that don't resolve as scalars like tuples and frozensets\u001B[39;00m\n",
      "File \u001B[1;32m~\\miniconda3\\lib\\site-packages\\pandas\\core\\series.py:1069\u001B[0m, in \u001B[0;36mSeries._get_value\u001B[1;34m(self, label, takeable)\u001B[0m\n\u001B[0;32m   1066\u001B[0m     \u001B[38;5;28;01mreturn\u001B[39;00m \u001B[38;5;28mself\u001B[39m\u001B[38;5;241m.\u001B[39m_values[label]\n\u001B[0;32m   1068\u001B[0m \u001B[38;5;66;03m# Similar to Index.get_value, but we do not fall back to positional\u001B[39;00m\n\u001B[1;32m-> 1069\u001B[0m loc \u001B[38;5;241m=\u001B[39m \u001B[38;5;28;43mself\u001B[39;49m\u001B[38;5;241;43m.\u001B[39;49m\u001B[43mindex\u001B[49m\u001B[38;5;241;43m.\u001B[39;49m\u001B[43mget_loc\u001B[49m\u001B[43m(\u001B[49m\u001B[43mlabel\u001B[49m\u001B[43m)\u001B[49m\n\u001B[0;32m   1070\u001B[0m \u001B[38;5;28;01mreturn\u001B[39;00m \u001B[38;5;28mself\u001B[39m\u001B[38;5;241m.\u001B[39mindex\u001B[38;5;241m.\u001B[39m_get_values_for_loc(\u001B[38;5;28mself\u001B[39m, loc, label)\n",
      "File \u001B[1;32m~\\miniconda3\\lib\\site-packages\\pandas\\core\\indexes\\base.py:3627\u001B[0m, in \u001B[0;36mIndex.get_loc\u001B[1;34m(self, key, method, tolerance)\u001B[0m\n\u001B[0;32m   3622\u001B[0m \u001B[38;5;28;01mif\u001B[39;00m tolerance \u001B[38;5;129;01mis\u001B[39;00m \u001B[38;5;129;01mnot\u001B[39;00m \u001B[38;5;28;01mNone\u001B[39;00m:\n\u001B[0;32m   3623\u001B[0m     \u001B[38;5;28;01mraise\u001B[39;00m \u001B[38;5;167;01mValueError\u001B[39;00m(\n\u001B[0;32m   3624\u001B[0m         \u001B[38;5;124m\"\u001B[39m\u001B[38;5;124mtolerance argument only valid if using pad, \u001B[39m\u001B[38;5;124m\"\u001B[39m\n\u001B[0;32m   3625\u001B[0m         \u001B[38;5;124m\"\u001B[39m\u001B[38;5;124mbackfill or nearest lookups\u001B[39m\u001B[38;5;124m\"\u001B[39m\n\u001B[0;32m   3626\u001B[0m     )\n\u001B[1;32m-> 3627\u001B[0m casted_key \u001B[38;5;241m=\u001B[39m \u001B[38;5;28;43mself\u001B[39;49m\u001B[38;5;241;43m.\u001B[39;49m\u001B[43m_maybe_cast_indexer\u001B[49m\u001B[43m(\u001B[49m\u001B[43mkey\u001B[49m\u001B[43m)\u001B[49m\n\u001B[0;32m   3628\u001B[0m \u001B[38;5;28;01mtry\u001B[39;00m:\n\u001B[0;32m   3629\u001B[0m     \u001B[38;5;28;01mreturn\u001B[39;00m \u001B[38;5;28mself\u001B[39m\u001B[38;5;241m.\u001B[39m_engine\u001B[38;5;241m.\u001B[39mget_loc(casted_key)\n",
      "File \u001B[1;32m~\\miniconda3\\lib\\site-packages\\pandas\\core\\indexes\\base.py:6298\u001B[0m, in \u001B[0;36mIndex._maybe_cast_indexer\u001B[1;34m(self, key)\u001B[0m\n\u001B[0;32m   6294\u001B[0m         \u001B[38;5;28;01mraise\u001B[39;00m \u001B[38;5;167;01mAssertionError\u001B[39;00m(\u001B[38;5;124m\"\u001B[39m\u001B[38;5;124mEnd slice bound is non-scalar\u001B[39m\u001B[38;5;124m\"\u001B[39m)\n\u001B[0;32m   6296\u001B[0m     \u001B[38;5;28;01mreturn\u001B[39;00m \u001B[38;5;28mslice\u001B[39m(start_slice, end_slice, step)\n\u001B[1;32m-> 6298\u001B[0m \u001B[38;5;28;01mdef\u001B[39;00m \u001B[38;5;21m_maybe_cast_indexer\u001B[39m(\u001B[38;5;28mself\u001B[39m, key):\n\u001B[0;32m   6299\u001B[0m     \u001B[38;5;124;03m\"\"\"\u001B[39;00m\n\u001B[0;32m   6300\u001B[0m \u001B[38;5;124;03m    If we have a float key and are not a floating index, then try to cast\u001B[39;00m\n\u001B[0;32m   6301\u001B[0m \u001B[38;5;124;03m    to an int if equivalent.\u001B[39;00m\n\u001B[0;32m   6302\u001B[0m \u001B[38;5;124;03m    \"\"\"\u001B[39;00m\n\u001B[0;32m   6303\u001B[0m     \u001B[38;5;28;01mif\u001B[39;00m \u001B[38;5;129;01mnot\u001B[39;00m \u001B[38;5;28mself\u001B[39m\u001B[38;5;241m.\u001B[39mis_floating():\n",
      "\u001B[1;31mKeyboardInterrupt\u001B[0m: "
     ]
    }
   ],
   "source": [
    "# Samo prvi put pokrenit\n",
    "#training_set = training_set.reset_index()\n",
    "fgm = []\n",
    "fga = []\n",
    "fgPcg = []\n",
    "for i, row1 in teams.iterrows():\n",
    "    sumFgm = 0\n",
    "    sumFga = 0\n",
    "    for j, row2 in training_set.iterrows():\n",
    "        if row1['team_id'] == row2['wteam']:\n",
    "            sumFgm = sumFgm + row2['wfgm']\n",
    "            sumFga = sumFga + row2['wfga']\n",
    "        if row1['team_id'] == row2['lteam']:\n",
    "            sumFgm = sumFgm + row2['lfgm']\n",
    "            sumFga = sumFga + row2['lfga']\n",
    "    fgm.append(sumFgm)\n",
    "    fga.append(sumFga)\n",
    "    fgPcg.append(sumFgm / sumFga)\n",
    "teams[\"fgm\"] = fgm\n",
    "teams[\"fga\"] = fga\n",
    "teams[\"fgPcg\"] = fgPcg\n",
    "teams.to_csv(\"fgPcg2011.csv\", index=False)"
   ],
   "metadata": {
    "collapsed": false
   }
  },
  {
   "cell_type": "code",
   "execution_count": null,
   "outputs": [],
   "source": [
    "#training_set = training_set.reset_index()\n",
    "ptsTotal = []\n",
    "stlTotal = []\n",
    "blkTotal = []\n",
    "for i, row1 in teams.iterrows():\n",
    "    sumPts = 0\n",
    "    sumStl = 0\n",
    "    sumBlk = 0\n",
    "    gamesPlayed = 0\n",
    "    for j, row2 in training_set.iterrows():\n",
    "        if row1['team_id'] == row2['wteam']:\n",
    "            sumPts = sumPts + row2['wscore']\n",
    "            sumStl = sumStl + row2['wstl']\n",
    "            sumBlk = sumBlk + row2['wblk']\n",
    "            gamesPlayed = gamesPlayed + 1\n",
    "        if row1['team_id'] == row2['lteam']:\n",
    "            sumPts = sumPts + row2['lscore']\n",
    "            sumStl = sumStl + row2['lstl']\n",
    "            sumBlk = sumBlk + row2['lblk']\n",
    "            gamesPlayed = gamesPlayed + 1\n",
    "    ptsTotal.append(sumPts)\n",
    "    stlTotal.append(round(sumStl / gamesPlayed * 2) / 2)\n",
    "    blkTotal.append(round(sumBlk / gamesPlayed * 2) / 2)\n",
    "teams[\"ptsTotal\"] = ptsTotal\n",
    "teams[\"stlTotal\"] = stlTotal\n",
    "teams[\"blkTotal\"] = blkTotal\n",
    "teams.to_csv(\"total2011.csv\", index=False)\n",
    "teams"
   ],
   "metadata": {
    "collapsed": false
   }
  },
  {
   "cell_type": "code",
   "execution_count": null,
   "outputs": [],
   "source": [
    "teams = pd.read_csv(\"total2011.csv\")\n",
    "teams = teams.reset_index()\n",
    "won = []\n",
    "played = []\n",
    "wp = []\n",
    "for i, row1 in teams.iterrows():\n",
    "    wonCnt = 0\n",
    "    playedCnt = 0\n",
    "    for j, row2 in training_set.iterrows():\n",
    "        if row1['team_id'] == row2['wteam']:\n",
    "            wonCnt = wonCnt + 1\n",
    "            playedCnt = playedCnt + 1\n",
    "        if row1['team_id'] == row2['lteam']:\n",
    "            playedCnt = playedCnt + 1\n",
    "    won.append(wonCnt)\n",
    "    played.append(playedCnt)\n",
    "    wp.append(wonCnt / playedCnt)\n",
    "teams[\"won\"] = won\n",
    "teams[\"played\"] = played\n",
    "teams[\"wp\"] = wp\n",
    "teams.to_csv(\"total2011.csv\", index=False)\n",
    "teams"
   ],
   "metadata": {
    "collapsed": false
   }
  },
  {
   "cell_type": "code",
   "execution_count": null,
   "outputs": [],
   "source": [
    "teams = pd.read_csv(\"total2011.csv\")\n",
    "owp = []\n",
    "for i, row1 in teams.iterrows():\n",
    "    print(\"Prva: \" + str(row1.team_id))\n",
    "    wpSum = 0\n",
    "    totalTeams = 0\n",
    "    for j, row2 in teams.iterrows():\n",
    "        wonCnt = 0\n",
    "        playedCnt = 0\n",
    "        didPlay = False\n",
    "        for k, row3 in training_set.iterrows():\n",
    "            if row2['team_id'] == row3['wteam'] and row1['team_id'] != row3['lteam']:\n",
    "                wonCnt = wonCnt + 1\n",
    "                playedCnt = playedCnt + 1\n",
    "                didPlay = True\n",
    "            if row2['team_id'] == row3['lteam'] and row1['team_id'] != row3['wteam']:\n",
    "                playedCnt = playedCnt + 1\n",
    "                didPlay = True\n",
    "        if didPlay:\n",
    "            totalTeams = totalTeams + 1\n",
    "            wpSum = wpSum + (wonCnt / playedCnt)\n",
    "    owp.append(wpSum / totalTeams)\n",
    "teams[\"owp\"] = owp\n",
    "teams.to_csv(\"total2011.csv\", index=False)\n",
    "teams"
   ],
   "metadata": {
    "collapsed": false
   }
  },
  {
   "cell_type": "code",
   "execution_count": null,
   "outputs": [],
   "source": [
    "teams = pd.read_csv(\"total2011.csv\")\n",
    "teams"
   ],
   "metadata": {
    "collapsed": false
   }
  },
  {
   "cell_type": "code",
   "execution_count": null,
   "outputs": [],
   "source": [
    "#model = np.poly1d(np.polyfit(hours, happ, 2))\n",
    "#print(model)\n",
    "\n",
    "teamsW = statistics.loc[statistics['team_id'].isin((training_set['wteam'].tolist()))]\n",
    "teamsL = statistics.loc[statistics['team_id'].isin(training_set['lteam'].tolist())]\n",
    "teams = teamsW.append(teamsL)\n",
    "teams = teams.drop_duplicates()\n",
    "played = []\n",
    "playedAgainst = []\n",
    "for i, row1 in teams.iterrows():\n",
    "    wonCnt = 0\n",
    "    playedCnt = 0\n",
    "    timovi = []\n",
    "    for j, row2 in training_set.iterrows():\n",
    "        if row1['team_id'] == row2['wteam']:\n",
    "            timovi.append(row2.lteam)\n",
    "        if row1['team_id'] == row2['lteam']:\n",
    "            timovi.append(row2.wteam)\n",
    "    playedAgainst.append(timovi)\n",
    "teams[\"playedAgainst\"] = playedAgainst\n",
    "teams.to_csv(\"against2011.csv\", index=False)\n",
    "teams"
   ],
   "metadata": {
    "collapsed": false
   }
  },
  {
   "cell_type": "code",
   "execution_count": null,
   "outputs": [],
   "source": [
    "teams = pd.read_csv(\"against2011.csv\")\n",
    "oppWinPcg = []\n",
    "training_set = training_set[['wteam', 'lteam']]\n",
    "#teams = teams.reset_index()\n",
    "\n",
    "for i, row1 in teams.iterrows():\n",
    "    print(row1.team_id)\n",
    "    wpSum = 0\n",
    "    lista = literal_eval(row1.playedAgainst)\n",
    "    for row2 in lista:\n",
    "        wonCnt = 0\n",
    "        playedCnt = 0\n",
    "        for k, row3 in training_set.iterrows():\n",
    "            if row2 == row3['wteam'] and row1['team_id'] != row3['lteam']:\n",
    "                wonCnt = wonCnt + 1\n",
    "                playedCnt = playedCnt + 1\n",
    "            if row2 == row3['lteam'] and row1['team_id'] != row3['wteam']:\n",
    "                playedCnt = playedCnt + 1\n",
    "        if playedCnt > 0:\n",
    "            wpSum = wpSum + (wonCnt / playedCnt)\n",
    "    oppWinPcg.append(wpSum / len(lista))\n",
    "teams[\"owp\"] = oppWinPcg\n",
    "teams"
   ],
   "metadata": {
    "collapsed": false
   }
  },
  {
   "cell_type": "code",
   "execution_count": null,
   "outputs": [],
   "source": [
    "teams.to_csv(\"against2011.csv\", index=False)"
   ],
   "metadata": {
    "collapsed": false
   }
  },
  {
   "cell_type": "code",
   "execution_count": null,
   "outputs": [],
   "source": [
    "tourney_results = pd.read_csv(\"tourney_detailed_results.csv\")\n",
    "regular_results = pd.read_csv(\"regular_season_detailed_results.csv\")\n",
    "regular_results = regular_results[(regular_results[\"season\"] == 2012)]\n",
    "tourney_results = tourney_results[(tourney_results[\"season\"] == 2012)]\n",
    "training_set = regular_results.append(tourney_results)\n",
    "statistics = pd.read_csv(\"teams.csv\")\n",
    "teamsW = statistics.loc[statistics['team_id'].isin((training_set['wteam'].tolist()))]\n",
    "teamsL = statistics.loc[statistics['team_id'].isin(training_set['lteam'].tolist())]\n",
    "teams = teamsW.append(teamsL)\n",
    "teams = teams.drop_duplicates()\n",
    "teams.reset_index()\n",
    "playedAgainst = []\n",
    "for i, row1 in teams.iterrows():\n",
    "    print(row1.team_id)\n",
    "    wonCnt = 0\n",
    "    playedCnt = 0\n",
    "    timovi = []\n",
    "    for j, row2 in training_set.iterrows():\n",
    "        if row1['team_id'] == row2['wteam']:\n",
    "            timovi.append(row2.lteam)\n",
    "        if row1['team_id'] == row2['lteam']:\n",
    "            timovi.append(row2.wteam)\n",
    "    playedAgainst.append(timovi)\n",
    "teams[\"playedAgainst\"] = playedAgainst\n",
    "teams.to_csv(\"against2012.csv\", index=False)\n",
    "oppWinPcg = []\n",
    "training_set = training_set[['wteam', 'lteam']]\n",
    "owp = []\n",
    "for i, row1 in teams.iterrows():\n",
    "    print(row1.team_id)\n",
    "    wpSum = 0\n",
    "    lista = row1.playedAgainst\n",
    "    for row2 in lista:\n",
    "        wonCnt = 0\n",
    "        playedCnt = 0\n",
    "        for k, row3 in training_set.iterrows():\n",
    "            if row2 == row3['wteam'] and row1['team_id'] != row3['lteam']:\n",
    "                wonCnt = wonCnt + 1\n",
    "                playedCnt = playedCnt + 1\n",
    "            if row2 == row3['lteam'] and row1['team_id'] != row3['wteam']:\n",
    "                playedCnt = playedCnt + 1\n",
    "        if playedCnt > 0:\n",
    "            wpSum = wpSum + (wonCnt / playedCnt)\n",
    "    oppWinPcg.append(wpSum / len(lista))\n",
    "teams[\"owp\"] = oppWinPcg\n",
    "teams\n",
    "teams.to_csv(\"against2012.csv\", index=False)"
   ],
   "metadata": {
    "collapsed": false
   }
  },
  {
   "cell_type": "code",
   "execution_count": null,
   "outputs": [],
   "source": [
    "tourney_results = pd.read_csv(\"tourney_detailed_results.csv\")\n",
    "regular_results = pd.read_csv(\"regular_season_detailed_results.csv\")\n",
    "regular_results = regular_results[(regular_results[\"season\"] == 2013)]\n",
    "tourney_results = tourney_results[(tourney_results[\"season\"] == 2013)]\n",
    "training_set = regular_results.append(tourney_results)\n",
    "statistics = pd.read_csv(\"teams.csv\")\n",
    "teamsW = statistics.loc[statistics['team_id'].isin((training_set['wteam'].tolist()))]\n",
    "teamsL = statistics.loc[statistics['team_id'].isin(training_set['lteam'].tolist())]\n",
    "teams = teamsW.append(teamsL)\n",
    "teams = teams.drop_duplicates()\n",
    "playedAgainst = []\n",
    "for i, row1 in teams.iterrows():\n",
    "    print(row1.team_id)\n",
    "    wonCnt = 0\n",
    "    playedCnt = 0\n",
    "    timovi = []\n",
    "    for j, row2 in training_set.iterrows():\n",
    "        if row1['team_id'] == row2['wteam']:\n",
    "            timovi.append(row2.lteam)\n",
    "        if row1['team_id'] == row2['lteam']:\n",
    "            timovi.append(row2.wteam)\n",
    "    playedAgainst.append(timovi)\n",
    "teams[\"playedAgainst\"] = playedAgainst\n",
    "teams.to_csv(\"against2013.csv\", index=False)\n",
    "oppWinPcg = []\n",
    "training_set = training_set[['wteam', 'lteam']]\n",
    "owp = []\n",
    "for i, row1 in teams.iterrows():\n",
    "    print(row1.team_id)\n",
    "    wpSum = 0\n",
    "    lista = row1.playedAgainst\n",
    "    for row2 in lista:\n",
    "        wonCnt = 0\n",
    "        playedCnt = 0\n",
    "        for k, row3 in training_set.iterrows():\n",
    "            if row2 == row3['wteam'] and row1['team_id'] != row3['lteam']:\n",
    "                wonCnt = wonCnt + 1\n",
    "                playedCnt = playedCnt + 1\n",
    "            if row2 == row3['lteam'] and row1['team_id'] != row3['wteam']:\n",
    "                playedCnt = playedCnt + 1\n",
    "        if playedCnt > 0:\n",
    "            wpSum = wpSum + (wonCnt / playedCnt)\n",
    "    oppWinPcg.append(wpSum / len(lista))\n",
    "teams[\"owp\"] = oppWinPcg\n",
    "teams\n",
    "teams.to_csv(\"against2013.csv\", index=False)"
   ],
   "metadata": {
    "collapsed": false
   }
  },
  {
   "cell_type": "code",
   "execution_count": null,
   "outputs": [],
   "source": [
    "tourney_results = pd.read_csv(\"tourney_detailed_results.csv\")\n",
    "regular_results = pd.read_csv(\"regular_season_detailed_results.csv\")\n",
    "regular_results = regular_results[(regular_results[\"season\"] == 2014)]\n",
    "training_set = regular_results\n",
    "statistics = pd.read_csv(\"teams.csv\")\n",
    "teamsW = statistics.loc[statistics['team_id'].isin((training_set['wteam'].tolist()))]\n",
    "teamsL = statistics.loc[statistics['team_id'].isin(training_set['lteam'].tolist())]\n",
    "teams = teamsW.append(teamsL)\n",
    "teams = teams.drop_duplicates()\n",
    "playedAgainst = []\n",
    "for i, row1 in teams.iterrows():\n",
    "    print(row1.team_id)\n",
    "    wonCnt = 0\n",
    "    playedCnt = 0\n",
    "    timovi = []\n",
    "    for j, row2 in training_set.iterrows():\n",
    "        if row1['team_id'] == row2['wteam']:\n",
    "            timovi.append(row2.lteam)\n",
    "        if row1['team_id'] == row2['lteam']:\n",
    "            timovi.append(row2.wteam)\n",
    "    playedAgainst.append(timovi)\n",
    "teams[\"playedAgainst\"] = playedAgainst\n",
    "teams.to_csv(\"against2014.csv\", index=False)\n",
    "oppWinPcg = []\n",
    "training_set = training_set[['wteam', 'lteam']]\n",
    "owp = []\n",
    "for i, row1 in teams.iterrows():\n",
    "    print(row1.team_id)\n",
    "    wpSum = 0\n",
    "    lista = row1.playedAgainst\n",
    "    for row2 in lista:\n",
    "        wonCnt = 0\n",
    "        playedCnt = 0\n",
    "        for k, row3 in training_set.iterrows():\n",
    "            if row2 == row3['wteam'] and row1['team_id'] != row3['lteam']:\n",
    "                wonCnt = wonCnt + 1\n",
    "                playedCnt = playedCnt + 1\n",
    "            if row2 == row3['lteam'] and row1['team_id'] != row3['wteam']:\n",
    "                playedCnt = playedCnt + 1\n",
    "        if playedCnt > 0:\n",
    "            wpSum = wpSum + (wonCnt / playedCnt)\n",
    "    oppWinPcg.append(wpSum / len(lista))\n",
    "teams[\"owp\"] = oppWinPcg\n",
    "teams\n",
    "teams.to_csv(\"against2014.csv\", index=False)"
   ],
   "metadata": {
    "collapsed": false
   }
  },
  {
   "cell_type": "code",
   "execution_count": 107,
   "outputs": [
    {
     "data": {
      "text/plain": "     index  team_id      team_name  \\\n0        1     1102      Air Force   \n1        2     1103          Akron   \n2        3     1104        Alabama   \n3        4     1105    Alabama A&M   \n4        5     1106     Alabama St   \n..     ...      ...            ...   \n340    359     1460      Wright St   \n341    360     1461        Wyoming   \n342    361     1462         Xavier   \n343    362     1463           Yale   \n344    363     1464  Youngstown St   \n\n                                         playedAgainst    owpSum       owp  \\\n0    [1398, 1459, 1169, 1191, 1460, 1300, 1115, 131...  0.562273  0.551782   \n1    [1173, 1464, 1156, 1178, 1227, 1396, 1278, 112...  0.503356  0.497198   \n2    [1197, 1407, 1371, 1234, 1389, 1105, 1375, 134...  0.522822  0.512782   \n3    [1443, 1104, 1398, 1455, 1412, 1301, 1212, 123...  0.400556  0.393084   \n4    [1166, 1235, 1319, 1244, 1260, 1416, 1408, 111...  0.420996  0.413547   \n..                                                 ...       ...       ...   \n340  [1231, 1380, 1324, 1350, 1356, 1153, 1178, 110...  0.524377  0.513710   \n341  [1294, 1316, 1442, 1281, 1344, 1377, 1232, 141...  0.521940  0.511216   \n342  [1444, 1236, 1234, 1371, 1330, 1459, 1275, 113...  0.565697  0.556442   \n343  [1346, 1344, 1130, 1228, 1119, 1216, 1436, 110...  0.492021  0.488939   \n344  [1359, 1138, 1103, 1405, 1384, 1454, 1453, 135...  0.507729  0.502103   \n\n     fgm   fga     fgPcg  ptsTotal  stlTotal  blkTotal  won  played        wp  \\\n0    628  1340  0.468657      1799       6.0       2.5   14      28  0.500000   \n1    859  2009  0.427576      2435       6.5       3.5   22      35  0.628571   \n2    796  1789  0.444941      2133       9.0       5.0   21      32  0.656250   \n3    554  1395  0.397133      1570       8.5       5.5   10      25  0.400000   \n4    691  1744  0.396216      2031       7.5       4.5   15      33  0.454545   \n..   ...   ...       ...       ...       ...       ...  ...     ...       ...   \n340  668  1559  0.428480      1988       6.0       1.0   17      31  0.548387   \n341  654  1542  0.424125      1872       7.5       4.0    8      29  0.275862   \n342  784  1700  0.461176      2306       5.5       3.0   24      32  0.750000   \n343  625  1425  0.438596      1823       4.5       4.5   14      27  0.518519   \n344  692  1673  0.413628      1908       6.0       5.0    7      28  0.250000   \n\n         oowp       rpi  rpiRank  \n0    0.526151  0.532429    105.0  \n1    0.492487  0.528864    113.0  \n2    0.530720  0.553133     80.0  \n3    0.432363  0.404633    311.0  \n4    0.433400  0.428760    277.0  \n..        ...       ...      ...  \n340  0.516729  0.523134    122.0  \n341  0.529822  0.457029    236.0  \n342  0.534757  0.599410     28.0  \n343  0.486854  0.495813    164.0  \n344  0.509835  0.441010    255.0  \n\n[345 rows x 18 columns]",
      "text/html": "<div>\n<style scoped>\n    .dataframe tbody tr th:only-of-type {\n        vertical-align: middle;\n    }\n\n    .dataframe tbody tr th {\n        vertical-align: top;\n    }\n\n    .dataframe thead th {\n        text-align: right;\n    }\n</style>\n<table border=\"1\" class=\"dataframe\">\n  <thead>\n    <tr style=\"text-align: right;\">\n      <th></th>\n      <th>index</th>\n      <th>team_id</th>\n      <th>team_name</th>\n      <th>playedAgainst</th>\n      <th>owpSum</th>\n      <th>owp</th>\n      <th>fgm</th>\n      <th>fga</th>\n      <th>fgPcg</th>\n      <th>ptsTotal</th>\n      <th>stlTotal</th>\n      <th>blkTotal</th>\n      <th>won</th>\n      <th>played</th>\n      <th>wp</th>\n      <th>oowp</th>\n      <th>rpi</th>\n      <th>rpiRank</th>\n    </tr>\n  </thead>\n  <tbody>\n    <tr>\n      <th>0</th>\n      <td>1</td>\n      <td>1102</td>\n      <td>Air Force</td>\n      <td>[1398, 1459, 1169, 1191, 1460, 1300, 1115, 131...</td>\n      <td>0.562273</td>\n      <td>0.551782</td>\n      <td>628</td>\n      <td>1340</td>\n      <td>0.468657</td>\n      <td>1799</td>\n      <td>6.0</td>\n      <td>2.5</td>\n      <td>14</td>\n      <td>28</td>\n      <td>0.500000</td>\n      <td>0.526151</td>\n      <td>0.532429</td>\n      <td>105.0</td>\n    </tr>\n    <tr>\n      <th>1</th>\n      <td>2</td>\n      <td>1103</td>\n      <td>Akron</td>\n      <td>[1173, 1464, 1156, 1178, 1227, 1396, 1278, 112...</td>\n      <td>0.503356</td>\n      <td>0.497198</td>\n      <td>859</td>\n      <td>2009</td>\n      <td>0.427576</td>\n      <td>2435</td>\n      <td>6.5</td>\n      <td>3.5</td>\n      <td>22</td>\n      <td>35</td>\n      <td>0.628571</td>\n      <td>0.492487</td>\n      <td>0.528864</td>\n      <td>113.0</td>\n    </tr>\n    <tr>\n      <th>2</th>\n      <td>3</td>\n      <td>1104</td>\n      <td>Alabama</td>\n      <td>[1197, 1407, 1371, 1234, 1389, 1105, 1375, 134...</td>\n      <td>0.522822</td>\n      <td>0.512782</td>\n      <td>796</td>\n      <td>1789</td>\n      <td>0.444941</td>\n      <td>2133</td>\n      <td>9.0</td>\n      <td>5.0</td>\n      <td>21</td>\n      <td>32</td>\n      <td>0.656250</td>\n      <td>0.530720</td>\n      <td>0.553133</td>\n      <td>80.0</td>\n    </tr>\n    <tr>\n      <th>3</th>\n      <td>4</td>\n      <td>1105</td>\n      <td>Alabama A&amp;M</td>\n      <td>[1443, 1104, 1398, 1455, 1412, 1301, 1212, 123...</td>\n      <td>0.400556</td>\n      <td>0.393084</td>\n      <td>554</td>\n      <td>1395</td>\n      <td>0.397133</td>\n      <td>1570</td>\n      <td>8.5</td>\n      <td>5.5</td>\n      <td>10</td>\n      <td>25</td>\n      <td>0.400000</td>\n      <td>0.432363</td>\n      <td>0.404633</td>\n      <td>311.0</td>\n    </tr>\n    <tr>\n      <th>4</th>\n      <td>5</td>\n      <td>1106</td>\n      <td>Alabama St</td>\n      <td>[1166, 1235, 1319, 1244, 1260, 1416, 1408, 111...</td>\n      <td>0.420996</td>\n      <td>0.413547</td>\n      <td>691</td>\n      <td>1744</td>\n      <td>0.396216</td>\n      <td>2031</td>\n      <td>7.5</td>\n      <td>4.5</td>\n      <td>15</td>\n      <td>33</td>\n      <td>0.454545</td>\n      <td>0.433400</td>\n      <td>0.428760</td>\n      <td>277.0</td>\n    </tr>\n    <tr>\n      <th>...</th>\n      <td>...</td>\n      <td>...</td>\n      <td>...</td>\n      <td>...</td>\n      <td>...</td>\n      <td>...</td>\n      <td>...</td>\n      <td>...</td>\n      <td>...</td>\n      <td>...</td>\n      <td>...</td>\n      <td>...</td>\n      <td>...</td>\n      <td>...</td>\n      <td>...</td>\n      <td>...</td>\n      <td>...</td>\n      <td>...</td>\n    </tr>\n    <tr>\n      <th>340</th>\n      <td>359</td>\n      <td>1460</td>\n      <td>Wright St</td>\n      <td>[1231, 1380, 1324, 1350, 1356, 1153, 1178, 110...</td>\n      <td>0.524377</td>\n      <td>0.513710</td>\n      <td>668</td>\n      <td>1559</td>\n      <td>0.428480</td>\n      <td>1988</td>\n      <td>6.0</td>\n      <td>1.0</td>\n      <td>17</td>\n      <td>31</td>\n      <td>0.548387</td>\n      <td>0.516729</td>\n      <td>0.523134</td>\n      <td>122.0</td>\n    </tr>\n    <tr>\n      <th>341</th>\n      <td>360</td>\n      <td>1461</td>\n      <td>Wyoming</td>\n      <td>[1294, 1316, 1442, 1281, 1344, 1377, 1232, 141...</td>\n      <td>0.521940</td>\n      <td>0.511216</td>\n      <td>654</td>\n      <td>1542</td>\n      <td>0.424125</td>\n      <td>1872</td>\n      <td>7.5</td>\n      <td>4.0</td>\n      <td>8</td>\n      <td>29</td>\n      <td>0.275862</td>\n      <td>0.529822</td>\n      <td>0.457029</td>\n      <td>236.0</td>\n    </tr>\n    <tr>\n      <th>342</th>\n      <td>361</td>\n      <td>1462</td>\n      <td>Xavier</td>\n      <td>[1444, 1236, 1234, 1371, 1330, 1459, 1275, 113...</td>\n      <td>0.565697</td>\n      <td>0.556442</td>\n      <td>784</td>\n      <td>1700</td>\n      <td>0.461176</td>\n      <td>2306</td>\n      <td>5.5</td>\n      <td>3.0</td>\n      <td>24</td>\n      <td>32</td>\n      <td>0.750000</td>\n      <td>0.534757</td>\n      <td>0.599410</td>\n      <td>28.0</td>\n    </tr>\n    <tr>\n      <th>343</th>\n      <td>362</td>\n      <td>1463</td>\n      <td>Yale</td>\n      <td>[1346, 1344, 1130, 1228, 1119, 1216, 1436, 110...</td>\n      <td>0.492021</td>\n      <td>0.488939</td>\n      <td>625</td>\n      <td>1425</td>\n      <td>0.438596</td>\n      <td>1823</td>\n      <td>4.5</td>\n      <td>4.5</td>\n      <td>14</td>\n      <td>27</td>\n      <td>0.518519</td>\n      <td>0.486854</td>\n      <td>0.495813</td>\n      <td>164.0</td>\n    </tr>\n    <tr>\n      <th>344</th>\n      <td>363</td>\n      <td>1464</td>\n      <td>Youngstown St</td>\n      <td>[1359, 1138, 1103, 1405, 1384, 1454, 1453, 135...</td>\n      <td>0.507729</td>\n      <td>0.502103</td>\n      <td>692</td>\n      <td>1673</td>\n      <td>0.413628</td>\n      <td>1908</td>\n      <td>6.0</td>\n      <td>5.0</td>\n      <td>7</td>\n      <td>28</td>\n      <td>0.250000</td>\n      <td>0.509835</td>\n      <td>0.441010</td>\n      <td>255.0</td>\n    </tr>\n  </tbody>\n</table>\n<p>345 rows × 18 columns</p>\n</div>"
     },
     "execution_count": 107,
     "metadata": {},
     "output_type": "execute_result"
    }
   ],
   "source": [
    "teams = pd.read_csv(\"total2011.csv\")\n",
    "owps = pd.read_csv(\"against2011.csv\")\n",
    "oowp = []\n",
    "for i, row1 in teams.iterrows():\n",
    "    owpSum = 0\n",
    "    lista = literal_eval(row1.playedAgainst)\n",
    "    for row2 in lista:\n",
    "        team = owps.loc[owps['team_id'] == row2]\n",
    "        owpSum = owpSum + team.iloc[0].owp\n",
    "    oowp.append(owpSum / len(lista))\n",
    "teams[\"oowp\"] = oowp\n",
    "teams.to_csv(\"total2011.csv\", index=False)\n",
    "teams"
   ],
   "metadata": {
    "collapsed": false
   }
  },
  {
   "cell_type": "code",
   "execution_count": 108,
   "outputs": [
    {
     "data": {
      "text/plain": "     team_id      team_name  \\\n0       1102      Air Force   \n1       1103          Akron   \n2       1104        Alabama   \n3       1105    Alabama A&M   \n4       1106     Alabama St   \n..       ...            ...   \n340     1460      Wright St   \n341     1461        Wyoming   \n342     1462         Xavier   \n343     1463           Yale   \n344     1464  Youngstown St   \n\n                                         playedAgainst       owp  fgm   fga  \\\n0    [1119, 1440, 1160, 1179, 1460, 1115, 1271, 121...  0.552012  564  1269   \n1    [1280, 1434, 1182, 1178, 1452, 1292, 1156, 111...  0.556858  803  1741   \n2    [1316, 1324, 1268, 1455, 1345, 1105, 1433, 120...  0.581899  778  1722   \n3    [1408, 1104, 1375, 1276, 1210, 1398, 1412, 123...  0.385437  564  1401   \n4    [1267, 1153, 1322, 1240, 1191, 1198, 1372, 138...  0.396064  594  1593   \n..                                                 ...       ...  ...   ...   \n340  [1326, 1238, 1196, 1316, 1150, 1156, 1464, 110...  0.493380  600  1512   \n341  [1294, 1453, 1377, 1340, 1271, 1256, 1430, 113...  0.529698  623  1397   \n342  [1288, 1236, 1275, 1208, 1435, 1345, 1139, 115...  0.588522  899  1985   \n343  [1148, 1346, 1371, 1119, 1216, 1436, 1357, 113...  0.466069  582  1370   \n344  [1359, 1415, 1336, 1384, 1178, 1460, 1138, 140...  0.483435  690  1604   \n\n        fgPcg  ptsTotal  stlTotal  blkTotal  won  played        wp      oowp  \n0    0.444444      1638       6.5       3.0   11      27  0.407407  0.513948  \n1    0.461229      2287       7.5       4.5   21      32  0.656250  0.495346  \n2    0.451800      2135       7.0       4.0   21      33  0.636364  0.550995  \n3    0.402570      1589       6.0       4.0    5      26  0.192308  0.439301  \n4    0.372881      1674       7.5       3.0   10      29  0.344828  0.441045  \n..        ...       ...       ...       ...  ...     ...       ...       ...  \n340  0.396825      1777       6.5       1.5   12      31  0.387097  0.504844  \n341  0.445956      1809       6.5       3.5   18      29  0.620690  0.518022  \n342  0.452897      2543       6.0       4.0   23      36  0.638889  0.535955  \n343  0.424818      1733       5.0       3.5   17      26  0.653846  0.493051  \n344  0.430175      1946       6.5       5.5   14      29  0.482759  0.497120  \n\n[345 rows x 14 columns]",
      "text/html": "<div>\n<style scoped>\n    .dataframe tbody tr th:only-of-type {\n        vertical-align: middle;\n    }\n\n    .dataframe tbody tr th {\n        vertical-align: top;\n    }\n\n    .dataframe thead th {\n        text-align: right;\n    }\n</style>\n<table border=\"1\" class=\"dataframe\">\n  <thead>\n    <tr style=\"text-align: right;\">\n      <th></th>\n      <th>team_id</th>\n      <th>team_name</th>\n      <th>playedAgainst</th>\n      <th>owp</th>\n      <th>fgm</th>\n      <th>fga</th>\n      <th>fgPcg</th>\n      <th>ptsTotal</th>\n      <th>stlTotal</th>\n      <th>blkTotal</th>\n      <th>won</th>\n      <th>played</th>\n      <th>wp</th>\n      <th>oowp</th>\n    </tr>\n  </thead>\n  <tbody>\n    <tr>\n      <th>0</th>\n      <td>1102</td>\n      <td>Air Force</td>\n      <td>[1119, 1440, 1160, 1179, 1460, 1115, 1271, 121...</td>\n      <td>0.552012</td>\n      <td>564</td>\n      <td>1269</td>\n      <td>0.444444</td>\n      <td>1638</td>\n      <td>6.5</td>\n      <td>3.0</td>\n      <td>11</td>\n      <td>27</td>\n      <td>0.407407</td>\n      <td>0.513948</td>\n    </tr>\n    <tr>\n      <th>1</th>\n      <td>1103</td>\n      <td>Akron</td>\n      <td>[1280, 1434, 1182, 1178, 1452, 1292, 1156, 111...</td>\n      <td>0.556858</td>\n      <td>803</td>\n      <td>1741</td>\n      <td>0.461229</td>\n      <td>2287</td>\n      <td>7.5</td>\n      <td>4.5</td>\n      <td>21</td>\n      <td>32</td>\n      <td>0.656250</td>\n      <td>0.495346</td>\n    </tr>\n    <tr>\n      <th>2</th>\n      <td>1104</td>\n      <td>Alabama</td>\n      <td>[1316, 1324, 1268, 1455, 1345, 1105, 1433, 120...</td>\n      <td>0.581899</td>\n      <td>778</td>\n      <td>1722</td>\n      <td>0.451800</td>\n      <td>2135</td>\n      <td>7.0</td>\n      <td>4.0</td>\n      <td>21</td>\n      <td>33</td>\n      <td>0.636364</td>\n      <td>0.550995</td>\n    </tr>\n    <tr>\n      <th>3</th>\n      <td>1105</td>\n      <td>Alabama A&amp;M</td>\n      <td>[1408, 1104, 1375, 1276, 1210, 1398, 1412, 123...</td>\n      <td>0.385437</td>\n      <td>564</td>\n      <td>1401</td>\n      <td>0.402570</td>\n      <td>1589</td>\n      <td>6.0</td>\n      <td>4.0</td>\n      <td>5</td>\n      <td>26</td>\n      <td>0.192308</td>\n      <td>0.439301</td>\n    </tr>\n    <tr>\n      <th>4</th>\n      <td>1106</td>\n      <td>Alabama St</td>\n      <td>[1267, 1153, 1322, 1240, 1191, 1198, 1372, 138...</td>\n      <td>0.396064</td>\n      <td>594</td>\n      <td>1593</td>\n      <td>0.372881</td>\n      <td>1674</td>\n      <td>7.5</td>\n      <td>3.0</td>\n      <td>10</td>\n      <td>29</td>\n      <td>0.344828</td>\n      <td>0.441045</td>\n    </tr>\n    <tr>\n      <th>...</th>\n      <td>...</td>\n      <td>...</td>\n      <td>...</td>\n      <td>...</td>\n      <td>...</td>\n      <td>...</td>\n      <td>...</td>\n      <td>...</td>\n      <td>...</td>\n      <td>...</td>\n      <td>...</td>\n      <td>...</td>\n      <td>...</td>\n      <td>...</td>\n    </tr>\n    <tr>\n      <th>340</th>\n      <td>1460</td>\n      <td>Wright St</td>\n      <td>[1326, 1238, 1196, 1316, 1150, 1156, 1464, 110...</td>\n      <td>0.493380</td>\n      <td>600</td>\n      <td>1512</td>\n      <td>0.396825</td>\n      <td>1777</td>\n      <td>6.5</td>\n      <td>1.5</td>\n      <td>12</td>\n      <td>31</td>\n      <td>0.387097</td>\n      <td>0.504844</td>\n    </tr>\n    <tr>\n      <th>341</th>\n      <td>1461</td>\n      <td>Wyoming</td>\n      <td>[1294, 1453, 1377, 1340, 1271, 1256, 1430, 113...</td>\n      <td>0.529698</td>\n      <td>623</td>\n      <td>1397</td>\n      <td>0.445956</td>\n      <td>1809</td>\n      <td>6.5</td>\n      <td>3.5</td>\n      <td>18</td>\n      <td>29</td>\n      <td>0.620690</td>\n      <td>0.518022</td>\n    </tr>\n    <tr>\n      <th>342</th>\n      <td>1462</td>\n      <td>Xavier</td>\n      <td>[1288, 1236, 1275, 1208, 1435, 1345, 1139, 115...</td>\n      <td>0.588522</td>\n      <td>899</td>\n      <td>1985</td>\n      <td>0.452897</td>\n      <td>2543</td>\n      <td>6.0</td>\n      <td>4.0</td>\n      <td>23</td>\n      <td>36</td>\n      <td>0.638889</td>\n      <td>0.535955</td>\n    </tr>\n    <tr>\n      <th>343</th>\n      <td>1463</td>\n      <td>Yale</td>\n      <td>[1148, 1346, 1371, 1119, 1216, 1436, 1357, 113...</td>\n      <td>0.466069</td>\n      <td>582</td>\n      <td>1370</td>\n      <td>0.424818</td>\n      <td>1733</td>\n      <td>5.0</td>\n      <td>3.5</td>\n      <td>17</td>\n      <td>26</td>\n      <td>0.653846</td>\n      <td>0.493051</td>\n    </tr>\n    <tr>\n      <th>344</th>\n      <td>1464</td>\n      <td>Youngstown St</td>\n      <td>[1359, 1415, 1336, 1384, 1178, 1460, 1138, 140...</td>\n      <td>0.483435</td>\n      <td>690</td>\n      <td>1604</td>\n      <td>0.430175</td>\n      <td>1946</td>\n      <td>6.5</td>\n      <td>5.5</td>\n      <td>14</td>\n      <td>29</td>\n      <td>0.482759</td>\n      <td>0.497120</td>\n    </tr>\n  </tbody>\n</table>\n<p>345 rows × 14 columns</p>\n</div>"
     },
     "execution_count": 108,
     "metadata": {},
     "output_type": "execute_result"
    }
   ],
   "source": [
    "teams = pd.read_csv(\"total2012.csv\")\n",
    "owps = pd.read_csv(\"against2012.csv\")\n",
    "oowp = []\n",
    "for i, row1 in teams.iterrows():\n",
    "    owpSum = 0\n",
    "    lista = literal_eval(row1.playedAgainst)\n",
    "    for row2 in lista:\n",
    "        team = owps.loc[owps['team_id'] == row2]\n",
    "        owpSum = owpSum + team.iloc[0].owp\n",
    "    oowp.append(owpSum / len(lista))\n",
    "teams[\"oowp\"] = oowp\n",
    "teams.to_csv(\"total2012.csv\", index=False)\n",
    "teams"
   ],
   "metadata": {
    "collapsed": false
   }
  },
  {
   "cell_type": "code",
   "execution_count": 109,
   "outputs": [
    {
     "data": {
      "text/plain": "     team_id      team_name  \\\n0       1102      Air Force   \n1       1103          Akron   \n2       1104        Alabama   \n3       1105    Alabama A&M   \n4       1106     Alabama St   \n..       ...            ...   \n342     1461        Wyoming   \n343     1462         Xavier   \n344     1463           Yale   \n345     1464  Youngstown St   \n346     1212      Grambling   \n\n                                         playedAgainst       owp  fgm   fga  \\\n0    [1119, 1154, 1286, 1160, 1238, 1455, 1115, 141...  0.555456  683  1450   \n1    [1157, 1329, 1421, 1336, 1292, 1166, 1178, 111...  0.528784  814  1808   \n2    [1355, 1333, 1437, 1149, 1249, 1153, 1173, 143...  0.548965  714  1666   \n3    [1235, 1240, 1191, 1398, 1273, 1435, 1283, 111...  0.390389  636  1613   \n4    [1292, 1196, 1416, 1366, 1407, 1152, 1178, 140...  0.408966  705  1744   \n..                                                 ...       ...  ...   ...   \n342  [1300, 1377, 1380, 1294, 1167, 1364, 1160, 122...  0.553638  611  1437   \n343  [1192, 1139, 1352, 1334, 1180, 1179, 1345, 143...  0.556061  722  1582   \n344  [1357, 1386, 1191, 1138, 1442, 1436, 1119, 121...  0.490071  617  1500   \n345  [1203, 1208, 1384, 1295, 1241, 1182, 1245, 113...  0.480199  693  1634   \n346  [1156, 1123, 1275, 1222, 1403, 1333, 1120, 137...  0.384451  519  1436   \n\n        fgPcg  ptsTotal  stlTotal  blkTotal  won  played        wp      oowp  \\\n0    0.471034      1930       6.0       1.5   15      28  0.535714  0.535908   \n1    0.450221      2272       7.0       5.5   25      32  0.781250  0.492753   \n2    0.428571      2003       8.0       4.5   20      32  0.625000  0.534171   \n3    0.394296      1786       5.5       3.5    9      29  0.310345  0.443865   \n4    0.404243      1906       6.0       3.0    9      31  0.290323  0.439865   \n..        ...       ...       ...       ...  ...     ...       ...       ...   \n342  0.425191      1804       6.5       3.0   17      30  0.566667  0.539226   \n343  0.456384      2021       5.5       3.0   17      31  0.548387  0.540849   \n344  0.411333      1863       6.0       3.0   12      29  0.413793  0.483429   \n345  0.424113      1988       6.5       5.5   14      29  0.482759  0.493816   \n346  0.361421      1391       4.5       2.5    0      28  0.000000  0.434780   \n\n          rpi  rpiRank  \n0    0.545634     91.0  \n1    0.582893     50.0  \n2    0.564275     59.0  \n3    0.383747    329.0  \n4    0.387030    328.0  \n..        ...      ...  \n342  0.553292     74.0  \n343  0.550339     80.0  \n344  0.469341    211.0  \n345  0.484243    190.0  \n346  0.300920    347.0  \n\n[347 rows x 16 columns]",
      "text/html": "<div>\n<style scoped>\n    .dataframe tbody tr th:only-of-type {\n        vertical-align: middle;\n    }\n\n    .dataframe tbody tr th {\n        vertical-align: top;\n    }\n\n    .dataframe thead th {\n        text-align: right;\n    }\n</style>\n<table border=\"1\" class=\"dataframe\">\n  <thead>\n    <tr style=\"text-align: right;\">\n      <th></th>\n      <th>team_id</th>\n      <th>team_name</th>\n      <th>playedAgainst</th>\n      <th>owp</th>\n      <th>fgm</th>\n      <th>fga</th>\n      <th>fgPcg</th>\n      <th>ptsTotal</th>\n      <th>stlTotal</th>\n      <th>blkTotal</th>\n      <th>won</th>\n      <th>played</th>\n      <th>wp</th>\n      <th>oowp</th>\n      <th>rpi</th>\n      <th>rpiRank</th>\n    </tr>\n  </thead>\n  <tbody>\n    <tr>\n      <th>0</th>\n      <td>1102</td>\n      <td>Air Force</td>\n      <td>[1119, 1154, 1286, 1160, 1238, 1455, 1115, 141...</td>\n      <td>0.555456</td>\n      <td>683</td>\n      <td>1450</td>\n      <td>0.471034</td>\n      <td>1930</td>\n      <td>6.0</td>\n      <td>1.5</td>\n      <td>15</td>\n      <td>28</td>\n      <td>0.535714</td>\n      <td>0.535908</td>\n      <td>0.545634</td>\n      <td>91.0</td>\n    </tr>\n    <tr>\n      <th>1</th>\n      <td>1103</td>\n      <td>Akron</td>\n      <td>[1157, 1329, 1421, 1336, 1292, 1166, 1178, 111...</td>\n      <td>0.528784</td>\n      <td>814</td>\n      <td>1808</td>\n      <td>0.450221</td>\n      <td>2272</td>\n      <td>7.0</td>\n      <td>5.5</td>\n      <td>25</td>\n      <td>32</td>\n      <td>0.781250</td>\n      <td>0.492753</td>\n      <td>0.582893</td>\n      <td>50.0</td>\n    </tr>\n    <tr>\n      <th>2</th>\n      <td>1104</td>\n      <td>Alabama</td>\n      <td>[1355, 1333, 1437, 1149, 1249, 1153, 1173, 143...</td>\n      <td>0.548965</td>\n      <td>714</td>\n      <td>1666</td>\n      <td>0.428571</td>\n      <td>2003</td>\n      <td>8.0</td>\n      <td>4.5</td>\n      <td>20</td>\n      <td>32</td>\n      <td>0.625000</td>\n      <td>0.534171</td>\n      <td>0.564275</td>\n      <td>59.0</td>\n    </tr>\n    <tr>\n      <th>3</th>\n      <td>1105</td>\n      <td>Alabama A&amp;M</td>\n      <td>[1235, 1240, 1191, 1398, 1273, 1435, 1283, 111...</td>\n      <td>0.390389</td>\n      <td>636</td>\n      <td>1613</td>\n      <td>0.394296</td>\n      <td>1786</td>\n      <td>5.5</td>\n      <td>3.5</td>\n      <td>9</td>\n      <td>29</td>\n      <td>0.310345</td>\n      <td>0.443865</td>\n      <td>0.383747</td>\n      <td>329.0</td>\n    </tr>\n    <tr>\n      <th>4</th>\n      <td>1106</td>\n      <td>Alabama St</td>\n      <td>[1292, 1196, 1416, 1366, 1407, 1152, 1178, 140...</td>\n      <td>0.408966</td>\n      <td>705</td>\n      <td>1744</td>\n      <td>0.404243</td>\n      <td>1906</td>\n      <td>6.0</td>\n      <td>3.0</td>\n      <td>9</td>\n      <td>31</td>\n      <td>0.290323</td>\n      <td>0.439865</td>\n      <td>0.387030</td>\n      <td>328.0</td>\n    </tr>\n    <tr>\n      <th>...</th>\n      <td>...</td>\n      <td>...</td>\n      <td>...</td>\n      <td>...</td>\n      <td>...</td>\n      <td>...</td>\n      <td>...</td>\n      <td>...</td>\n      <td>...</td>\n      <td>...</td>\n      <td>...</td>\n      <td>...</td>\n      <td>...</td>\n      <td>...</td>\n      <td>...</td>\n      <td>...</td>\n    </tr>\n    <tr>\n      <th>342</th>\n      <td>1461</td>\n      <td>Wyoming</td>\n      <td>[1300, 1377, 1380, 1294, 1167, 1364, 1160, 122...</td>\n      <td>0.553638</td>\n      <td>611</td>\n      <td>1437</td>\n      <td>0.425191</td>\n      <td>1804</td>\n      <td>6.5</td>\n      <td>3.0</td>\n      <td>17</td>\n      <td>30</td>\n      <td>0.566667</td>\n      <td>0.539226</td>\n      <td>0.553292</td>\n      <td>74.0</td>\n    </tr>\n    <tr>\n      <th>343</th>\n      <td>1462</td>\n      <td>Xavier</td>\n      <td>[1192, 1139, 1352, 1334, 1180, 1179, 1345, 143...</td>\n      <td>0.556061</td>\n      <td>722</td>\n      <td>1582</td>\n      <td>0.456384</td>\n      <td>2021</td>\n      <td>5.5</td>\n      <td>3.0</td>\n      <td>17</td>\n      <td>31</td>\n      <td>0.548387</td>\n      <td>0.540849</td>\n      <td>0.550339</td>\n      <td>80.0</td>\n    </tr>\n    <tr>\n      <th>344</th>\n      <td>1463</td>\n      <td>Yale</td>\n      <td>[1357, 1386, 1191, 1138, 1442, 1436, 1119, 121...</td>\n      <td>0.490071</td>\n      <td>617</td>\n      <td>1500</td>\n      <td>0.411333</td>\n      <td>1863</td>\n      <td>6.0</td>\n      <td>3.0</td>\n      <td>12</td>\n      <td>29</td>\n      <td>0.413793</td>\n      <td>0.483429</td>\n      <td>0.469341</td>\n      <td>211.0</td>\n    </tr>\n    <tr>\n      <th>345</th>\n      <td>1464</td>\n      <td>Youngstown St</td>\n      <td>[1203, 1208, 1384, 1295, 1241, 1182, 1245, 113...</td>\n      <td>0.480199</td>\n      <td>693</td>\n      <td>1634</td>\n      <td>0.424113</td>\n      <td>1988</td>\n      <td>6.5</td>\n      <td>5.5</td>\n      <td>14</td>\n      <td>29</td>\n      <td>0.482759</td>\n      <td>0.493816</td>\n      <td>0.484243</td>\n      <td>190.0</td>\n    </tr>\n    <tr>\n      <th>346</th>\n      <td>1212</td>\n      <td>Grambling</td>\n      <td>[1156, 1123, 1275, 1222, 1403, 1333, 1120, 137...</td>\n      <td>0.384451</td>\n      <td>519</td>\n      <td>1436</td>\n      <td>0.361421</td>\n      <td>1391</td>\n      <td>4.5</td>\n      <td>2.5</td>\n      <td>0</td>\n      <td>28</td>\n      <td>0.000000</td>\n      <td>0.434780</td>\n      <td>0.300920</td>\n      <td>347.0</td>\n    </tr>\n  </tbody>\n</table>\n<p>347 rows × 16 columns</p>\n</div>"
     },
     "execution_count": 109,
     "metadata": {},
     "output_type": "execute_result"
    }
   ],
   "source": [
    "teams = pd.read_csv(\"total2013.csv\")\n",
    "owps = pd.read_csv(\"against2013.csv\")\n",
    "oowp = []\n",
    "for i, row1 in teams.iterrows():\n",
    "    owpSum = 0\n",
    "    lista = literal_eval(row1.playedAgainst)\n",
    "    for row2 in lista:\n",
    "        team = owps.loc[owps['team_id'] == row2]\n",
    "        owpSum = owpSum + team.iloc[0].owp\n",
    "    oowp.append(owpSum / len(lista))\n",
    "teams[\"oowp\"] = oowp\n",
    "teams.to_csv(\"total2013.csv\", index=False)\n",
    "teams"
   ],
   "metadata": {
    "collapsed": false
   }
  },
  {
   "cell_type": "code",
   "execution_count": 110,
   "outputs": [
    {
     "data": {
      "text/plain": "     team_id      team_name  \\\n0       1101    Abilene Chr   \n1       1102      Air Force   \n2       1103          Akron   \n3       1104        Alabama   \n4       1105    Alabama A&M   \n..       ...            ...   \n346     1460      Wright St   \n347     1461        Wyoming   \n348     1462         Xavier   \n349     1463           Yale   \n350     1464  Youngstown St   \n\n                                         playedAgainst       owp  fgm   fga  \\\n0    [1182, 1382, 1268, 1234, 1395, 1462, 1406, 130...  0.460338  427  1053   \n1    [1119, 1440, 1238, 1115, 1350, 1160, 1377, 141...  0.492970  618  1451   \n2    [1157, 1388, 1292, 1156, 1126, 1331, 1178, 133...  0.507936  777  1799   \n3    [1328, 1403, 1209, 1181, 1180, 1316, 1378, 114...  0.612793  704  1606   \n4    [1307, 1444, 1184, 1240, 1398, 1325, 1283, 141...  0.418626  603  1487   \n..                                                 ...       ...  ...   ...   \n346  [1207, 1177, 1223, 1375, 1108, 1441, 1287, 129...  0.448458  710  1580   \n347  [1404, 1160, 1117, 1238, 1377, 1326, 1286, 137...  0.511376  654  1386   \n348  [1205, 1397, 1287, 1275, 1101, 1234, 1397, 142...  0.564464  846  1795   \n349  [1148, 1163, 1353, 1357, 1273, 1248, 1216, 113...  0.500480  564  1372   \n350  [1244, 1198, 1184, 1269, 1245, 1122, 1352, 128...  0.471631  736  1621   \n\n        fgPcg  ptsTotal  stlTotal  blkTotal  won  played        wp      oowp  \\\n0    0.405508      1326       6.0       1.5    2      21  0.095238  0.474180   \n1    0.425913      1808       5.5       3.0   10      28  0.357143  0.515688   \n2    0.431907      2241       6.5       4.0   21      33  0.636364  0.513193   \n3    0.438356      2068       6.5       4.0   12      31  0.387097  0.544920   \n4    0.405514      1787       6.0       4.0   12      28  0.428571  0.446720   \n..        ...       ...       ...       ...  ...     ...       ...       ...   \n346  0.449367      2127       6.5       3.0   18      32  0.562500  0.493479   \n347  0.471861      1939       4.5       4.0   16      30  0.533333  0.517649   \n348  0.471309      2383       6.0       3.0   21      33  0.636364  0.555836   \n349  0.411079      1777       6.0       4.5   14      27  0.518519  0.479360   \n350  0.454041      2167       6.5       2.5   12      29  0.413793  0.496066   \n\n          rpi  rpiRank  \n0    0.372523    339.0  \n1    0.464693    231.0  \n2    0.541357     98.0  \n3    0.539401    100.0  \n4    0.428136    289.0  \n..        ...      ...  \n346  0.488224    181.0  \n347  0.518434    128.0  \n348  0.580282     51.0  \n349  0.499710    164.0  \n350  0.463280    237.0  \n\n[351 rows x 16 columns]",
      "text/html": "<div>\n<style scoped>\n    .dataframe tbody tr th:only-of-type {\n        vertical-align: middle;\n    }\n\n    .dataframe tbody tr th {\n        vertical-align: top;\n    }\n\n    .dataframe thead th {\n        text-align: right;\n    }\n</style>\n<table border=\"1\" class=\"dataframe\">\n  <thead>\n    <tr style=\"text-align: right;\">\n      <th></th>\n      <th>team_id</th>\n      <th>team_name</th>\n      <th>playedAgainst</th>\n      <th>owp</th>\n      <th>fgm</th>\n      <th>fga</th>\n      <th>fgPcg</th>\n      <th>ptsTotal</th>\n      <th>stlTotal</th>\n      <th>blkTotal</th>\n      <th>won</th>\n      <th>played</th>\n      <th>wp</th>\n      <th>oowp</th>\n      <th>rpi</th>\n      <th>rpiRank</th>\n    </tr>\n  </thead>\n  <tbody>\n    <tr>\n      <th>0</th>\n      <td>1101</td>\n      <td>Abilene Chr</td>\n      <td>[1182, 1382, 1268, 1234, 1395, 1462, 1406, 130...</td>\n      <td>0.460338</td>\n      <td>427</td>\n      <td>1053</td>\n      <td>0.405508</td>\n      <td>1326</td>\n      <td>6.0</td>\n      <td>1.5</td>\n      <td>2</td>\n      <td>21</td>\n      <td>0.095238</td>\n      <td>0.474180</td>\n      <td>0.372523</td>\n      <td>339.0</td>\n    </tr>\n    <tr>\n      <th>1</th>\n      <td>1102</td>\n      <td>Air Force</td>\n      <td>[1119, 1440, 1238, 1115, 1350, 1160, 1377, 141...</td>\n      <td>0.492970</td>\n      <td>618</td>\n      <td>1451</td>\n      <td>0.425913</td>\n      <td>1808</td>\n      <td>5.5</td>\n      <td>3.0</td>\n      <td>10</td>\n      <td>28</td>\n      <td>0.357143</td>\n      <td>0.515688</td>\n      <td>0.464693</td>\n      <td>231.0</td>\n    </tr>\n    <tr>\n      <th>2</th>\n      <td>1103</td>\n      <td>Akron</td>\n      <td>[1157, 1388, 1292, 1156, 1126, 1331, 1178, 133...</td>\n      <td>0.507936</td>\n      <td>777</td>\n      <td>1799</td>\n      <td>0.431907</td>\n      <td>2241</td>\n      <td>6.5</td>\n      <td>4.0</td>\n      <td>21</td>\n      <td>33</td>\n      <td>0.636364</td>\n      <td>0.513193</td>\n      <td>0.541357</td>\n      <td>98.0</td>\n    </tr>\n    <tr>\n      <th>3</th>\n      <td>1104</td>\n      <td>Alabama</td>\n      <td>[1328, 1403, 1209, 1181, 1180, 1316, 1378, 114...</td>\n      <td>0.612793</td>\n      <td>704</td>\n      <td>1606</td>\n      <td>0.438356</td>\n      <td>2068</td>\n      <td>6.5</td>\n      <td>4.0</td>\n      <td>12</td>\n      <td>31</td>\n      <td>0.387097</td>\n      <td>0.544920</td>\n      <td>0.539401</td>\n      <td>100.0</td>\n    </tr>\n    <tr>\n      <th>4</th>\n      <td>1105</td>\n      <td>Alabama A&amp;M</td>\n      <td>[1307, 1444, 1184, 1240, 1398, 1325, 1283, 141...</td>\n      <td>0.418626</td>\n      <td>603</td>\n      <td>1487</td>\n      <td>0.405514</td>\n      <td>1787</td>\n      <td>6.0</td>\n      <td>4.0</td>\n      <td>12</td>\n      <td>28</td>\n      <td>0.428571</td>\n      <td>0.446720</td>\n      <td>0.428136</td>\n      <td>289.0</td>\n    </tr>\n    <tr>\n      <th>...</th>\n      <td>...</td>\n      <td>...</td>\n      <td>...</td>\n      <td>...</td>\n      <td>...</td>\n      <td>...</td>\n      <td>...</td>\n      <td>...</td>\n      <td>...</td>\n      <td>...</td>\n      <td>...</td>\n      <td>...</td>\n      <td>...</td>\n      <td>...</td>\n      <td>...</td>\n      <td>...</td>\n    </tr>\n    <tr>\n      <th>346</th>\n      <td>1460</td>\n      <td>Wright St</td>\n      <td>[1207, 1177, 1223, 1375, 1108, 1441, 1287, 129...</td>\n      <td>0.448458</td>\n      <td>710</td>\n      <td>1580</td>\n      <td>0.449367</td>\n      <td>2127</td>\n      <td>6.5</td>\n      <td>3.0</td>\n      <td>18</td>\n      <td>32</td>\n      <td>0.562500</td>\n      <td>0.493479</td>\n      <td>0.488224</td>\n      <td>181.0</td>\n    </tr>\n    <tr>\n      <th>347</th>\n      <td>1461</td>\n      <td>Wyoming</td>\n      <td>[1404, 1160, 1117, 1238, 1377, 1326, 1286, 137...</td>\n      <td>0.511376</td>\n      <td>654</td>\n      <td>1386</td>\n      <td>0.471861</td>\n      <td>1939</td>\n      <td>4.5</td>\n      <td>4.0</td>\n      <td>16</td>\n      <td>30</td>\n      <td>0.533333</td>\n      <td>0.517649</td>\n      <td>0.518434</td>\n      <td>128.0</td>\n    </tr>\n    <tr>\n      <th>348</th>\n      <td>1462</td>\n      <td>Xavier</td>\n      <td>[1205, 1397, 1287, 1275, 1101, 1234, 1397, 142...</td>\n      <td>0.564464</td>\n      <td>846</td>\n      <td>1795</td>\n      <td>0.471309</td>\n      <td>2383</td>\n      <td>6.0</td>\n      <td>3.0</td>\n      <td>21</td>\n      <td>33</td>\n      <td>0.636364</td>\n      <td>0.555836</td>\n      <td>0.580282</td>\n      <td>51.0</td>\n    </tr>\n    <tr>\n      <th>349</th>\n      <td>1463</td>\n      <td>Yale</td>\n      <td>[1148, 1163, 1353, 1357, 1273, 1248, 1216, 113...</td>\n      <td>0.500480</td>\n      <td>564</td>\n      <td>1372</td>\n      <td>0.411079</td>\n      <td>1777</td>\n      <td>6.0</td>\n      <td>4.5</td>\n      <td>14</td>\n      <td>27</td>\n      <td>0.518519</td>\n      <td>0.479360</td>\n      <td>0.499710</td>\n      <td>164.0</td>\n    </tr>\n    <tr>\n      <th>350</th>\n      <td>1464</td>\n      <td>Youngstown St</td>\n      <td>[1244, 1198, 1184, 1269, 1245, 1122, 1352, 128...</td>\n      <td>0.471631</td>\n      <td>736</td>\n      <td>1621</td>\n      <td>0.454041</td>\n      <td>2167</td>\n      <td>6.5</td>\n      <td>2.5</td>\n      <td>12</td>\n      <td>29</td>\n      <td>0.413793</td>\n      <td>0.496066</td>\n      <td>0.463280</td>\n      <td>237.0</td>\n    </tr>\n  </tbody>\n</table>\n<p>351 rows × 16 columns</p>\n</div>"
     },
     "execution_count": 110,
     "metadata": {},
     "output_type": "execute_result"
    }
   ],
   "source": [
    "teams = pd.read_csv(\"total2014.csv\")\n",
    "owps = pd.read_csv(\"against2014.csv\")\n",
    "oowp = []\n",
    "for i, row1 in teams.iterrows():\n",
    "    owpSum = 0\n",
    "    lista = literal_eval(row1.playedAgainst)\n",
    "    for row2 in lista:\n",
    "        team = owps.loc[owps['team_id'] == row2]\n",
    "        owpSum = owpSum + team.iloc[0].owp\n",
    "    oowp.append(owpSum / len(lista))\n",
    "teams[\"oowp\"] = oowp\n",
    "teams.to_csv(\"total2014.csv\", index=False)\n",
    "teams"
   ],
   "metadata": {
    "collapsed": false
   }
  },
  {
   "cell_type": "code",
   "execution_count": null,
   "outputs": [],
   "source": [
    "teams = pd.read_csv(\"against2011.csv\")\n",
    "\n",
    "tourney_results = pd.read_csv(\"tourney_detailed_results.csv\")\n",
    "tourney_results = tourney_results[(tourney_results[\"season\"] == 2011)]\n",
    "regular_results = pd.read_csv(\"regular_season_detailed_results.csv\")\n",
    "regular_results = regular_results[(regular_results[\"season\"] == 2011)]\n",
    "training_set = regular_results.append(tourney_results)\n",
    "teams.reset_index()\n",
    "training_set.reset_index()\n",
    "\n",
    "fgm = []\n",
    "fga = []\n",
    "fgPcg = []\n",
    "for i, row1 in teams.iterrows():\n",
    "    sumFgm = 0\n",
    "    sumFga = 0\n",
    "    for j, row2 in training_set.iterrows():\n",
    "        if row1['team_id'] == row2['wteam']:\n",
    "            sumFgm = sumFgm + row2['wfgm']\n",
    "            sumFga = sumFga + row2['wfga']\n",
    "        if row1['team_id'] == row2['lteam']:\n",
    "            sumFgm = sumFgm + row2['lfgm']\n",
    "            sumFga = sumFga + row2['lfga']\n",
    "    fgm.append(sumFgm)\n",
    "    fga.append(sumFga)\n",
    "    fgPcg.append(sumFgm / sumFga)\n",
    "teams[\"fgm\"] = fgm\n",
    "teams[\"fga\"] = fga\n",
    "teams[\"fgPcg\"] = fgPcg\n",
    "\n",
    "print(\"Fgpcgdone\")\n",
    "teams.reset_index()\n",
    "training_set.reset_index()\n",
    "ptsTotal = []\n",
    "stlTotal = []\n",
    "blkTotal = []\n",
    "for i, row1 in teams.iterrows():\n",
    "    sumPts = 0\n",
    "    sumStl = 0\n",
    "    sumBlk = 0\n",
    "    gamesPlayed = 0\n",
    "    for j, row2 in training_set.iterrows():\n",
    "        if row1['team_id'] == row2['wteam']:\n",
    "            sumPts = sumPts + row2['wscore']\n",
    "            sumStl = sumStl + row2['wstl']\n",
    "            sumBlk = sumBlk + row2['wblk']\n",
    "            gamesPlayed = gamesPlayed + 1\n",
    "        if row1['team_id'] == row2['lteam']:\n",
    "            sumPts = sumPts + row2['lscore']\n",
    "            sumStl = sumStl + row2['lstl']\n",
    "            sumBlk = sumBlk + row2['lblk']\n",
    "            gamesPlayed = gamesPlayed + 1\n",
    "    ptsTotal.append(sumPts)\n",
    "    stlTotal.append(round(sumStl / gamesPlayed * 2) / 2)\n",
    "    blkTotal.append(round(sumBlk / gamesPlayed * 2) / 2)\n",
    "teams[\"ptsTotal\"] = ptsTotal\n",
    "teams[\"stlTotal\"] = stlTotal\n",
    "teams[\"blkTotal\"] = blkTotal\n",
    "teams.reset_index()\n",
    "training_set.reset_index()\n",
    "won = []\n",
    "played = []\n",
    "wp = []\n",
    "print(\"ptsstlblk\")\n",
    "for i, row1 in teams.iterrows():\n",
    "    wonCnt = 0\n",
    "    playedCnt = 0\n",
    "    for j, row2 in training_set.iterrows():\n",
    "        if row1['team_id'] == row2['wteam']:\n",
    "            wonCnt = wonCnt + 1\n",
    "            playedCnt = playedCnt + 1\n",
    "        if row1['team_id'] == row2['lteam']:\n",
    "            playedCnt = playedCnt + 1\n",
    "    won.append(wonCnt)\n",
    "    played.append(playedCnt)\n",
    "    wp.append(wonCnt / playedCnt)\n",
    "teams[\"won\"] = won\n",
    "teams[\"played\"] = played\n",
    "teams[\"wp\"] = wp\n",
    "teams.to_csv(\"total2011.csv\", index=False)\n",
    "teams"
   ],
   "metadata": {
    "collapsed": false
   }
  },
  {
   "cell_type": "code",
   "execution_count": 106,
   "outputs": [
    {
     "name": "stderr",
     "output_type": "stream",
     "text": [
      "C:\\Users\\Zvonimir Ravlic\\AppData\\Local\\Temp\\ipykernel_12476\\762452252.py:7: FutureWarning: The frame.append method is deprecated and will be removed from pandas in a future version. Use pandas.concat instead.\n",
      "  training_set = regular_results.append(tourney_results)\n"
     ]
    },
    {
     "name": "stdout",
     "output_type": "stream",
     "text": [
      "Fgpcgdone\n",
      "ptsstlblk\n"
     ]
    },
    {
     "data": {
      "text/plain": "     team_id      team_name  \\\n0       1102      Air Force   \n1       1103          Akron   \n2       1104        Alabama   \n3       1105    Alabama A&M   \n4       1106     Alabama St   \n..       ...            ...   \n340     1460      Wright St   \n341     1461        Wyoming   \n342     1462         Xavier   \n343     1463           Yale   \n344     1464  Youngstown St   \n\n                                         playedAgainst       owp  fgm   fga  \\\n0    [1119, 1440, 1160, 1179, 1460, 1115, 1271, 121...  0.552012  564  1269   \n1    [1280, 1434, 1182, 1178, 1452, 1292, 1156, 111...  0.556858  803  1741   \n2    [1316, 1324, 1268, 1455, 1345, 1105, 1433, 120...  0.581899  778  1722   \n3    [1408, 1104, 1375, 1276, 1210, 1398, 1412, 123...  0.385437  564  1401   \n4    [1267, 1153, 1322, 1240, 1191, 1198, 1372, 138...  0.396064  594  1593   \n..                                                 ...       ...  ...   ...   \n340  [1326, 1238, 1196, 1316, 1150, 1156, 1464, 110...  0.493380  600  1512   \n341  [1294, 1453, 1377, 1340, 1271, 1256, 1430, 113...  0.529698  623  1397   \n342  [1288, 1236, 1275, 1208, 1435, 1345, 1139, 115...  0.588522  899  1985   \n343  [1148, 1346, 1371, 1119, 1216, 1436, 1357, 113...  0.466069  582  1370   \n344  [1359, 1415, 1336, 1384, 1178, 1460, 1138, 140...  0.483435  690  1604   \n\n        fgPcg  ptsTotal  stlTotal  blkTotal  won  played        wp  \n0    0.444444      1638       6.5       3.0   11      27  0.407407  \n1    0.461229      2287       7.5       4.5   21      32  0.656250  \n2    0.451800      2135       7.0       4.0   21      33  0.636364  \n3    0.402570      1589       6.0       4.0    5      26  0.192308  \n4    0.372881      1674       7.5       3.0   10      29  0.344828  \n..        ...       ...       ...       ...  ...     ...       ...  \n340  0.396825      1777       6.5       1.5   12      31  0.387097  \n341  0.445956      1809       6.5       3.5   18      29  0.620690  \n342  0.452897      2543       6.0       4.0   23      36  0.638889  \n343  0.424818      1733       5.0       3.5   17      26  0.653846  \n344  0.430175      1946       6.5       5.5   14      29  0.482759  \n\n[345 rows x 13 columns]",
      "text/html": "<div>\n<style scoped>\n    .dataframe tbody tr th:only-of-type {\n        vertical-align: middle;\n    }\n\n    .dataframe tbody tr th {\n        vertical-align: top;\n    }\n\n    .dataframe thead th {\n        text-align: right;\n    }\n</style>\n<table border=\"1\" class=\"dataframe\">\n  <thead>\n    <tr style=\"text-align: right;\">\n      <th></th>\n      <th>team_id</th>\n      <th>team_name</th>\n      <th>playedAgainst</th>\n      <th>owp</th>\n      <th>fgm</th>\n      <th>fga</th>\n      <th>fgPcg</th>\n      <th>ptsTotal</th>\n      <th>stlTotal</th>\n      <th>blkTotal</th>\n      <th>won</th>\n      <th>played</th>\n      <th>wp</th>\n    </tr>\n  </thead>\n  <tbody>\n    <tr>\n      <th>0</th>\n      <td>1102</td>\n      <td>Air Force</td>\n      <td>[1119, 1440, 1160, 1179, 1460, 1115, 1271, 121...</td>\n      <td>0.552012</td>\n      <td>564</td>\n      <td>1269</td>\n      <td>0.444444</td>\n      <td>1638</td>\n      <td>6.5</td>\n      <td>3.0</td>\n      <td>11</td>\n      <td>27</td>\n      <td>0.407407</td>\n    </tr>\n    <tr>\n      <th>1</th>\n      <td>1103</td>\n      <td>Akron</td>\n      <td>[1280, 1434, 1182, 1178, 1452, 1292, 1156, 111...</td>\n      <td>0.556858</td>\n      <td>803</td>\n      <td>1741</td>\n      <td>0.461229</td>\n      <td>2287</td>\n      <td>7.5</td>\n      <td>4.5</td>\n      <td>21</td>\n      <td>32</td>\n      <td>0.656250</td>\n    </tr>\n    <tr>\n      <th>2</th>\n      <td>1104</td>\n      <td>Alabama</td>\n      <td>[1316, 1324, 1268, 1455, 1345, 1105, 1433, 120...</td>\n      <td>0.581899</td>\n      <td>778</td>\n      <td>1722</td>\n      <td>0.451800</td>\n      <td>2135</td>\n      <td>7.0</td>\n      <td>4.0</td>\n      <td>21</td>\n      <td>33</td>\n      <td>0.636364</td>\n    </tr>\n    <tr>\n      <th>3</th>\n      <td>1105</td>\n      <td>Alabama A&amp;M</td>\n      <td>[1408, 1104, 1375, 1276, 1210, 1398, 1412, 123...</td>\n      <td>0.385437</td>\n      <td>564</td>\n      <td>1401</td>\n      <td>0.402570</td>\n      <td>1589</td>\n      <td>6.0</td>\n      <td>4.0</td>\n      <td>5</td>\n      <td>26</td>\n      <td>0.192308</td>\n    </tr>\n    <tr>\n      <th>4</th>\n      <td>1106</td>\n      <td>Alabama St</td>\n      <td>[1267, 1153, 1322, 1240, 1191, 1198, 1372, 138...</td>\n      <td>0.396064</td>\n      <td>594</td>\n      <td>1593</td>\n      <td>0.372881</td>\n      <td>1674</td>\n      <td>7.5</td>\n      <td>3.0</td>\n      <td>10</td>\n      <td>29</td>\n      <td>0.344828</td>\n    </tr>\n    <tr>\n      <th>...</th>\n      <td>...</td>\n      <td>...</td>\n      <td>...</td>\n      <td>...</td>\n      <td>...</td>\n      <td>...</td>\n      <td>...</td>\n      <td>...</td>\n      <td>...</td>\n      <td>...</td>\n      <td>...</td>\n      <td>...</td>\n      <td>...</td>\n    </tr>\n    <tr>\n      <th>340</th>\n      <td>1460</td>\n      <td>Wright St</td>\n      <td>[1326, 1238, 1196, 1316, 1150, 1156, 1464, 110...</td>\n      <td>0.493380</td>\n      <td>600</td>\n      <td>1512</td>\n      <td>0.396825</td>\n      <td>1777</td>\n      <td>6.5</td>\n      <td>1.5</td>\n      <td>12</td>\n      <td>31</td>\n      <td>0.387097</td>\n    </tr>\n    <tr>\n      <th>341</th>\n      <td>1461</td>\n      <td>Wyoming</td>\n      <td>[1294, 1453, 1377, 1340, 1271, 1256, 1430, 113...</td>\n      <td>0.529698</td>\n      <td>623</td>\n      <td>1397</td>\n      <td>0.445956</td>\n      <td>1809</td>\n      <td>6.5</td>\n      <td>3.5</td>\n      <td>18</td>\n      <td>29</td>\n      <td>0.620690</td>\n    </tr>\n    <tr>\n      <th>342</th>\n      <td>1462</td>\n      <td>Xavier</td>\n      <td>[1288, 1236, 1275, 1208, 1435, 1345, 1139, 115...</td>\n      <td>0.588522</td>\n      <td>899</td>\n      <td>1985</td>\n      <td>0.452897</td>\n      <td>2543</td>\n      <td>6.0</td>\n      <td>4.0</td>\n      <td>23</td>\n      <td>36</td>\n      <td>0.638889</td>\n    </tr>\n    <tr>\n      <th>343</th>\n      <td>1463</td>\n      <td>Yale</td>\n      <td>[1148, 1346, 1371, 1119, 1216, 1436, 1357, 113...</td>\n      <td>0.466069</td>\n      <td>582</td>\n      <td>1370</td>\n      <td>0.424818</td>\n      <td>1733</td>\n      <td>5.0</td>\n      <td>3.5</td>\n      <td>17</td>\n      <td>26</td>\n      <td>0.653846</td>\n    </tr>\n    <tr>\n      <th>344</th>\n      <td>1464</td>\n      <td>Youngstown St</td>\n      <td>[1359, 1415, 1336, 1384, 1178, 1460, 1138, 140...</td>\n      <td>0.483435</td>\n      <td>690</td>\n      <td>1604</td>\n      <td>0.430175</td>\n      <td>1946</td>\n      <td>6.5</td>\n      <td>5.5</td>\n      <td>14</td>\n      <td>29</td>\n      <td>0.482759</td>\n    </tr>\n  </tbody>\n</table>\n<p>345 rows × 13 columns</p>\n</div>"
     },
     "execution_count": 106,
     "metadata": {},
     "output_type": "execute_result"
    }
   ],
   "source": [
    "teams = pd.read_csv(\"against2012.csv\")\n",
    "\n",
    "tourney_results = pd.read_csv(\"tourney_detailed_results.csv\")\n",
    "tourney_results = tourney_results[(tourney_results[\"season\"] == 2012)]\n",
    "regular_results = pd.read_csv(\"regular_season_detailed_results.csv\")\n",
    "regular_results = regular_results[(regular_results[\"season\"] == 2012)]\n",
    "training_set = regular_results.append(tourney_results)\n",
    "teams.reset_index()\n",
    "training_set.reset_index()\n",
    "\n",
    "fgm = []\n",
    "fga = []\n",
    "fgPcg = []\n",
    "for i, row1 in teams.iterrows():\n",
    "    sumFgm = 0\n",
    "    sumFga = 0\n",
    "    for j, row2 in training_set.iterrows():\n",
    "        if row1['team_id'] == row2['wteam']:\n",
    "            sumFgm = sumFgm + row2['wfgm']\n",
    "            sumFga = sumFga + row2['wfga']\n",
    "        if row1['team_id'] == row2['lteam']:\n",
    "            sumFgm = sumFgm + row2['lfgm']\n",
    "            sumFga = sumFga + row2['lfga']\n",
    "    fgm.append(sumFgm)\n",
    "    fga.append(sumFga)\n",
    "    fgPcg.append(sumFgm / sumFga)\n",
    "teams[\"fgm\"] = fgm\n",
    "teams[\"fga\"] = fga\n",
    "teams[\"fgPcg\"] = fgPcg\n",
    "\n",
    "print(\"Fgpcgdone\")\n",
    "teams.reset_index()\n",
    "training_set.reset_index()\n",
    "ptsTotal = []\n",
    "stlTotal = []\n",
    "blkTotal = []\n",
    "for i, row1 in teams.iterrows():\n",
    "    sumPts = 0\n",
    "    sumStl = 0\n",
    "    sumBlk = 0\n",
    "    gamesPlayed = 0\n",
    "    for j, row2 in training_set.iterrows():\n",
    "        if row1['team_id'] == row2['wteam']:\n",
    "            sumPts = sumPts + row2['wscore']\n",
    "            sumStl = sumStl + row2['wstl']\n",
    "            sumBlk = sumBlk + row2['wblk']\n",
    "            gamesPlayed = gamesPlayed + 1\n",
    "        if row1['team_id'] == row2['lteam']:\n",
    "            sumPts = sumPts + row2['lscore']\n",
    "            sumStl = sumStl + row2['lstl']\n",
    "            sumBlk = sumBlk + row2['lblk']\n",
    "            gamesPlayed = gamesPlayed + 1\n",
    "    ptsTotal.append(sumPts)\n",
    "    stlTotal.append(round(sumStl / gamesPlayed * 2) / 2)\n",
    "    blkTotal.append(round(sumBlk / gamesPlayed * 2) / 2)\n",
    "teams[\"ptsTotal\"] = ptsTotal\n",
    "teams[\"stlTotal\"] = stlTotal\n",
    "teams[\"blkTotal\"] = blkTotal\n",
    "teams.reset_index()\n",
    "training_set.reset_index()\n",
    "won = []\n",
    "played = []\n",
    "wp = []\n",
    "print(\"ptsstlblk\")\n",
    "for i, row1 in teams.iterrows():\n",
    "    wonCnt = 0\n",
    "    playedCnt = 0\n",
    "    for j, row2 in training_set.iterrows():\n",
    "        if row1['team_id'] == row2['wteam']:\n",
    "            wonCnt = wonCnt + 1\n",
    "            playedCnt = playedCnt + 1\n",
    "        if row1['team_id'] == row2['lteam']:\n",
    "            playedCnt = playedCnt + 1\n",
    "    won.append(wonCnt)\n",
    "    played.append(playedCnt)\n",
    "    wp.append(wonCnt / playedCnt)\n",
    "teams[\"won\"] = won\n",
    "teams[\"played\"] = played\n",
    "teams[\"wp\"] = wp\n",
    "teams.to_csv(\"total2012.csv\", index=False)\n",
    "teams"
   ],
   "metadata": {
    "collapsed": false
   }
  },
  {
   "cell_type": "code",
   "execution_count": null,
   "outputs": [],
   "source": [
    "teams = pd.read_csv(\"against2013.csv\")\n",
    "\n",
    "tourney_results = pd.read_csv(\"tourney_detailed_results.csv\")\n",
    "tourney_results = tourney_results[(tourney_results[\"season\"] == 2013)]\n",
    "regular_results = pd.read_csv(\"regular_season_detailed_results.csv\")\n",
    "regular_results = regular_results[(regular_results[\"season\"] == 2013)]\n",
    "training_set = regular_results.append(tourney_results)\n",
    "teams.reset_index()\n",
    "training_set.reset_index()\n",
    "\n",
    "fgm = []\n",
    "fga = []\n",
    "fgPcg = []\n",
    "for i, row1 in teams.iterrows():\n",
    "    sumFgm = 0\n",
    "    sumFga = 0\n",
    "    for j, row2 in training_set.iterrows():\n",
    "        if row1['team_id'] == row2['wteam']:\n",
    "            sumFgm = sumFgm + row2['wfgm']\n",
    "            sumFga = sumFga + row2['wfga']\n",
    "        if row1['team_id'] == row2['lteam']:\n",
    "            sumFgm = sumFgm + row2['lfgm']\n",
    "            sumFga = sumFga + row2['lfga']\n",
    "    fgm.append(sumFgm)\n",
    "    fga.append(sumFga)\n",
    "    fgPcg.append(sumFgm / sumFga)\n",
    "teams[\"fgm\"] = fgm\n",
    "teams[\"fga\"] = fga\n",
    "teams[\"fgPcg\"] = fgPcg\n",
    "\n",
    "print(\"Fgpcgdone\")\n",
    "teams.reset_index()\n",
    "training_set.reset_index()\n",
    "ptsTotal = []\n",
    "stlTotal = []\n",
    "blkTotal = []\n",
    "for i, row1 in teams.iterrows():\n",
    "    sumPts = 0\n",
    "    sumStl = 0\n",
    "    sumBlk = 0\n",
    "    gamesPlayed = 0\n",
    "    for j, row2 in training_set.iterrows():\n",
    "        if row1['team_id'] == row2['wteam']:\n",
    "            sumPts = sumPts + row2['wscore']\n",
    "            sumStl = sumStl + row2['wstl']\n",
    "            sumBlk = sumBlk + row2['wblk']\n",
    "            gamesPlayed = gamesPlayed + 1\n",
    "        if row1['team_id'] == row2['lteam']:\n",
    "            sumPts = sumPts + row2['lscore']\n",
    "            sumStl = sumStl + row2['lstl']\n",
    "            sumBlk = sumBlk + row2['lblk']\n",
    "            gamesPlayed = gamesPlayed + 1\n",
    "    ptsTotal.append(sumPts)\n",
    "    stlTotal.append(round(sumStl / gamesPlayed * 2) / 2)\n",
    "    blkTotal.append(round(sumBlk / gamesPlayed * 2) / 2)\n",
    "teams[\"ptsTotal\"] = ptsTotal\n",
    "teams[\"stlTotal\"] = stlTotal\n",
    "teams[\"blkTotal\"] = blkTotal\n",
    "teams.reset_index()\n",
    "training_set.reset_index()\n",
    "won = []\n",
    "played = []\n",
    "wp = []\n",
    "print(\"ptsstlblk\")\n",
    "for i, row1 in teams.iterrows():\n",
    "    wonCnt = 0\n",
    "    playedCnt = 0\n",
    "    for j, row2 in training_set.iterrows():\n",
    "        if row1['team_id'] == row2['wteam']:\n",
    "            wonCnt = wonCnt + 1\n",
    "            playedCnt = playedCnt + 1\n",
    "        if row1['team_id'] == row2['lteam']:\n",
    "            playedCnt = playedCnt + 1\n",
    "    won.append(wonCnt)\n",
    "    played.append(playedCnt)\n",
    "    wp.append(wonCnt / playedCnt)\n",
    "teams[\"won\"] = won\n",
    "teams[\"played\"] = played\n",
    "teams[\"wp\"] = wp\n",
    "teams.to_csv(\"total2013.csv\", index=False)\n",
    "teams\n"
   ],
   "metadata": {
    "collapsed": false
   }
  },
  {
   "cell_type": "code",
   "execution_count": null,
   "outputs": [],
   "source": [
    "teams = pd.read_csv(\"against2014.csv\")\n",
    "\n",
    "regular_results = pd.read_csv(\"regular_season_detailed_results.csv\")\n",
    "regular_results = regular_results[(regular_results[\"season\"] == 2014)]\n",
    "training_set = regular_results\n",
    "teams.reset_index()\n",
    "training_set.reset_index()\n",
    "\n",
    "fgm = []\n",
    "fga = []\n",
    "fgPcg = []\n",
    "for i, row1 in teams.iterrows():\n",
    "    sumFgm = 0\n",
    "    sumFga = 0\n",
    "    for j, row2 in training_set.iterrows():\n",
    "        if row1['team_id'] == row2['wteam']:\n",
    "            sumFgm = sumFgm + row2['wfgm']\n",
    "            sumFga = sumFga + row2['wfga']\n",
    "        if row1['team_id'] == row2['lteam']:\n",
    "            sumFgm = sumFgm + row2['lfgm']\n",
    "            sumFga = sumFga + row2['lfga']\n",
    "    fgm.append(sumFgm)\n",
    "    fga.append(sumFga)\n",
    "    fgPcg.append(sumFgm / sumFga)\n",
    "teams[\"fgm\"] = fgm\n",
    "teams[\"fga\"] = fga\n",
    "teams[\"fgPcg\"] = fgPcg\n",
    "\n",
    "print(\"Fgpcgdone\")\n",
    "teams.reset_index()\n",
    "training_set.reset_index()\n",
    "ptsTotal = []\n",
    "stlTotal = []\n",
    "blkTotal = []\n",
    "for i, row1 in teams.iterrows():\n",
    "    sumPts = 0\n",
    "    sumStl = 0\n",
    "    sumBlk = 0\n",
    "    gamesPlayed = 0\n",
    "    for j, row2 in training_set.iterrows():\n",
    "        if row1['team_id'] == row2['wteam']:\n",
    "            sumPts = sumPts + row2['wscore']\n",
    "            sumStl = sumStl + row2['wstl']\n",
    "            sumBlk = sumBlk + row2['wblk']\n",
    "            gamesPlayed = gamesPlayed + 1\n",
    "        if row1['team_id'] == row2['lteam']:\n",
    "            sumPts = sumPts + row2['lscore']\n",
    "            sumStl = sumStl + row2['lstl']\n",
    "            sumBlk = sumBlk + row2['lblk']\n",
    "            gamesPlayed = gamesPlayed + 1\n",
    "    ptsTotal.append(sumPts)\n",
    "    stlTotal.append(round(sumStl / gamesPlayed * 2) / 2)\n",
    "    blkTotal.append(round(sumBlk / gamesPlayed * 2) / 2)\n",
    "teams[\"ptsTotal\"] = ptsTotal\n",
    "teams[\"stlTotal\"] = stlTotal\n",
    "teams[\"blkTotal\"] = blkTotal\n",
    "teams.reset_index()\n",
    "training_set.reset_index()\n",
    "won = []\n",
    "played = []\n",
    "wp = []\n",
    "print(\"ptsstlblk\")\n",
    "for i, row1 in teams.iterrows():\n",
    "    wonCnt = 0\n",
    "    playedCnt = 0\n",
    "    for j, row2 in training_set.iterrows():\n",
    "        if row1['team_id'] == row2['wteam']:\n",
    "            wonCnt = wonCnt + 1\n",
    "            playedCnt = playedCnt + 1\n",
    "        if row1['team_id'] == row2['lteam']:\n",
    "            playedCnt = playedCnt + 1\n",
    "    won.append(wonCnt)\n",
    "    played.append(playedCnt)\n",
    "    wp.append(wonCnt / playedCnt)\n",
    "teams[\"won\"] = won\n",
    "teams[\"played\"] = played\n",
    "teams[\"wp\"] = wp\n",
    "teams.to_csv(\"total2014.csv\", index=False)\n",
    "teams"
   ],
   "metadata": {
    "collapsed": false
   }
  },
  {
   "cell_type": "markdown",
   "source": [
    "teams = pd.read_csv(\"oowp2011.csv\")\n",
    "teams2 = pd.read_csv(\"total2011.csv\")\n",
    "teams2[\"oowp\"] = teams[\"oowp\"]\n",
    "teams2.to_csv(\"total2011.csv\", index=False)"
   ],
   "metadata": {
    "collapsed": false
   }
  },
  {
   "cell_type": "code",
   "execution_count": 111,
   "outputs": [],
   "source": [
    "teams = pd.read_csv(\"total2011.csv\")\n",
    "rpi = []\n",
    "for i, row1 in teams.iterrows():\n",
    "    rpi.append(row1[\"wp\"] * 0.25 + row1[\"owp\"] * 0.5 + row1[\"oowp\"] * 0.25)\n",
    "teams[\"rpi\"] = rpi\n",
    "teams['rpiRank'] = teams['rpi'].rank(ascending=0)\n",
    "teams.to_csv(\"total2011.csv\", index=False)"
   ],
   "metadata": {
    "collapsed": false
   }
  },
  {
   "cell_type": "code",
   "execution_count": 112,
   "outputs": [],
   "source": [
    "teams = pd.read_csv(\"total2012.csv\")\n",
    "rpi = []\n",
    "for i, row1 in teams.iterrows():\n",
    "    rpi.append(row1[\"wp\"] * 0.25 + row1[\"owp\"] * 0.5 + row1[\"oowp\"] * 0.25)\n",
    "teams[\"rpi\"] = rpi\n",
    "teams['rpiRank'] = teams['rpi'].rank(ascending=0)\n",
    "teams.to_csv(\"total2012.csv\", index=False)"
   ],
   "metadata": {
    "collapsed": false
   }
  },
  {
   "cell_type": "code",
   "execution_count": 113,
   "outputs": [],
   "source": [
    "teams = pd.read_csv(\"total2013.csv\")\n",
    "rpi = []\n",
    "for i, row1 in teams.iterrows():\n",
    "    rpi.append(row1[\"wp\"] * 0.25 + row1[\"owp\"] * 0.5 + row1[\"oowp\"] * 0.25)\n",
    "teams[\"rpi\"] = rpi\n",
    "teams['rpiRank'] = teams['rpi'].rank(ascending=0)\n",
    "teams.to_csv(\"total2013.csv\", index=False)"
   ],
   "metadata": {
    "collapsed": false
   }
  },
  {
   "cell_type": "code",
   "execution_count": 114,
   "outputs": [],
   "source": [
    "teams = pd.read_csv(\"total2014.csv\")\n",
    "rpi = []\n",
    "for i, row1 in teams.iterrows():\n",
    "    rpi.append(row1[\"wp\"] * 0.25 + row1[\"owp\"] * 0.5 + row1[\"oowp\"] * 0.25)\n",
    "teams[\"rpi\"] = rpi\n",
    "teams['rpiRank'] = teams['rpi'].rank(ascending=0)\n",
    "teams.to_csv(\"total2014.csv\", index=False)"
   ],
   "metadata": {
    "collapsed": false
   }
  },
  {
   "cell_type": "code",
   "execution_count": 120,
   "outputs": [
    {
     "name": "stderr",
     "output_type": "stream",
     "text": [
      "C:\\Users\\Zvonimir Ravlic\\AppData\\Local\\Temp\\ipykernel_12476\\1809289923.py:7: FutureWarning: The frame.append method is deprecated and will be removed from pandas in a future version. Use pandas.concat instead.\n",
      "  games = regular_results.append(tourney_results)\n"
     ]
    }
   ],
   "source": [
    "tourney_results = pd.read_csv(\"tourney_detailed_results.csv\")\n",
    "tourney_results = tourney_results[(tourney_results[\"season\"] == 2011)]\n",
    "regular_results = pd.read_csv(\"regular_season_detailed_results.csv\")\n",
    "regular_results = regular_results[(regular_results[\"season\"] == 2011)]\n",
    "regular_results = regular_results[['wteam', 'lteam']]\n",
    "tourney_results = tourney_results[['wteam', 'lteam']]\n",
    "games = regular_results.append(tourney_results)\n",
    "teams = pd.read_csv(\"total2011.csv\")\n",
    "rpiRankW = []\n",
    "ptsW = []\n",
    "fgPcgW = []\n",
    "stlW = []\n",
    "blkW = []\n",
    "\n",
    "games.reset_index()\n",
    "\n",
    "for i, row1 in games.iterrows():\n",
    "    teamW = teams.loc[teams['team_id'] == row1.wteam]\n",
    "    teamL = teams.loc[teams['team_id'] == row1.lteam]\n",
    "    rpiRankW.append(teamW.iloc[0].rpiRank - teamL.iloc[0].rpiRank)\n",
    "    ptsW.append(teamW.iloc[0].ptsTotal - teamL.iloc[0].ptsTotal)\n",
    "    fgPcgW.append((teamW.iloc[0].fgPcg - teamL.iloc[0].fgPcg) * 1000)\n",
    "    stlW.append(teamW.iloc[0].stlTotal - teamL.iloc[0].stlTotal)\n",
    "    blkW.append(teamW.iloc[0].blkTotal - teamL.iloc[0].blkTotal)\n",
    "\n",
    "games[\"rpiRank\"] = rpiRankW\n",
    "games[\"pts\"] = ptsW\n",
    "games[\"fgPcg\"] = fgPcgW\n",
    "games[\"stl\"] = stlW\n",
    "games[\"blk\"] = blkW\n",
    "\n",
    "games.to_csv(\"games2011.csv\", index=False)\n",
    "\n"
   ],
   "metadata": {
    "collapsed": false
   }
  },
  {
   "cell_type": "code",
   "execution_count": 121,
   "outputs": [
    {
     "name": "stderr",
     "output_type": "stream",
     "text": [
      "C:\\Users\\Zvonimir Ravlic\\AppData\\Local\\Temp\\ipykernel_12476\\4193770048.py:7: FutureWarning: The frame.append method is deprecated and will be removed from pandas in a future version. Use pandas.concat instead.\n",
      "  games = regular_results.append(tourney_results)\n"
     ]
    }
   ],
   "source": [
    "tourney_results = pd.read_csv(\"tourney_detailed_results.csv\")\n",
    "tourney_results = tourney_results[(tourney_results[\"season\"] == 2012)]\n",
    "regular_results = pd.read_csv(\"regular_season_detailed_results.csv\")\n",
    "regular_results = regular_results[(regular_results[\"season\"] == 2012)]\n",
    "regular_results = regular_results[['wteam', 'lteam']]\n",
    "tourney_results = tourney_results[['wteam', 'lteam']]\n",
    "games = regular_results.append(tourney_results)\n",
    "teams = pd.read_csv(\"total2012.csv\")\n",
    "rpiRankW = []\n",
    "ptsW = []\n",
    "fgPcgW = []\n",
    "stlW = []\n",
    "blkW = []\n",
    "\n",
    "games.reset_index()\n",
    "\n",
    "for i, row1 in games.iterrows():\n",
    "    teamW = teams.loc[teams['team_id'] == row1.wteam]\n",
    "    teamL = teams.loc[teams['team_id'] == row1.lteam]\n",
    "    rpiRankW.append(teamW.iloc[0].rpiRank - teamL.iloc[0].rpiRank)\n",
    "    ptsW.append(teamW.iloc[0].ptsTotal - teamL.iloc[0].ptsTotal)\n",
    "    fgPcgW.append((teamW.iloc[0].fgPcg - teamL.iloc[0].fgPcg) * 1000)\n",
    "    stlW.append(teamW.iloc[0].stlTotal - teamL.iloc[0].stlTotal)\n",
    "    blkW.append(teamW.iloc[0].blkTotal - teamL.iloc[0].blkTotal)\n",
    "\n",
    "games[\"rpiRank\"] = rpiRankW\n",
    "games[\"pts\"] = ptsW\n",
    "games[\"fgPcg\"] = fgPcgW\n",
    "games[\"stl\"] = stlW\n",
    "games[\"blk\"] = blkW\n",
    "\n",
    "games.to_csv(\"games2012.csv\", index=False)"
   ],
   "metadata": {
    "collapsed": false
   }
  },
  {
   "cell_type": "code",
   "execution_count": 122,
   "outputs": [
    {
     "name": "stderr",
     "output_type": "stream",
     "text": [
      "C:\\Users\\Zvonimir Ravlic\\AppData\\Local\\Temp\\ipykernel_12476\\3525904548.py:7: FutureWarning: The frame.append method is deprecated and will be removed from pandas in a future version. Use pandas.concat instead.\n",
      "  games = regular_results.append(tourney_results)\n"
     ]
    }
   ],
   "source": [
    "tourney_results = pd.read_csv(\"tourney_detailed_results.csv\")\n",
    "tourney_results = tourney_results[(tourney_results[\"season\"] == 2013)]\n",
    "regular_results = pd.read_csv(\"regular_season_detailed_results.csv\")\n",
    "regular_results = regular_results[(regular_results[\"season\"] == 2013)]\n",
    "regular_results = regular_results[['wteam', 'lteam']]\n",
    "tourney_results = tourney_results[['wteam', 'lteam']]\n",
    "games = regular_results.append(tourney_results)\n",
    "teams = pd.read_csv(\"total2013.csv\")\n",
    "rpiRankW = []\n",
    "ptsW = []\n",
    "fgPcgW = []\n",
    "stlW = []\n",
    "blkW = []\n",
    "\n",
    "games.reset_index()\n",
    "\n",
    "for i, row1 in games.iterrows():\n",
    "    teamW = teams.loc[teams['team_id'] == row1.wteam]\n",
    "    teamL = teams.loc[teams['team_id'] == row1.lteam]\n",
    "    rpiRankW.append(teamW.iloc[0].rpiRank - teamL.iloc[0].rpiRank)\n",
    "    ptsW.append(teamW.iloc[0].ptsTotal - teamL.iloc[0].ptsTotal)\n",
    "    fgPcgW.append((teamW.iloc[0].fgPcg - teamL.iloc[0].fgPcg) * 1000)\n",
    "    stlW.append(teamW.iloc[0].stlTotal - teamL.iloc[0].stlTotal)\n",
    "    blkW.append(teamW.iloc[0].blkTotal - teamL.iloc[0].blkTotal)\n",
    "\n",
    "games[\"rpiRank\"] = rpiRankW\n",
    "games[\"pts\"] = ptsW\n",
    "games[\"fgPcg\"] = fgPcgW\n",
    "games[\"stl\"] = stlW\n",
    "games[\"blk\"] = blkW\n",
    "\n",
    "games.to_csv(\"games2013.csv\", index=False)"
   ],
   "metadata": {
    "collapsed": false
   }
  },
  {
   "cell_type": "code",
   "execution_count": 123,
   "outputs": [],
   "source": [
    "regular_results = pd.read_csv(\"regular_season_detailed_results.csv\")\n",
    "regular_results = regular_results[(regular_results[\"season\"] == 2014)]\n",
    "regular_results = regular_results[['wteam', 'lteam']]\n",
    "games = regular_results\n",
    "teams = pd.read_csv(\"total2014.csv\")\n",
    "rpiRankW = []\n",
    "ptsW = []\n",
    "fgPcgW = []\n",
    "stlW = []\n",
    "blkW = []\n",
    "\n",
    "games.reset_index()\n",
    "\n",
    "for i, row1 in games.iterrows():\n",
    "    teamW = teams.loc[teams['team_id'] == row1.wteam]\n",
    "    teamL = teams.loc[teams['team_id'] == row1.lteam]\n",
    "    rpiRankW.append(teamW.iloc[0].rpiRank - teamL.iloc[0].rpiRank)\n",
    "    ptsW.append(teamW.iloc[0].ptsTotal - teamL.iloc[0].ptsTotal)\n",
    "    fgPcgW.append((teamW.iloc[0].fgPcg - teamL.iloc[0].fgPcg) * 1000)\n",
    "    stlW.append(teamW.iloc[0].stlTotal - teamL.iloc[0].stlTotal)\n",
    "    blkW.append(teamW.iloc[0].blkTotal - teamL.iloc[0].blkTotal)\n",
    "\n",
    "games[\"rpiRank\"] = rpiRankW\n",
    "games[\"pts\"] = ptsW\n",
    "games[\"fgPcg\"] = fgPcgW\n",
    "games[\"stl\"] = stlW\n",
    "games[\"blk\"] = blkW\n",
    "\n",
    "games.to_csv(\"games2014.csv\", index=False)"
   ],
   "metadata": {
    "collapsed": false
   }
  },
  {
   "cell_type": "code",
   "execution_count": 124,
   "outputs": [
    {
     "name": "stderr",
     "output_type": "stream",
     "text": [
      "C:\\Users\\Zvonimir Ravlic\\AppData\\Local\\Temp\\ipykernel_12476\\408684949.py:6: FutureWarning: The frame.append method is deprecated and will be removed from pandas in a future version. Use pandas.concat instead.\n",
      "  games = games1.append(games2)\n",
      "C:\\Users\\Zvonimir Ravlic\\AppData\\Local\\Temp\\ipykernel_12476\\408684949.py:7: FutureWarning: The frame.append method is deprecated and will be removed from pandas in a future version. Use pandas.concat instead.\n",
      "  games = games.append(games3)\n",
      "C:\\Users\\Zvonimir Ravlic\\AppData\\Local\\Temp\\ipykernel_12476\\408684949.py:8: FutureWarning: The frame.append method is deprecated and will be removed from pandas in a future version. Use pandas.concat instead.\n",
      "  games = games.append(games4)\n"
     ]
    }
   ],
   "source": [
    "games1 = pd.read_csv(\"games2011.csv\")\n",
    "games2 = pd.read_csv(\"games2012.csv\")\n",
    "games3 = pd.read_csv(\"games2013.csv\")\n",
    "games4 = pd.read_csv(\"games2014.csv\")\n",
    "\n",
    "games = games1.append(games2)\n",
    "games = games.append(games3)\n",
    "games = games.append(games4)\n",
    "games.fgPcg = games.fgPcg.astype(int)\n",
    "games.rpiRank = games.rpiRank.astype(int)\n",
    "games.to_csv(\"gamesTraining.csv\", index=False)"
   ],
   "metadata": {
    "collapsed": false
   }
  },
  {
   "cell_type": "code",
   "execution_count": null,
   "outputs": [],
   "source": [],
   "metadata": {
    "collapsed": false
   }
  }
 ],
 "metadata": {
  "kernelspec": {
   "display_name": "Python 3",
   "language": "python",
   "name": "python3"
  },
  "language_info": {
   "codemirror_mode": {
    "name": "ipython",
    "version": 2
   },
   "file_extension": ".py",
   "mimetype": "text/x-python",
   "name": "python",
   "nbconvert_exporter": "python",
   "pygments_lexer": "ipython2",
   "version": "2.7.6"
  }
 },
 "nbformat": 4,
 "nbformat_minor": 0
}
