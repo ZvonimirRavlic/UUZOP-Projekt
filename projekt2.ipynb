{
 "cells": [
  {
   "cell_type": "code",
   "execution_count": 252,
   "metadata": {
    "collapsed": true
   },
   "outputs": [],
   "source": [
    "import pandas as pd\n",
    "import numpy as np"
   ]
  },
  {
   "cell_type": "code",
   "execution_count": 253,
   "outputs": [
    {
     "data": {
      "text/plain": "(780, 34)"
     },
     "execution_count": 253,
     "metadata": {},
     "output_type": "execute_result"
    }
   ],
   "source": [
    "tourney_results = pd.read_csv(\"tourney_detailed_results.csv\")\n",
    "tourney_results.shape"
   ],
   "metadata": {
    "collapsed": false
   }
  },
  {
   "cell_type": "code",
   "execution_count": 254,
   "outputs": [
    {
     "data": {
      "text/plain": "     season  daynum  wteam  wscore  lteam  lscore wloc  numot  wfgm  wfga  \\\n512    2011     134   1155      70   1412      52    N      0    26    50   \n513    2011     134   1421      81   1114      77    N      1    27    54   \n514    2011     135   1427      70   1106      61    N      0    23    54   \n515    2011     135   1433      59   1425      46    N      0    20    59   \n516    2011     136   1139      60   1330      58    N      0    22    54   \n..      ...     ...    ...     ...    ...     ...  ...    ...   ...   ...   \n708    2013     146   1257      85   1181      63    N      0    29    55   \n709    2013     146   1276      79   1196      59    N      0    30    65   \n710    2013     152   1257      72   1455      68    N      0    22    49   \n711    2013     152   1276      61   1393      56    N      0    21    53   \n712    2013     154   1257      82   1276      76    N      0    28    61   \n\n     ...  lfga3  lftm  lfta  lor  ldr  last  lto  lstl  lblk  lpf  \n512  ...     24     4     7    7   22    10   19     4     3   10  \n513  ...     29    20    26    7   26    19   16     6     2   24  \n514  ...     26    10    12   11   28    13   12     6     3   22  \n515  ...      9    15    25    5   26     4   15     2     6   20  \n516  ...     15    21    27   13   16     8   15     9     2   17  \n..   ...    ...   ...   ...  ...  ...   ...  ...   ...   ...  ...  \n708  ...     16    21    28   11   20    11   12     4     2   23  \n709  ...     10    11    17    9   27    13   15     7     3   11  \n710  ...     20    18    24   14   22    13   11     5     1   20  \n711  ...     14     7    11   10   23    13   10     7     4   19  \n712  ...     18    18    25    8   19    12   12     3     2   15  \n\n[201 rows x 34 columns]",
      "text/html": "<div>\n<style scoped>\n    .dataframe tbody tr th:only-of-type {\n        vertical-align: middle;\n    }\n\n    .dataframe tbody tr th {\n        vertical-align: top;\n    }\n\n    .dataframe thead th {\n        text-align: right;\n    }\n</style>\n<table border=\"1\" class=\"dataframe\">\n  <thead>\n    <tr style=\"text-align: right;\">\n      <th></th>\n      <th>season</th>\n      <th>daynum</th>\n      <th>wteam</th>\n      <th>wscore</th>\n      <th>lteam</th>\n      <th>lscore</th>\n      <th>wloc</th>\n      <th>numot</th>\n      <th>wfgm</th>\n      <th>wfga</th>\n      <th>...</th>\n      <th>lfga3</th>\n      <th>lftm</th>\n      <th>lfta</th>\n      <th>lor</th>\n      <th>ldr</th>\n      <th>last</th>\n      <th>lto</th>\n      <th>lstl</th>\n      <th>lblk</th>\n      <th>lpf</th>\n    </tr>\n  </thead>\n  <tbody>\n    <tr>\n      <th>512</th>\n      <td>2011</td>\n      <td>134</td>\n      <td>1155</td>\n      <td>70</td>\n      <td>1412</td>\n      <td>52</td>\n      <td>N</td>\n      <td>0</td>\n      <td>26</td>\n      <td>50</td>\n      <td>...</td>\n      <td>24</td>\n      <td>4</td>\n      <td>7</td>\n      <td>7</td>\n      <td>22</td>\n      <td>10</td>\n      <td>19</td>\n      <td>4</td>\n      <td>3</td>\n      <td>10</td>\n    </tr>\n    <tr>\n      <th>513</th>\n      <td>2011</td>\n      <td>134</td>\n      <td>1421</td>\n      <td>81</td>\n      <td>1114</td>\n      <td>77</td>\n      <td>N</td>\n      <td>1</td>\n      <td>27</td>\n      <td>54</td>\n      <td>...</td>\n      <td>29</td>\n      <td>20</td>\n      <td>26</td>\n      <td>7</td>\n      <td>26</td>\n      <td>19</td>\n      <td>16</td>\n      <td>6</td>\n      <td>2</td>\n      <td>24</td>\n    </tr>\n    <tr>\n      <th>514</th>\n      <td>2011</td>\n      <td>135</td>\n      <td>1427</td>\n      <td>70</td>\n      <td>1106</td>\n      <td>61</td>\n      <td>N</td>\n      <td>0</td>\n      <td>23</td>\n      <td>54</td>\n      <td>...</td>\n      <td>26</td>\n      <td>10</td>\n      <td>12</td>\n      <td>11</td>\n      <td>28</td>\n      <td>13</td>\n      <td>12</td>\n      <td>6</td>\n      <td>3</td>\n      <td>22</td>\n    </tr>\n    <tr>\n      <th>515</th>\n      <td>2011</td>\n      <td>135</td>\n      <td>1433</td>\n      <td>59</td>\n      <td>1425</td>\n      <td>46</td>\n      <td>N</td>\n      <td>0</td>\n      <td>20</td>\n      <td>59</td>\n      <td>...</td>\n      <td>9</td>\n      <td>15</td>\n      <td>25</td>\n      <td>5</td>\n      <td>26</td>\n      <td>4</td>\n      <td>15</td>\n      <td>2</td>\n      <td>6</td>\n      <td>20</td>\n    </tr>\n    <tr>\n      <th>516</th>\n      <td>2011</td>\n      <td>136</td>\n      <td>1139</td>\n      <td>60</td>\n      <td>1330</td>\n      <td>58</td>\n      <td>N</td>\n      <td>0</td>\n      <td>22</td>\n      <td>54</td>\n      <td>...</td>\n      <td>15</td>\n      <td>21</td>\n      <td>27</td>\n      <td>13</td>\n      <td>16</td>\n      <td>8</td>\n      <td>15</td>\n      <td>9</td>\n      <td>2</td>\n      <td>17</td>\n    </tr>\n    <tr>\n      <th>...</th>\n      <td>...</td>\n      <td>...</td>\n      <td>...</td>\n      <td>...</td>\n      <td>...</td>\n      <td>...</td>\n      <td>...</td>\n      <td>...</td>\n      <td>...</td>\n      <td>...</td>\n      <td>...</td>\n      <td>...</td>\n      <td>...</td>\n      <td>...</td>\n      <td>...</td>\n      <td>...</td>\n      <td>...</td>\n      <td>...</td>\n      <td>...</td>\n      <td>...</td>\n      <td>...</td>\n    </tr>\n    <tr>\n      <th>708</th>\n      <td>2013</td>\n      <td>146</td>\n      <td>1257</td>\n      <td>85</td>\n      <td>1181</td>\n      <td>63</td>\n      <td>N</td>\n      <td>0</td>\n      <td>29</td>\n      <td>55</td>\n      <td>...</td>\n      <td>16</td>\n      <td>21</td>\n      <td>28</td>\n      <td>11</td>\n      <td>20</td>\n      <td>11</td>\n      <td>12</td>\n      <td>4</td>\n      <td>2</td>\n      <td>23</td>\n    </tr>\n    <tr>\n      <th>709</th>\n      <td>2013</td>\n      <td>146</td>\n      <td>1276</td>\n      <td>79</td>\n      <td>1196</td>\n      <td>59</td>\n      <td>N</td>\n      <td>0</td>\n      <td>30</td>\n      <td>65</td>\n      <td>...</td>\n      <td>10</td>\n      <td>11</td>\n      <td>17</td>\n      <td>9</td>\n      <td>27</td>\n      <td>13</td>\n      <td>15</td>\n      <td>7</td>\n      <td>3</td>\n      <td>11</td>\n    </tr>\n    <tr>\n      <th>710</th>\n      <td>2013</td>\n      <td>152</td>\n      <td>1257</td>\n      <td>72</td>\n      <td>1455</td>\n      <td>68</td>\n      <td>N</td>\n      <td>0</td>\n      <td>22</td>\n      <td>49</td>\n      <td>...</td>\n      <td>20</td>\n      <td>18</td>\n      <td>24</td>\n      <td>14</td>\n      <td>22</td>\n      <td>13</td>\n      <td>11</td>\n      <td>5</td>\n      <td>1</td>\n      <td>20</td>\n    </tr>\n    <tr>\n      <th>711</th>\n      <td>2013</td>\n      <td>152</td>\n      <td>1276</td>\n      <td>61</td>\n      <td>1393</td>\n      <td>56</td>\n      <td>N</td>\n      <td>0</td>\n      <td>21</td>\n      <td>53</td>\n      <td>...</td>\n      <td>14</td>\n      <td>7</td>\n      <td>11</td>\n      <td>10</td>\n      <td>23</td>\n      <td>13</td>\n      <td>10</td>\n      <td>7</td>\n      <td>4</td>\n      <td>19</td>\n    </tr>\n    <tr>\n      <th>712</th>\n      <td>2013</td>\n      <td>154</td>\n      <td>1257</td>\n      <td>82</td>\n      <td>1276</td>\n      <td>76</td>\n      <td>N</td>\n      <td>0</td>\n      <td>28</td>\n      <td>61</td>\n      <td>...</td>\n      <td>18</td>\n      <td>18</td>\n      <td>25</td>\n      <td>8</td>\n      <td>19</td>\n      <td>12</td>\n      <td>12</td>\n      <td>3</td>\n      <td>2</td>\n      <td>15</td>\n    </tr>\n  </tbody>\n</table>\n<p>201 rows × 34 columns</p>\n</div>"
     },
     "execution_count": 254,
     "metadata": {},
     "output_type": "execute_result"
    }
   ],
   "source": [
    "tourney_results = tourney_results[(tourney_results[\"season\"] >= 2011) & (tourney_results[\"season\"] <= 2013)]\n",
    "tourney_results"
   ],
   "metadata": {
    "collapsed": false
   }
  },
  {
   "cell_type": "code",
   "execution_count": 255,
   "outputs": [
    {
     "data": {
      "text/plain": "(60518, 34)"
     },
     "execution_count": 255,
     "metadata": {},
     "output_type": "execute_result"
    }
   ],
   "source": [
    "regular_results = pd.read_csv(\"regular_season_detailed_results.csv\")\n",
    "regular_results.shape"
   ],
   "metadata": {
    "collapsed": false
   }
  },
  {
   "cell_type": "code",
   "execution_count": 256,
   "outputs": [
    {
     "data": {
      "text/plain": "       season  daynum  wteam  wscore  lteam  lscore wloc  numot  wfgm  wfga  \\\n39337    2011       7   1228      79   1414      65    H      0    29    58   \n39338    2011       7   1268     105   1370      76    H      0    35    62   \n39339    2011       7   1338      83   1348      75    H      0    29    64   \n39340    2011       7   1400      83   1298      52    H      0    30    59   \n39341    2011       9   1228      84   1405      45    H      0    37    64   \n...       ...     ...    ...     ...    ...     ...  ...    ...   ...   ...   \n60513    2014     132   1196      61   1246      60    N      0    23    53   \n60514    2014     132   1277      69   1276      55    N      0    27    54   \n60515    2014     132   1386      65   1433      61    N      0    24    50   \n60516    2014     132   1418      82   1209      81    N      1    32    75   \n60517    2014     132   1438      72   1181      63    N      0    21    47   \n\n       ...  lfga3  lftm  lfta  lor  ldr  last  lto  lstl  lblk  lpf  \n39337  ...     20    14    22   11   26    12   14     7     1   21  \n39338  ...     16    17    22   18   16    11   27    18     1   31  \n39339  ...     32    13    16   10   21    16   17     7     6   25  \n39340  ...     23    10    18    8   22     8   16     5     5   24  \n39341  ...     12    10    19    6   17     9   23     6     0   14  \n...    ...    ...   ...   ...  ...  ...   ...  ...   ...   ...  ...  \n60513  ...     11    21    26   12   24     9   12     4     8   19  \n60514  ...     23    15    16   13   15     7    9     3     3   15  \n60515  ...     19     8    15   13   25     9    5     6     6   18  \n60516  ...     19    20    21    4   26     8    7     5     7   15  \n60517  ...     14     7    11   14   20    13    6     7     3   29  \n\n[21181 rows x 34 columns]",
      "text/html": "<div>\n<style scoped>\n    .dataframe tbody tr th:only-of-type {\n        vertical-align: middle;\n    }\n\n    .dataframe tbody tr th {\n        vertical-align: top;\n    }\n\n    .dataframe thead th {\n        text-align: right;\n    }\n</style>\n<table border=\"1\" class=\"dataframe\">\n  <thead>\n    <tr style=\"text-align: right;\">\n      <th></th>\n      <th>season</th>\n      <th>daynum</th>\n      <th>wteam</th>\n      <th>wscore</th>\n      <th>lteam</th>\n      <th>lscore</th>\n      <th>wloc</th>\n      <th>numot</th>\n      <th>wfgm</th>\n      <th>wfga</th>\n      <th>...</th>\n      <th>lfga3</th>\n      <th>lftm</th>\n      <th>lfta</th>\n      <th>lor</th>\n      <th>ldr</th>\n      <th>last</th>\n      <th>lto</th>\n      <th>lstl</th>\n      <th>lblk</th>\n      <th>lpf</th>\n    </tr>\n  </thead>\n  <tbody>\n    <tr>\n      <th>39337</th>\n      <td>2011</td>\n      <td>7</td>\n      <td>1228</td>\n      <td>79</td>\n      <td>1414</td>\n      <td>65</td>\n      <td>H</td>\n      <td>0</td>\n      <td>29</td>\n      <td>58</td>\n      <td>...</td>\n      <td>20</td>\n      <td>14</td>\n      <td>22</td>\n      <td>11</td>\n      <td>26</td>\n      <td>12</td>\n      <td>14</td>\n      <td>7</td>\n      <td>1</td>\n      <td>21</td>\n    </tr>\n    <tr>\n      <th>39338</th>\n      <td>2011</td>\n      <td>7</td>\n      <td>1268</td>\n      <td>105</td>\n      <td>1370</td>\n      <td>76</td>\n      <td>H</td>\n      <td>0</td>\n      <td>35</td>\n      <td>62</td>\n      <td>...</td>\n      <td>16</td>\n      <td>17</td>\n      <td>22</td>\n      <td>18</td>\n      <td>16</td>\n      <td>11</td>\n      <td>27</td>\n      <td>18</td>\n      <td>1</td>\n      <td>31</td>\n    </tr>\n    <tr>\n      <th>39339</th>\n      <td>2011</td>\n      <td>7</td>\n      <td>1338</td>\n      <td>83</td>\n      <td>1348</td>\n      <td>75</td>\n      <td>H</td>\n      <td>0</td>\n      <td>29</td>\n      <td>64</td>\n      <td>...</td>\n      <td>32</td>\n      <td>13</td>\n      <td>16</td>\n      <td>10</td>\n      <td>21</td>\n      <td>16</td>\n      <td>17</td>\n      <td>7</td>\n      <td>6</td>\n      <td>25</td>\n    </tr>\n    <tr>\n      <th>39340</th>\n      <td>2011</td>\n      <td>7</td>\n      <td>1400</td>\n      <td>83</td>\n      <td>1298</td>\n      <td>52</td>\n      <td>H</td>\n      <td>0</td>\n      <td>30</td>\n      <td>59</td>\n      <td>...</td>\n      <td>23</td>\n      <td>10</td>\n      <td>18</td>\n      <td>8</td>\n      <td>22</td>\n      <td>8</td>\n      <td>16</td>\n      <td>5</td>\n      <td>5</td>\n      <td>24</td>\n    </tr>\n    <tr>\n      <th>39341</th>\n      <td>2011</td>\n      <td>9</td>\n      <td>1228</td>\n      <td>84</td>\n      <td>1405</td>\n      <td>45</td>\n      <td>H</td>\n      <td>0</td>\n      <td>37</td>\n      <td>64</td>\n      <td>...</td>\n      <td>12</td>\n      <td>10</td>\n      <td>19</td>\n      <td>6</td>\n      <td>17</td>\n      <td>9</td>\n      <td>23</td>\n      <td>6</td>\n      <td>0</td>\n      <td>14</td>\n    </tr>\n    <tr>\n      <th>...</th>\n      <td>...</td>\n      <td>...</td>\n      <td>...</td>\n      <td>...</td>\n      <td>...</td>\n      <td>...</td>\n      <td>...</td>\n      <td>...</td>\n      <td>...</td>\n      <td>...</td>\n      <td>...</td>\n      <td>...</td>\n      <td>...</td>\n      <td>...</td>\n      <td>...</td>\n      <td>...</td>\n      <td>...</td>\n      <td>...</td>\n      <td>...</td>\n      <td>...</td>\n      <td>...</td>\n    </tr>\n    <tr>\n      <th>60513</th>\n      <td>2014</td>\n      <td>132</td>\n      <td>1196</td>\n      <td>61</td>\n      <td>1246</td>\n      <td>60</td>\n      <td>N</td>\n      <td>0</td>\n      <td>23</td>\n      <td>53</td>\n      <td>...</td>\n      <td>11</td>\n      <td>21</td>\n      <td>26</td>\n      <td>12</td>\n      <td>24</td>\n      <td>9</td>\n      <td>12</td>\n      <td>4</td>\n      <td>8</td>\n      <td>19</td>\n    </tr>\n    <tr>\n      <th>60514</th>\n      <td>2014</td>\n      <td>132</td>\n      <td>1277</td>\n      <td>69</td>\n      <td>1276</td>\n      <td>55</td>\n      <td>N</td>\n      <td>0</td>\n      <td>27</td>\n      <td>54</td>\n      <td>...</td>\n      <td>23</td>\n      <td>15</td>\n      <td>16</td>\n      <td>13</td>\n      <td>15</td>\n      <td>7</td>\n      <td>9</td>\n      <td>3</td>\n      <td>3</td>\n      <td>15</td>\n    </tr>\n    <tr>\n      <th>60515</th>\n      <td>2014</td>\n      <td>132</td>\n      <td>1386</td>\n      <td>65</td>\n      <td>1433</td>\n      <td>61</td>\n      <td>N</td>\n      <td>0</td>\n      <td>24</td>\n      <td>50</td>\n      <td>...</td>\n      <td>19</td>\n      <td>8</td>\n      <td>15</td>\n      <td>13</td>\n      <td>25</td>\n      <td>9</td>\n      <td>5</td>\n      <td>6</td>\n      <td>6</td>\n      <td>18</td>\n    </tr>\n    <tr>\n      <th>60516</th>\n      <td>2014</td>\n      <td>132</td>\n      <td>1418</td>\n      <td>82</td>\n      <td>1209</td>\n      <td>81</td>\n      <td>N</td>\n      <td>1</td>\n      <td>32</td>\n      <td>75</td>\n      <td>...</td>\n      <td>19</td>\n      <td>20</td>\n      <td>21</td>\n      <td>4</td>\n      <td>26</td>\n      <td>8</td>\n      <td>7</td>\n      <td>5</td>\n      <td>7</td>\n      <td>15</td>\n    </tr>\n    <tr>\n      <th>60517</th>\n      <td>2014</td>\n      <td>132</td>\n      <td>1438</td>\n      <td>72</td>\n      <td>1181</td>\n      <td>63</td>\n      <td>N</td>\n      <td>0</td>\n      <td>21</td>\n      <td>47</td>\n      <td>...</td>\n      <td>14</td>\n      <td>7</td>\n      <td>11</td>\n      <td>14</td>\n      <td>20</td>\n      <td>13</td>\n      <td>6</td>\n      <td>7</td>\n      <td>3</td>\n      <td>29</td>\n    </tr>\n  </tbody>\n</table>\n<p>21181 rows × 34 columns</p>\n</div>"
     },
     "execution_count": 256,
     "metadata": {},
     "output_type": "execute_result"
    }
   ],
   "source": [
    "regular_results = regular_results[(regular_results[\"season\"] >= 2011) & (regular_results[\"season\"] <= 2014)]\n",
    "regular_results"
   ],
   "metadata": {
    "collapsed": false
   }
  },
  {
   "cell_type": "code",
   "execution_count": 257,
   "outputs": [
    {
     "name": "stderr",
     "output_type": "stream",
     "text": [
      "C:\\Users\\Zvonimir Ravlic\\AppData\\Local\\Temp\\ipykernel_17792\\3570724505.py:1: FutureWarning: The frame.append method is deprecated and will be removed from pandas in a future version. Use pandas.concat instead.\n",
      "  training_set = regular_results.append(tourney_results)\n"
     ]
    },
    {
     "data": {
      "text/plain": "       season  daynum  wteam  wscore  lteam  lscore wloc  numot  wfgm  wfga  \\\n39337    2011       7   1228      79   1414      65    H      0    29    58   \n39338    2011       7   1268     105   1370      76    H      0    35    62   \n39339    2011       7   1338      83   1348      75    H      0    29    64   \n39340    2011       7   1400      83   1298      52    H      0    30    59   \n39341    2011       9   1228      84   1405      45    H      0    37    64   \n...       ...     ...    ...     ...    ...     ...  ...    ...   ...   ...   \n708      2013     146   1257      85   1181      63    N      0    29    55   \n709      2013     146   1276      79   1196      59    N      0    30    65   \n710      2013     152   1257      72   1455      68    N      0    22    49   \n711      2013     152   1276      61   1393      56    N      0    21    53   \n712      2013     154   1257      82   1276      76    N      0    28    61   \n\n       ...  lfga3  lftm  lfta  lor  ldr  last  lto  lstl  lblk  lpf  \n39337  ...     20    14    22   11   26    12   14     7     1   21  \n39338  ...     16    17    22   18   16    11   27    18     1   31  \n39339  ...     32    13    16   10   21    16   17     7     6   25  \n39340  ...     23    10    18    8   22     8   16     5     5   24  \n39341  ...     12    10    19    6   17     9   23     6     0   14  \n...    ...    ...   ...   ...  ...  ...   ...  ...   ...   ...  ...  \n708    ...     16    21    28   11   20    11   12     4     2   23  \n709    ...     10    11    17    9   27    13   15     7     3   11  \n710    ...     20    18    24   14   22    13   11     5     1   20  \n711    ...     14     7    11   10   23    13   10     7     4   19  \n712    ...     18    18    25    8   19    12   12     3     2   15  \n\n[21382 rows x 34 columns]",
      "text/html": "<div>\n<style scoped>\n    .dataframe tbody tr th:only-of-type {\n        vertical-align: middle;\n    }\n\n    .dataframe tbody tr th {\n        vertical-align: top;\n    }\n\n    .dataframe thead th {\n        text-align: right;\n    }\n</style>\n<table border=\"1\" class=\"dataframe\">\n  <thead>\n    <tr style=\"text-align: right;\">\n      <th></th>\n      <th>season</th>\n      <th>daynum</th>\n      <th>wteam</th>\n      <th>wscore</th>\n      <th>lteam</th>\n      <th>lscore</th>\n      <th>wloc</th>\n      <th>numot</th>\n      <th>wfgm</th>\n      <th>wfga</th>\n      <th>...</th>\n      <th>lfga3</th>\n      <th>lftm</th>\n      <th>lfta</th>\n      <th>lor</th>\n      <th>ldr</th>\n      <th>last</th>\n      <th>lto</th>\n      <th>lstl</th>\n      <th>lblk</th>\n      <th>lpf</th>\n    </tr>\n  </thead>\n  <tbody>\n    <tr>\n      <th>39337</th>\n      <td>2011</td>\n      <td>7</td>\n      <td>1228</td>\n      <td>79</td>\n      <td>1414</td>\n      <td>65</td>\n      <td>H</td>\n      <td>0</td>\n      <td>29</td>\n      <td>58</td>\n      <td>...</td>\n      <td>20</td>\n      <td>14</td>\n      <td>22</td>\n      <td>11</td>\n      <td>26</td>\n      <td>12</td>\n      <td>14</td>\n      <td>7</td>\n      <td>1</td>\n      <td>21</td>\n    </tr>\n    <tr>\n      <th>39338</th>\n      <td>2011</td>\n      <td>7</td>\n      <td>1268</td>\n      <td>105</td>\n      <td>1370</td>\n      <td>76</td>\n      <td>H</td>\n      <td>0</td>\n      <td>35</td>\n      <td>62</td>\n      <td>...</td>\n      <td>16</td>\n      <td>17</td>\n      <td>22</td>\n      <td>18</td>\n      <td>16</td>\n      <td>11</td>\n      <td>27</td>\n      <td>18</td>\n      <td>1</td>\n      <td>31</td>\n    </tr>\n    <tr>\n      <th>39339</th>\n      <td>2011</td>\n      <td>7</td>\n      <td>1338</td>\n      <td>83</td>\n      <td>1348</td>\n      <td>75</td>\n      <td>H</td>\n      <td>0</td>\n      <td>29</td>\n      <td>64</td>\n      <td>...</td>\n      <td>32</td>\n      <td>13</td>\n      <td>16</td>\n      <td>10</td>\n      <td>21</td>\n      <td>16</td>\n      <td>17</td>\n      <td>7</td>\n      <td>6</td>\n      <td>25</td>\n    </tr>\n    <tr>\n      <th>39340</th>\n      <td>2011</td>\n      <td>7</td>\n      <td>1400</td>\n      <td>83</td>\n      <td>1298</td>\n      <td>52</td>\n      <td>H</td>\n      <td>0</td>\n      <td>30</td>\n      <td>59</td>\n      <td>...</td>\n      <td>23</td>\n      <td>10</td>\n      <td>18</td>\n      <td>8</td>\n      <td>22</td>\n      <td>8</td>\n      <td>16</td>\n      <td>5</td>\n      <td>5</td>\n      <td>24</td>\n    </tr>\n    <tr>\n      <th>39341</th>\n      <td>2011</td>\n      <td>9</td>\n      <td>1228</td>\n      <td>84</td>\n      <td>1405</td>\n      <td>45</td>\n      <td>H</td>\n      <td>0</td>\n      <td>37</td>\n      <td>64</td>\n      <td>...</td>\n      <td>12</td>\n      <td>10</td>\n      <td>19</td>\n      <td>6</td>\n      <td>17</td>\n      <td>9</td>\n      <td>23</td>\n      <td>6</td>\n      <td>0</td>\n      <td>14</td>\n    </tr>\n    <tr>\n      <th>...</th>\n      <td>...</td>\n      <td>...</td>\n      <td>...</td>\n      <td>...</td>\n      <td>...</td>\n      <td>...</td>\n      <td>...</td>\n      <td>...</td>\n      <td>...</td>\n      <td>...</td>\n      <td>...</td>\n      <td>...</td>\n      <td>...</td>\n      <td>...</td>\n      <td>...</td>\n      <td>...</td>\n      <td>...</td>\n      <td>...</td>\n      <td>...</td>\n      <td>...</td>\n      <td>...</td>\n    </tr>\n    <tr>\n      <th>708</th>\n      <td>2013</td>\n      <td>146</td>\n      <td>1257</td>\n      <td>85</td>\n      <td>1181</td>\n      <td>63</td>\n      <td>N</td>\n      <td>0</td>\n      <td>29</td>\n      <td>55</td>\n      <td>...</td>\n      <td>16</td>\n      <td>21</td>\n      <td>28</td>\n      <td>11</td>\n      <td>20</td>\n      <td>11</td>\n      <td>12</td>\n      <td>4</td>\n      <td>2</td>\n      <td>23</td>\n    </tr>\n    <tr>\n      <th>709</th>\n      <td>2013</td>\n      <td>146</td>\n      <td>1276</td>\n      <td>79</td>\n      <td>1196</td>\n      <td>59</td>\n      <td>N</td>\n      <td>0</td>\n      <td>30</td>\n      <td>65</td>\n      <td>...</td>\n      <td>10</td>\n      <td>11</td>\n      <td>17</td>\n      <td>9</td>\n      <td>27</td>\n      <td>13</td>\n      <td>15</td>\n      <td>7</td>\n      <td>3</td>\n      <td>11</td>\n    </tr>\n    <tr>\n      <th>710</th>\n      <td>2013</td>\n      <td>152</td>\n      <td>1257</td>\n      <td>72</td>\n      <td>1455</td>\n      <td>68</td>\n      <td>N</td>\n      <td>0</td>\n      <td>22</td>\n      <td>49</td>\n      <td>...</td>\n      <td>20</td>\n      <td>18</td>\n      <td>24</td>\n      <td>14</td>\n      <td>22</td>\n      <td>13</td>\n      <td>11</td>\n      <td>5</td>\n      <td>1</td>\n      <td>20</td>\n    </tr>\n    <tr>\n      <th>711</th>\n      <td>2013</td>\n      <td>152</td>\n      <td>1276</td>\n      <td>61</td>\n      <td>1393</td>\n      <td>56</td>\n      <td>N</td>\n      <td>0</td>\n      <td>21</td>\n      <td>53</td>\n      <td>...</td>\n      <td>14</td>\n      <td>7</td>\n      <td>11</td>\n      <td>10</td>\n      <td>23</td>\n      <td>13</td>\n      <td>10</td>\n      <td>7</td>\n      <td>4</td>\n      <td>19</td>\n    </tr>\n    <tr>\n      <th>712</th>\n      <td>2013</td>\n      <td>154</td>\n      <td>1257</td>\n      <td>82</td>\n      <td>1276</td>\n      <td>76</td>\n      <td>N</td>\n      <td>0</td>\n      <td>28</td>\n      <td>61</td>\n      <td>...</td>\n      <td>18</td>\n      <td>18</td>\n      <td>25</td>\n      <td>8</td>\n      <td>19</td>\n      <td>12</td>\n      <td>12</td>\n      <td>3</td>\n      <td>2</td>\n      <td>15</td>\n    </tr>\n  </tbody>\n</table>\n<p>21382 rows × 34 columns</p>\n</div>"
     },
     "execution_count": 257,
     "metadata": {},
     "output_type": "execute_result"
    }
   ],
   "source": [
    "training_set = regular_results.append(tourney_results)\n",
    "training_set"
   ],
   "metadata": {
    "collapsed": false
   }
  },
  {
   "cell_type": "code",
   "execution_count": 258,
   "outputs": [
    {
     "data": {
      "text/plain": "season    0\ndaynum    0\nwteam     0\nwscore    0\nlteam     0\nlscore    0\nwloc      0\nnumot     0\nwfgm      0\nwfga      0\nwfgm3     0\nwfga3     0\nwftm      0\nwfta      0\nwor       0\nwdr       0\nwast      0\nwto       0\nwstl      0\nwblk      0\nwpf       0\nlfgm      0\nlfga      0\nlfgm3     0\nlfga3     0\nlftm      0\nlfta      0\nlor       0\nldr       0\nlast      0\nlto       0\nlstl      0\nlblk      0\nlpf       0\ndtype: int64"
     },
     "execution_count": 258,
     "metadata": {},
     "output_type": "execute_result"
    }
   ],
   "source": [
    "training_set.isna().sum()"
   ],
   "metadata": {
    "collapsed": false
   }
  },
  {
   "cell_type": "code",
   "execution_count": 259,
   "outputs": [
    {
     "data": {
      "text/plain": "(352, 2)"
     },
     "execution_count": 259,
     "metadata": {},
     "output_type": "execute_result"
    }
   ],
   "source": [
    "statistics = pd.read_csv(\"teams.csv\")\n",
    "teamsW = statistics.loc[statistics['team_id'].isin((training_set['wteam'].tolist()))]\n",
    "teamsW.shape"
   ],
   "metadata": {
    "collapsed": false
   }
  },
  {
   "cell_type": "code",
   "execution_count": 260,
   "outputs": [
    {
     "name": "stderr",
     "output_type": "stream",
     "text": [
      "C:\\Users\\Zvonimir Ravlic\\AppData\\Local\\Temp\\ipykernel_17792\\2097467678.py:2: FutureWarning: The frame.append method is deprecated and will be removed from pandas in a future version. Use pandas.concat instead.\n",
      "  teams = teamsW.append(teamsL)\n"
     ]
    },
    {
     "data": {
      "text/plain": "     team_id      team_name\n0       1101    Abilene Chr\n1       1102      Air Force\n2       1103          Akron\n3       1104        Alabama\n4       1105    Alabama A&M\n..       ...            ...\n359     1460      Wright St\n360     1461        Wyoming\n361     1462         Xavier\n362     1463           Yale\n363     1464  Youngstown St\n\n[352 rows x 2 columns]",
      "text/html": "<div>\n<style scoped>\n    .dataframe tbody tr th:only-of-type {\n        vertical-align: middle;\n    }\n\n    .dataframe tbody tr th {\n        vertical-align: top;\n    }\n\n    .dataframe thead th {\n        text-align: right;\n    }\n</style>\n<table border=\"1\" class=\"dataframe\">\n  <thead>\n    <tr style=\"text-align: right;\">\n      <th></th>\n      <th>team_id</th>\n      <th>team_name</th>\n    </tr>\n  </thead>\n  <tbody>\n    <tr>\n      <th>0</th>\n      <td>1101</td>\n      <td>Abilene Chr</td>\n    </tr>\n    <tr>\n      <th>1</th>\n      <td>1102</td>\n      <td>Air Force</td>\n    </tr>\n    <tr>\n      <th>2</th>\n      <td>1103</td>\n      <td>Akron</td>\n    </tr>\n    <tr>\n      <th>3</th>\n      <td>1104</td>\n      <td>Alabama</td>\n    </tr>\n    <tr>\n      <th>4</th>\n      <td>1105</td>\n      <td>Alabama A&amp;M</td>\n    </tr>\n    <tr>\n      <th>...</th>\n      <td>...</td>\n      <td>...</td>\n    </tr>\n    <tr>\n      <th>359</th>\n      <td>1460</td>\n      <td>Wright St</td>\n    </tr>\n    <tr>\n      <th>360</th>\n      <td>1461</td>\n      <td>Wyoming</td>\n    </tr>\n    <tr>\n      <th>361</th>\n      <td>1462</td>\n      <td>Xavier</td>\n    </tr>\n    <tr>\n      <th>362</th>\n      <td>1463</td>\n      <td>Yale</td>\n    </tr>\n    <tr>\n      <th>363</th>\n      <td>1464</td>\n      <td>Youngstown St</td>\n    </tr>\n  </tbody>\n</table>\n<p>352 rows × 2 columns</p>\n</div>"
     },
     "execution_count": 260,
     "metadata": {},
     "output_type": "execute_result"
    }
   ],
   "source": [
    "teamsL = statistics.loc[statistics['team_id'].isin(training_set['lteam'].tolist())]\n",
    "teams = teamsW.append(teamsL)\n",
    "teams = teams.drop_duplicates()\n",
    "teams"
   ],
   "metadata": {
    "collapsed": false
   }
  },
  {
   "cell_type": "markdown",
   "source": [
    "# Samo prvi put pokrenit\n",
    "training_set = training_set.reset_index()\n",
    "fgm = []\n",
    "fga = []\n",
    "fgPcg = []\n",
    "for i, row1 in teams.iterrows():\n",
    "    sumFgm = 0\n",
    "    sumFga = 0\n",
    "    for j, row2 in training_set.iterrows():\n",
    "        if row1['team_id'] == row2['wteam']:\n",
    "            sumFgm= sumFgm + row2['wfgm']\n",
    "            sumFga = sumFga+ row2['wfga']\n",
    "        if row1['team_id'] == row2['lteam']:\n",
    "            sumFgm= sumFgm + row2['lfgm']\n",
    "            sumFga = sumFga+ row2['lfga']\n",
    "    fgm.append(sumFgm)\n",
    "    fga.append(sumFga)\n",
    "    fgPcg.append(sumFgm / sumFga)\n",
    "teams[\"fgm\"] = fgm\n",
    "teams[\"fga\"] = fga\n",
    "teams[\"fgPcg\"] = fgPcg\n",
    "teams.to_csv(\"fgPcg.csv\", index=False)"
   ],
   "metadata": {
    "collapsed": false
   }
  },
  {
   "cell_type": "markdown",
   "source": [
    "training_set = training_set.reset_index()\n",
    "ptsTotal = []\n",
    "stlTotal = []\n",
    "blkTotal = []\n",
    "for i, row1 in teams.iterrows():\n",
    "    sumPts = 0\n",
    "    sumStl = 0\n",
    "    sumBlk = 0\n",
    "    for j, row2 in training_set.iterrows():\n",
    "        if row1['team_id'] == row2['wteam']:\n",
    "            sumPts= sumPts + row2['wscore']\n",
    "            sumStl = sumStl+ row2['wstl']\n",
    "            sumBlk = sumBlk+ row2['wblk']\n",
    "        if row1['team_id'] == row2['lteam']:\n",
    "            sumPts= sumPts + row2['lscore']\n",
    "            sumStl = sumStl+ row2['lstl']\n",
    "            sumBlk = sumBlk+ row2['lblk']\n",
    "    ptsTotal.append(sumPts)\n",
    "    stlTotal.append(sumStl)\n",
    "    blkTotal.append(sumBlk)\n",
    "teams[\"ptsTotal\"] = ptsTotal\n",
    "teams[\"stlTotal\"] = stlTotal\n",
    "teams[\"blkTotal\"] = blkTotal\n",
    "teams.to_csv(\"total.csv\", index=False)\n",
    "teams"
   ],
   "metadata": {
    "collapsed": false
   }
  },
  {
   "cell_type": "markdown",
   "source": [
    "teams = pd.read_csv(\"total.csv\")\n",
    "teams = teams.reset_index()\n",
    "won = []\n",
    "played = []\n",
    "wp = []\n",
    "for i, row1 in teams.iterrows():\n",
    "    wonCnt = 0\n",
    "    playedCnt = 0\n",
    "    for j, row2 in training_set.iterrows():\n",
    "        if row1['team_id'] == row2['wteam']:\n",
    "            wonCnt = wonCnt + 1\n",
    "            playedCnt = playedCnt + 1\n",
    "        if row1['team_id'] == row2['lteam']:\n",
    "            playedCnt = playedCnt + 1\n",
    "    won.append(wonCnt)\n",
    "    played.append(playedCnt)\n",
    "    wp.append(wonCnt / playedCnt)\n",
    "teams[\"won\"] = won\n",
    "teams[\"played\"] = played\n",
    "teams[\"wp\"] = wp\n",
    "teams.to_csv(\"total.csv\", index=False)\n",
    "teams"
   ],
   "metadata": {
    "collapsed": false
   }
  },
  {
   "cell_type": "code",
   "execution_count": 264,
   "outputs": [
    {
     "data": {
      "text/plain": "     index  Unnamed: 0  team_id      team_name   fgm   fga     fgPcg  \\\n0        0           0     1101    Abilene Chr   427  1053  0.405508   \n1        1           1     1102      Air Force  2493  5510  0.452450   \n2        2           2     1103          Akron  3253  7357  0.442164   \n3        3           3     1104        Alabama  2992  6783  0.441103   \n4        4           4     1105    Alabama A&M  2357  5896  0.399763   \n..     ...         ...      ...            ...   ...   ...       ...   \n347    347         347     1460      Wright St  2683  6278  0.427365   \n348    348         348     1461        Wyoming  2542  5762  0.441166   \n349    349         349     1462         Xavier  3251  7062  0.460351   \n350    350         350     1463           Yale  2388  5667  0.421387   \n351    351         351     1464  Youngstown St  2811  6532  0.430343   \n\n     ptsTotal  stlTotal  blkTotal  won  played        wp  \n0        1326       121        31    2      21  0.095238  \n1        7175       665       282   50     111  0.450450  \n2        9235       900       576   89     132  0.674242  \n3        8339      1007       578   74     128  0.578125  \n4        6732       702       447   36     108  0.333333  \n..        ...       ...       ...  ...     ...       ...  \n347      7869       849       240   67     126  0.531746  \n348      7424       728       415   59     118  0.500000  \n349      9253       747       416   85     132  0.643939  \n350      7196       602       416   57     109  0.522936  \n351      8009       725       515   47     115  0.408696  \n\n[352 rows x 13 columns]",
      "text/html": "<div>\n<style scoped>\n    .dataframe tbody tr th:only-of-type {\n        vertical-align: middle;\n    }\n\n    .dataframe tbody tr th {\n        vertical-align: top;\n    }\n\n    .dataframe thead th {\n        text-align: right;\n    }\n</style>\n<table border=\"1\" class=\"dataframe\">\n  <thead>\n    <tr style=\"text-align: right;\">\n      <th></th>\n      <th>index</th>\n      <th>Unnamed: 0</th>\n      <th>team_id</th>\n      <th>team_name</th>\n      <th>fgm</th>\n      <th>fga</th>\n      <th>fgPcg</th>\n      <th>ptsTotal</th>\n      <th>stlTotal</th>\n      <th>blkTotal</th>\n      <th>won</th>\n      <th>played</th>\n      <th>wp</th>\n    </tr>\n  </thead>\n  <tbody>\n    <tr>\n      <th>0</th>\n      <td>0</td>\n      <td>0</td>\n      <td>1101</td>\n      <td>Abilene Chr</td>\n      <td>427</td>\n      <td>1053</td>\n      <td>0.405508</td>\n      <td>1326</td>\n      <td>121</td>\n      <td>31</td>\n      <td>2</td>\n      <td>21</td>\n      <td>0.095238</td>\n    </tr>\n    <tr>\n      <th>1</th>\n      <td>1</td>\n      <td>1</td>\n      <td>1102</td>\n      <td>Air Force</td>\n      <td>2493</td>\n      <td>5510</td>\n      <td>0.452450</td>\n      <td>7175</td>\n      <td>665</td>\n      <td>282</td>\n      <td>50</td>\n      <td>111</td>\n      <td>0.450450</td>\n    </tr>\n    <tr>\n      <th>2</th>\n      <td>2</td>\n      <td>2</td>\n      <td>1103</td>\n      <td>Akron</td>\n      <td>3253</td>\n      <td>7357</td>\n      <td>0.442164</td>\n      <td>9235</td>\n      <td>900</td>\n      <td>576</td>\n      <td>89</td>\n      <td>132</td>\n      <td>0.674242</td>\n    </tr>\n    <tr>\n      <th>3</th>\n      <td>3</td>\n      <td>3</td>\n      <td>1104</td>\n      <td>Alabama</td>\n      <td>2992</td>\n      <td>6783</td>\n      <td>0.441103</td>\n      <td>8339</td>\n      <td>1007</td>\n      <td>578</td>\n      <td>74</td>\n      <td>128</td>\n      <td>0.578125</td>\n    </tr>\n    <tr>\n      <th>4</th>\n      <td>4</td>\n      <td>4</td>\n      <td>1105</td>\n      <td>Alabama A&amp;M</td>\n      <td>2357</td>\n      <td>5896</td>\n      <td>0.399763</td>\n      <td>6732</td>\n      <td>702</td>\n      <td>447</td>\n      <td>36</td>\n      <td>108</td>\n      <td>0.333333</td>\n    </tr>\n    <tr>\n      <th>...</th>\n      <td>...</td>\n      <td>...</td>\n      <td>...</td>\n      <td>...</td>\n      <td>...</td>\n      <td>...</td>\n      <td>...</td>\n      <td>...</td>\n      <td>...</td>\n      <td>...</td>\n      <td>...</td>\n      <td>...</td>\n      <td>...</td>\n    </tr>\n    <tr>\n      <th>347</th>\n      <td>347</td>\n      <td>347</td>\n      <td>1460</td>\n      <td>Wright St</td>\n      <td>2683</td>\n      <td>6278</td>\n      <td>0.427365</td>\n      <td>7869</td>\n      <td>849</td>\n      <td>240</td>\n      <td>67</td>\n      <td>126</td>\n      <td>0.531746</td>\n    </tr>\n    <tr>\n      <th>348</th>\n      <td>348</td>\n      <td>348</td>\n      <td>1461</td>\n      <td>Wyoming</td>\n      <td>2542</td>\n      <td>5762</td>\n      <td>0.441166</td>\n      <td>7424</td>\n      <td>728</td>\n      <td>415</td>\n      <td>59</td>\n      <td>118</td>\n      <td>0.500000</td>\n    </tr>\n    <tr>\n      <th>349</th>\n      <td>349</td>\n      <td>349</td>\n      <td>1462</td>\n      <td>Xavier</td>\n      <td>3251</td>\n      <td>7062</td>\n      <td>0.460351</td>\n      <td>9253</td>\n      <td>747</td>\n      <td>416</td>\n      <td>85</td>\n      <td>132</td>\n      <td>0.643939</td>\n    </tr>\n    <tr>\n      <th>350</th>\n      <td>350</td>\n      <td>350</td>\n      <td>1463</td>\n      <td>Yale</td>\n      <td>2388</td>\n      <td>5667</td>\n      <td>0.421387</td>\n      <td>7196</td>\n      <td>602</td>\n      <td>416</td>\n      <td>57</td>\n      <td>109</td>\n      <td>0.522936</td>\n    </tr>\n    <tr>\n      <th>351</th>\n      <td>351</td>\n      <td>351</td>\n      <td>1464</td>\n      <td>Youngstown St</td>\n      <td>2811</td>\n      <td>6532</td>\n      <td>0.430343</td>\n      <td>8009</td>\n      <td>725</td>\n      <td>515</td>\n      <td>47</td>\n      <td>115</td>\n      <td>0.408696</td>\n    </tr>\n  </tbody>\n</table>\n<p>352 rows × 13 columns</p>\n</div>"
     },
     "execution_count": 264,
     "metadata": {},
     "output_type": "execute_result"
    }
   ],
   "source": [
    "teams = pd.read_csv(\"total.csv\")\n",
    "teams"
   ],
   "metadata": {
    "collapsed": false
   }
  }
 ],
 "metadata": {
  "kernelspec": {
   "display_name": "Python 3",
   "language": "python",
   "name": "python3"
  },
  "language_info": {
   "codemirror_mode": {
    "name": "ipython",
    "version": 2
   },
   "file_extension": ".py",
   "mimetype": "text/x-python",
   "name": "python",
   "nbconvert_exporter": "python",
   "pygments_lexer": "ipython2",
   "version": "2.7.6"
  }
 },
 "nbformat": 4,
 "nbformat_minor": 0
}
