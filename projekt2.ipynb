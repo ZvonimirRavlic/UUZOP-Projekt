{
 "cells": [
  {
   "cell_type": "code",
   "execution_count": 2,
   "metadata": {
    "collapsed": true
   },
   "outputs": [],
   "source": [
    "import pandas as pd\n",
    "from ast import literal_eval"
   ]
  },
  {
   "cell_type": "markdown",
   "source": [
    "U sljedece 4 celije sam izracunavao OWP(opponents win percentage) to je za mene bio najtezi dio zadatka i on mi traje najduze mislim da bi se moglo optimizirati da se ne koriste for petlje nego da se rade grupiranja no to moramo pokrenuti samo jednom i onda ga spremimo u fajl i nakon toga mozemo ga samo ucitavati iz fajla a ne svaki put ponovno racunati. Prvo sam nasao sve timove protiv kojeg je tim igrao i onda sam iz liste protivnika nasao koliki je postotak pobjeda za taj tim ne ukljucujuci utakmice protiv trenutnog tima."
   ],
   "metadata": {
    "collapsed": false
   }
  },
  {
   "cell_type": "code",
   "execution_count": null,
   "outputs": [],
   "source": [
    "tourney_results = pd.read_csv(\"tourney_detailed_results.csv\")\n",
    "regular_results = pd.read_csv(\"regular_season_detailed_results.csv\")\n",
    "regular_results = regular_results[(regular_results[\"season\"] == 2011)]\n",
    "tourney_results = tourney_results[(tourney_results[\"season\"] == 2011)]\n",
    "training_set = regular_results.append(tourney_results)\n",
    "statistics = pd.read_csv(\"teams.csv\")\n",
    "teamsW = statistics.loc[statistics['team_id'].isin((training_set['wteam'].tolist()))]\n",
    "teamsL = statistics.loc[statistics['team_id'].isin(training_set['lteam'].tolist())]\n",
    "teams = teamsW.append(teamsL)\n",
    "teams = teams.drop_duplicates()\n",
    "teams.reset_index()\n",
    "playedAgainst = []\n",
    "for i, row1 in teams.iterrows():\n",
    "    print(row1.team_id)\n",
    "    wonCnt = 0\n",
    "    playedCnt = 0\n",
    "    timovi = []\n",
    "    for j, row2 in training_set.iterrows():\n",
    "        if row1['team_id'] == row2['wteam']:\n",
    "            timovi.append(row2.lteam)\n",
    "        if row1['team_id'] == row2['lteam']:\n",
    "            timovi.append(row2.wteam)\n",
    "    playedAgainst.append(timovi)\n",
    "teams[\"playedAgainst\"] = playedAgainst\n",
    "teams.to_csv(\"against2011.csv\", index=False)\n",
    "oppWinPcg = []\n",
    "training_set = training_set[['wteam', 'lteam']]\n",
    "owp = []\n",
    "for i, row1 in teams.iterrows():\n",
    "    print(row1.team_id)\n",
    "    wpSum = 0\n",
    "    lista = row1.playedAgainst\n",
    "    for row2 in lista:\n",
    "        wonCnt = 0\n",
    "        playedCnt = 0\n",
    "        for k, row3 in training_set.iterrows():\n",
    "            if row2 == row3['wteam'] and row1['team_id'] != row3['lteam']:\n",
    "                wonCnt = wonCnt + 1\n",
    "                playedCnt = playedCnt + 1\n",
    "            if row2 == row3['lteam'] and row1['team_id'] != row3['wteam']:\n",
    "                playedCnt = playedCnt + 1\n",
    "        if playedCnt > 0:\n",
    "            wpSum = wpSum + (wonCnt / playedCnt)\n",
    "    oppWinPcg.append(wpSum / len(lista))\n",
    "teams[\"owp\"] = oppWinPcg\n",
    "teams.to_csv(\"against2011.csv\", index=False)"
   ],
   "metadata": {
    "collapsed": false
   }
  },
  {
   "cell_type": "code",
   "execution_count": null,
   "outputs": [],
   "source": [
    "tourney_results = pd.read_csv(\"tourney_detailed_results.csv\")\n",
    "regular_results = pd.read_csv(\"regular_season_detailed_results.csv\")\n",
    "regular_results = regular_results[(regular_results[\"season\"] == 2012)]\n",
    "tourney_results = tourney_results[(tourney_results[\"season\"] == 2012)]\n",
    "training_set = regular_results.append(tourney_results)\n",
    "statistics = pd.read_csv(\"teams.csv\")\n",
    "teamsW = statistics.loc[statistics['team_id'].isin((training_set['wteam'].tolist()))]\n",
    "teamsL = statistics.loc[statistics['team_id'].isin(training_set['lteam'].tolist())]\n",
    "teams = teamsW.append(teamsL)\n",
    "teams = teams.drop_duplicates()\n",
    "teams.reset_index()\n",
    "playedAgainst = []\n",
    "for i, row1 in teams.iterrows():\n",
    "    print(row1.team_id)\n",
    "    wonCnt = 0\n",
    "    playedCnt = 0\n",
    "    timovi = []\n",
    "    for j, row2 in training_set.iterrows():\n",
    "        if row1['team_id'] == row2['wteam']:\n",
    "            timovi.append(row2.lteam)\n",
    "        if row1['team_id'] == row2['lteam']:\n",
    "            timovi.append(row2.wteam)\n",
    "    playedAgainst.append(timovi)\n",
    "teams[\"playedAgainst\"] = playedAgainst\n",
    "teams.to_csv(\"against2012.csv\", index=False)\n",
    "oppWinPcg = []\n",
    "training_set = training_set[['wteam', 'lteam']]\n",
    "owp = []\n",
    "for i, row1 in teams.iterrows():\n",
    "    print(row1.team_id)\n",
    "    wpSum = 0\n",
    "    lista = row1.playedAgainst\n",
    "    for row2 in lista:\n",
    "        wonCnt = 0\n",
    "        playedCnt = 0\n",
    "        for k, row3 in training_set.iterrows():\n",
    "            if row2 == row3['wteam'] and row1['team_id'] != row3['lteam']:\n",
    "                wonCnt = wonCnt + 1\n",
    "                playedCnt = playedCnt + 1\n",
    "            if row2 == row3['lteam'] and row1['team_id'] != row3['wteam']:\n",
    "                playedCnt = playedCnt + 1\n",
    "        if playedCnt > 0:\n",
    "            wpSum = wpSum + (wonCnt / playedCnt)\n",
    "    oppWinPcg.append(wpSum / len(lista))\n",
    "teams[\"owp\"] = oppWinPcg\n",
    "teams.to_csv(\"against2012.csv\", index=False)"
   ],
   "metadata": {
    "collapsed": false
   }
  },
  {
   "cell_type": "code",
   "execution_count": null,
   "outputs": [],
   "source": [
    "tourney_results = pd.read_csv(\"tourney_detailed_results.csv\")\n",
    "regular_results = pd.read_csv(\"regular_season_detailed_results.csv\")\n",
    "regular_results = regular_results[(regular_results[\"season\"] == 2013)]\n",
    "tourney_results = tourney_results[(tourney_results[\"season\"] == 2013)]\n",
    "training_set = regular_results.append(tourney_results)\n",
    "statistics = pd.read_csv(\"teams.csv\")\n",
    "teamsW = statistics.loc[statistics['team_id'].isin((training_set['wteam'].tolist()))]\n",
    "teamsL = statistics.loc[statistics['team_id'].isin(training_set['lteam'].tolist())]\n",
    "teams = teamsW.append(teamsL)\n",
    "teams = teams.drop_duplicates()\n",
    "playedAgainst = []\n",
    "for i, row1 in teams.iterrows():\n",
    "    print(row1.team_id)\n",
    "    wonCnt = 0\n",
    "    playedCnt = 0\n",
    "    timovi = []\n",
    "    for j, row2 in training_set.iterrows():\n",
    "        if row1['team_id'] == row2['wteam']:\n",
    "            timovi.append(row2.lteam)\n",
    "        if row1['team_id'] == row2['lteam']:\n",
    "            timovi.append(row2.wteam)\n",
    "    playedAgainst.append(timovi)\n",
    "teams[\"playedAgainst\"] = playedAgainst\n",
    "teams.to_csv(\"against2013.csv\", index=False)\n",
    "oppWinPcg = []\n",
    "training_set = training_set[['wteam', 'lteam']]\n",
    "owp = []\n",
    "for i, row1 in teams.iterrows():\n",
    "    print(row1.team_id)\n",
    "    wpSum = 0\n",
    "    lista = row1.playedAgainst\n",
    "    for row2 in lista:\n",
    "        wonCnt = 0\n",
    "        playedCnt = 0\n",
    "        for k, row3 in training_set.iterrows():\n",
    "            if row2 == row3['wteam'] and row1['team_id'] != row3['lteam']:\n",
    "                wonCnt = wonCnt + 1\n",
    "                playedCnt = playedCnt + 1\n",
    "            if row2 == row3['lteam'] and row1['team_id'] != row3['wteam']:\n",
    "                playedCnt = playedCnt + 1\n",
    "        if playedCnt > 0:\n",
    "            wpSum = wpSum + (wonCnt / playedCnt)\n",
    "    oppWinPcg.append(wpSum / len(lista))\n",
    "teams[\"owp\"] = oppWinPcg\n",
    "teams.to_csv(\"against2013.csv\", index=False)"
   ],
   "metadata": {
    "collapsed": false
   }
  },
  {
   "cell_type": "code",
   "execution_count": null,
   "outputs": [],
   "source": [
    "tourney_results = pd.read_csv(\"tourney_detailed_results.csv\")\n",
    "regular_results = pd.read_csv(\"regular_season_detailed_results.csv\")\n",
    "regular_results = regular_results[(regular_results[\"season\"] == 2014)]\n",
    "training_set = regular_results\n",
    "statistics = pd.read_csv(\"teams.csv\")\n",
    "teamsW = statistics.loc[statistics['team_id'].isin((training_set['wteam'].tolist()))]\n",
    "teamsL = statistics.loc[statistics['team_id'].isin(training_set['lteam'].tolist())]\n",
    "teams = teamsW.append(teamsL)\n",
    "teams = teams.drop_duplicates()\n",
    "playedAgainst = []\n",
    "for i, row1 in teams.iterrows():\n",
    "    print(row1.team_id)\n",
    "    wonCnt = 0\n",
    "    playedCnt = 0\n",
    "    timovi = []\n",
    "    for j, row2 in training_set.iterrows():\n",
    "        if row1['team_id'] == row2['wteam']:\n",
    "            timovi.append(row2.lteam)\n",
    "        if row1['team_id'] == row2['lteam']:\n",
    "            timovi.append(row2.wteam)\n",
    "    playedAgainst.append(timovi)\n",
    "teams[\"playedAgainst\"] = playedAgainst\n",
    "teams.to_csv(\"against2014.csv\", index=False)\n",
    "oppWinPcg = []\n",
    "training_set = training_set[['wteam', 'lteam']]\n",
    "owp = []\n",
    "for i, row1 in teams.iterrows():\n",
    "    print(row1.team_id)\n",
    "    wpSum = 0\n",
    "    lista = row1.playedAgainst\n",
    "    for row2 in lista:\n",
    "        wonCnt = 0\n",
    "        playedCnt = 0\n",
    "        for k, row3 in training_set.iterrows():\n",
    "            if row2 == row3['wteam'] and row1['team_id'] != row3['lteam']:\n",
    "                wonCnt = wonCnt + 1\n",
    "                playedCnt = playedCnt + 1\n",
    "            if row2 == row3['lteam'] and row1['team_id'] != row3['wteam']:\n",
    "                playedCnt = playedCnt + 1\n",
    "        if playedCnt > 0:\n",
    "            wpSum = wpSum + (wonCnt / playedCnt)\n",
    "    oppWinPcg.append(wpSum / len(lista))\n",
    "teams[\"owp\"] = oppWinPcg\n",
    "teams.to_csv(\"against2014.csv\", index=False)"
   ],
   "metadata": {
    "collapsed": false
   }
  },
  {
   "cell_type": "markdown",
   "source": [
    "U sljedece 4 celije sam racunao oowp koji se racuna tako sto se zbroje owp od protivnika i nadje se srednja vrijednost."
   ],
   "metadata": {
    "collapsed": false
   }
  },
  {
   "cell_type": "code",
   "execution_count": 8,
   "outputs": [
    {
     "data": {
      "text/plain": "     index  team_id      team_name  \\\n0        1     1102      Air Force   \n1        2     1103          Akron   \n2        3     1104        Alabama   \n3        4     1105    Alabama A&M   \n4        5     1106     Alabama St   \n..     ...      ...            ...   \n340    359     1460      Wright St   \n341    360     1461        Wyoming   \n342    361     1462         Xavier   \n343    362     1463           Yale   \n344    363     1464  Youngstown St   \n\n                                         playedAgainst    owpSum       owp  \\\n0    [1398, 1459, 1169, 1191, 1460, 1300, 1115, 131...  0.562273  0.551782   \n1    [1173, 1464, 1156, 1178, 1227, 1396, 1278, 112...  0.503356  0.497198   \n2    [1197, 1407, 1371, 1234, 1389, 1105, 1375, 134...  0.522822  0.512782   \n3    [1443, 1104, 1398, 1455, 1412, 1301, 1212, 123...  0.400556  0.393084   \n4    [1166, 1235, 1319, 1244, 1260, 1416, 1408, 111...  0.420996  0.413547   \n..                                                 ...       ...       ...   \n340  [1231, 1380, 1324, 1350, 1356, 1153, 1178, 110...  0.524377  0.513710   \n341  [1294, 1316, 1442, 1281, 1344, 1377, 1232, 141...  0.521940  0.511216   \n342  [1444, 1236, 1234, 1371, 1330, 1459, 1275, 113...  0.565697  0.556442   \n343  [1346, 1344, 1130, 1228, 1119, 1216, 1436, 110...  0.492021  0.488939   \n344  [1359, 1138, 1103, 1405, 1384, 1454, 1453, 135...  0.507729  0.502103   \n\n     won  played        wp  fgm   fga     fgPcg  ptsTotal  stlTotal  blkTotal  \\\n0     14      28  0.500000  628  1340  0.468657      1799       6.0       2.5   \n1     22      35  0.628571  859  2009  0.427576      2435       6.5       3.5   \n2     21      32  0.656250  796  1789  0.444941      2133       9.0       5.0   \n3     10      25  0.400000  554  1395  0.397133      1570       8.5       5.5   \n4     15      33  0.454545  691  1744  0.396216      2031       7.5       4.5   \n..   ...     ...       ...  ...   ...       ...       ...       ...       ...   \n340   17      31  0.548387  668  1559  0.428480      1988       6.0       1.0   \n341    8      29  0.275862  654  1542  0.424125      1872       7.5       4.0   \n342   24      32  0.750000  784  1700  0.461176      2306       5.5       3.0   \n343   14      27  0.518519  625  1425  0.438596      1823       4.5       4.5   \n344    7      28  0.250000  692  1673  0.413628      1908       6.0       5.0   \n\n         oowp  \n0    0.526151  \n1    0.492487  \n2    0.530720  \n3    0.432363  \n4    0.433400  \n..        ...  \n340  0.516729  \n341  0.529822  \n342  0.534757  \n343  0.486854  \n344  0.509835  \n\n[345 rows x 16 columns]",
      "text/html": "<div>\n<style scoped>\n    .dataframe tbody tr th:only-of-type {\n        vertical-align: middle;\n    }\n\n    .dataframe tbody tr th {\n        vertical-align: top;\n    }\n\n    .dataframe thead th {\n        text-align: right;\n    }\n</style>\n<table border=\"1\" class=\"dataframe\">\n  <thead>\n    <tr style=\"text-align: right;\">\n      <th></th>\n      <th>index</th>\n      <th>team_id</th>\n      <th>team_name</th>\n      <th>playedAgainst</th>\n      <th>owpSum</th>\n      <th>owp</th>\n      <th>won</th>\n      <th>played</th>\n      <th>wp</th>\n      <th>fgm</th>\n      <th>fga</th>\n      <th>fgPcg</th>\n      <th>ptsTotal</th>\n      <th>stlTotal</th>\n      <th>blkTotal</th>\n      <th>oowp</th>\n    </tr>\n  </thead>\n  <tbody>\n    <tr>\n      <th>0</th>\n      <td>1</td>\n      <td>1102</td>\n      <td>Air Force</td>\n      <td>[1398, 1459, 1169, 1191, 1460, 1300, 1115, 131...</td>\n      <td>0.562273</td>\n      <td>0.551782</td>\n      <td>14</td>\n      <td>28</td>\n      <td>0.500000</td>\n      <td>628</td>\n      <td>1340</td>\n      <td>0.468657</td>\n      <td>1799</td>\n      <td>6.0</td>\n      <td>2.5</td>\n      <td>0.526151</td>\n    </tr>\n    <tr>\n      <th>1</th>\n      <td>2</td>\n      <td>1103</td>\n      <td>Akron</td>\n      <td>[1173, 1464, 1156, 1178, 1227, 1396, 1278, 112...</td>\n      <td>0.503356</td>\n      <td>0.497198</td>\n      <td>22</td>\n      <td>35</td>\n      <td>0.628571</td>\n      <td>859</td>\n      <td>2009</td>\n      <td>0.427576</td>\n      <td>2435</td>\n      <td>6.5</td>\n      <td>3.5</td>\n      <td>0.492487</td>\n    </tr>\n    <tr>\n      <th>2</th>\n      <td>3</td>\n      <td>1104</td>\n      <td>Alabama</td>\n      <td>[1197, 1407, 1371, 1234, 1389, 1105, 1375, 134...</td>\n      <td>0.522822</td>\n      <td>0.512782</td>\n      <td>21</td>\n      <td>32</td>\n      <td>0.656250</td>\n      <td>796</td>\n      <td>1789</td>\n      <td>0.444941</td>\n      <td>2133</td>\n      <td>9.0</td>\n      <td>5.0</td>\n      <td>0.530720</td>\n    </tr>\n    <tr>\n      <th>3</th>\n      <td>4</td>\n      <td>1105</td>\n      <td>Alabama A&amp;M</td>\n      <td>[1443, 1104, 1398, 1455, 1412, 1301, 1212, 123...</td>\n      <td>0.400556</td>\n      <td>0.393084</td>\n      <td>10</td>\n      <td>25</td>\n      <td>0.400000</td>\n      <td>554</td>\n      <td>1395</td>\n      <td>0.397133</td>\n      <td>1570</td>\n      <td>8.5</td>\n      <td>5.5</td>\n      <td>0.432363</td>\n    </tr>\n    <tr>\n      <th>4</th>\n      <td>5</td>\n      <td>1106</td>\n      <td>Alabama St</td>\n      <td>[1166, 1235, 1319, 1244, 1260, 1416, 1408, 111...</td>\n      <td>0.420996</td>\n      <td>0.413547</td>\n      <td>15</td>\n      <td>33</td>\n      <td>0.454545</td>\n      <td>691</td>\n      <td>1744</td>\n      <td>0.396216</td>\n      <td>2031</td>\n      <td>7.5</td>\n      <td>4.5</td>\n      <td>0.433400</td>\n    </tr>\n    <tr>\n      <th>...</th>\n      <td>...</td>\n      <td>...</td>\n      <td>...</td>\n      <td>...</td>\n      <td>...</td>\n      <td>...</td>\n      <td>...</td>\n      <td>...</td>\n      <td>...</td>\n      <td>...</td>\n      <td>...</td>\n      <td>...</td>\n      <td>...</td>\n      <td>...</td>\n      <td>...</td>\n      <td>...</td>\n    </tr>\n    <tr>\n      <th>340</th>\n      <td>359</td>\n      <td>1460</td>\n      <td>Wright St</td>\n      <td>[1231, 1380, 1324, 1350, 1356, 1153, 1178, 110...</td>\n      <td>0.524377</td>\n      <td>0.513710</td>\n      <td>17</td>\n      <td>31</td>\n      <td>0.548387</td>\n      <td>668</td>\n      <td>1559</td>\n      <td>0.428480</td>\n      <td>1988</td>\n      <td>6.0</td>\n      <td>1.0</td>\n      <td>0.516729</td>\n    </tr>\n    <tr>\n      <th>341</th>\n      <td>360</td>\n      <td>1461</td>\n      <td>Wyoming</td>\n      <td>[1294, 1316, 1442, 1281, 1344, 1377, 1232, 141...</td>\n      <td>0.521940</td>\n      <td>0.511216</td>\n      <td>8</td>\n      <td>29</td>\n      <td>0.275862</td>\n      <td>654</td>\n      <td>1542</td>\n      <td>0.424125</td>\n      <td>1872</td>\n      <td>7.5</td>\n      <td>4.0</td>\n      <td>0.529822</td>\n    </tr>\n    <tr>\n      <th>342</th>\n      <td>361</td>\n      <td>1462</td>\n      <td>Xavier</td>\n      <td>[1444, 1236, 1234, 1371, 1330, 1459, 1275, 113...</td>\n      <td>0.565697</td>\n      <td>0.556442</td>\n      <td>24</td>\n      <td>32</td>\n      <td>0.750000</td>\n      <td>784</td>\n      <td>1700</td>\n      <td>0.461176</td>\n      <td>2306</td>\n      <td>5.5</td>\n      <td>3.0</td>\n      <td>0.534757</td>\n    </tr>\n    <tr>\n      <th>343</th>\n      <td>362</td>\n      <td>1463</td>\n      <td>Yale</td>\n      <td>[1346, 1344, 1130, 1228, 1119, 1216, 1436, 110...</td>\n      <td>0.492021</td>\n      <td>0.488939</td>\n      <td>14</td>\n      <td>27</td>\n      <td>0.518519</td>\n      <td>625</td>\n      <td>1425</td>\n      <td>0.438596</td>\n      <td>1823</td>\n      <td>4.5</td>\n      <td>4.5</td>\n      <td>0.486854</td>\n    </tr>\n    <tr>\n      <th>344</th>\n      <td>363</td>\n      <td>1464</td>\n      <td>Youngstown St</td>\n      <td>[1359, 1138, 1103, 1405, 1384, 1454, 1453, 135...</td>\n      <td>0.507729</td>\n      <td>0.502103</td>\n      <td>7</td>\n      <td>28</td>\n      <td>0.250000</td>\n      <td>692</td>\n      <td>1673</td>\n      <td>0.413628</td>\n      <td>1908</td>\n      <td>6.0</td>\n      <td>5.0</td>\n      <td>0.509835</td>\n    </tr>\n  </tbody>\n</table>\n<p>345 rows × 16 columns</p>\n</div>"
     },
     "execution_count": 8,
     "metadata": {},
     "output_type": "execute_result"
    }
   ],
   "source": [
    "teams = pd.read_csv(\"total2011.csv\")\n",
    "owps = pd.read_csv(\"against2011.csv\")\n",
    "oowp = []\n",
    "for i, row1 in teams.iterrows():\n",
    "    owpSum = 0\n",
    "    lista = literal_eval(row1.playedAgainst)\n",
    "    for row2 in lista:\n",
    "        team = owps.loc[owps['team_id'] == row2]\n",
    "        owpSum = owpSum + team.iloc[0].owp\n",
    "    oowp.append(owpSum / len(lista))\n",
    "teams[\"oowp\"] = oowp\n",
    "teams.to_csv(\"total2011.csv\", index=False)\n",
    "teams"
   ],
   "metadata": {
    "collapsed": false
   }
  },
  {
   "cell_type": "code",
   "execution_count": 9,
   "outputs": [
    {
     "data": {
      "text/plain": "     team_id      team_name  \\\n0       1102      Air Force   \n1       1103          Akron   \n2       1104        Alabama   \n3       1105    Alabama A&M   \n4       1106     Alabama St   \n..       ...            ...   \n340     1460      Wright St   \n341     1461        Wyoming   \n342     1462         Xavier   \n343     1463           Yale   \n344     1464  Youngstown St   \n\n                                         playedAgainst       owp  won  played  \\\n0    [1119, 1440, 1160, 1179, 1460, 1115, 1271, 121...  0.552012   11      27   \n1    [1280, 1434, 1182, 1178, 1452, 1292, 1156, 111...  0.556858   21      32   \n2    [1316, 1324, 1268, 1455, 1345, 1105, 1433, 120...  0.581899   21      33   \n3    [1408, 1104, 1375, 1276, 1210, 1398, 1412, 123...  0.385437    5      26   \n4    [1267, 1153, 1322, 1240, 1191, 1198, 1372, 138...  0.396064   10      29   \n..                                                 ...       ...  ...     ...   \n340  [1326, 1238, 1196, 1316, 1150, 1156, 1464, 110...  0.493380   12      31   \n341  [1294, 1453, 1377, 1340, 1271, 1256, 1430, 113...  0.529698   18      29   \n342  [1288, 1236, 1275, 1208, 1435, 1345, 1139, 115...  0.588522   23      36   \n343  [1148, 1346, 1371, 1119, 1216, 1436, 1357, 113...  0.466069   17      26   \n344  [1359, 1415, 1336, 1384, 1178, 1460, 1138, 140...  0.483435   14      29   \n\n           wp  fgm   fga     fgPcg  ptsTotal  stlTotal  blkTotal      oowp  \n0    0.407407  564  1269  0.444444      1638       6.5       3.0  0.513948  \n1    0.656250  803  1741  0.461229      2287       7.5       4.5  0.495346  \n2    0.636364  778  1722  0.451800      2135       7.0       4.0  0.550995  \n3    0.192308  564  1401  0.402570      1589       6.0       4.0  0.439301  \n4    0.344828  594  1593  0.372881      1674       7.5       3.0  0.441045  \n..        ...  ...   ...       ...       ...       ...       ...       ...  \n340  0.387097  600  1512  0.396825      1777       6.5       1.5  0.504844  \n341  0.620690  623  1397  0.445956      1809       6.5       3.5  0.518022  \n342  0.638889  899  1985  0.452897      2543       6.0       4.0  0.535955  \n343  0.653846  582  1370  0.424818      1733       5.0       3.5  0.493051  \n344  0.482759  690  1604  0.430175      1946       6.5       5.5  0.497120  \n\n[345 rows x 14 columns]",
      "text/html": "<div>\n<style scoped>\n    .dataframe tbody tr th:only-of-type {\n        vertical-align: middle;\n    }\n\n    .dataframe tbody tr th {\n        vertical-align: top;\n    }\n\n    .dataframe thead th {\n        text-align: right;\n    }\n</style>\n<table border=\"1\" class=\"dataframe\">\n  <thead>\n    <tr style=\"text-align: right;\">\n      <th></th>\n      <th>team_id</th>\n      <th>team_name</th>\n      <th>playedAgainst</th>\n      <th>owp</th>\n      <th>won</th>\n      <th>played</th>\n      <th>wp</th>\n      <th>fgm</th>\n      <th>fga</th>\n      <th>fgPcg</th>\n      <th>ptsTotal</th>\n      <th>stlTotal</th>\n      <th>blkTotal</th>\n      <th>oowp</th>\n    </tr>\n  </thead>\n  <tbody>\n    <tr>\n      <th>0</th>\n      <td>1102</td>\n      <td>Air Force</td>\n      <td>[1119, 1440, 1160, 1179, 1460, 1115, 1271, 121...</td>\n      <td>0.552012</td>\n      <td>11</td>\n      <td>27</td>\n      <td>0.407407</td>\n      <td>564</td>\n      <td>1269</td>\n      <td>0.444444</td>\n      <td>1638</td>\n      <td>6.5</td>\n      <td>3.0</td>\n      <td>0.513948</td>\n    </tr>\n    <tr>\n      <th>1</th>\n      <td>1103</td>\n      <td>Akron</td>\n      <td>[1280, 1434, 1182, 1178, 1452, 1292, 1156, 111...</td>\n      <td>0.556858</td>\n      <td>21</td>\n      <td>32</td>\n      <td>0.656250</td>\n      <td>803</td>\n      <td>1741</td>\n      <td>0.461229</td>\n      <td>2287</td>\n      <td>7.5</td>\n      <td>4.5</td>\n      <td>0.495346</td>\n    </tr>\n    <tr>\n      <th>2</th>\n      <td>1104</td>\n      <td>Alabama</td>\n      <td>[1316, 1324, 1268, 1455, 1345, 1105, 1433, 120...</td>\n      <td>0.581899</td>\n      <td>21</td>\n      <td>33</td>\n      <td>0.636364</td>\n      <td>778</td>\n      <td>1722</td>\n      <td>0.451800</td>\n      <td>2135</td>\n      <td>7.0</td>\n      <td>4.0</td>\n      <td>0.550995</td>\n    </tr>\n    <tr>\n      <th>3</th>\n      <td>1105</td>\n      <td>Alabama A&amp;M</td>\n      <td>[1408, 1104, 1375, 1276, 1210, 1398, 1412, 123...</td>\n      <td>0.385437</td>\n      <td>5</td>\n      <td>26</td>\n      <td>0.192308</td>\n      <td>564</td>\n      <td>1401</td>\n      <td>0.402570</td>\n      <td>1589</td>\n      <td>6.0</td>\n      <td>4.0</td>\n      <td>0.439301</td>\n    </tr>\n    <tr>\n      <th>4</th>\n      <td>1106</td>\n      <td>Alabama St</td>\n      <td>[1267, 1153, 1322, 1240, 1191, 1198, 1372, 138...</td>\n      <td>0.396064</td>\n      <td>10</td>\n      <td>29</td>\n      <td>0.344828</td>\n      <td>594</td>\n      <td>1593</td>\n      <td>0.372881</td>\n      <td>1674</td>\n      <td>7.5</td>\n      <td>3.0</td>\n      <td>0.441045</td>\n    </tr>\n    <tr>\n      <th>...</th>\n      <td>...</td>\n      <td>...</td>\n      <td>...</td>\n      <td>...</td>\n      <td>...</td>\n      <td>...</td>\n      <td>...</td>\n      <td>...</td>\n      <td>...</td>\n      <td>...</td>\n      <td>...</td>\n      <td>...</td>\n      <td>...</td>\n      <td>...</td>\n    </tr>\n    <tr>\n      <th>340</th>\n      <td>1460</td>\n      <td>Wright St</td>\n      <td>[1326, 1238, 1196, 1316, 1150, 1156, 1464, 110...</td>\n      <td>0.493380</td>\n      <td>12</td>\n      <td>31</td>\n      <td>0.387097</td>\n      <td>600</td>\n      <td>1512</td>\n      <td>0.396825</td>\n      <td>1777</td>\n      <td>6.5</td>\n      <td>1.5</td>\n      <td>0.504844</td>\n    </tr>\n    <tr>\n      <th>341</th>\n      <td>1461</td>\n      <td>Wyoming</td>\n      <td>[1294, 1453, 1377, 1340, 1271, 1256, 1430, 113...</td>\n      <td>0.529698</td>\n      <td>18</td>\n      <td>29</td>\n      <td>0.620690</td>\n      <td>623</td>\n      <td>1397</td>\n      <td>0.445956</td>\n      <td>1809</td>\n      <td>6.5</td>\n      <td>3.5</td>\n      <td>0.518022</td>\n    </tr>\n    <tr>\n      <th>342</th>\n      <td>1462</td>\n      <td>Xavier</td>\n      <td>[1288, 1236, 1275, 1208, 1435, 1345, 1139, 115...</td>\n      <td>0.588522</td>\n      <td>23</td>\n      <td>36</td>\n      <td>0.638889</td>\n      <td>899</td>\n      <td>1985</td>\n      <td>0.452897</td>\n      <td>2543</td>\n      <td>6.0</td>\n      <td>4.0</td>\n      <td>0.535955</td>\n    </tr>\n    <tr>\n      <th>343</th>\n      <td>1463</td>\n      <td>Yale</td>\n      <td>[1148, 1346, 1371, 1119, 1216, 1436, 1357, 113...</td>\n      <td>0.466069</td>\n      <td>17</td>\n      <td>26</td>\n      <td>0.653846</td>\n      <td>582</td>\n      <td>1370</td>\n      <td>0.424818</td>\n      <td>1733</td>\n      <td>5.0</td>\n      <td>3.5</td>\n      <td>0.493051</td>\n    </tr>\n    <tr>\n      <th>344</th>\n      <td>1464</td>\n      <td>Youngstown St</td>\n      <td>[1359, 1415, 1336, 1384, 1178, 1460, 1138, 140...</td>\n      <td>0.483435</td>\n      <td>14</td>\n      <td>29</td>\n      <td>0.482759</td>\n      <td>690</td>\n      <td>1604</td>\n      <td>0.430175</td>\n      <td>1946</td>\n      <td>6.5</td>\n      <td>5.5</td>\n      <td>0.497120</td>\n    </tr>\n  </tbody>\n</table>\n<p>345 rows × 14 columns</p>\n</div>"
     },
     "execution_count": 9,
     "metadata": {},
     "output_type": "execute_result"
    }
   ],
   "source": [
    "teams = pd.read_csv(\"total2012.csv\")\n",
    "owps = pd.read_csv(\"against2012.csv\")\n",
    "oowp = []\n",
    "for i, row1 in teams.iterrows():\n",
    "    owpSum = 0\n",
    "    lista = literal_eval(row1.playedAgainst)\n",
    "    for row2 in lista:\n",
    "        team = owps.loc[owps['team_id'] == row2]\n",
    "        owpSum = owpSum + team.iloc[0].owp\n",
    "    oowp.append(owpSum / len(lista))\n",
    "teams[\"oowp\"] = oowp\n",
    "teams.to_csv(\"total2012.csv\", index=False)\n",
    "teams"
   ],
   "metadata": {
    "collapsed": false
   }
  },
  {
   "cell_type": "code",
   "execution_count": 10,
   "outputs": [
    {
     "data": {
      "text/plain": "     team_id      team_name  \\\n0       1102      Air Force   \n1       1103          Akron   \n2       1104        Alabama   \n3       1105    Alabama A&M   \n4       1106     Alabama St   \n..       ...            ...   \n342     1461        Wyoming   \n343     1462         Xavier   \n344     1463           Yale   \n345     1464  Youngstown St   \n346     1212      Grambling   \n\n                                         playedAgainst       owp  won  played  \\\n0    [1119, 1154, 1286, 1160, 1238, 1455, 1115, 141...  0.555456   15      28   \n1    [1157, 1329, 1421, 1336, 1292, 1166, 1178, 111...  0.528784   25      32   \n2    [1355, 1333, 1437, 1149, 1249, 1153, 1173, 143...  0.548965   20      32   \n3    [1235, 1240, 1191, 1398, 1273, 1435, 1283, 111...  0.390389    9      29   \n4    [1292, 1196, 1416, 1366, 1407, 1152, 1178, 140...  0.408966    9      31   \n..                                                 ...       ...  ...     ...   \n342  [1300, 1377, 1380, 1294, 1167, 1364, 1160, 122...  0.553638   17      30   \n343  [1192, 1139, 1352, 1334, 1180, 1179, 1345, 143...  0.556061   17      31   \n344  [1357, 1386, 1191, 1138, 1442, 1436, 1119, 121...  0.490071   12      29   \n345  [1203, 1208, 1384, 1295, 1241, 1182, 1245, 113...  0.480199   14      29   \n346  [1156, 1123, 1275, 1222, 1403, 1333, 1120, 137...  0.384451    0      28   \n\n           wp  fgm   fga     fgPcg  ptsTotal  stlTotal  blkTotal      oowp  \n0    0.535714  683  1450  0.471034      1930       6.0       1.5  0.535908  \n1    0.781250  814  1808  0.450221      2272       7.0       5.5  0.492753  \n2    0.625000  714  1666  0.428571      2003       8.0       4.5  0.534171  \n3    0.310345  636  1613  0.394296      1786       5.5       3.5  0.443865  \n4    0.290323  705  1744  0.404243      1906       6.0       3.0  0.439865  \n..        ...  ...   ...       ...       ...       ...       ...       ...  \n342  0.566667  611  1437  0.425191      1804       6.5       3.0  0.539226  \n343  0.548387  722  1582  0.456384      2021       5.5       3.0  0.540849  \n344  0.413793  617  1500  0.411333      1863       6.0       3.0  0.483429  \n345  0.482759  693  1634  0.424113      1988       6.5       5.5  0.493816  \n346  0.000000  519  1436  0.361421      1391       4.5       2.5  0.434780  \n\n[347 rows x 14 columns]",
      "text/html": "<div>\n<style scoped>\n    .dataframe tbody tr th:only-of-type {\n        vertical-align: middle;\n    }\n\n    .dataframe tbody tr th {\n        vertical-align: top;\n    }\n\n    .dataframe thead th {\n        text-align: right;\n    }\n</style>\n<table border=\"1\" class=\"dataframe\">\n  <thead>\n    <tr style=\"text-align: right;\">\n      <th></th>\n      <th>team_id</th>\n      <th>team_name</th>\n      <th>playedAgainst</th>\n      <th>owp</th>\n      <th>won</th>\n      <th>played</th>\n      <th>wp</th>\n      <th>fgm</th>\n      <th>fga</th>\n      <th>fgPcg</th>\n      <th>ptsTotal</th>\n      <th>stlTotal</th>\n      <th>blkTotal</th>\n      <th>oowp</th>\n    </tr>\n  </thead>\n  <tbody>\n    <tr>\n      <th>0</th>\n      <td>1102</td>\n      <td>Air Force</td>\n      <td>[1119, 1154, 1286, 1160, 1238, 1455, 1115, 141...</td>\n      <td>0.555456</td>\n      <td>15</td>\n      <td>28</td>\n      <td>0.535714</td>\n      <td>683</td>\n      <td>1450</td>\n      <td>0.471034</td>\n      <td>1930</td>\n      <td>6.0</td>\n      <td>1.5</td>\n      <td>0.535908</td>\n    </tr>\n    <tr>\n      <th>1</th>\n      <td>1103</td>\n      <td>Akron</td>\n      <td>[1157, 1329, 1421, 1336, 1292, 1166, 1178, 111...</td>\n      <td>0.528784</td>\n      <td>25</td>\n      <td>32</td>\n      <td>0.781250</td>\n      <td>814</td>\n      <td>1808</td>\n      <td>0.450221</td>\n      <td>2272</td>\n      <td>7.0</td>\n      <td>5.5</td>\n      <td>0.492753</td>\n    </tr>\n    <tr>\n      <th>2</th>\n      <td>1104</td>\n      <td>Alabama</td>\n      <td>[1355, 1333, 1437, 1149, 1249, 1153, 1173, 143...</td>\n      <td>0.548965</td>\n      <td>20</td>\n      <td>32</td>\n      <td>0.625000</td>\n      <td>714</td>\n      <td>1666</td>\n      <td>0.428571</td>\n      <td>2003</td>\n      <td>8.0</td>\n      <td>4.5</td>\n      <td>0.534171</td>\n    </tr>\n    <tr>\n      <th>3</th>\n      <td>1105</td>\n      <td>Alabama A&amp;M</td>\n      <td>[1235, 1240, 1191, 1398, 1273, 1435, 1283, 111...</td>\n      <td>0.390389</td>\n      <td>9</td>\n      <td>29</td>\n      <td>0.310345</td>\n      <td>636</td>\n      <td>1613</td>\n      <td>0.394296</td>\n      <td>1786</td>\n      <td>5.5</td>\n      <td>3.5</td>\n      <td>0.443865</td>\n    </tr>\n    <tr>\n      <th>4</th>\n      <td>1106</td>\n      <td>Alabama St</td>\n      <td>[1292, 1196, 1416, 1366, 1407, 1152, 1178, 140...</td>\n      <td>0.408966</td>\n      <td>9</td>\n      <td>31</td>\n      <td>0.290323</td>\n      <td>705</td>\n      <td>1744</td>\n      <td>0.404243</td>\n      <td>1906</td>\n      <td>6.0</td>\n      <td>3.0</td>\n      <td>0.439865</td>\n    </tr>\n    <tr>\n      <th>...</th>\n      <td>...</td>\n      <td>...</td>\n      <td>...</td>\n      <td>...</td>\n      <td>...</td>\n      <td>...</td>\n      <td>...</td>\n      <td>...</td>\n      <td>...</td>\n      <td>...</td>\n      <td>...</td>\n      <td>...</td>\n      <td>...</td>\n      <td>...</td>\n    </tr>\n    <tr>\n      <th>342</th>\n      <td>1461</td>\n      <td>Wyoming</td>\n      <td>[1300, 1377, 1380, 1294, 1167, 1364, 1160, 122...</td>\n      <td>0.553638</td>\n      <td>17</td>\n      <td>30</td>\n      <td>0.566667</td>\n      <td>611</td>\n      <td>1437</td>\n      <td>0.425191</td>\n      <td>1804</td>\n      <td>6.5</td>\n      <td>3.0</td>\n      <td>0.539226</td>\n    </tr>\n    <tr>\n      <th>343</th>\n      <td>1462</td>\n      <td>Xavier</td>\n      <td>[1192, 1139, 1352, 1334, 1180, 1179, 1345, 143...</td>\n      <td>0.556061</td>\n      <td>17</td>\n      <td>31</td>\n      <td>0.548387</td>\n      <td>722</td>\n      <td>1582</td>\n      <td>0.456384</td>\n      <td>2021</td>\n      <td>5.5</td>\n      <td>3.0</td>\n      <td>0.540849</td>\n    </tr>\n    <tr>\n      <th>344</th>\n      <td>1463</td>\n      <td>Yale</td>\n      <td>[1357, 1386, 1191, 1138, 1442, 1436, 1119, 121...</td>\n      <td>0.490071</td>\n      <td>12</td>\n      <td>29</td>\n      <td>0.413793</td>\n      <td>617</td>\n      <td>1500</td>\n      <td>0.411333</td>\n      <td>1863</td>\n      <td>6.0</td>\n      <td>3.0</td>\n      <td>0.483429</td>\n    </tr>\n    <tr>\n      <th>345</th>\n      <td>1464</td>\n      <td>Youngstown St</td>\n      <td>[1203, 1208, 1384, 1295, 1241, 1182, 1245, 113...</td>\n      <td>0.480199</td>\n      <td>14</td>\n      <td>29</td>\n      <td>0.482759</td>\n      <td>693</td>\n      <td>1634</td>\n      <td>0.424113</td>\n      <td>1988</td>\n      <td>6.5</td>\n      <td>5.5</td>\n      <td>0.493816</td>\n    </tr>\n    <tr>\n      <th>346</th>\n      <td>1212</td>\n      <td>Grambling</td>\n      <td>[1156, 1123, 1275, 1222, 1403, 1333, 1120, 137...</td>\n      <td>0.384451</td>\n      <td>0</td>\n      <td>28</td>\n      <td>0.000000</td>\n      <td>519</td>\n      <td>1436</td>\n      <td>0.361421</td>\n      <td>1391</td>\n      <td>4.5</td>\n      <td>2.5</td>\n      <td>0.434780</td>\n    </tr>\n  </tbody>\n</table>\n<p>347 rows × 14 columns</p>\n</div>"
     },
     "execution_count": 10,
     "metadata": {},
     "output_type": "execute_result"
    }
   ],
   "source": [
    "teams = pd.read_csv(\"total2013.csv\")\n",
    "owps = pd.read_csv(\"against2013.csv\")\n",
    "oowp = []\n",
    "for i, row1 in teams.iterrows():\n",
    "    owpSum = 0\n",
    "    lista = literal_eval(row1.playedAgainst)\n",
    "    for row2 in lista:\n",
    "        team = owps.loc[owps['team_id'] == row2]\n",
    "        owpSum = owpSum + team.iloc[0].owp\n",
    "    oowp.append(owpSum / len(lista))\n",
    "teams[\"oowp\"] = oowp\n",
    "teams.to_csv(\"total2013.csv\", index=False)\n",
    "teams"
   ],
   "metadata": {
    "collapsed": false
   }
  },
  {
   "cell_type": "code",
   "execution_count": 11,
   "outputs": [
    {
     "data": {
      "text/plain": "     team_id      team_name  \\\n0       1101    Abilene Chr   \n1       1102      Air Force   \n2       1103          Akron   \n3       1104        Alabama   \n4       1105    Alabama A&M   \n..       ...            ...   \n346     1460      Wright St   \n347     1461        Wyoming   \n348     1462         Xavier   \n349     1463           Yale   \n350     1464  Youngstown St   \n\n                                         playedAgainst       owp  won  played  \\\n0    [1182, 1382, 1268, 1234, 1395, 1462, 1406, 130...  0.460338    2      21   \n1    [1119, 1440, 1238, 1115, 1350, 1160, 1377, 141...  0.492970   10      28   \n2    [1157, 1388, 1292, 1156, 1126, 1331, 1178, 133...  0.507936   21      33   \n3    [1328, 1403, 1209, 1181, 1180, 1316, 1378, 114...  0.612793   12      31   \n4    [1307, 1444, 1184, 1240, 1398, 1325, 1283, 141...  0.418626   12      28   \n..                                                 ...       ...  ...     ...   \n346  [1207, 1177, 1223, 1375, 1108, 1441, 1287, 129...  0.448458   18      32   \n347  [1404, 1160, 1117, 1238, 1377, 1326, 1286, 137...  0.511376   16      30   \n348  [1205, 1397, 1287, 1275, 1101, 1234, 1397, 142...  0.564464   21      33   \n349  [1148, 1163, 1353, 1357, 1273, 1248, 1216, 113...  0.500480   14      27   \n350  [1244, 1198, 1184, 1269, 1245, 1122, 1352, 128...  0.471631   12      29   \n\n           wp  fgm   fga     fgPcg  ptsTotal  stlTotal  blkTotal      oowp  \n0    0.095238  427  1053  0.405508      1326       6.0       1.5  0.474180  \n1    0.357143  618  1451  0.425913      1808       5.5       3.0  0.515688  \n2    0.636364  777  1799  0.431907      2241       6.5       4.0  0.513193  \n3    0.387097  704  1606  0.438356      2068       6.5       4.0  0.544920  \n4    0.428571  603  1487  0.405514      1787       6.0       4.0  0.446720  \n..        ...  ...   ...       ...       ...       ...       ...       ...  \n346  0.562500  710  1580  0.449367      2127       6.5       3.0  0.493479  \n347  0.533333  654  1386  0.471861      1939       4.5       4.0  0.517649  \n348  0.636364  846  1795  0.471309      2383       6.0       3.0  0.555836  \n349  0.518519  564  1372  0.411079      1777       6.0       4.5  0.479360  \n350  0.413793  736  1621  0.454041      2167       6.5       2.5  0.496066  \n\n[351 rows x 14 columns]",
      "text/html": "<div>\n<style scoped>\n    .dataframe tbody tr th:only-of-type {\n        vertical-align: middle;\n    }\n\n    .dataframe tbody tr th {\n        vertical-align: top;\n    }\n\n    .dataframe thead th {\n        text-align: right;\n    }\n</style>\n<table border=\"1\" class=\"dataframe\">\n  <thead>\n    <tr style=\"text-align: right;\">\n      <th></th>\n      <th>team_id</th>\n      <th>team_name</th>\n      <th>playedAgainst</th>\n      <th>owp</th>\n      <th>won</th>\n      <th>played</th>\n      <th>wp</th>\n      <th>fgm</th>\n      <th>fga</th>\n      <th>fgPcg</th>\n      <th>ptsTotal</th>\n      <th>stlTotal</th>\n      <th>blkTotal</th>\n      <th>oowp</th>\n    </tr>\n  </thead>\n  <tbody>\n    <tr>\n      <th>0</th>\n      <td>1101</td>\n      <td>Abilene Chr</td>\n      <td>[1182, 1382, 1268, 1234, 1395, 1462, 1406, 130...</td>\n      <td>0.460338</td>\n      <td>2</td>\n      <td>21</td>\n      <td>0.095238</td>\n      <td>427</td>\n      <td>1053</td>\n      <td>0.405508</td>\n      <td>1326</td>\n      <td>6.0</td>\n      <td>1.5</td>\n      <td>0.474180</td>\n    </tr>\n    <tr>\n      <th>1</th>\n      <td>1102</td>\n      <td>Air Force</td>\n      <td>[1119, 1440, 1238, 1115, 1350, 1160, 1377, 141...</td>\n      <td>0.492970</td>\n      <td>10</td>\n      <td>28</td>\n      <td>0.357143</td>\n      <td>618</td>\n      <td>1451</td>\n      <td>0.425913</td>\n      <td>1808</td>\n      <td>5.5</td>\n      <td>3.0</td>\n      <td>0.515688</td>\n    </tr>\n    <tr>\n      <th>2</th>\n      <td>1103</td>\n      <td>Akron</td>\n      <td>[1157, 1388, 1292, 1156, 1126, 1331, 1178, 133...</td>\n      <td>0.507936</td>\n      <td>21</td>\n      <td>33</td>\n      <td>0.636364</td>\n      <td>777</td>\n      <td>1799</td>\n      <td>0.431907</td>\n      <td>2241</td>\n      <td>6.5</td>\n      <td>4.0</td>\n      <td>0.513193</td>\n    </tr>\n    <tr>\n      <th>3</th>\n      <td>1104</td>\n      <td>Alabama</td>\n      <td>[1328, 1403, 1209, 1181, 1180, 1316, 1378, 114...</td>\n      <td>0.612793</td>\n      <td>12</td>\n      <td>31</td>\n      <td>0.387097</td>\n      <td>704</td>\n      <td>1606</td>\n      <td>0.438356</td>\n      <td>2068</td>\n      <td>6.5</td>\n      <td>4.0</td>\n      <td>0.544920</td>\n    </tr>\n    <tr>\n      <th>4</th>\n      <td>1105</td>\n      <td>Alabama A&amp;M</td>\n      <td>[1307, 1444, 1184, 1240, 1398, 1325, 1283, 141...</td>\n      <td>0.418626</td>\n      <td>12</td>\n      <td>28</td>\n      <td>0.428571</td>\n      <td>603</td>\n      <td>1487</td>\n      <td>0.405514</td>\n      <td>1787</td>\n      <td>6.0</td>\n      <td>4.0</td>\n      <td>0.446720</td>\n    </tr>\n    <tr>\n      <th>...</th>\n      <td>...</td>\n      <td>...</td>\n      <td>...</td>\n      <td>...</td>\n      <td>...</td>\n      <td>...</td>\n      <td>...</td>\n      <td>...</td>\n      <td>...</td>\n      <td>...</td>\n      <td>...</td>\n      <td>...</td>\n      <td>...</td>\n      <td>...</td>\n    </tr>\n    <tr>\n      <th>346</th>\n      <td>1460</td>\n      <td>Wright St</td>\n      <td>[1207, 1177, 1223, 1375, 1108, 1441, 1287, 129...</td>\n      <td>0.448458</td>\n      <td>18</td>\n      <td>32</td>\n      <td>0.562500</td>\n      <td>710</td>\n      <td>1580</td>\n      <td>0.449367</td>\n      <td>2127</td>\n      <td>6.5</td>\n      <td>3.0</td>\n      <td>0.493479</td>\n    </tr>\n    <tr>\n      <th>347</th>\n      <td>1461</td>\n      <td>Wyoming</td>\n      <td>[1404, 1160, 1117, 1238, 1377, 1326, 1286, 137...</td>\n      <td>0.511376</td>\n      <td>16</td>\n      <td>30</td>\n      <td>0.533333</td>\n      <td>654</td>\n      <td>1386</td>\n      <td>0.471861</td>\n      <td>1939</td>\n      <td>4.5</td>\n      <td>4.0</td>\n      <td>0.517649</td>\n    </tr>\n    <tr>\n      <th>348</th>\n      <td>1462</td>\n      <td>Xavier</td>\n      <td>[1205, 1397, 1287, 1275, 1101, 1234, 1397, 142...</td>\n      <td>0.564464</td>\n      <td>21</td>\n      <td>33</td>\n      <td>0.636364</td>\n      <td>846</td>\n      <td>1795</td>\n      <td>0.471309</td>\n      <td>2383</td>\n      <td>6.0</td>\n      <td>3.0</td>\n      <td>0.555836</td>\n    </tr>\n    <tr>\n      <th>349</th>\n      <td>1463</td>\n      <td>Yale</td>\n      <td>[1148, 1163, 1353, 1357, 1273, 1248, 1216, 113...</td>\n      <td>0.500480</td>\n      <td>14</td>\n      <td>27</td>\n      <td>0.518519</td>\n      <td>564</td>\n      <td>1372</td>\n      <td>0.411079</td>\n      <td>1777</td>\n      <td>6.0</td>\n      <td>4.5</td>\n      <td>0.479360</td>\n    </tr>\n    <tr>\n      <th>350</th>\n      <td>1464</td>\n      <td>Youngstown St</td>\n      <td>[1244, 1198, 1184, 1269, 1245, 1122, 1352, 128...</td>\n      <td>0.471631</td>\n      <td>12</td>\n      <td>29</td>\n      <td>0.413793</td>\n      <td>736</td>\n      <td>1621</td>\n      <td>0.454041</td>\n      <td>2167</td>\n      <td>6.5</td>\n      <td>2.5</td>\n      <td>0.496066</td>\n    </tr>\n  </tbody>\n</table>\n<p>351 rows × 14 columns</p>\n</div>"
     },
     "execution_count": 11,
     "metadata": {},
     "output_type": "execute_result"
    }
   ],
   "source": [
    "teams = pd.read_csv(\"total2014.csv\")\n",
    "owps = pd.read_csv(\"against2014.csv\")\n",
    "oowp = []\n",
    "for i, row1 in teams.iterrows():\n",
    "    owpSum = 0\n",
    "    lista = literal_eval(row1.playedAgainst)\n",
    "    for row2 in lista:\n",
    "        team = owps.loc[owps['team_id'] == row2]\n",
    "        owpSum = owpSum + team.iloc[0].owp\n",
    "    oowp.append(owpSum / len(lista))\n",
    "teams[\"oowp\"] = oowp\n",
    "teams.to_csv(\"total2014.csv\", index=False)\n",
    "teams"
   ],
   "metadata": {
    "collapsed": false
   }
  },
  {
   "cell_type": "markdown",
   "source": [
    "Nakon toga sam izracunao postotak pobjeda, postotak suta, prosjek ukradeni i blokirani i zbroj poena svakog tima po sezoni."
   ],
   "metadata": {
    "collapsed": false
   }
  },
  {
   "cell_type": "code",
   "execution_count": 3,
   "outputs": [
    {
     "name": "stderr",
     "output_type": "stream",
     "text": [
      "C:\\Users\\Zvonimir Ravlic\\AppData\\Local\\Temp\\ipykernel_21616\\1972538771.py:7: FutureWarning: The frame.append method is deprecated and will be removed from pandas in a future version. Use pandas.concat instead.\n",
      "  training_set = regular_results.append(tourney_results)\n"
     ]
    },
    {
     "data": {
      "text/plain": "     index  team_id      team_name  \\\n0        1     1102      Air Force   \n1        2     1103          Akron   \n2        3     1104        Alabama   \n3        4     1105    Alabama A&M   \n4        5     1106     Alabama St   \n..     ...      ...            ...   \n340    359     1460      Wright St   \n341    360     1461        Wyoming   \n342    361     1462         Xavier   \n343    362     1463           Yale   \n344    363     1464  Youngstown St   \n\n                                         playedAgainst    owpSum       owp  \\\n0    [1398, 1459, 1169, 1191, 1460, 1300, 1115, 131...  0.562273  0.551782   \n1    [1173, 1464, 1156, 1178, 1227, 1396, 1278, 112...  0.503356  0.497198   \n2    [1197, 1407, 1371, 1234, 1389, 1105, 1375, 134...  0.522822  0.512782   \n3    [1443, 1104, 1398, 1455, 1412, 1301, 1212, 123...  0.400556  0.393084   \n4    [1166, 1235, 1319, 1244, 1260, 1416, 1408, 111...  0.420996  0.413547   \n..                                                 ...       ...       ...   \n340  [1231, 1380, 1324, 1350, 1356, 1153, 1178, 110...  0.524377  0.513710   \n341  [1294, 1316, 1442, 1281, 1344, 1377, 1232, 141...  0.521940  0.511216   \n342  [1444, 1236, 1234, 1371, 1330, 1459, 1275, 113...  0.565697  0.556442   \n343  [1346, 1344, 1130, 1228, 1119, 1216, 1436, 110...  0.492021  0.488939   \n344  [1359, 1138, 1103, 1405, 1384, 1454, 1453, 135...  0.507729  0.502103   \n\n     won  played        wp  fgm   fga     fgPcg  ptsTotal  stlTotal  blkTotal  \n0     14      28  0.500000  628  1340  0.468657      1799       6.0       2.5  \n1     22      35  0.628571  859  2009  0.427576      2435       6.5       3.5  \n2     21      32  0.656250  796  1789  0.444941      2133       9.0       5.0  \n3     10      25  0.400000  554  1395  0.397133      1570       8.5       5.5  \n4     15      33  0.454545  691  1744  0.396216      2031       7.5       4.5  \n..   ...     ...       ...  ...   ...       ...       ...       ...       ...  \n340   17      31  0.548387  668  1559  0.428480      1988       6.0       1.0  \n341    8      29  0.275862  654  1542  0.424125      1872       7.5       4.0  \n342   24      32  0.750000  784  1700  0.461176      2306       5.5       3.0  \n343   14      27  0.518519  625  1425  0.438596      1823       4.5       4.5  \n344    7      28  0.250000  692  1673  0.413628      1908       6.0       5.0  \n\n[345 rows x 15 columns]",
      "text/html": "<div>\n<style scoped>\n    .dataframe tbody tr th:only-of-type {\n        vertical-align: middle;\n    }\n\n    .dataframe tbody tr th {\n        vertical-align: top;\n    }\n\n    .dataframe thead th {\n        text-align: right;\n    }\n</style>\n<table border=\"1\" class=\"dataframe\">\n  <thead>\n    <tr style=\"text-align: right;\">\n      <th></th>\n      <th>index</th>\n      <th>team_id</th>\n      <th>team_name</th>\n      <th>playedAgainst</th>\n      <th>owpSum</th>\n      <th>owp</th>\n      <th>won</th>\n      <th>played</th>\n      <th>wp</th>\n      <th>fgm</th>\n      <th>fga</th>\n      <th>fgPcg</th>\n      <th>ptsTotal</th>\n      <th>stlTotal</th>\n      <th>blkTotal</th>\n    </tr>\n  </thead>\n  <tbody>\n    <tr>\n      <th>0</th>\n      <td>1</td>\n      <td>1102</td>\n      <td>Air Force</td>\n      <td>[1398, 1459, 1169, 1191, 1460, 1300, 1115, 131...</td>\n      <td>0.562273</td>\n      <td>0.551782</td>\n      <td>14</td>\n      <td>28</td>\n      <td>0.500000</td>\n      <td>628</td>\n      <td>1340</td>\n      <td>0.468657</td>\n      <td>1799</td>\n      <td>6.0</td>\n      <td>2.5</td>\n    </tr>\n    <tr>\n      <th>1</th>\n      <td>2</td>\n      <td>1103</td>\n      <td>Akron</td>\n      <td>[1173, 1464, 1156, 1178, 1227, 1396, 1278, 112...</td>\n      <td>0.503356</td>\n      <td>0.497198</td>\n      <td>22</td>\n      <td>35</td>\n      <td>0.628571</td>\n      <td>859</td>\n      <td>2009</td>\n      <td>0.427576</td>\n      <td>2435</td>\n      <td>6.5</td>\n      <td>3.5</td>\n    </tr>\n    <tr>\n      <th>2</th>\n      <td>3</td>\n      <td>1104</td>\n      <td>Alabama</td>\n      <td>[1197, 1407, 1371, 1234, 1389, 1105, 1375, 134...</td>\n      <td>0.522822</td>\n      <td>0.512782</td>\n      <td>21</td>\n      <td>32</td>\n      <td>0.656250</td>\n      <td>796</td>\n      <td>1789</td>\n      <td>0.444941</td>\n      <td>2133</td>\n      <td>9.0</td>\n      <td>5.0</td>\n    </tr>\n    <tr>\n      <th>3</th>\n      <td>4</td>\n      <td>1105</td>\n      <td>Alabama A&amp;M</td>\n      <td>[1443, 1104, 1398, 1455, 1412, 1301, 1212, 123...</td>\n      <td>0.400556</td>\n      <td>0.393084</td>\n      <td>10</td>\n      <td>25</td>\n      <td>0.400000</td>\n      <td>554</td>\n      <td>1395</td>\n      <td>0.397133</td>\n      <td>1570</td>\n      <td>8.5</td>\n      <td>5.5</td>\n    </tr>\n    <tr>\n      <th>4</th>\n      <td>5</td>\n      <td>1106</td>\n      <td>Alabama St</td>\n      <td>[1166, 1235, 1319, 1244, 1260, 1416, 1408, 111...</td>\n      <td>0.420996</td>\n      <td>0.413547</td>\n      <td>15</td>\n      <td>33</td>\n      <td>0.454545</td>\n      <td>691</td>\n      <td>1744</td>\n      <td>0.396216</td>\n      <td>2031</td>\n      <td>7.5</td>\n      <td>4.5</td>\n    </tr>\n    <tr>\n      <th>...</th>\n      <td>...</td>\n      <td>...</td>\n      <td>...</td>\n      <td>...</td>\n      <td>...</td>\n      <td>...</td>\n      <td>...</td>\n      <td>...</td>\n      <td>...</td>\n      <td>...</td>\n      <td>...</td>\n      <td>...</td>\n      <td>...</td>\n      <td>...</td>\n      <td>...</td>\n    </tr>\n    <tr>\n      <th>340</th>\n      <td>359</td>\n      <td>1460</td>\n      <td>Wright St</td>\n      <td>[1231, 1380, 1324, 1350, 1356, 1153, 1178, 110...</td>\n      <td>0.524377</td>\n      <td>0.513710</td>\n      <td>17</td>\n      <td>31</td>\n      <td>0.548387</td>\n      <td>668</td>\n      <td>1559</td>\n      <td>0.428480</td>\n      <td>1988</td>\n      <td>6.0</td>\n      <td>1.0</td>\n    </tr>\n    <tr>\n      <th>341</th>\n      <td>360</td>\n      <td>1461</td>\n      <td>Wyoming</td>\n      <td>[1294, 1316, 1442, 1281, 1344, 1377, 1232, 141...</td>\n      <td>0.521940</td>\n      <td>0.511216</td>\n      <td>8</td>\n      <td>29</td>\n      <td>0.275862</td>\n      <td>654</td>\n      <td>1542</td>\n      <td>0.424125</td>\n      <td>1872</td>\n      <td>7.5</td>\n      <td>4.0</td>\n    </tr>\n    <tr>\n      <th>342</th>\n      <td>361</td>\n      <td>1462</td>\n      <td>Xavier</td>\n      <td>[1444, 1236, 1234, 1371, 1330, 1459, 1275, 113...</td>\n      <td>0.565697</td>\n      <td>0.556442</td>\n      <td>24</td>\n      <td>32</td>\n      <td>0.750000</td>\n      <td>784</td>\n      <td>1700</td>\n      <td>0.461176</td>\n      <td>2306</td>\n      <td>5.5</td>\n      <td>3.0</td>\n    </tr>\n    <tr>\n      <th>343</th>\n      <td>362</td>\n      <td>1463</td>\n      <td>Yale</td>\n      <td>[1346, 1344, 1130, 1228, 1119, 1216, 1436, 110...</td>\n      <td>0.492021</td>\n      <td>0.488939</td>\n      <td>14</td>\n      <td>27</td>\n      <td>0.518519</td>\n      <td>625</td>\n      <td>1425</td>\n      <td>0.438596</td>\n      <td>1823</td>\n      <td>4.5</td>\n      <td>4.5</td>\n    </tr>\n    <tr>\n      <th>344</th>\n      <td>363</td>\n      <td>1464</td>\n      <td>Youngstown St</td>\n      <td>[1359, 1138, 1103, 1405, 1384, 1454, 1453, 135...</td>\n      <td>0.507729</td>\n      <td>0.502103</td>\n      <td>7</td>\n      <td>28</td>\n      <td>0.250000</td>\n      <td>692</td>\n      <td>1673</td>\n      <td>0.413628</td>\n      <td>1908</td>\n      <td>6.0</td>\n      <td>5.0</td>\n    </tr>\n  </tbody>\n</table>\n<p>345 rows × 15 columns</p>\n</div>"
     },
     "execution_count": 3,
     "metadata": {},
     "output_type": "execute_result"
    }
   ],
   "source": [
    "teams = pd.read_csv(\"against2011.csv\")\n",
    "\n",
    "tourney_results = pd.read_csv(\"tourney_detailed_results.csv\")\n",
    "tourney_results = tourney_results[(tourney_results[\"season\"] == 2011)]\n",
    "regular_results = pd.read_csv(\"regular_season_detailed_results.csv\")\n",
    "regular_results = regular_results[(regular_results[\"season\"] == 2011)]\n",
    "training_set = regular_results.append(tourney_results)\n",
    "teams.reset_index()\n",
    "training_set.reset_index()\n",
    "\n",
    "fgm = []\n",
    "fga = []\n",
    "fgPcg = []\n",
    "ptsTotal = []\n",
    "stlTotal = []\n",
    "blkTotal = []\n",
    "won = []\n",
    "played = []\n",
    "wp = []\n",
    "for i, row1 in teams.iterrows():\n",
    "    sumFgm = 0\n",
    "    sumFga = 0\n",
    "    sumPts = 0\n",
    "    sumStl = 0\n",
    "    sumBlk = 0\n",
    "    wonCnt = 0\n",
    "    gamesPlayed = 0\n",
    "    for j, row2 in training_set.iterrows():\n",
    "        if row1['team_id'] == row2['wteam']:\n",
    "            sumFgm = sumFgm + row2['wfgm']\n",
    "            sumFga = sumFga + row2['wfga']\n",
    "            sumPts = sumPts + row2['wscore']\n",
    "            sumStl = sumStl + row2['wstl']\n",
    "            sumBlk = sumBlk + row2['wblk']\n",
    "            gamesPlayed = gamesPlayed + 1\n",
    "            wonCnt = wonCnt + 1\n",
    "        if row1['team_id'] == row2['lteam']:\n",
    "            sumFgm = sumFgm + row2['lfgm']\n",
    "            sumFga = sumFga + row2['lfga']\n",
    "            sumPts = sumPts + row2['lscore']\n",
    "            sumStl = sumStl + row2['lstl']\n",
    "            sumBlk = sumBlk + row2['lblk']\n",
    "            gamesPlayed = gamesPlayed + 1\n",
    "    fgm.append(sumFgm)\n",
    "    fga.append(sumFga)\n",
    "    fgPcg.append(sumFgm / sumFga)\n",
    "    ptsTotal.append(sumPts)\n",
    "    stlTotal.append(round(sumStl / gamesPlayed * 2) / 2)\n",
    "    blkTotal.append(round(sumBlk / gamesPlayed * 2) / 2)\n",
    "    won.append(wonCnt)\n",
    "    played.append(gamesPlayed)\n",
    "    wp.append(wonCnt / gamesPlayed)\n",
    "teams[\"won\"] = won\n",
    "teams[\"played\"] = played\n",
    "teams[\"wp\"] = wp\n",
    "teams[\"fgm\"] = fgm\n",
    "teams[\"fga\"] = fga\n",
    "teams[\"fgPcg\"] = fgPcg\n",
    "teams[\"ptsTotal\"] = ptsTotal\n",
    "teams[\"stlTotal\"] = stlTotal\n",
    "teams[\"blkTotal\"] = blkTotal\n",
    "teams[\"won\"] = won\n",
    "teams[\"played\"] = played\n",
    "teams[\"wp\"] = wp\n",
    "teams.to_csv(\"total2011.csv\", index=False)\n",
    "teams"
   ],
   "metadata": {
    "collapsed": false
   }
  },
  {
   "cell_type": "code",
   "execution_count": 4,
   "outputs": [
    {
     "name": "stderr",
     "output_type": "stream",
     "text": [
      "C:\\Users\\Zvonimir Ravlic\\AppData\\Local\\Temp\\ipykernel_21616\\295844987.py:7: FutureWarning: The frame.append method is deprecated and will be removed from pandas in a future version. Use pandas.concat instead.\n",
      "  training_set = regular_results.append(tourney_results)\n"
     ]
    },
    {
     "data": {
      "text/plain": "     team_id      team_name  \\\n0       1102      Air Force   \n1       1103          Akron   \n2       1104        Alabama   \n3       1105    Alabama A&M   \n4       1106     Alabama St   \n..       ...            ...   \n340     1460      Wright St   \n341     1461        Wyoming   \n342     1462         Xavier   \n343     1463           Yale   \n344     1464  Youngstown St   \n\n                                         playedAgainst       owp  won  played  \\\n0    [1119, 1440, 1160, 1179, 1460, 1115, 1271, 121...  0.552012   11      27   \n1    [1280, 1434, 1182, 1178, 1452, 1292, 1156, 111...  0.556858   21      32   \n2    [1316, 1324, 1268, 1455, 1345, 1105, 1433, 120...  0.581899   21      33   \n3    [1408, 1104, 1375, 1276, 1210, 1398, 1412, 123...  0.385437    5      26   \n4    [1267, 1153, 1322, 1240, 1191, 1198, 1372, 138...  0.396064   10      29   \n..                                                 ...       ...  ...     ...   \n340  [1326, 1238, 1196, 1316, 1150, 1156, 1464, 110...  0.493380   12      31   \n341  [1294, 1453, 1377, 1340, 1271, 1256, 1430, 113...  0.529698   18      29   \n342  [1288, 1236, 1275, 1208, 1435, 1345, 1139, 115...  0.588522   23      36   \n343  [1148, 1346, 1371, 1119, 1216, 1436, 1357, 113...  0.466069   17      26   \n344  [1359, 1415, 1336, 1384, 1178, 1460, 1138, 140...  0.483435   14      29   \n\n           wp  fgm   fga     fgPcg  ptsTotal  stlTotal  blkTotal  \n0    0.407407  564  1269  0.444444      1638       6.5       3.0  \n1    0.656250  803  1741  0.461229      2287       7.5       4.5  \n2    0.636364  778  1722  0.451800      2135       7.0       4.0  \n3    0.192308  564  1401  0.402570      1589       6.0       4.0  \n4    0.344828  594  1593  0.372881      1674       7.5       3.0  \n..        ...  ...   ...       ...       ...       ...       ...  \n340  0.387097  600  1512  0.396825      1777       6.5       1.5  \n341  0.620690  623  1397  0.445956      1809       6.5       3.5  \n342  0.638889  899  1985  0.452897      2543       6.0       4.0  \n343  0.653846  582  1370  0.424818      1733       5.0       3.5  \n344  0.482759  690  1604  0.430175      1946       6.5       5.5  \n\n[345 rows x 13 columns]",
      "text/html": "<div>\n<style scoped>\n    .dataframe tbody tr th:only-of-type {\n        vertical-align: middle;\n    }\n\n    .dataframe tbody tr th {\n        vertical-align: top;\n    }\n\n    .dataframe thead th {\n        text-align: right;\n    }\n</style>\n<table border=\"1\" class=\"dataframe\">\n  <thead>\n    <tr style=\"text-align: right;\">\n      <th></th>\n      <th>team_id</th>\n      <th>team_name</th>\n      <th>playedAgainst</th>\n      <th>owp</th>\n      <th>won</th>\n      <th>played</th>\n      <th>wp</th>\n      <th>fgm</th>\n      <th>fga</th>\n      <th>fgPcg</th>\n      <th>ptsTotal</th>\n      <th>stlTotal</th>\n      <th>blkTotal</th>\n    </tr>\n  </thead>\n  <tbody>\n    <tr>\n      <th>0</th>\n      <td>1102</td>\n      <td>Air Force</td>\n      <td>[1119, 1440, 1160, 1179, 1460, 1115, 1271, 121...</td>\n      <td>0.552012</td>\n      <td>11</td>\n      <td>27</td>\n      <td>0.407407</td>\n      <td>564</td>\n      <td>1269</td>\n      <td>0.444444</td>\n      <td>1638</td>\n      <td>6.5</td>\n      <td>3.0</td>\n    </tr>\n    <tr>\n      <th>1</th>\n      <td>1103</td>\n      <td>Akron</td>\n      <td>[1280, 1434, 1182, 1178, 1452, 1292, 1156, 111...</td>\n      <td>0.556858</td>\n      <td>21</td>\n      <td>32</td>\n      <td>0.656250</td>\n      <td>803</td>\n      <td>1741</td>\n      <td>0.461229</td>\n      <td>2287</td>\n      <td>7.5</td>\n      <td>4.5</td>\n    </tr>\n    <tr>\n      <th>2</th>\n      <td>1104</td>\n      <td>Alabama</td>\n      <td>[1316, 1324, 1268, 1455, 1345, 1105, 1433, 120...</td>\n      <td>0.581899</td>\n      <td>21</td>\n      <td>33</td>\n      <td>0.636364</td>\n      <td>778</td>\n      <td>1722</td>\n      <td>0.451800</td>\n      <td>2135</td>\n      <td>7.0</td>\n      <td>4.0</td>\n    </tr>\n    <tr>\n      <th>3</th>\n      <td>1105</td>\n      <td>Alabama A&amp;M</td>\n      <td>[1408, 1104, 1375, 1276, 1210, 1398, 1412, 123...</td>\n      <td>0.385437</td>\n      <td>5</td>\n      <td>26</td>\n      <td>0.192308</td>\n      <td>564</td>\n      <td>1401</td>\n      <td>0.402570</td>\n      <td>1589</td>\n      <td>6.0</td>\n      <td>4.0</td>\n    </tr>\n    <tr>\n      <th>4</th>\n      <td>1106</td>\n      <td>Alabama St</td>\n      <td>[1267, 1153, 1322, 1240, 1191, 1198, 1372, 138...</td>\n      <td>0.396064</td>\n      <td>10</td>\n      <td>29</td>\n      <td>0.344828</td>\n      <td>594</td>\n      <td>1593</td>\n      <td>0.372881</td>\n      <td>1674</td>\n      <td>7.5</td>\n      <td>3.0</td>\n    </tr>\n    <tr>\n      <th>...</th>\n      <td>...</td>\n      <td>...</td>\n      <td>...</td>\n      <td>...</td>\n      <td>...</td>\n      <td>...</td>\n      <td>...</td>\n      <td>...</td>\n      <td>...</td>\n      <td>...</td>\n      <td>...</td>\n      <td>...</td>\n      <td>...</td>\n    </tr>\n    <tr>\n      <th>340</th>\n      <td>1460</td>\n      <td>Wright St</td>\n      <td>[1326, 1238, 1196, 1316, 1150, 1156, 1464, 110...</td>\n      <td>0.493380</td>\n      <td>12</td>\n      <td>31</td>\n      <td>0.387097</td>\n      <td>600</td>\n      <td>1512</td>\n      <td>0.396825</td>\n      <td>1777</td>\n      <td>6.5</td>\n      <td>1.5</td>\n    </tr>\n    <tr>\n      <th>341</th>\n      <td>1461</td>\n      <td>Wyoming</td>\n      <td>[1294, 1453, 1377, 1340, 1271, 1256, 1430, 113...</td>\n      <td>0.529698</td>\n      <td>18</td>\n      <td>29</td>\n      <td>0.620690</td>\n      <td>623</td>\n      <td>1397</td>\n      <td>0.445956</td>\n      <td>1809</td>\n      <td>6.5</td>\n      <td>3.5</td>\n    </tr>\n    <tr>\n      <th>342</th>\n      <td>1462</td>\n      <td>Xavier</td>\n      <td>[1288, 1236, 1275, 1208, 1435, 1345, 1139, 115...</td>\n      <td>0.588522</td>\n      <td>23</td>\n      <td>36</td>\n      <td>0.638889</td>\n      <td>899</td>\n      <td>1985</td>\n      <td>0.452897</td>\n      <td>2543</td>\n      <td>6.0</td>\n      <td>4.0</td>\n    </tr>\n    <tr>\n      <th>343</th>\n      <td>1463</td>\n      <td>Yale</td>\n      <td>[1148, 1346, 1371, 1119, 1216, 1436, 1357, 113...</td>\n      <td>0.466069</td>\n      <td>17</td>\n      <td>26</td>\n      <td>0.653846</td>\n      <td>582</td>\n      <td>1370</td>\n      <td>0.424818</td>\n      <td>1733</td>\n      <td>5.0</td>\n      <td>3.5</td>\n    </tr>\n    <tr>\n      <th>344</th>\n      <td>1464</td>\n      <td>Youngstown St</td>\n      <td>[1359, 1415, 1336, 1384, 1178, 1460, 1138, 140...</td>\n      <td>0.483435</td>\n      <td>14</td>\n      <td>29</td>\n      <td>0.482759</td>\n      <td>690</td>\n      <td>1604</td>\n      <td>0.430175</td>\n      <td>1946</td>\n      <td>6.5</td>\n      <td>5.5</td>\n    </tr>\n  </tbody>\n</table>\n<p>345 rows × 13 columns</p>\n</div>"
     },
     "execution_count": 4,
     "metadata": {},
     "output_type": "execute_result"
    }
   ],
   "source": [
    "teams = pd.read_csv(\"against2012.csv\")\n",
    "\n",
    "tourney_results = pd.read_csv(\"tourney_detailed_results.csv\")\n",
    "tourney_results = tourney_results[(tourney_results[\"season\"] == 2012)]\n",
    "regular_results = pd.read_csv(\"regular_season_detailed_results.csv\")\n",
    "regular_results = regular_results[(regular_results[\"season\"] == 2012)]\n",
    "training_set = regular_results.append(tourney_results)\n",
    "teams.reset_index()\n",
    "training_set.reset_index()\n",
    "\n",
    "fgm = []\n",
    "fga = []\n",
    "fgPcg = []\n",
    "ptsTotal = []\n",
    "stlTotal = []\n",
    "blkTotal = []\n",
    "won = []\n",
    "played = []\n",
    "wp = []\n",
    "for i, row1 in teams.iterrows():\n",
    "    sumFgm = 0\n",
    "    sumFga = 0\n",
    "    sumPts = 0\n",
    "    sumStl = 0\n",
    "    sumBlk = 0\n",
    "    wonCnt = 0\n",
    "    gamesPlayed = 0\n",
    "    for j, row2 in training_set.iterrows():\n",
    "        if row1['team_id'] == row2['wteam']:\n",
    "            sumFgm = sumFgm + row2['wfgm']\n",
    "            sumFga = sumFga + row2['wfga']\n",
    "            sumPts = sumPts + row2['wscore']\n",
    "            sumStl = sumStl + row2['wstl']\n",
    "            sumBlk = sumBlk + row2['wblk']\n",
    "            gamesPlayed = gamesPlayed + 1\n",
    "            wonCnt = wonCnt + 1\n",
    "        if row1['team_id'] == row2['lteam']:\n",
    "            sumFgm = sumFgm + row2['lfgm']\n",
    "            sumFga = sumFga + row2['lfga']\n",
    "            sumPts = sumPts + row2['lscore']\n",
    "            sumStl = sumStl + row2['lstl']\n",
    "            sumBlk = sumBlk + row2['lblk']\n",
    "            gamesPlayed = gamesPlayed + 1\n",
    "    fgm.append(sumFgm)\n",
    "    fga.append(sumFga)\n",
    "    fgPcg.append(sumFgm / sumFga)\n",
    "    ptsTotal.append(sumPts)\n",
    "    stlTotal.append(round(sumStl / gamesPlayed * 2) / 2)\n",
    "    blkTotal.append(round(sumBlk / gamesPlayed * 2) / 2)\n",
    "    won.append(wonCnt)\n",
    "    played.append(gamesPlayed)\n",
    "    wp.append(wonCnt / gamesPlayed)\n",
    "teams[\"won\"] = won\n",
    "teams[\"played\"] = played\n",
    "teams[\"wp\"] = wp\n",
    "teams[\"fgm\"] = fgm\n",
    "teams[\"fga\"] = fga\n",
    "teams[\"fgPcg\"] = fgPcg\n",
    "teams[\"ptsTotal\"] = ptsTotal\n",
    "teams[\"stlTotal\"] = stlTotal\n",
    "teams[\"blkTotal\"] = blkTotal\n",
    "teams[\"won\"] = won\n",
    "teams[\"played\"] = played\n",
    "teams[\"wp\"] = wp\n",
    "teams.to_csv(\"total2012.csv\", index=False)\n",
    "teams"
   ],
   "metadata": {
    "collapsed": false
   }
  },
  {
   "cell_type": "code",
   "execution_count": 5,
   "outputs": [
    {
     "name": "stderr",
     "output_type": "stream",
     "text": [
      "C:\\Users\\Zvonimir Ravlic\\AppData\\Local\\Temp\\ipykernel_21616\\718753756.py:7: FutureWarning: The frame.append method is deprecated and will be removed from pandas in a future version. Use pandas.concat instead.\n",
      "  training_set = regular_results.append(tourney_results)\n"
     ]
    },
    {
     "data": {
      "text/plain": "     team_id      team_name  \\\n0       1102      Air Force   \n1       1103          Akron   \n2       1104        Alabama   \n3       1105    Alabama A&M   \n4       1106     Alabama St   \n..       ...            ...   \n342     1461        Wyoming   \n343     1462         Xavier   \n344     1463           Yale   \n345     1464  Youngstown St   \n346     1212      Grambling   \n\n                                         playedAgainst       owp  won  played  \\\n0    [1119, 1154, 1286, 1160, 1238, 1455, 1115, 141...  0.555456   15      28   \n1    [1157, 1329, 1421, 1336, 1292, 1166, 1178, 111...  0.528784   25      32   \n2    [1355, 1333, 1437, 1149, 1249, 1153, 1173, 143...  0.548965   20      32   \n3    [1235, 1240, 1191, 1398, 1273, 1435, 1283, 111...  0.390389    9      29   \n4    [1292, 1196, 1416, 1366, 1407, 1152, 1178, 140...  0.408966    9      31   \n..                                                 ...       ...  ...     ...   \n342  [1300, 1377, 1380, 1294, 1167, 1364, 1160, 122...  0.553638   17      30   \n343  [1192, 1139, 1352, 1334, 1180, 1179, 1345, 143...  0.556061   17      31   \n344  [1357, 1386, 1191, 1138, 1442, 1436, 1119, 121...  0.490071   12      29   \n345  [1203, 1208, 1384, 1295, 1241, 1182, 1245, 113...  0.480199   14      29   \n346  [1156, 1123, 1275, 1222, 1403, 1333, 1120, 137...  0.384451    0      28   \n\n           wp  fgm   fga     fgPcg  ptsTotal  stlTotal  blkTotal  \n0    0.535714  683  1450  0.471034      1930       6.0       1.5  \n1    0.781250  814  1808  0.450221      2272       7.0       5.5  \n2    0.625000  714  1666  0.428571      2003       8.0       4.5  \n3    0.310345  636  1613  0.394296      1786       5.5       3.5  \n4    0.290323  705  1744  0.404243      1906       6.0       3.0  \n..        ...  ...   ...       ...       ...       ...       ...  \n342  0.566667  611  1437  0.425191      1804       6.5       3.0  \n343  0.548387  722  1582  0.456384      2021       5.5       3.0  \n344  0.413793  617  1500  0.411333      1863       6.0       3.0  \n345  0.482759  693  1634  0.424113      1988       6.5       5.5  \n346  0.000000  519  1436  0.361421      1391       4.5       2.5  \n\n[347 rows x 13 columns]",
      "text/html": "<div>\n<style scoped>\n    .dataframe tbody tr th:only-of-type {\n        vertical-align: middle;\n    }\n\n    .dataframe tbody tr th {\n        vertical-align: top;\n    }\n\n    .dataframe thead th {\n        text-align: right;\n    }\n</style>\n<table border=\"1\" class=\"dataframe\">\n  <thead>\n    <tr style=\"text-align: right;\">\n      <th></th>\n      <th>team_id</th>\n      <th>team_name</th>\n      <th>playedAgainst</th>\n      <th>owp</th>\n      <th>won</th>\n      <th>played</th>\n      <th>wp</th>\n      <th>fgm</th>\n      <th>fga</th>\n      <th>fgPcg</th>\n      <th>ptsTotal</th>\n      <th>stlTotal</th>\n      <th>blkTotal</th>\n    </tr>\n  </thead>\n  <tbody>\n    <tr>\n      <th>0</th>\n      <td>1102</td>\n      <td>Air Force</td>\n      <td>[1119, 1154, 1286, 1160, 1238, 1455, 1115, 141...</td>\n      <td>0.555456</td>\n      <td>15</td>\n      <td>28</td>\n      <td>0.535714</td>\n      <td>683</td>\n      <td>1450</td>\n      <td>0.471034</td>\n      <td>1930</td>\n      <td>6.0</td>\n      <td>1.5</td>\n    </tr>\n    <tr>\n      <th>1</th>\n      <td>1103</td>\n      <td>Akron</td>\n      <td>[1157, 1329, 1421, 1336, 1292, 1166, 1178, 111...</td>\n      <td>0.528784</td>\n      <td>25</td>\n      <td>32</td>\n      <td>0.781250</td>\n      <td>814</td>\n      <td>1808</td>\n      <td>0.450221</td>\n      <td>2272</td>\n      <td>7.0</td>\n      <td>5.5</td>\n    </tr>\n    <tr>\n      <th>2</th>\n      <td>1104</td>\n      <td>Alabama</td>\n      <td>[1355, 1333, 1437, 1149, 1249, 1153, 1173, 143...</td>\n      <td>0.548965</td>\n      <td>20</td>\n      <td>32</td>\n      <td>0.625000</td>\n      <td>714</td>\n      <td>1666</td>\n      <td>0.428571</td>\n      <td>2003</td>\n      <td>8.0</td>\n      <td>4.5</td>\n    </tr>\n    <tr>\n      <th>3</th>\n      <td>1105</td>\n      <td>Alabama A&amp;M</td>\n      <td>[1235, 1240, 1191, 1398, 1273, 1435, 1283, 111...</td>\n      <td>0.390389</td>\n      <td>9</td>\n      <td>29</td>\n      <td>0.310345</td>\n      <td>636</td>\n      <td>1613</td>\n      <td>0.394296</td>\n      <td>1786</td>\n      <td>5.5</td>\n      <td>3.5</td>\n    </tr>\n    <tr>\n      <th>4</th>\n      <td>1106</td>\n      <td>Alabama St</td>\n      <td>[1292, 1196, 1416, 1366, 1407, 1152, 1178, 140...</td>\n      <td>0.408966</td>\n      <td>9</td>\n      <td>31</td>\n      <td>0.290323</td>\n      <td>705</td>\n      <td>1744</td>\n      <td>0.404243</td>\n      <td>1906</td>\n      <td>6.0</td>\n      <td>3.0</td>\n    </tr>\n    <tr>\n      <th>...</th>\n      <td>...</td>\n      <td>...</td>\n      <td>...</td>\n      <td>...</td>\n      <td>...</td>\n      <td>...</td>\n      <td>...</td>\n      <td>...</td>\n      <td>...</td>\n      <td>...</td>\n      <td>...</td>\n      <td>...</td>\n      <td>...</td>\n    </tr>\n    <tr>\n      <th>342</th>\n      <td>1461</td>\n      <td>Wyoming</td>\n      <td>[1300, 1377, 1380, 1294, 1167, 1364, 1160, 122...</td>\n      <td>0.553638</td>\n      <td>17</td>\n      <td>30</td>\n      <td>0.566667</td>\n      <td>611</td>\n      <td>1437</td>\n      <td>0.425191</td>\n      <td>1804</td>\n      <td>6.5</td>\n      <td>3.0</td>\n    </tr>\n    <tr>\n      <th>343</th>\n      <td>1462</td>\n      <td>Xavier</td>\n      <td>[1192, 1139, 1352, 1334, 1180, 1179, 1345, 143...</td>\n      <td>0.556061</td>\n      <td>17</td>\n      <td>31</td>\n      <td>0.548387</td>\n      <td>722</td>\n      <td>1582</td>\n      <td>0.456384</td>\n      <td>2021</td>\n      <td>5.5</td>\n      <td>3.0</td>\n    </tr>\n    <tr>\n      <th>344</th>\n      <td>1463</td>\n      <td>Yale</td>\n      <td>[1357, 1386, 1191, 1138, 1442, 1436, 1119, 121...</td>\n      <td>0.490071</td>\n      <td>12</td>\n      <td>29</td>\n      <td>0.413793</td>\n      <td>617</td>\n      <td>1500</td>\n      <td>0.411333</td>\n      <td>1863</td>\n      <td>6.0</td>\n      <td>3.0</td>\n    </tr>\n    <tr>\n      <th>345</th>\n      <td>1464</td>\n      <td>Youngstown St</td>\n      <td>[1203, 1208, 1384, 1295, 1241, 1182, 1245, 113...</td>\n      <td>0.480199</td>\n      <td>14</td>\n      <td>29</td>\n      <td>0.482759</td>\n      <td>693</td>\n      <td>1634</td>\n      <td>0.424113</td>\n      <td>1988</td>\n      <td>6.5</td>\n      <td>5.5</td>\n    </tr>\n    <tr>\n      <th>346</th>\n      <td>1212</td>\n      <td>Grambling</td>\n      <td>[1156, 1123, 1275, 1222, 1403, 1333, 1120, 137...</td>\n      <td>0.384451</td>\n      <td>0</td>\n      <td>28</td>\n      <td>0.000000</td>\n      <td>519</td>\n      <td>1436</td>\n      <td>0.361421</td>\n      <td>1391</td>\n      <td>4.5</td>\n      <td>2.5</td>\n    </tr>\n  </tbody>\n</table>\n<p>347 rows × 13 columns</p>\n</div>"
     },
     "execution_count": 5,
     "metadata": {},
     "output_type": "execute_result"
    }
   ],
   "source": [
    "teams = pd.read_csv(\"against2013.csv\")\n",
    "\n",
    "tourney_results = pd.read_csv(\"tourney_detailed_results.csv\")\n",
    "tourney_results = tourney_results[(tourney_results[\"season\"] == 2013)]\n",
    "regular_results = pd.read_csv(\"regular_season_detailed_results.csv\")\n",
    "regular_results = regular_results[(regular_results[\"season\"] == 2013)]\n",
    "training_set = regular_results.append(tourney_results)\n",
    "teams.reset_index()\n",
    "training_set.reset_index()\n",
    "\n",
    "fgm = []\n",
    "fga = []\n",
    "fgPcg = []\n",
    "ptsTotal = []\n",
    "stlTotal = []\n",
    "blkTotal = []\n",
    "won = []\n",
    "played = []\n",
    "wp = []\n",
    "for i, row1 in teams.iterrows():\n",
    "    sumFgm = 0\n",
    "    sumFga = 0\n",
    "    sumPts = 0\n",
    "    sumStl = 0\n",
    "    sumBlk = 0\n",
    "    wonCnt = 0\n",
    "    gamesPlayed = 0\n",
    "    for j, row2 in training_set.iterrows():\n",
    "        if row1['team_id'] == row2['wteam']:\n",
    "            sumFgm = sumFgm + row2['wfgm']\n",
    "            sumFga = sumFga + row2['wfga']\n",
    "            sumPts = sumPts + row2['wscore']\n",
    "            sumStl = sumStl + row2['wstl']\n",
    "            sumBlk = sumBlk + row2['wblk']\n",
    "            gamesPlayed = gamesPlayed + 1\n",
    "            wonCnt = wonCnt + 1\n",
    "        if row1['team_id'] == row2['lteam']:\n",
    "            sumFgm = sumFgm + row2['lfgm']\n",
    "            sumFga = sumFga + row2['lfga']\n",
    "            sumPts = sumPts + row2['lscore']\n",
    "            sumStl = sumStl + row2['lstl']\n",
    "            sumBlk = sumBlk + row2['lblk']\n",
    "            gamesPlayed = gamesPlayed + 1\n",
    "    fgm.append(sumFgm)\n",
    "    fga.append(sumFga)\n",
    "    fgPcg.append(sumFgm / sumFga)\n",
    "    ptsTotal.append(sumPts)\n",
    "    stlTotal.append(round(sumStl / gamesPlayed * 2) / 2)\n",
    "    blkTotal.append(round(sumBlk / gamesPlayed * 2) / 2)\n",
    "    won.append(wonCnt)\n",
    "    played.append(gamesPlayed)\n",
    "    wp.append(wonCnt / gamesPlayed)\n",
    "teams[\"won\"] = won\n",
    "teams[\"played\"] = played\n",
    "teams[\"wp\"] = wp\n",
    "teams[\"fgm\"] = fgm\n",
    "teams[\"fga\"] = fga\n",
    "teams[\"fgPcg\"] = fgPcg\n",
    "teams[\"ptsTotal\"] = ptsTotal\n",
    "teams[\"stlTotal\"] = stlTotal\n",
    "teams[\"blkTotal\"] = blkTotal\n",
    "teams[\"won\"] = won\n",
    "teams[\"played\"] = played\n",
    "teams[\"wp\"] = wp\n",
    "teams.to_csv(\"total2013.csv\", index=False)\n",
    "teams\n"
   ],
   "metadata": {
    "collapsed": false
   }
  },
  {
   "cell_type": "code",
   "execution_count": 6,
   "outputs": [
    {
     "data": {
      "text/plain": "     team_id      team_name  \\\n0       1101    Abilene Chr   \n1       1102      Air Force   \n2       1103          Akron   \n3       1104        Alabama   \n4       1105    Alabama A&M   \n..       ...            ...   \n346     1460      Wright St   \n347     1461        Wyoming   \n348     1462         Xavier   \n349     1463           Yale   \n350     1464  Youngstown St   \n\n                                         playedAgainst       owp  won  played  \\\n0    [1182, 1382, 1268, 1234, 1395, 1462, 1406, 130...  0.460338    2      21   \n1    [1119, 1440, 1238, 1115, 1350, 1160, 1377, 141...  0.492970   10      28   \n2    [1157, 1388, 1292, 1156, 1126, 1331, 1178, 133...  0.507936   21      33   \n3    [1328, 1403, 1209, 1181, 1180, 1316, 1378, 114...  0.612793   12      31   \n4    [1307, 1444, 1184, 1240, 1398, 1325, 1283, 141...  0.418626   12      28   \n..                                                 ...       ...  ...     ...   \n346  [1207, 1177, 1223, 1375, 1108, 1441, 1287, 129...  0.448458   18      32   \n347  [1404, 1160, 1117, 1238, 1377, 1326, 1286, 137...  0.511376   16      30   \n348  [1205, 1397, 1287, 1275, 1101, 1234, 1397, 142...  0.564464   21      33   \n349  [1148, 1163, 1353, 1357, 1273, 1248, 1216, 113...  0.500480   14      27   \n350  [1244, 1198, 1184, 1269, 1245, 1122, 1352, 128...  0.471631   12      29   \n\n           wp  fgm   fga     fgPcg  ptsTotal  stlTotal  blkTotal  \n0    0.095238  427  1053  0.405508      1326       6.0       1.5  \n1    0.357143  618  1451  0.425913      1808       5.5       3.0  \n2    0.636364  777  1799  0.431907      2241       6.5       4.0  \n3    0.387097  704  1606  0.438356      2068       6.5       4.0  \n4    0.428571  603  1487  0.405514      1787       6.0       4.0  \n..        ...  ...   ...       ...       ...       ...       ...  \n346  0.562500  710  1580  0.449367      2127       6.5       3.0  \n347  0.533333  654  1386  0.471861      1939       4.5       4.0  \n348  0.636364  846  1795  0.471309      2383       6.0       3.0  \n349  0.518519  564  1372  0.411079      1777       6.0       4.5  \n350  0.413793  736  1621  0.454041      2167       6.5       2.5  \n\n[351 rows x 13 columns]",
      "text/html": "<div>\n<style scoped>\n    .dataframe tbody tr th:only-of-type {\n        vertical-align: middle;\n    }\n\n    .dataframe tbody tr th {\n        vertical-align: top;\n    }\n\n    .dataframe thead th {\n        text-align: right;\n    }\n</style>\n<table border=\"1\" class=\"dataframe\">\n  <thead>\n    <tr style=\"text-align: right;\">\n      <th></th>\n      <th>team_id</th>\n      <th>team_name</th>\n      <th>playedAgainst</th>\n      <th>owp</th>\n      <th>won</th>\n      <th>played</th>\n      <th>wp</th>\n      <th>fgm</th>\n      <th>fga</th>\n      <th>fgPcg</th>\n      <th>ptsTotal</th>\n      <th>stlTotal</th>\n      <th>blkTotal</th>\n    </tr>\n  </thead>\n  <tbody>\n    <tr>\n      <th>0</th>\n      <td>1101</td>\n      <td>Abilene Chr</td>\n      <td>[1182, 1382, 1268, 1234, 1395, 1462, 1406, 130...</td>\n      <td>0.460338</td>\n      <td>2</td>\n      <td>21</td>\n      <td>0.095238</td>\n      <td>427</td>\n      <td>1053</td>\n      <td>0.405508</td>\n      <td>1326</td>\n      <td>6.0</td>\n      <td>1.5</td>\n    </tr>\n    <tr>\n      <th>1</th>\n      <td>1102</td>\n      <td>Air Force</td>\n      <td>[1119, 1440, 1238, 1115, 1350, 1160, 1377, 141...</td>\n      <td>0.492970</td>\n      <td>10</td>\n      <td>28</td>\n      <td>0.357143</td>\n      <td>618</td>\n      <td>1451</td>\n      <td>0.425913</td>\n      <td>1808</td>\n      <td>5.5</td>\n      <td>3.0</td>\n    </tr>\n    <tr>\n      <th>2</th>\n      <td>1103</td>\n      <td>Akron</td>\n      <td>[1157, 1388, 1292, 1156, 1126, 1331, 1178, 133...</td>\n      <td>0.507936</td>\n      <td>21</td>\n      <td>33</td>\n      <td>0.636364</td>\n      <td>777</td>\n      <td>1799</td>\n      <td>0.431907</td>\n      <td>2241</td>\n      <td>6.5</td>\n      <td>4.0</td>\n    </tr>\n    <tr>\n      <th>3</th>\n      <td>1104</td>\n      <td>Alabama</td>\n      <td>[1328, 1403, 1209, 1181, 1180, 1316, 1378, 114...</td>\n      <td>0.612793</td>\n      <td>12</td>\n      <td>31</td>\n      <td>0.387097</td>\n      <td>704</td>\n      <td>1606</td>\n      <td>0.438356</td>\n      <td>2068</td>\n      <td>6.5</td>\n      <td>4.0</td>\n    </tr>\n    <tr>\n      <th>4</th>\n      <td>1105</td>\n      <td>Alabama A&amp;M</td>\n      <td>[1307, 1444, 1184, 1240, 1398, 1325, 1283, 141...</td>\n      <td>0.418626</td>\n      <td>12</td>\n      <td>28</td>\n      <td>0.428571</td>\n      <td>603</td>\n      <td>1487</td>\n      <td>0.405514</td>\n      <td>1787</td>\n      <td>6.0</td>\n      <td>4.0</td>\n    </tr>\n    <tr>\n      <th>...</th>\n      <td>...</td>\n      <td>...</td>\n      <td>...</td>\n      <td>...</td>\n      <td>...</td>\n      <td>...</td>\n      <td>...</td>\n      <td>...</td>\n      <td>...</td>\n      <td>...</td>\n      <td>...</td>\n      <td>...</td>\n      <td>...</td>\n    </tr>\n    <tr>\n      <th>346</th>\n      <td>1460</td>\n      <td>Wright St</td>\n      <td>[1207, 1177, 1223, 1375, 1108, 1441, 1287, 129...</td>\n      <td>0.448458</td>\n      <td>18</td>\n      <td>32</td>\n      <td>0.562500</td>\n      <td>710</td>\n      <td>1580</td>\n      <td>0.449367</td>\n      <td>2127</td>\n      <td>6.5</td>\n      <td>3.0</td>\n    </tr>\n    <tr>\n      <th>347</th>\n      <td>1461</td>\n      <td>Wyoming</td>\n      <td>[1404, 1160, 1117, 1238, 1377, 1326, 1286, 137...</td>\n      <td>0.511376</td>\n      <td>16</td>\n      <td>30</td>\n      <td>0.533333</td>\n      <td>654</td>\n      <td>1386</td>\n      <td>0.471861</td>\n      <td>1939</td>\n      <td>4.5</td>\n      <td>4.0</td>\n    </tr>\n    <tr>\n      <th>348</th>\n      <td>1462</td>\n      <td>Xavier</td>\n      <td>[1205, 1397, 1287, 1275, 1101, 1234, 1397, 142...</td>\n      <td>0.564464</td>\n      <td>21</td>\n      <td>33</td>\n      <td>0.636364</td>\n      <td>846</td>\n      <td>1795</td>\n      <td>0.471309</td>\n      <td>2383</td>\n      <td>6.0</td>\n      <td>3.0</td>\n    </tr>\n    <tr>\n      <th>349</th>\n      <td>1463</td>\n      <td>Yale</td>\n      <td>[1148, 1163, 1353, 1357, 1273, 1248, 1216, 113...</td>\n      <td>0.500480</td>\n      <td>14</td>\n      <td>27</td>\n      <td>0.518519</td>\n      <td>564</td>\n      <td>1372</td>\n      <td>0.411079</td>\n      <td>1777</td>\n      <td>6.0</td>\n      <td>4.5</td>\n    </tr>\n    <tr>\n      <th>350</th>\n      <td>1464</td>\n      <td>Youngstown St</td>\n      <td>[1244, 1198, 1184, 1269, 1245, 1122, 1352, 128...</td>\n      <td>0.471631</td>\n      <td>12</td>\n      <td>29</td>\n      <td>0.413793</td>\n      <td>736</td>\n      <td>1621</td>\n      <td>0.454041</td>\n      <td>2167</td>\n      <td>6.5</td>\n      <td>2.5</td>\n    </tr>\n  </tbody>\n</table>\n<p>351 rows × 13 columns</p>\n</div>"
     },
     "execution_count": 6,
     "metadata": {},
     "output_type": "execute_result"
    }
   ],
   "source": [
    "teams = pd.read_csv(\"against2014.csv\")\n",
    "\n",
    "regular_results = pd.read_csv(\"regular_season_detailed_results.csv\")\n",
    "regular_results = regular_results[(regular_results[\"season\"] == 2014)]\n",
    "training_set = regular_results\n",
    "teams.reset_index()\n",
    "training_set.reset_index()\n",
    "\n",
    "fgm = []\n",
    "fga = []\n",
    "fgPcg = []\n",
    "ptsTotal = []\n",
    "stlTotal = []\n",
    "blkTotal = []\n",
    "won = []\n",
    "played = []\n",
    "wp = []\n",
    "for i, row1 in teams.iterrows():\n",
    "    sumFgm = 0\n",
    "    sumFga = 0\n",
    "    sumPts = 0\n",
    "    sumStl = 0\n",
    "    sumBlk = 0\n",
    "    wonCnt = 0\n",
    "    gamesPlayed = 0\n",
    "    for j, row2 in training_set.iterrows():\n",
    "        if row1['team_id'] == row2['wteam']:\n",
    "            sumFgm = sumFgm + row2['wfgm']\n",
    "            sumFga = sumFga + row2['wfga']\n",
    "            sumPts = sumPts + row2['wscore']\n",
    "            sumStl = sumStl + row2['wstl']\n",
    "            sumBlk = sumBlk + row2['wblk']\n",
    "            gamesPlayed = gamesPlayed + 1\n",
    "            wonCnt = wonCnt + 1\n",
    "        if row1['team_id'] == row2['lteam']:\n",
    "            sumFgm = sumFgm + row2['lfgm']\n",
    "            sumFga = sumFga + row2['lfga']\n",
    "            sumPts = sumPts + row2['lscore']\n",
    "            sumStl = sumStl + row2['lstl']\n",
    "            sumBlk = sumBlk + row2['lblk']\n",
    "            gamesPlayed = gamesPlayed + 1\n",
    "    fgm.append(sumFgm)\n",
    "    fga.append(sumFga)\n",
    "    fgPcg.append(sumFgm / sumFga)\n",
    "    ptsTotal.append(sumPts)\n",
    "    stlTotal.append(round(sumStl / gamesPlayed * 2) / 2)\n",
    "    blkTotal.append(round(sumBlk / gamesPlayed * 2) / 2)\n",
    "    won.append(wonCnt)\n",
    "    played.append(gamesPlayed)\n",
    "    wp.append(wonCnt / gamesPlayed)\n",
    "teams[\"won\"] = won\n",
    "teams[\"played\"] = played\n",
    "teams[\"wp\"] = wp\n",
    "teams[\"fgm\"] = fgm\n",
    "teams[\"fga\"] = fga\n",
    "teams[\"fgPcg\"] = fgPcg\n",
    "teams[\"ptsTotal\"] = ptsTotal\n",
    "teams[\"stlTotal\"] = stlTotal\n",
    "teams[\"blkTotal\"] = blkTotal\n",
    "teams[\"won\"] = won\n",
    "teams[\"played\"] = played\n",
    "teams[\"wp\"] = wp\n",
    "teams.to_csv(\"total2014.csv\", index=False)\n",
    "teams"
   ],
   "metadata": {
    "collapsed": false
   }
  },
  {
   "cell_type": "markdown",
   "source": [
    "Ovdje racunamo RPI za svaki tim u svakoj sezoni po formuli i rank svakog tima po rpi unutar pojedine sezone u kojoj je igrao"
   ],
   "metadata": {
    "collapsed": false
   }
  },
  {
   "cell_type": "code",
   "execution_count": 12,
   "outputs": [],
   "source": [
    "teams = pd.read_csv(\"total2011.csv\")\n",
    "rpi = []\n",
    "for i, row1 in teams.iterrows():\n",
    "    rpi.append(row1[\"wp\"] * 0.25 + row1[\"owp\"] * 0.5 + row1[\"oowp\"] * 0.25)\n",
    "teams[\"rpi\"] = rpi\n",
    "teams['rpiRank'] = teams['rpi'].rank(ascending=0)\n",
    "teams.to_csv(\"total2011.csv\", index=False)"
   ],
   "metadata": {
    "collapsed": false
   }
  },
  {
   "cell_type": "code",
   "execution_count": 13,
   "outputs": [],
   "source": [
    "teams = pd.read_csv(\"total2012.csv\")\n",
    "rpi = []\n",
    "for i, row1 in teams.iterrows():\n",
    "    rpi.append(row1[\"wp\"] * 0.25 + row1[\"owp\"] * 0.5 + row1[\"oowp\"] * 0.25)\n",
    "teams[\"rpi\"] = rpi\n",
    "teams['rpiRank'] = teams['rpi'].rank(ascending=0)\n",
    "teams.to_csv(\"total2012.csv\", index=False)"
   ],
   "metadata": {
    "collapsed": false
   }
  },
  {
   "cell_type": "code",
   "execution_count": 14,
   "outputs": [],
   "source": [
    "teams = pd.read_csv(\"total2013.csv\")\n",
    "rpi = []\n",
    "for i, row1 in teams.iterrows():\n",
    "    rpi.append(row1[\"wp\"] * 0.25 + row1[\"owp\"] * 0.5 + row1[\"oowp\"] * 0.25)\n",
    "teams[\"rpi\"] = rpi\n",
    "teams['rpiRank'] = teams['rpi'].rank(ascending=0)\n",
    "teams.to_csv(\"total2013.csv\", index=False)"
   ],
   "metadata": {
    "collapsed": false
   }
  },
  {
   "cell_type": "code",
   "execution_count": 15,
   "outputs": [],
   "source": [
    "teams = pd.read_csv(\"total2014.csv\")\n",
    "rpi = []\n",
    "for i, row1 in teams.iterrows():\n",
    "    rpi.append(row1[\"wp\"] * 0.25 + row1[\"owp\"] * 0.5 + row1[\"oowp\"] * 0.25)\n",
    "teams[\"rpi\"] = rpi\n",
    "teams['rpiRank'] = teams['rpi'].rank(ascending=0)\n",
    "teams.to_csv(\"total2014.csv\", index=False)"
   ],
   "metadata": {
    "collapsed": false
   }
  },
  {
   "cell_type": "markdown",
   "source": [
    "I na kraju racunamo razliku u ranku rpi, poena, blokirani, ukradeni i postotka suta izmedju timova u svakoj utakmici."
   ],
   "metadata": {
    "collapsed": false
   }
  },
  {
   "cell_type": "code",
   "execution_count": 16,
   "outputs": [
    {
     "name": "stderr",
     "output_type": "stream",
     "text": [
      "C:\\Users\\Zvonimir Ravlic\\AppData\\Local\\Temp\\ipykernel_21616\\1809289923.py:7: FutureWarning: The frame.append method is deprecated and will be removed from pandas in a future version. Use pandas.concat instead.\n",
      "  games = regular_results.append(tourney_results)\n"
     ]
    }
   ],
   "source": [
    "tourney_results = pd.read_csv(\"tourney_detailed_results.csv\")\n",
    "tourney_results = tourney_results[(tourney_results[\"season\"] == 2011)]\n",
    "regular_results = pd.read_csv(\"regular_season_detailed_results.csv\")\n",
    "regular_results = regular_results[(regular_results[\"season\"] == 2011)]\n",
    "regular_results = regular_results[['wteam', 'lteam']]\n",
    "tourney_results = tourney_results[['wteam', 'lteam']]\n",
    "games = regular_results.append(tourney_results)\n",
    "teams = pd.read_csv(\"total2011.csv\")\n",
    "rpiRankW = []\n",
    "ptsW = []\n",
    "fgPcgW = []\n",
    "stlW = []\n",
    "blkW = []\n",
    "\n",
    "games.reset_index()\n",
    "\n",
    "for i, row1 in games.iterrows():\n",
    "    teamW = teams.loc[teams['team_id'] == row1.wteam]\n",
    "    teamL = teams.loc[teams['team_id'] == row1.lteam]\n",
    "    rpiRankW.append(teamW.iloc[0].rpiRank - teamL.iloc[0].rpiRank)\n",
    "    ptsW.append(teamW.iloc[0].ptsTotal - teamL.iloc[0].ptsTotal)\n",
    "    fgPcgW.append((teamW.iloc[0].fgPcg - teamL.iloc[0].fgPcg) * 1000)\n",
    "    stlW.append(teamW.iloc[0].stlTotal - teamL.iloc[0].stlTotal)\n",
    "    blkW.append(teamW.iloc[0].blkTotal - teamL.iloc[0].blkTotal)\n",
    "\n",
    "games[\"rpiRank\"] = rpiRankW\n",
    "games[\"pts\"] = ptsW\n",
    "games[\"fgPcg\"] = fgPcgW\n",
    "games[\"stl\"] = stlW\n",
    "games[\"blk\"] = blkW\n",
    "\n",
    "games.to_csv(\"games2011.csv\", index=False)\n",
    "\n"
   ],
   "metadata": {
    "collapsed": false
   }
  },
  {
   "cell_type": "code",
   "execution_count": 17,
   "outputs": [
    {
     "name": "stderr",
     "output_type": "stream",
     "text": [
      "C:\\Users\\Zvonimir Ravlic\\AppData\\Local\\Temp\\ipykernel_21616\\4193770048.py:7: FutureWarning: The frame.append method is deprecated and will be removed from pandas in a future version. Use pandas.concat instead.\n",
      "  games = regular_results.append(tourney_results)\n"
     ]
    }
   ],
   "source": [
    "tourney_results = pd.read_csv(\"tourney_detailed_results.csv\")\n",
    "tourney_results = tourney_results[(tourney_results[\"season\"] == 2012)]\n",
    "regular_results = pd.read_csv(\"regular_season_detailed_results.csv\")\n",
    "regular_results = regular_results[(regular_results[\"season\"] == 2012)]\n",
    "regular_results = regular_results[['wteam', 'lteam']]\n",
    "tourney_results = tourney_results[['wteam', 'lteam']]\n",
    "games = regular_results.append(tourney_results)\n",
    "teams = pd.read_csv(\"total2012.csv\")\n",
    "rpiRankW = []\n",
    "ptsW = []\n",
    "fgPcgW = []\n",
    "stlW = []\n",
    "blkW = []\n",
    "\n",
    "games.reset_index()\n",
    "\n",
    "for i, row1 in games.iterrows():\n",
    "    teamW = teams.loc[teams['team_id'] == row1.wteam]\n",
    "    teamL = teams.loc[teams['team_id'] == row1.lteam]\n",
    "    rpiRankW.append(teamW.iloc[0].rpiRank - teamL.iloc[0].rpiRank)\n",
    "    ptsW.append(teamW.iloc[0].ptsTotal - teamL.iloc[0].ptsTotal)\n",
    "    fgPcgW.append((teamW.iloc[0].fgPcg - teamL.iloc[0].fgPcg) * 1000)\n",
    "    stlW.append(teamW.iloc[0].stlTotal - teamL.iloc[0].stlTotal)\n",
    "    blkW.append(teamW.iloc[0].blkTotal - teamL.iloc[0].blkTotal)\n",
    "\n",
    "games[\"rpiRank\"] = rpiRankW\n",
    "games[\"pts\"] = ptsW\n",
    "games[\"fgPcg\"] = fgPcgW\n",
    "games[\"stl\"] = stlW\n",
    "games[\"blk\"] = blkW\n",
    "\n",
    "games.to_csv(\"games2012.csv\", index=False)"
   ],
   "metadata": {
    "collapsed": false
   }
  },
  {
   "cell_type": "code",
   "execution_count": 18,
   "outputs": [
    {
     "name": "stderr",
     "output_type": "stream",
     "text": [
      "C:\\Users\\Zvonimir Ravlic\\AppData\\Local\\Temp\\ipykernel_21616\\3525904548.py:7: FutureWarning: The frame.append method is deprecated and will be removed from pandas in a future version. Use pandas.concat instead.\n",
      "  games = regular_results.append(tourney_results)\n"
     ]
    }
   ],
   "source": [
    "tourney_results = pd.read_csv(\"tourney_detailed_results.csv\")\n",
    "tourney_results = tourney_results[(tourney_results[\"season\"] == 2013)]\n",
    "regular_results = pd.read_csv(\"regular_season_detailed_results.csv\")\n",
    "regular_results = regular_results[(regular_results[\"season\"] == 2013)]\n",
    "regular_results = regular_results[['wteam', 'lteam']]\n",
    "tourney_results = tourney_results[['wteam', 'lteam']]\n",
    "games = regular_results.append(tourney_results)\n",
    "teams = pd.read_csv(\"total2013.csv\")\n",
    "rpiRankW = []\n",
    "ptsW = []\n",
    "fgPcgW = []\n",
    "stlW = []\n",
    "blkW = []\n",
    "\n",
    "games.reset_index()\n",
    "\n",
    "for i, row1 in games.iterrows():\n",
    "    teamW = teams.loc[teams['team_id'] == row1.wteam]\n",
    "    teamL = teams.loc[teams['team_id'] == row1.lteam]\n",
    "    rpiRankW.append(teamW.iloc[0].rpiRank - teamL.iloc[0].rpiRank)\n",
    "    ptsW.append(teamW.iloc[0].ptsTotal - teamL.iloc[0].ptsTotal)\n",
    "    fgPcgW.append((teamW.iloc[0].fgPcg - teamL.iloc[0].fgPcg) * 1000)\n",
    "    stlW.append(teamW.iloc[0].stlTotal - teamL.iloc[0].stlTotal)\n",
    "    blkW.append(teamW.iloc[0].blkTotal - teamL.iloc[0].blkTotal)\n",
    "\n",
    "games[\"rpiRank\"] = rpiRankW\n",
    "games[\"pts\"] = ptsW\n",
    "games[\"fgPcg\"] = fgPcgW\n",
    "games[\"stl\"] = stlW\n",
    "games[\"blk\"] = blkW\n",
    "\n",
    "games.to_csv(\"games2013.csv\", index=False)"
   ],
   "metadata": {
    "collapsed": false
   }
  },
  {
   "cell_type": "code",
   "execution_count": 19,
   "outputs": [],
   "source": [
    "regular_results = pd.read_csv(\"regular_season_detailed_results.csv\")\n",
    "regular_results = regular_results[(regular_results[\"season\"] == 2014)]\n",
    "regular_results = regular_results[['wteam', 'lteam']]\n",
    "games = regular_results\n",
    "teams = pd.read_csv(\"total2014.csv\")\n",
    "rpiRankW = []\n",
    "ptsW = []\n",
    "fgPcgW = []\n",
    "stlW = []\n",
    "blkW = []\n",
    "\n",
    "games.reset_index()\n",
    "\n",
    "for i, row1 in games.iterrows():\n",
    "    teamW = teams.loc[teams['team_id'] == row1.wteam]\n",
    "    teamL = teams.loc[teams['team_id'] == row1.lteam]\n",
    "    rpiRankW.append(teamW.iloc[0].rpiRank - teamL.iloc[0].rpiRank)\n",
    "    ptsW.append(teamW.iloc[0].ptsTotal - teamL.iloc[0].ptsTotal)\n",
    "    fgPcgW.append((teamW.iloc[0].fgPcg - teamL.iloc[0].fgPcg) * 1000)\n",
    "    stlW.append(teamW.iloc[0].stlTotal - teamL.iloc[0].stlTotal)\n",
    "    blkW.append(teamW.iloc[0].blkTotal - teamL.iloc[0].blkTotal)\n",
    "\n",
    "games[\"rpiRank\"] = rpiRankW\n",
    "games[\"pts\"] = ptsW\n",
    "games[\"fgPcg\"] = fgPcgW\n",
    "games[\"stl\"] = stlW\n",
    "games[\"blk\"] = blkW\n",
    "\n",
    "games.to_csv(\"games2014.csv\", index=False)"
   ],
   "metadata": {
    "collapsed": false
   }
  },
  {
   "cell_type": "markdown",
   "source": [
    "Na kraju samo konkateniramo sve utakmice sa razlikama izmedju statistika koje smo izracunali"
   ],
   "metadata": {
    "collapsed": false
   }
  },
  {
   "cell_type": "code",
   "execution_count": 21,
   "outputs": [
    {
     "name": "stderr",
     "output_type": "stream",
     "text": [
      "C:\\Users\\Zvonimir Ravlic\\AppData\\Local\\Temp\\ipykernel_21616\\1303059859.py:6: FutureWarning: The frame.append method is deprecated and will be removed from pandas in a future version. Use pandas.concat instead.\n",
      "  games = games1.append(games2)\n",
      "C:\\Users\\Zvonimir Ravlic\\AppData\\Local\\Temp\\ipykernel_21616\\1303059859.py:7: FutureWarning: The frame.append method is deprecated and will be removed from pandas in a future version. Use pandas.concat instead.\n",
      "  games = games.append(games3)\n",
      "C:\\Users\\Zvonimir Ravlic\\AppData\\Local\\Temp\\ipykernel_21616\\1303059859.py:8: FutureWarning: The frame.append method is deprecated and will be removed from pandas in a future version. Use pandas.concat instead.\n",
      "  games = games.append(games4)\n"
     ]
    },
    {
     "data": {
      "text/plain": "      wteam  lteam  rpiRank  pts  fgPcg  stl  blk\n0      1228   1414     -248  101     49 -1.0  3.0\n1      1268   1370     -210  398     71 -2.0  2.5\n2      1338   1348      -90  328     53 -2.0 -0.5\n3      1400   1298     -291  662     59 -3.0  2.5\n4      1228   1405     -293  640     64  0.0  3.0\n...     ...    ...      ...  ...    ...  ...  ...\n5357   1196   1246      -15 -176     10  2.0 -3.0\n5358   1277   1276        3  127     -1  2.0  2.5\n5359   1386   1433       11 -197     50 -6.5  0.0\n5360   1418   1209        9   68    -11 -1.0 -0.5\n5361   1438   1181       -1 -432    -10 -1.5  1.0\n\n[21382 rows x 7 columns]",
      "text/html": "<div>\n<style scoped>\n    .dataframe tbody tr th:only-of-type {\n        vertical-align: middle;\n    }\n\n    .dataframe tbody tr th {\n        vertical-align: top;\n    }\n\n    .dataframe thead th {\n        text-align: right;\n    }\n</style>\n<table border=\"1\" class=\"dataframe\">\n  <thead>\n    <tr style=\"text-align: right;\">\n      <th></th>\n      <th>wteam</th>\n      <th>lteam</th>\n      <th>rpiRank</th>\n      <th>pts</th>\n      <th>fgPcg</th>\n      <th>stl</th>\n      <th>blk</th>\n    </tr>\n  </thead>\n  <tbody>\n    <tr>\n      <th>0</th>\n      <td>1228</td>\n      <td>1414</td>\n      <td>-248</td>\n      <td>101</td>\n      <td>49</td>\n      <td>-1.0</td>\n      <td>3.0</td>\n    </tr>\n    <tr>\n      <th>1</th>\n      <td>1268</td>\n      <td>1370</td>\n      <td>-210</td>\n      <td>398</td>\n      <td>71</td>\n      <td>-2.0</td>\n      <td>2.5</td>\n    </tr>\n    <tr>\n      <th>2</th>\n      <td>1338</td>\n      <td>1348</td>\n      <td>-90</td>\n      <td>328</td>\n      <td>53</td>\n      <td>-2.0</td>\n      <td>-0.5</td>\n    </tr>\n    <tr>\n      <th>3</th>\n      <td>1400</td>\n      <td>1298</td>\n      <td>-291</td>\n      <td>662</td>\n      <td>59</td>\n      <td>-3.0</td>\n      <td>2.5</td>\n    </tr>\n    <tr>\n      <th>4</th>\n      <td>1228</td>\n      <td>1405</td>\n      <td>-293</td>\n      <td>640</td>\n      <td>64</td>\n      <td>0.0</td>\n      <td>3.0</td>\n    </tr>\n    <tr>\n      <th>...</th>\n      <td>...</td>\n      <td>...</td>\n      <td>...</td>\n      <td>...</td>\n      <td>...</td>\n      <td>...</td>\n      <td>...</td>\n    </tr>\n    <tr>\n      <th>5357</th>\n      <td>1196</td>\n      <td>1246</td>\n      <td>-15</td>\n      <td>-176</td>\n      <td>10</td>\n      <td>2.0</td>\n      <td>-3.0</td>\n    </tr>\n    <tr>\n      <th>5358</th>\n      <td>1277</td>\n      <td>1276</td>\n      <td>3</td>\n      <td>127</td>\n      <td>-1</td>\n      <td>2.0</td>\n      <td>2.5</td>\n    </tr>\n    <tr>\n      <th>5359</th>\n      <td>1386</td>\n      <td>1433</td>\n      <td>11</td>\n      <td>-197</td>\n      <td>50</td>\n      <td>-6.5</td>\n      <td>0.0</td>\n    </tr>\n    <tr>\n      <th>5360</th>\n      <td>1418</td>\n      <td>1209</td>\n      <td>9</td>\n      <td>68</td>\n      <td>-11</td>\n      <td>-1.0</td>\n      <td>-0.5</td>\n    </tr>\n    <tr>\n      <th>5361</th>\n      <td>1438</td>\n      <td>1181</td>\n      <td>-1</td>\n      <td>-432</td>\n      <td>-10</td>\n      <td>-1.5</td>\n      <td>1.0</td>\n    </tr>\n  </tbody>\n</table>\n<p>21382 rows × 7 columns</p>\n</div>"
     },
     "execution_count": 21,
     "metadata": {},
     "output_type": "execute_result"
    }
   ],
   "source": [
    "games1 = pd.read_csv(\"games2011.csv\")\n",
    "games2 = pd.read_csv(\"games2012.csv\")\n",
    "games3 = pd.read_csv(\"games2013.csv\")\n",
    "games4 = pd.read_csv(\"games2014.csv\")\n",
    "\n",
    "games = games1.append(games2)\n",
    "games = games.append(games3)\n",
    "games = games.append(games4)\n",
    "games.fgPcg = games.fgPcg.astype(int)\n",
    "games.rpiRank = games.rpiRank.astype(int)\n",
    "games.to_csv(\"gamesTraining.csv\", index=False)\n",
    "games"
   ],
   "metadata": {
    "collapsed": false
   }
  },
  {
   "cell_type": "code",
   "execution_count": null,
   "outputs": [],
   "source": [],
   "metadata": {
    "collapsed": false
   }
  }
 ],
 "metadata": {
  "kernelspec": {
   "display_name": "Python 3",
   "language": "python",
   "name": "python3"
  },
  "language_info": {
   "codemirror_mode": {
    "name": "ipython",
    "version": 2
   },
   "file_extension": ".py",
   "mimetype": "text/x-python",
   "name": "python",
   "nbconvert_exporter": "python",
   "pygments_lexer": "ipython2",
   "version": "2.7.6"
  }
 },
 "nbformat": 4,
 "nbformat_minor": 0
}
