{
 "cells": [
  {
   "cell_type": "code",
   "execution_count": 1,
   "outputs": [],
   "source": [
    "import matplotlib.pyplot as plt\n",
    "import pandas as pd\n",
    "from sklearn.preprocessing import LabelEncoder"
   ],
   "metadata": {
    "collapsed": false
   }
  },
  {
   "cell_type": "markdown",
   "source": [
    "## Rad sa tablicom seasons"
   ],
   "metadata": {
    "collapsed": false
   }
  },
  {
   "cell_type": "code",
   "execution_count": 2,
   "outputs": [
    {
     "data": {
      "text/plain": "(19, 7)"
     },
     "execution_count": 2,
     "metadata": {},
     "output_type": "execute_result"
    }
   ],
   "source": [
    "seasons = pd.read_csv(\"seasons.csv\")\n",
    "seasons.shape"
   ],
   "metadata": {
    "collapsed": false
   }
  },
  {
   "cell_type": "markdown",
   "source": [
    "Sa shape funkcijom provjerili smo koliko imamo stupaca i redaka zatim sa head pogeldamo kako nam izgleda prvi 5 redaka"
   ],
   "metadata": {
    "collapsed": false
   }
  },
  {
   "cell_type": "code",
   "execution_count": 3,
   "outputs": [
    {
     "data": {
      "text/plain": "  season      years     dayzero  regionW    regionX    regionY regionZ\n0      A  1995-1996  10/30/1995     East    Midwest  Southeast    West\n1      B  1996-1997  10/28/1996     East  Southeast    Midwest    West\n2      C  1997-1998  10/27/1997     East       West    Midwest   South\n3      D  1998-1999  10/26/1998     East    Midwest      South    West\n4      E  1999-2000  11/01/1999  Midwest       West       East   South",
      "text/html": "<div>\n<style scoped>\n    .dataframe tbody tr th:only-of-type {\n        vertical-align: middle;\n    }\n\n    .dataframe tbody tr th {\n        vertical-align: top;\n    }\n\n    .dataframe thead th {\n        text-align: right;\n    }\n</style>\n<table border=\"1\" class=\"dataframe\">\n  <thead>\n    <tr style=\"text-align: right;\">\n      <th></th>\n      <th>season</th>\n      <th>years</th>\n      <th>dayzero</th>\n      <th>regionW</th>\n      <th>regionX</th>\n      <th>regionY</th>\n      <th>regionZ</th>\n    </tr>\n  </thead>\n  <tbody>\n    <tr>\n      <th>0</th>\n      <td>A</td>\n      <td>1995-1996</td>\n      <td>10/30/1995</td>\n      <td>East</td>\n      <td>Midwest</td>\n      <td>Southeast</td>\n      <td>West</td>\n    </tr>\n    <tr>\n      <th>1</th>\n      <td>B</td>\n      <td>1996-1997</td>\n      <td>10/28/1996</td>\n      <td>East</td>\n      <td>Southeast</td>\n      <td>Midwest</td>\n      <td>West</td>\n    </tr>\n    <tr>\n      <th>2</th>\n      <td>C</td>\n      <td>1997-1998</td>\n      <td>10/27/1997</td>\n      <td>East</td>\n      <td>West</td>\n      <td>Midwest</td>\n      <td>South</td>\n    </tr>\n    <tr>\n      <th>3</th>\n      <td>D</td>\n      <td>1998-1999</td>\n      <td>10/26/1998</td>\n      <td>East</td>\n      <td>Midwest</td>\n      <td>South</td>\n      <td>West</td>\n    </tr>\n    <tr>\n      <th>4</th>\n      <td>E</td>\n      <td>1999-2000</td>\n      <td>11/01/1999</td>\n      <td>Midwest</td>\n      <td>West</td>\n      <td>East</td>\n      <td>South</td>\n    </tr>\n  </tbody>\n</table>\n</div>"
     },
     "execution_count": 3,
     "metadata": {},
     "output_type": "execute_result"
    }
   ],
   "source": [
    "seasons.head()"
   ],
   "metadata": {
    "collapsed": false
   }
  },
  {
   "cell_type": "markdown",
   "source": [
    "Nakon toga sa funkcijama describe i info detaljnije pogledamo vrijednosti i tipove podataka koji se nalaze u tablici seasons"
   ],
   "metadata": {
    "collapsed": false
   }
  },
  {
   "cell_type": "code",
   "execution_count": 4,
   "outputs": [
    {
     "data": {
      "text/plain": "       season      years     dayzero regionW regionX  regionY regionZ\ncount      19         19          19      19      19       19      19\nunique     19         19          19       4       7        7       6\ntop         A  1995-1996  10/30/1995    East   South  Midwest    West\nfreq        1          1           1      15       6        9      12",
      "text/html": "<div>\n<style scoped>\n    .dataframe tbody tr th:only-of-type {\n        vertical-align: middle;\n    }\n\n    .dataframe tbody tr th {\n        vertical-align: top;\n    }\n\n    .dataframe thead th {\n        text-align: right;\n    }\n</style>\n<table border=\"1\" class=\"dataframe\">\n  <thead>\n    <tr style=\"text-align: right;\">\n      <th></th>\n      <th>season</th>\n      <th>years</th>\n      <th>dayzero</th>\n      <th>regionW</th>\n      <th>regionX</th>\n      <th>regionY</th>\n      <th>regionZ</th>\n    </tr>\n  </thead>\n  <tbody>\n    <tr>\n      <th>count</th>\n      <td>19</td>\n      <td>19</td>\n      <td>19</td>\n      <td>19</td>\n      <td>19</td>\n      <td>19</td>\n      <td>19</td>\n    </tr>\n    <tr>\n      <th>unique</th>\n      <td>19</td>\n      <td>19</td>\n      <td>19</td>\n      <td>4</td>\n      <td>7</td>\n      <td>7</td>\n      <td>6</td>\n    </tr>\n    <tr>\n      <th>top</th>\n      <td>A</td>\n      <td>1995-1996</td>\n      <td>10/30/1995</td>\n      <td>East</td>\n      <td>South</td>\n      <td>Midwest</td>\n      <td>West</td>\n    </tr>\n    <tr>\n      <th>freq</th>\n      <td>1</td>\n      <td>1</td>\n      <td>1</td>\n      <td>15</td>\n      <td>6</td>\n      <td>9</td>\n      <td>12</td>\n    </tr>\n  </tbody>\n</table>\n</div>"
     },
     "execution_count": 4,
     "metadata": {},
     "output_type": "execute_result"
    }
   ],
   "source": [
    "seasons.describe()"
   ],
   "metadata": {
    "collapsed": false
   }
  },
  {
   "cell_type": "markdown",
   "source": [
    "Posto vidimo da u svih 19 zapisa imamo 19 razliciti vrijednosti za years mozemo ga dropati a ako nam bude trebati opet mozemo ga nagenerirati pomocu dayzero"
   ],
   "metadata": {
    "collapsed": false
   }
  },
  {
   "cell_type": "code",
   "execution_count": 5,
   "outputs": [],
   "source": [
    "seasons.drop((['years']), axis=1, inplace=True)"
   ],
   "metadata": {
    "collapsed": false
   }
  },
  {
   "cell_type": "code",
   "execution_count": 6,
   "outputs": [
    {
     "name": "stdout",
     "output_type": "stream",
     "text": [
      "<class 'pandas.core.frame.DataFrame'>\n",
      "RangeIndex: 19 entries, 0 to 18\n",
      "Data columns (total 6 columns):\n",
      " #   Column   Non-Null Count  Dtype \n",
      "---  ------   --------------  ----- \n",
      " 0   season   19 non-null     object\n",
      " 1   dayzero  19 non-null     object\n",
      " 2   regionW  19 non-null     object\n",
      " 3   regionX  19 non-null     object\n",
      " 4   regionY  19 non-null     object\n",
      " 5   regionZ  19 non-null     object\n",
      "dtypes: object(6)\n",
      "memory usage: 1.0+ KB\n"
     ]
    }
   ],
   "source": [
    "seasons.info()"
   ],
   "metadata": {
    "collapsed": false
   }
  },
  {
   "cell_type": "markdown",
   "source": [
    "Zatim cemo pogledati imamo li atributa sa null vrijednostima"
   ],
   "metadata": {
    "collapsed": false
   }
  },
  {
   "cell_type": "code",
   "execution_count": 7,
   "outputs": [
    {
     "data": {
      "text/plain": "season     0\ndayzero    0\nregionW    0\nregionX    0\nregionY    0\nregionZ    0\ndtype: int64"
     },
     "execution_count": 7,
     "metadata": {},
     "output_type": "execute_result"
    }
   ],
   "source": [
    "seasons.isna().sum()"
   ],
   "metadata": {
    "collapsed": false
   }
  },
  {
   "cell_type": "markdown",
   "source": [
    "Sada cemo labelirati stupce season i region da nam budu int a ne object te cemo promjeniti dayzero iz object u datetime"
   ],
   "metadata": {
    "collapsed": false
   }
  },
  {
   "cell_type": "code",
   "execution_count": 8,
   "outputs": [
    {
     "data": {
      "text/plain": "   season     dayzero  regionW  regionX  regionY  regionZ\n0       0  10/30/1995        0        1        4        5\n1       1  10/28/1996        0        4        1        5\n2       2  10/27/1997        0        5        1        6\n3       3  10/26/1998        0        1        6        5\n4       4  11/01/1999        1        5        0        6",
      "text/html": "<div>\n<style scoped>\n    .dataframe tbody tr th:only-of-type {\n        vertical-align: middle;\n    }\n\n    .dataframe tbody tr th {\n        vertical-align: top;\n    }\n\n    .dataframe thead th {\n        text-align: right;\n    }\n</style>\n<table border=\"1\" class=\"dataframe\">\n  <thead>\n    <tr style=\"text-align: right;\">\n      <th></th>\n      <th>season</th>\n      <th>dayzero</th>\n      <th>regionW</th>\n      <th>regionX</th>\n      <th>regionY</th>\n      <th>regionZ</th>\n    </tr>\n  </thead>\n  <tbody>\n    <tr>\n      <th>0</th>\n      <td>0</td>\n      <td>10/30/1995</td>\n      <td>0</td>\n      <td>1</td>\n      <td>4</td>\n      <td>5</td>\n    </tr>\n    <tr>\n      <th>1</th>\n      <td>1</td>\n      <td>10/28/1996</td>\n      <td>0</td>\n      <td>4</td>\n      <td>1</td>\n      <td>5</td>\n    </tr>\n    <tr>\n      <th>2</th>\n      <td>2</td>\n      <td>10/27/1997</td>\n      <td>0</td>\n      <td>5</td>\n      <td>1</td>\n      <td>6</td>\n    </tr>\n    <tr>\n      <th>3</th>\n      <td>3</td>\n      <td>10/26/1998</td>\n      <td>0</td>\n      <td>1</td>\n      <td>6</td>\n      <td>5</td>\n    </tr>\n    <tr>\n      <th>4</th>\n      <td>4</td>\n      <td>11/01/1999</td>\n      <td>1</td>\n      <td>5</td>\n      <td>0</td>\n      <td>6</td>\n    </tr>\n  </tbody>\n</table>\n</div>"
     },
     "execution_count": 8,
     "metadata": {},
     "output_type": "execute_result"
    }
   ],
   "source": [
    "season_map = {season: i for i, season in enumerate(pd.unique(seasons[['season']].values.ravel('K')))}\n",
    "region_map = {region: i for i, region in\n",
    "              enumerate(pd.unique(seasons[['regionW', 'regionX', 'regionY', 'regionZ']].values.ravel('K')))}\n",
    "\n",
    "seasons['season'] = seasons['season'].map(season_map)\n",
    "seasons['regionW'] = seasons['regionW'].map(region_map)\n",
    "seasons['regionX'] = seasons['regionX'].map(region_map)\n",
    "seasons['regionY'] = seasons['regionY'].map(region_map)\n",
    "seasons['regionZ'] = seasons['regionZ'].map(region_map)\n",
    "\n",
    "seasons.head()"
   ],
   "metadata": {
    "collapsed": false
   }
  },
  {
   "cell_type": "code",
   "execution_count": 9,
   "outputs": [],
   "source": [
    "seasons['dayzero'] = pd.to_datetime(seasons['dayzero'])"
   ],
   "metadata": {
    "collapsed": false
   }
  },
  {
   "cell_type": "code",
   "execution_count": 10,
   "outputs": [
    {
     "name": "stdout",
     "output_type": "stream",
     "text": [
      "<class 'pandas.core.frame.DataFrame'>\n",
      "RangeIndex: 19 entries, 0 to 18\n",
      "Data columns (total 6 columns):\n",
      " #   Column   Non-Null Count  Dtype         \n",
      "---  ------   --------------  -----         \n",
      " 0   season   19 non-null     int64         \n",
      " 1   dayzero  19 non-null     datetime64[ns]\n",
      " 2   regionW  19 non-null     int64         \n",
      " 3   regionX  19 non-null     int64         \n",
      " 4   regionY  19 non-null     int64         \n",
      " 5   regionZ  19 non-null     int64         \n",
      "dtypes: datetime64[ns](1), int64(5)\n",
      "memory usage: 1.0 KB\n"
     ]
    }
   ],
   "source": [
    "seasons.info()"
   ],
   "metadata": {
    "collapsed": false
   }
  },
  {
   "cell_type": "code",
   "execution_count": 11,
   "outputs": [
    {
     "data": {
      "text/plain": "season     19\ndayzero    19\nregionW     4\nregionX     7\nregionY     7\nregionZ     6\ndtype: int64"
     },
     "execution_count": 11,
     "metadata": {},
     "output_type": "execute_result"
    }
   ],
   "source": [
    "seasons.nunique()"
   ],
   "metadata": {
    "collapsed": false
   }
  },
  {
   "cell_type": "markdown",
   "source": [
    "Kao sto vidimo season nam je monoton al ce nam trebati za povezati ovu tablicu sa ostalima pa cemo ga kasnije moci dropati"
   ],
   "metadata": {
    "collapsed": false
   }
  },
  {
   "cell_type": "markdown",
   "source": [
    "## Rad sa tablicom tournery_results"
   ],
   "metadata": {
    "collapsed": false
   }
  },
  {
   "cell_type": "code",
   "execution_count": 12,
   "outputs": [
    {
     "data": {
      "text/plain": "(1156, 7)"
     },
     "execution_count": 12,
     "metadata": {},
     "output_type": "execute_result"
    }
   ],
   "source": [
    "tourney_results = pd.read_csv(\"tourney_results.csv\")\n",
    "tourney_results.shape"
   ],
   "metadata": {
    "collapsed": false
   }
  },
  {
   "cell_type": "code",
   "execution_count": 13,
   "outputs": [
    {
     "data": {
      "text/plain": "  season  daynum  wteam  wscore  lteam  lscore  numot\n0      A     136    515      86    729      80    NaN\n1      A     136    559      68    555      59    NaN\n2      A     136    576      75    666      63    NaN\n3      A     136    581      75    577      60    NaN\n4      A     136    604      81    551      74    NaN",
      "text/html": "<div>\n<style scoped>\n    .dataframe tbody tr th:only-of-type {\n        vertical-align: middle;\n    }\n\n    .dataframe tbody tr th {\n        vertical-align: top;\n    }\n\n    .dataframe thead th {\n        text-align: right;\n    }\n</style>\n<table border=\"1\" class=\"dataframe\">\n  <thead>\n    <tr style=\"text-align: right;\">\n      <th></th>\n      <th>season</th>\n      <th>daynum</th>\n      <th>wteam</th>\n      <th>wscore</th>\n      <th>lteam</th>\n      <th>lscore</th>\n      <th>numot</th>\n    </tr>\n  </thead>\n  <tbody>\n    <tr>\n      <th>0</th>\n      <td>A</td>\n      <td>136</td>\n      <td>515</td>\n      <td>86</td>\n      <td>729</td>\n      <td>80</td>\n      <td>NaN</td>\n    </tr>\n    <tr>\n      <th>1</th>\n      <td>A</td>\n      <td>136</td>\n      <td>559</td>\n      <td>68</td>\n      <td>555</td>\n      <td>59</td>\n      <td>NaN</td>\n    </tr>\n    <tr>\n      <th>2</th>\n      <td>A</td>\n      <td>136</td>\n      <td>576</td>\n      <td>75</td>\n      <td>666</td>\n      <td>63</td>\n      <td>NaN</td>\n    </tr>\n    <tr>\n      <th>3</th>\n      <td>A</td>\n      <td>136</td>\n      <td>581</td>\n      <td>75</td>\n      <td>577</td>\n      <td>60</td>\n      <td>NaN</td>\n    </tr>\n    <tr>\n      <th>4</th>\n      <td>A</td>\n      <td>136</td>\n      <td>604</td>\n      <td>81</td>\n      <td>551</td>\n      <td>74</td>\n      <td>NaN</td>\n    </tr>\n  </tbody>\n</table>\n</div>"
     },
     "execution_count": 13,
     "metadata": {},
     "output_type": "execute_result"
    }
   ],
   "source": [
    "tourney_results.head()"
   ],
   "metadata": {
    "collapsed": false
   }
  },
  {
   "cell_type": "code",
   "execution_count": 14,
   "outputs": [
    {
     "data": {
      "text/plain": "            daynum        wteam       wscore        lteam       lscore  \\\ncount  1156.000000  1156.000000  1156.000000  1156.000000  1156.000000   \nmean    139.143599   682.515571    75.549308   686.699827    63.667820   \nstd       4.213580    98.684397    10.941410   103.201450    10.567058   \nmin     134.000000   504.000000    43.000000   502.000000    29.000000   \n25%     136.000000   606.000000    68.000000   603.750000    57.000000   \n50%     137.000000   671.000000    75.000000   681.500000    63.000000   \n75%     139.000000   783.000000    82.000000   783.000000    70.000000   \nmax     154.000000   853.000000   121.000000   853.000000   105.000000   \n\n            numot  \ncount  585.000000  \nmean     0.075214  \nstd      0.311565  \nmin      0.000000  \n25%      0.000000  \n50%      0.000000  \n75%      0.000000  \nmax      2.000000  ",
      "text/html": "<div>\n<style scoped>\n    .dataframe tbody tr th:only-of-type {\n        vertical-align: middle;\n    }\n\n    .dataframe tbody tr th {\n        vertical-align: top;\n    }\n\n    .dataframe thead th {\n        text-align: right;\n    }\n</style>\n<table border=\"1\" class=\"dataframe\">\n  <thead>\n    <tr style=\"text-align: right;\">\n      <th></th>\n      <th>daynum</th>\n      <th>wteam</th>\n      <th>wscore</th>\n      <th>lteam</th>\n      <th>lscore</th>\n      <th>numot</th>\n    </tr>\n  </thead>\n  <tbody>\n    <tr>\n      <th>count</th>\n      <td>1156.000000</td>\n      <td>1156.000000</td>\n      <td>1156.000000</td>\n      <td>1156.000000</td>\n      <td>1156.000000</td>\n      <td>585.000000</td>\n    </tr>\n    <tr>\n      <th>mean</th>\n      <td>139.143599</td>\n      <td>682.515571</td>\n      <td>75.549308</td>\n      <td>686.699827</td>\n      <td>63.667820</td>\n      <td>0.075214</td>\n    </tr>\n    <tr>\n      <th>std</th>\n      <td>4.213580</td>\n      <td>98.684397</td>\n      <td>10.941410</td>\n      <td>103.201450</td>\n      <td>10.567058</td>\n      <td>0.311565</td>\n    </tr>\n    <tr>\n      <th>min</th>\n      <td>134.000000</td>\n      <td>504.000000</td>\n      <td>43.000000</td>\n      <td>502.000000</td>\n      <td>29.000000</td>\n      <td>0.000000</td>\n    </tr>\n    <tr>\n      <th>25%</th>\n      <td>136.000000</td>\n      <td>606.000000</td>\n      <td>68.000000</td>\n      <td>603.750000</td>\n      <td>57.000000</td>\n      <td>0.000000</td>\n    </tr>\n    <tr>\n      <th>50%</th>\n      <td>137.000000</td>\n      <td>671.000000</td>\n      <td>75.000000</td>\n      <td>681.500000</td>\n      <td>63.000000</td>\n      <td>0.000000</td>\n    </tr>\n    <tr>\n      <th>75%</th>\n      <td>139.000000</td>\n      <td>783.000000</td>\n      <td>82.000000</td>\n      <td>783.000000</td>\n      <td>70.000000</td>\n      <td>0.000000</td>\n    </tr>\n    <tr>\n      <th>max</th>\n      <td>154.000000</td>\n      <td>853.000000</td>\n      <td>121.000000</td>\n      <td>853.000000</td>\n      <td>105.000000</td>\n      <td>2.000000</td>\n    </tr>\n  </tbody>\n</table>\n</div>"
     },
     "execution_count": 14,
     "metadata": {},
     "output_type": "execute_result"
    }
   ],
   "source": [
    "tourney_results.describe()"
   ],
   "metadata": {
    "collapsed": false
   }
  },
  {
   "cell_type": "code",
   "execution_count": 15,
   "outputs": [
    {
     "data": {
      "text/plain": "season      0\ndaynum      0\nwteam       0\nwscore      0\nlteam       0\nlscore      0\nnumot     571\ndtype: int64"
     },
     "execution_count": 15,
     "metadata": {},
     "output_type": "execute_result"
    }
   ],
   "source": [
    "tourney_results.isna().sum()"
   ],
   "metadata": {
    "collapsed": false
   }
  },
  {
   "cell_type": "markdown",
   "source": [
    "Vidimo da atribut num ot ima oko 50 posto null vrijednosti sad imamo par mogucnosti mozemo staviti na nulu no to bi nam smanjilo broj produzetaka u prosjeku i imali bi krivu statistiku mozemo staviti na prosjecnu vrijenost sto je 0.07 produzetaka u prosjeku ali ovo nam je cijelobrojni atribut i treca opcija za koju sam se ja odlucio je da dropam taj stupac jer cemo vidjeti u rezultatu utakmice koliko je usitinu ta utakmica bila blizu"
   ],
   "metadata": {
    "collapsed": false
   }
  },
  {
   "cell_type": "code",
   "execution_count": 16,
   "outputs": [
    {
     "data": {
      "text/plain": "  season  daynum  wteam  wscore  lteam  lscore\n0      A     136    515      86    729      80\n1      A     136    559      68    555      59\n2      A     136    576      75    666      63\n3      A     136    581      75    577      60\n4      A     136    604      81    551      74",
      "text/html": "<div>\n<style scoped>\n    .dataframe tbody tr th:only-of-type {\n        vertical-align: middle;\n    }\n\n    .dataframe tbody tr th {\n        vertical-align: top;\n    }\n\n    .dataframe thead th {\n        text-align: right;\n    }\n</style>\n<table border=\"1\" class=\"dataframe\">\n  <thead>\n    <tr style=\"text-align: right;\">\n      <th></th>\n      <th>season</th>\n      <th>daynum</th>\n      <th>wteam</th>\n      <th>wscore</th>\n      <th>lteam</th>\n      <th>lscore</th>\n    </tr>\n  </thead>\n  <tbody>\n    <tr>\n      <th>0</th>\n      <td>A</td>\n      <td>136</td>\n      <td>515</td>\n      <td>86</td>\n      <td>729</td>\n      <td>80</td>\n    </tr>\n    <tr>\n      <th>1</th>\n      <td>A</td>\n      <td>136</td>\n      <td>559</td>\n      <td>68</td>\n      <td>555</td>\n      <td>59</td>\n    </tr>\n    <tr>\n      <th>2</th>\n      <td>A</td>\n      <td>136</td>\n      <td>576</td>\n      <td>75</td>\n      <td>666</td>\n      <td>63</td>\n    </tr>\n    <tr>\n      <th>3</th>\n      <td>A</td>\n      <td>136</td>\n      <td>581</td>\n      <td>75</td>\n      <td>577</td>\n      <td>60</td>\n    </tr>\n    <tr>\n      <th>4</th>\n      <td>A</td>\n      <td>136</td>\n      <td>604</td>\n      <td>81</td>\n      <td>551</td>\n      <td>74</td>\n    </tr>\n  </tbody>\n</table>\n</div>"
     },
     "execution_count": 16,
     "metadata": {},
     "output_type": "execute_result"
    }
   ],
   "source": [
    "tourney_results.drop((['numot']), axis=1, inplace=True)\n",
    "tourney_results.head()"
   ],
   "metadata": {
    "collapsed": false
   }
  },
  {
   "cell_type": "markdown",
   "source": [
    "Zatim namapiramo sa istim maperom koji smo koristili i za tablicu seasons atribut seasons"
   ],
   "metadata": {
    "collapsed": false
   }
  },
  {
   "cell_type": "code",
   "execution_count": 17,
   "outputs": [
    {
     "data": {
      "text/plain": "   season  daynum  wteam  wscore  lteam  lscore\n0       0     136    515      86    729      80\n1       0     136    559      68    555      59\n2       0     136    576      75    666      63\n3       0     136    581      75    577      60\n4       0     136    604      81    551      74",
      "text/html": "<div>\n<style scoped>\n    .dataframe tbody tr th:only-of-type {\n        vertical-align: middle;\n    }\n\n    .dataframe tbody tr th {\n        vertical-align: top;\n    }\n\n    .dataframe thead th {\n        text-align: right;\n    }\n</style>\n<table border=\"1\" class=\"dataframe\">\n  <thead>\n    <tr style=\"text-align: right;\">\n      <th></th>\n      <th>season</th>\n      <th>daynum</th>\n      <th>wteam</th>\n      <th>wscore</th>\n      <th>lteam</th>\n      <th>lscore</th>\n    </tr>\n  </thead>\n  <tbody>\n    <tr>\n      <th>0</th>\n      <td>0</td>\n      <td>136</td>\n      <td>515</td>\n      <td>86</td>\n      <td>729</td>\n      <td>80</td>\n    </tr>\n    <tr>\n      <th>1</th>\n      <td>0</td>\n      <td>136</td>\n      <td>559</td>\n      <td>68</td>\n      <td>555</td>\n      <td>59</td>\n    </tr>\n    <tr>\n      <th>2</th>\n      <td>0</td>\n      <td>136</td>\n      <td>576</td>\n      <td>75</td>\n      <td>666</td>\n      <td>63</td>\n    </tr>\n    <tr>\n      <th>3</th>\n      <td>0</td>\n      <td>136</td>\n      <td>581</td>\n      <td>75</td>\n      <td>577</td>\n      <td>60</td>\n    </tr>\n    <tr>\n      <th>4</th>\n      <td>0</td>\n      <td>136</td>\n      <td>604</td>\n      <td>81</td>\n      <td>551</td>\n      <td>74</td>\n    </tr>\n  </tbody>\n</table>\n</div>"
     },
     "execution_count": 17,
     "metadata": {},
     "output_type": "execute_result"
    }
   ],
   "source": [
    "tourney_results['season'] = tourney_results['season'].map(season_map)\n",
    "tourney_results.head()"
   ],
   "metadata": {
    "collapsed": false
   }
  },
  {
   "cell_type": "code",
   "execution_count": 18,
   "outputs": [
    {
     "name": "stdout",
     "output_type": "stream",
     "text": [
      "<class 'pandas.core.frame.DataFrame'>\n",
      "RangeIndex: 1156 entries, 0 to 1155\n",
      "Data columns (total 6 columns):\n",
      " #   Column  Non-Null Count  Dtype\n",
      "---  ------  --------------  -----\n",
      " 0   season  1156 non-null   int64\n",
      " 1   daynum  1156 non-null   int64\n",
      " 2   wteam   1156 non-null   int64\n",
      " 3   wscore  1156 non-null   int64\n",
      " 4   lteam   1156 non-null   int64\n",
      " 5   lscore  1156 non-null   int64\n",
      "dtypes: int64(6)\n",
      "memory usage: 54.3 KB\n"
     ]
    }
   ],
   "source": [
    "tourney_results.info()"
   ],
   "metadata": {
    "collapsed": false
   }
  },
  {
   "cell_type": "code",
   "execution_count": 19,
   "outputs": [
    {
     "data": {
      "text/plain": "season     18\ndaynum     12\nwteam     155\nwscore     67\nlteam     258\nlscore     66\ndtype: int64"
     },
     "execution_count": 19,
     "metadata": {},
     "output_type": "execute_result"
    }
   ],
   "source": [
    "tourney_results.nunique()"
   ],
   "metadata": {
    "collapsed": false
   }
  },
  {
   "cell_type": "markdown",
   "source": [
    "Vidimo da nemamo nekih monotonih atributa pa ne dropamo nista"
   ],
   "metadata": {
    "collapsed": false
   }
  },
  {
   "cell_type": "markdown",
   "source": [
    "## Rad sa tablicom teams"
   ],
   "metadata": {
    "collapsed": false
   }
  },
  {
   "cell_type": "code",
   "execution_count": 20,
   "outputs": [
    {
     "data": {
      "text/plain": "(356, 2)"
     },
     "execution_count": 20,
     "metadata": {},
     "output_type": "execute_result"
    }
   ],
   "source": [
    "teams = pd.read_csv(\"teams.csv\")\n",
    "teams.shape"
   ],
   "metadata": {
    "collapsed": false
   }
  },
  {
   "cell_type": "code",
   "execution_count": 21,
   "outputs": [
    {
     "data": {
      "text/plain": "    id         name\n0  501  Abilene Chr\n1  502    Air Force\n2  503        Akron\n3  504      Alabama\n4  505  Alabama A&M",
      "text/html": "<div>\n<style scoped>\n    .dataframe tbody tr th:only-of-type {\n        vertical-align: middle;\n    }\n\n    .dataframe tbody tr th {\n        vertical-align: top;\n    }\n\n    .dataframe thead th {\n        text-align: right;\n    }\n</style>\n<table border=\"1\" class=\"dataframe\">\n  <thead>\n    <tr style=\"text-align: right;\">\n      <th></th>\n      <th>id</th>\n      <th>name</th>\n    </tr>\n  </thead>\n  <tbody>\n    <tr>\n      <th>0</th>\n      <td>501</td>\n      <td>Abilene Chr</td>\n    </tr>\n    <tr>\n      <th>1</th>\n      <td>502</td>\n      <td>Air Force</td>\n    </tr>\n    <tr>\n      <th>2</th>\n      <td>503</td>\n      <td>Akron</td>\n    </tr>\n    <tr>\n      <th>3</th>\n      <td>504</td>\n      <td>Alabama</td>\n    </tr>\n    <tr>\n      <th>4</th>\n      <td>505</td>\n      <td>Alabama A&amp;M</td>\n    </tr>\n  </tbody>\n</table>\n</div>"
     },
     "execution_count": 21,
     "metadata": {},
     "output_type": "execute_result"
    }
   ],
   "source": [
    "teams.head()"
   ],
   "metadata": {
    "collapsed": false
   }
  },
  {
   "cell_type": "code",
   "execution_count": 22,
   "outputs": [
    {
     "data": {
      "text/plain": "               id\ncount  356.000000\nmean   678.500000\nstd    102.912584\nmin    501.000000\n25%    589.750000\n50%    678.500000\n75%    767.250000\nmax    856.000000",
      "text/html": "<div>\n<style scoped>\n    .dataframe tbody tr th:only-of-type {\n        vertical-align: middle;\n    }\n\n    .dataframe tbody tr th {\n        vertical-align: top;\n    }\n\n    .dataframe thead th {\n        text-align: right;\n    }\n</style>\n<table border=\"1\" class=\"dataframe\">\n  <thead>\n    <tr style=\"text-align: right;\">\n      <th></th>\n      <th>id</th>\n    </tr>\n  </thead>\n  <tbody>\n    <tr>\n      <th>count</th>\n      <td>356.000000</td>\n    </tr>\n    <tr>\n      <th>mean</th>\n      <td>678.500000</td>\n    </tr>\n    <tr>\n      <th>std</th>\n      <td>102.912584</td>\n    </tr>\n    <tr>\n      <th>min</th>\n      <td>501.000000</td>\n    </tr>\n    <tr>\n      <th>25%</th>\n      <td>589.750000</td>\n    </tr>\n    <tr>\n      <th>50%</th>\n      <td>678.500000</td>\n    </tr>\n    <tr>\n      <th>75%</th>\n      <td>767.250000</td>\n    </tr>\n    <tr>\n      <th>max</th>\n      <td>856.000000</td>\n    </tr>\n  </tbody>\n</table>\n</div>"
     },
     "execution_count": 22,
     "metadata": {},
     "output_type": "execute_result"
    }
   ],
   "source": [
    "teams.describe()"
   ],
   "metadata": {
    "collapsed": false
   }
  },
  {
   "cell_type": "code",
   "execution_count": 23,
   "outputs": [
    {
     "data": {
      "text/plain": "id      0\nname    0\ndtype: int64"
     },
     "execution_count": 23,
     "metadata": {},
     "output_type": "execute_result"
    }
   ],
   "source": [
    "teams.isna().sum()"
   ],
   "metadata": {
    "collapsed": false
   }
  },
  {
   "cell_type": "code",
   "execution_count": 24,
   "outputs": [
    {
     "data": {
      "text/plain": "id      356\nname    356\ndtype: int64"
     },
     "execution_count": 24,
     "metadata": {},
     "output_type": "execute_result"
    }
   ],
   "source": [
    "teams.nunique()"
   ],
   "metadata": {
    "collapsed": false
   }
  },
  {
   "cell_type": "markdown",
   "source": [
    "Vidimo da tablica teams ima sve unique vrijednosti no to je ocekivano ne mozemo dropat id jer ce nam trebati za povezivanje sa drugim tablicama"
   ],
   "metadata": {
    "collapsed": false
   }
  },
  {
   "cell_type": "markdown",
   "source": [
    "## Rad sa tablicom tourney_seeds"
   ],
   "metadata": {
    "collapsed": false
   }
  },
  {
   "cell_type": "code",
   "execution_count": 25,
   "outputs": [
    {
     "data": {
      "text/plain": "(1242, 3)"
     },
     "execution_count": 25,
     "metadata": {},
     "output_type": "execute_result"
    }
   ],
   "source": [
    "tourney_seeds = pd.read_csv(\"tourney_seeds.csv\")\n",
    "tourney_seeds.shape"
   ],
   "metadata": {
    "collapsed": false
   }
  },
  {
   "cell_type": "code",
   "execution_count": 26,
   "outputs": [
    {
     "data": {
      "text/plain": "  season seed  team\n0      A  W01   663\n1      A  W02   603\n2      A  W03   796\n3      A  W04   660\n4      A  W05   729",
      "text/html": "<div>\n<style scoped>\n    .dataframe tbody tr th:only-of-type {\n        vertical-align: middle;\n    }\n\n    .dataframe tbody tr th {\n        vertical-align: top;\n    }\n\n    .dataframe thead th {\n        text-align: right;\n    }\n</style>\n<table border=\"1\" class=\"dataframe\">\n  <thead>\n    <tr style=\"text-align: right;\">\n      <th></th>\n      <th>season</th>\n      <th>seed</th>\n      <th>team</th>\n    </tr>\n  </thead>\n  <tbody>\n    <tr>\n      <th>0</th>\n      <td>A</td>\n      <td>W01</td>\n      <td>663</td>\n    </tr>\n    <tr>\n      <th>1</th>\n      <td>A</td>\n      <td>W02</td>\n      <td>603</td>\n    </tr>\n    <tr>\n      <th>2</th>\n      <td>A</td>\n      <td>W03</td>\n      <td>796</td>\n    </tr>\n    <tr>\n      <th>3</th>\n      <td>A</td>\n      <td>W04</td>\n      <td>660</td>\n    </tr>\n    <tr>\n      <th>4</th>\n      <td>A</td>\n      <td>W05</td>\n      <td>729</td>\n    </tr>\n  </tbody>\n</table>\n</div>"
     },
     "execution_count": 26,
     "metadata": {},
     "output_type": "execute_result"
    }
   ],
   "source": [
    "tourney_seeds.head()"
   ],
   "metadata": {
    "collapsed": false
   }
  },
  {
   "cell_type": "code",
   "execution_count": 27,
   "outputs": [
    {
     "data": {
      "text/plain": "              team\ncount  1242.000000\nmean    685.844605\nstd     103.133122\nmin     502.000000\n25%     603.000000\n50%     680.000000\n75%     783.000000\nmax     853.000000",
      "text/html": "<div>\n<style scoped>\n    .dataframe tbody tr th:only-of-type {\n        vertical-align: middle;\n    }\n\n    .dataframe tbody tr th {\n        vertical-align: top;\n    }\n\n    .dataframe thead th {\n        text-align: right;\n    }\n</style>\n<table border=\"1\" class=\"dataframe\">\n  <thead>\n    <tr style=\"text-align: right;\">\n      <th></th>\n      <th>team</th>\n    </tr>\n  </thead>\n  <tbody>\n    <tr>\n      <th>count</th>\n      <td>1242.000000</td>\n    </tr>\n    <tr>\n      <th>mean</th>\n      <td>685.844605</td>\n    </tr>\n    <tr>\n      <th>std</th>\n      <td>103.133122</td>\n    </tr>\n    <tr>\n      <th>min</th>\n      <td>502.000000</td>\n    </tr>\n    <tr>\n      <th>25%</th>\n      <td>603.000000</td>\n    </tr>\n    <tr>\n      <th>50%</th>\n      <td>680.000000</td>\n    </tr>\n    <tr>\n      <th>75%</th>\n      <td>783.000000</td>\n    </tr>\n    <tr>\n      <th>max</th>\n      <td>853.000000</td>\n    </tr>\n  </tbody>\n</table>\n</div>"
     },
     "execution_count": 27,
     "metadata": {},
     "output_type": "execute_result"
    }
   ],
   "source": [
    "tourney_seeds.describe()"
   ],
   "metadata": {
    "collapsed": false
   }
  },
  {
   "cell_type": "code",
   "execution_count": 28,
   "outputs": [
    {
     "data": {
      "text/plain": "season    0\nseed      0\nteam      0\ndtype: int64"
     },
     "execution_count": 28,
     "metadata": {},
     "output_type": "execute_result"
    }
   ],
   "source": [
    "tourney_seeds.isna().sum()"
   ],
   "metadata": {
    "collapsed": false
   }
  },
  {
   "cell_type": "markdown",
   "source": [
    "Mapiramo atribut seeds pomocu mapera sto smo koristili za tablice season i tourney results"
   ],
   "metadata": {
    "collapsed": false
   }
  },
  {
   "cell_type": "code",
   "execution_count": 29,
   "outputs": [
    {
     "data": {
      "text/plain": "   season seed  team\n0       0  W01   663\n1       0  W02   603\n2       0  W03   796\n3       0  W04   660\n4       0  W05   729",
      "text/html": "<div>\n<style scoped>\n    .dataframe tbody tr th:only-of-type {\n        vertical-align: middle;\n    }\n\n    .dataframe tbody tr th {\n        vertical-align: top;\n    }\n\n    .dataframe thead th {\n        text-align: right;\n    }\n</style>\n<table border=\"1\" class=\"dataframe\">\n  <thead>\n    <tr style=\"text-align: right;\">\n      <th></th>\n      <th>season</th>\n      <th>seed</th>\n      <th>team</th>\n    </tr>\n  </thead>\n  <tbody>\n    <tr>\n      <th>0</th>\n      <td>0</td>\n      <td>W01</td>\n      <td>663</td>\n    </tr>\n    <tr>\n      <th>1</th>\n      <td>0</td>\n      <td>W02</td>\n      <td>603</td>\n    </tr>\n    <tr>\n      <th>2</th>\n      <td>0</td>\n      <td>W03</td>\n      <td>796</td>\n    </tr>\n    <tr>\n      <th>3</th>\n      <td>0</td>\n      <td>W04</td>\n      <td>660</td>\n    </tr>\n    <tr>\n      <th>4</th>\n      <td>0</td>\n      <td>W05</td>\n      <td>729</td>\n    </tr>\n  </tbody>\n</table>\n</div>"
     },
     "execution_count": 29,
     "metadata": {},
     "output_type": "execute_result"
    }
   ],
   "source": [
    "tourney_seeds['season'] = tourney_seeds['season'].map(season_map)\n",
    "tourney_seeds.head()"
   ],
   "metadata": {
    "collapsed": false
   }
  },
  {
   "cell_type": "markdown",
   "source": [
    "Zatim cemo splitati stupac seed u dva stupca seed region i seed number tako da ih mozemo koristit u klasifikaciji"
   ],
   "metadata": {
    "collapsed": false
   }
  },
  {
   "cell_type": "code",
   "execution_count": 30,
   "outputs": [
    {
     "data": {
      "text/plain": "   season  team seed_region  seed_number\n0       0   663           W            1\n1       0   603           W            2\n2       0   796           W            3\n3       0   660           W            4\n4       0   729           W            5",
      "text/html": "<div>\n<style scoped>\n    .dataframe tbody tr th:only-of-type {\n        vertical-align: middle;\n    }\n\n    .dataframe tbody tr th {\n        vertical-align: top;\n    }\n\n    .dataframe thead th {\n        text-align: right;\n    }\n</style>\n<table border=\"1\" class=\"dataframe\">\n  <thead>\n    <tr style=\"text-align: right;\">\n      <th></th>\n      <th>season</th>\n      <th>team</th>\n      <th>seed_region</th>\n      <th>seed_number</th>\n    </tr>\n  </thead>\n  <tbody>\n    <tr>\n      <th>0</th>\n      <td>0</td>\n      <td>663</td>\n      <td>W</td>\n      <td>1</td>\n    </tr>\n    <tr>\n      <th>1</th>\n      <td>0</td>\n      <td>603</td>\n      <td>W</td>\n      <td>2</td>\n    </tr>\n    <tr>\n      <th>2</th>\n      <td>0</td>\n      <td>796</td>\n      <td>W</td>\n      <td>3</td>\n    </tr>\n    <tr>\n      <th>3</th>\n      <td>0</td>\n      <td>660</td>\n      <td>W</td>\n      <td>4</td>\n    </tr>\n    <tr>\n      <th>4</th>\n      <td>0</td>\n      <td>729</td>\n      <td>W</td>\n      <td>5</td>\n    </tr>\n  </tbody>\n</table>\n</div>"
     },
     "execution_count": 30,
     "metadata": {},
     "output_type": "execute_result"
    }
   ],
   "source": [
    "tourney_seeds['seed_region'], tourney_seeds['seed_number'] = tourney_seeds['seed'].str[:1], tourney_seeds['seed'].str[1:3]\n",
    "tourney_seeds.drop((['seed']), axis=1, inplace=True)\n",
    "tourney_seeds['seed_number'] = tourney_seeds['seed_number'].astype(str).astype(int)\n",
    "\n",
    "tourney_seeds.head()"
   ],
   "metadata": {
    "collapsed": false
   }
  },
  {
   "cell_type": "markdown",
   "source": [
    "I nakon toga cemo mapirati seed region da nam i on bude int"
   ],
   "metadata": {
    "collapsed": false
   }
  },
  {
   "cell_type": "code",
   "execution_count": 31,
   "outputs": [
    {
     "data": {
      "text/plain": "   season  team  seed_region  seed_number\n0       0   663            0            1\n1       0   603            0            2\n2       0   796            0            3\n3       0   660            0            4\n4       0   729            0            5",
      "text/html": "<div>\n<style scoped>\n    .dataframe tbody tr th:only-of-type {\n        vertical-align: middle;\n    }\n\n    .dataframe tbody tr th {\n        vertical-align: top;\n    }\n\n    .dataframe thead th {\n        text-align: right;\n    }\n</style>\n<table border=\"1\" class=\"dataframe\">\n  <thead>\n    <tr style=\"text-align: right;\">\n      <th></th>\n      <th>season</th>\n      <th>team</th>\n      <th>seed_region</th>\n      <th>seed_number</th>\n    </tr>\n  </thead>\n  <tbody>\n    <tr>\n      <th>0</th>\n      <td>0</td>\n      <td>663</td>\n      <td>0</td>\n      <td>1</td>\n    </tr>\n    <tr>\n      <th>1</th>\n      <td>0</td>\n      <td>603</td>\n      <td>0</td>\n      <td>2</td>\n    </tr>\n    <tr>\n      <th>2</th>\n      <td>0</td>\n      <td>796</td>\n      <td>0</td>\n      <td>3</td>\n    </tr>\n    <tr>\n      <th>3</th>\n      <td>0</td>\n      <td>660</td>\n      <td>0</td>\n      <td>4</td>\n    </tr>\n    <tr>\n      <th>4</th>\n      <td>0</td>\n      <td>729</td>\n      <td>0</td>\n      <td>5</td>\n    </tr>\n  </tbody>\n</table>\n</div>"
     },
     "execution_count": 31,
     "metadata": {},
     "output_type": "execute_result"
    }
   ],
   "source": [
    "wxyz_map = {seed_region: i for i, seed_region in enumerate(pd.unique(tourney_seeds[['seed_region']].values.ravel('K')))}\n",
    "tourney_seeds['seed_region'] = tourney_seeds['seed_region'].map(wxyz_map)\n",
    "\n",
    "tourney_seeds.head()"
   ],
   "metadata": {
    "collapsed": false
   }
  },
  {
   "cell_type": "code",
   "execution_count": 32,
   "outputs": [
    {
     "name": "stdout",
     "output_type": "stream",
     "text": [
      "<class 'pandas.core.frame.DataFrame'>\n",
      "RangeIndex: 1242 entries, 0 to 1241\n",
      "Data columns (total 4 columns):\n",
      " #   Column       Non-Null Count  Dtype\n",
      "---  ------       --------------  -----\n",
      " 0   season       1242 non-null   int64\n",
      " 1   team         1242 non-null   int64\n",
      " 2   seed_region  1242 non-null   int64\n",
      " 3   seed_number  1242 non-null   int32\n",
      "dtypes: int32(1), int64(3)\n",
      "memory usage: 34.1 KB\n"
     ]
    }
   ],
   "source": [
    "tourney_seeds.info()"
   ],
   "metadata": {
    "collapsed": false
   }
  },
  {
   "cell_type": "code",
   "execution_count": 33,
   "outputs": [
    {
     "data": {
      "text/plain": "season          19\nteam           262\nseed_region      4\nseed_number     16\ndtype: int64"
     },
     "execution_count": 33,
     "metadata": {},
     "output_type": "execute_result"
    }
   ],
   "source": [
    "tourney_seeds.nunique()"
   ],
   "metadata": {
    "collapsed": false
   }
  },
  {
   "cell_type": "markdown",
   "source": [
    "## Rad sa tablicom tourney_slots"
   ],
   "metadata": {
    "collapsed": false
   }
  },
  {
   "cell_type": "code",
   "execution_count": 34,
   "outputs": [
    {
     "data": {
      "text/plain": "(1223, 4)"
     },
     "execution_count": 34,
     "metadata": {},
     "output_type": "execute_result"
    }
   ],
   "source": [
    "tourney_slots = pd.read_csv(\"tourney_slots.csv\")\n",
    "tourney_slots.shape"
   ],
   "metadata": {
    "collapsed": false
   }
  },
  {
   "cell_type": "code",
   "execution_count": 35,
   "outputs": [
    {
     "data": {
      "text/plain": "  season  slot strongseed weakseed\n0      A  R1W1        W01      W16\n1      A  R1W2        W02      W15\n2      A  R1W3        W03      W14\n3      A  R1W4        W04      W13\n4      A  R1W5        W05      W12",
      "text/html": "<div>\n<style scoped>\n    .dataframe tbody tr th:only-of-type {\n        vertical-align: middle;\n    }\n\n    .dataframe tbody tr th {\n        vertical-align: top;\n    }\n\n    .dataframe thead th {\n        text-align: right;\n    }\n</style>\n<table border=\"1\" class=\"dataframe\">\n  <thead>\n    <tr style=\"text-align: right;\">\n      <th></th>\n      <th>season</th>\n      <th>slot</th>\n      <th>strongseed</th>\n      <th>weakseed</th>\n    </tr>\n  </thead>\n  <tbody>\n    <tr>\n      <th>0</th>\n      <td>A</td>\n      <td>R1W1</td>\n      <td>W01</td>\n      <td>W16</td>\n    </tr>\n    <tr>\n      <th>1</th>\n      <td>A</td>\n      <td>R1W2</td>\n      <td>W02</td>\n      <td>W15</td>\n    </tr>\n    <tr>\n      <th>2</th>\n      <td>A</td>\n      <td>R1W3</td>\n      <td>W03</td>\n      <td>W14</td>\n    </tr>\n    <tr>\n      <th>3</th>\n      <td>A</td>\n      <td>R1W4</td>\n      <td>W04</td>\n      <td>W13</td>\n    </tr>\n    <tr>\n      <th>4</th>\n      <td>A</td>\n      <td>R1W5</td>\n      <td>W05</td>\n      <td>W12</td>\n    </tr>\n  </tbody>\n</table>\n</div>"
     },
     "execution_count": 35,
     "metadata": {},
     "output_type": "execute_result"
    }
   ],
   "source": [
    "tourney_slots.head()"
   ],
   "metadata": {
    "collapsed": false
   }
  },
  {
   "cell_type": "code",
   "execution_count": 36,
   "outputs": [
    {
     "data": {
      "text/plain": "       season  slot strongseed weakseed\ncount    1223  1223       1223     1223\nunique     19    74         74       74\ntop         S  R1W1        W01      W16\nfreq       67    19         19       19",
      "text/html": "<div>\n<style scoped>\n    .dataframe tbody tr th:only-of-type {\n        vertical-align: middle;\n    }\n\n    .dataframe tbody tr th {\n        vertical-align: top;\n    }\n\n    .dataframe thead th {\n        text-align: right;\n    }\n</style>\n<table border=\"1\" class=\"dataframe\">\n  <thead>\n    <tr style=\"text-align: right;\">\n      <th></th>\n      <th>season</th>\n      <th>slot</th>\n      <th>strongseed</th>\n      <th>weakseed</th>\n    </tr>\n  </thead>\n  <tbody>\n    <tr>\n      <th>count</th>\n      <td>1223</td>\n      <td>1223</td>\n      <td>1223</td>\n      <td>1223</td>\n    </tr>\n    <tr>\n      <th>unique</th>\n      <td>19</td>\n      <td>74</td>\n      <td>74</td>\n      <td>74</td>\n    </tr>\n    <tr>\n      <th>top</th>\n      <td>S</td>\n      <td>R1W1</td>\n      <td>W01</td>\n      <td>W16</td>\n    </tr>\n    <tr>\n      <th>freq</th>\n      <td>67</td>\n      <td>19</td>\n      <td>19</td>\n      <td>19</td>\n    </tr>\n  </tbody>\n</table>\n</div>"
     },
     "execution_count": 36,
     "metadata": {},
     "output_type": "execute_result"
    }
   ],
   "source": [
    "tourney_slots.describe()"
   ],
   "metadata": {
    "collapsed": false
   }
  },
  {
   "cell_type": "code",
   "execution_count": 37,
   "outputs": [
    {
     "data": {
      "text/plain": "season        0\nslot          0\nstrongseed    0\nweakseed      0\ndtype: int64"
     },
     "execution_count": 37,
     "metadata": {},
     "output_type": "execute_result"
    }
   ],
   "source": [
    "tourney_slots.isna().sum()"
   ],
   "metadata": {
    "collapsed": false
   }
  },
  {
   "cell_type": "markdown",
   "source": [
    "Sada cemo namapirati sezonu pomocu vec koristenog mapera"
   ],
   "metadata": {
    "collapsed": false
   }
  },
  {
   "cell_type": "code",
   "execution_count": 38,
   "outputs": [
    {
     "data": {
      "text/plain": "   season  slot strongseed weakseed\n0       0  R1W1        W01      W16\n1       0  R1W2        W02      W15\n2       0  R1W3        W03      W14\n3       0  R1W4        W04      W13\n4       0  R1W5        W05      W12",
      "text/html": "<div>\n<style scoped>\n    .dataframe tbody tr th:only-of-type {\n        vertical-align: middle;\n    }\n\n    .dataframe tbody tr th {\n        vertical-align: top;\n    }\n\n    .dataframe thead th {\n        text-align: right;\n    }\n</style>\n<table border=\"1\" class=\"dataframe\">\n  <thead>\n    <tr style=\"text-align: right;\">\n      <th></th>\n      <th>season</th>\n      <th>slot</th>\n      <th>strongseed</th>\n      <th>weakseed</th>\n    </tr>\n  </thead>\n  <tbody>\n    <tr>\n      <th>0</th>\n      <td>0</td>\n      <td>R1W1</td>\n      <td>W01</td>\n      <td>W16</td>\n    </tr>\n    <tr>\n      <th>1</th>\n      <td>0</td>\n      <td>R1W2</td>\n      <td>W02</td>\n      <td>W15</td>\n    </tr>\n    <tr>\n      <th>2</th>\n      <td>0</td>\n      <td>R1W3</td>\n      <td>W03</td>\n      <td>W14</td>\n    </tr>\n    <tr>\n      <th>3</th>\n      <td>0</td>\n      <td>R1W4</td>\n      <td>W04</td>\n      <td>W13</td>\n    </tr>\n    <tr>\n      <th>4</th>\n      <td>0</td>\n      <td>R1W5</td>\n      <td>W05</td>\n      <td>W12</td>\n    </tr>\n  </tbody>\n</table>\n</div>"
     },
     "execution_count": 38,
     "metadata": {},
     "output_type": "execute_result"
    }
   ],
   "source": [
    "tourney_slots['season'] = tourney_slots['season'].map(season_map)\n",
    "tourney_slots.head()"
   ],
   "metadata": {
    "collapsed": false
   }
  },
  {
   "cell_type": "markdown",
   "source": [
    "Nakon toga cemo pomocu splitanja stupca slot dobiti u kojoj je rundi koji slot"
   ],
   "metadata": {
    "collapsed": false
   }
  },
  {
   "cell_type": "code",
   "execution_count": 39,
   "outputs": [
    {
     "data": {
      "text/plain": "      season  slot strongseed weakseed round\n0          0  R1W1        W01      W16     1\n1          0  R1W2        W02      W15     1\n2          0  R1W3        W03      W14     1\n3          0  R1W4        W04      W13     1\n4          0  R1W5        W05      W12     1\n...      ...   ...        ...      ...   ...\n1218      18  R4Y1       R3Y1     R3Y2     4\n1219      18  R4Z1       R3Z1     R3Z2     4\n1220      18  R5WX       R4W1     R4X1     5\n1221      18  R5YZ       R4Y1     R4Z1     5\n1222      18  R6CH       R5WX     R5YZ     6\n\n[1223 rows x 5 columns]",
      "text/html": "<div>\n<style scoped>\n    .dataframe tbody tr th:only-of-type {\n        vertical-align: middle;\n    }\n\n    .dataframe tbody tr th {\n        vertical-align: top;\n    }\n\n    .dataframe thead th {\n        text-align: right;\n    }\n</style>\n<table border=\"1\" class=\"dataframe\">\n  <thead>\n    <tr style=\"text-align: right;\">\n      <th></th>\n      <th>season</th>\n      <th>slot</th>\n      <th>strongseed</th>\n      <th>weakseed</th>\n      <th>round</th>\n    </tr>\n  </thead>\n  <tbody>\n    <tr>\n      <th>0</th>\n      <td>0</td>\n      <td>R1W1</td>\n      <td>W01</td>\n      <td>W16</td>\n      <td>1</td>\n    </tr>\n    <tr>\n      <th>1</th>\n      <td>0</td>\n      <td>R1W2</td>\n      <td>W02</td>\n      <td>W15</td>\n      <td>1</td>\n    </tr>\n    <tr>\n      <th>2</th>\n      <td>0</td>\n      <td>R1W3</td>\n      <td>W03</td>\n      <td>W14</td>\n      <td>1</td>\n    </tr>\n    <tr>\n      <th>3</th>\n      <td>0</td>\n      <td>R1W4</td>\n      <td>W04</td>\n      <td>W13</td>\n      <td>1</td>\n    </tr>\n    <tr>\n      <th>4</th>\n      <td>0</td>\n      <td>R1W5</td>\n      <td>W05</td>\n      <td>W12</td>\n      <td>1</td>\n    </tr>\n    <tr>\n      <th>...</th>\n      <td>...</td>\n      <td>...</td>\n      <td>...</td>\n      <td>...</td>\n      <td>...</td>\n    </tr>\n    <tr>\n      <th>1218</th>\n      <td>18</td>\n      <td>R4Y1</td>\n      <td>R3Y1</td>\n      <td>R3Y2</td>\n      <td>4</td>\n    </tr>\n    <tr>\n      <th>1219</th>\n      <td>18</td>\n      <td>R4Z1</td>\n      <td>R3Z1</td>\n      <td>R3Z2</td>\n      <td>4</td>\n    </tr>\n    <tr>\n      <th>1220</th>\n      <td>18</td>\n      <td>R5WX</td>\n      <td>R4W1</td>\n      <td>R4X1</td>\n      <td>5</td>\n    </tr>\n    <tr>\n      <th>1221</th>\n      <td>18</td>\n      <td>R5YZ</td>\n      <td>R4Y1</td>\n      <td>R4Z1</td>\n      <td>5</td>\n    </tr>\n    <tr>\n      <th>1222</th>\n      <td>18</td>\n      <td>R6CH</td>\n      <td>R5WX</td>\n      <td>R5YZ</td>\n      <td>6</td>\n    </tr>\n  </tbody>\n</table>\n<p>1223 rows × 5 columns</p>\n</div>"
     },
     "execution_count": 39,
     "metadata": {},
     "output_type": "execute_result"
    }
   ],
   "source": [
    "tourney_slots['round'] = tourney_slots['slot'].str[1:2]\n",
    "\n",
    "tourney_slots"
   ],
   "metadata": {
    "collapsed": false
   }
  },
  {
   "cell_type": "markdown",
   "source": [
    "Probao sam takoder splitati dodatno da vidimo ko je favorit no nisam uspio zato sto se mijenja format zapisa kada dodjemo do polufinala , takoder sam htio splitati i strongseed i weekseed u stupce kao u tablici tourney_seed no i tu se mijenja format. To su dijelovi sa kojim bi se trebao jos pozabaviti jer mislim da bi to bilo korisno."
   ],
   "metadata": {
    "collapsed": false
   }
  },
  {
   "cell_type": "markdown",
   "source": [
    "## Rad sa tablicom regular_seasons_results"
   ],
   "metadata": {
    "collapsed": false
   }
  },
  {
   "cell_type": "code",
   "execution_count": 40,
   "outputs": [
    {
     "data": {
      "text/plain": "(91224, 8)"
     },
     "execution_count": 40,
     "metadata": {},
     "output_type": "execute_result"
    }
   ],
   "source": [
    "regular_season_results = pd.read_csv(\"regular_season_results.csv\")\n",
    "regular_season_results.shape"
   ],
   "metadata": {
    "collapsed": false
   }
  },
  {
   "cell_type": "code",
   "execution_count": 41,
   "outputs": [
    {
     "data": {
      "text/plain": "  season  daynum  wteam  wscore  lteam  lscore wloc  numot\n0      A      16    511      91    647      57    H    NaN\n1      A      16    515      75    812      67    H    NaN\n2      A      16    606      87    658      67    H    NaN\n3      A      16    670      73    573      65    H    NaN\n4      A      16    721      99    632      68    H    NaN",
      "text/html": "<div>\n<style scoped>\n    .dataframe tbody tr th:only-of-type {\n        vertical-align: middle;\n    }\n\n    .dataframe tbody tr th {\n        vertical-align: top;\n    }\n\n    .dataframe thead th {\n        text-align: right;\n    }\n</style>\n<table border=\"1\" class=\"dataframe\">\n  <thead>\n    <tr style=\"text-align: right;\">\n      <th></th>\n      <th>season</th>\n      <th>daynum</th>\n      <th>wteam</th>\n      <th>wscore</th>\n      <th>lteam</th>\n      <th>lscore</th>\n      <th>wloc</th>\n      <th>numot</th>\n    </tr>\n  </thead>\n  <tbody>\n    <tr>\n      <th>0</th>\n      <td>A</td>\n      <td>16</td>\n      <td>511</td>\n      <td>91</td>\n      <td>647</td>\n      <td>57</td>\n      <td>H</td>\n      <td>NaN</td>\n    </tr>\n    <tr>\n      <th>1</th>\n      <td>A</td>\n      <td>16</td>\n      <td>515</td>\n      <td>75</td>\n      <td>812</td>\n      <td>67</td>\n      <td>H</td>\n      <td>NaN</td>\n    </tr>\n    <tr>\n      <th>2</th>\n      <td>A</td>\n      <td>16</td>\n      <td>606</td>\n      <td>87</td>\n      <td>658</td>\n      <td>67</td>\n      <td>H</td>\n      <td>NaN</td>\n    </tr>\n    <tr>\n      <th>3</th>\n      <td>A</td>\n      <td>16</td>\n      <td>670</td>\n      <td>73</td>\n      <td>573</td>\n      <td>65</td>\n      <td>H</td>\n      <td>NaN</td>\n    </tr>\n    <tr>\n      <th>4</th>\n      <td>A</td>\n      <td>16</td>\n      <td>721</td>\n      <td>99</td>\n      <td>632</td>\n      <td>68</td>\n      <td>H</td>\n      <td>NaN</td>\n    </tr>\n  </tbody>\n</table>\n</div>"
     },
     "execution_count": 41,
     "metadata": {},
     "output_type": "execute_result"
    }
   ],
   "source": [
    "regular_season_results.head()"
   ],
   "metadata": {
    "collapsed": false
   }
  },
  {
   "cell_type": "code",
   "execution_count": 42,
   "outputs": [
    {
     "data": {
      "text/plain": "             daynum         wteam        wscore         lteam        lscore  \\\ncount  91224.000000  91224.000000  91224.000000  91224.000000  91224.000000   \nmean      73.410133    680.981058     75.370440    677.047400     63.208860   \nstd       34.210997    103.099502     11.408528    102.950054     10.940295   \nmin        0.000000    501.000000     34.000000    501.000000     20.000000   \n25%       44.000000    592.000000     68.000000    587.000000     56.000000   \n50%       75.000000    678.000000     75.000000    675.000000     63.000000   \n75%      103.000000    772.000000     83.000000    768.000000     70.000000   \nmax      133.000000    856.000000    153.000000    856.000000    140.000000   \n\n              numot  \ncount  51333.000000  \nmean       0.072000  \nstd        0.313278  \nmin        0.000000  \n25%        0.000000  \n50%        0.000000  \n75%        0.000000  \nmax        6.000000  ",
      "text/html": "<div>\n<style scoped>\n    .dataframe tbody tr th:only-of-type {\n        vertical-align: middle;\n    }\n\n    .dataframe tbody tr th {\n        vertical-align: top;\n    }\n\n    .dataframe thead th {\n        text-align: right;\n    }\n</style>\n<table border=\"1\" class=\"dataframe\">\n  <thead>\n    <tr style=\"text-align: right;\">\n      <th></th>\n      <th>daynum</th>\n      <th>wteam</th>\n      <th>wscore</th>\n      <th>lteam</th>\n      <th>lscore</th>\n      <th>numot</th>\n    </tr>\n  </thead>\n  <tbody>\n    <tr>\n      <th>count</th>\n      <td>91224.000000</td>\n      <td>91224.000000</td>\n      <td>91224.000000</td>\n      <td>91224.000000</td>\n      <td>91224.000000</td>\n      <td>51333.000000</td>\n    </tr>\n    <tr>\n      <th>mean</th>\n      <td>73.410133</td>\n      <td>680.981058</td>\n      <td>75.370440</td>\n      <td>677.047400</td>\n      <td>63.208860</td>\n      <td>0.072000</td>\n    </tr>\n    <tr>\n      <th>std</th>\n      <td>34.210997</td>\n      <td>103.099502</td>\n      <td>11.408528</td>\n      <td>102.950054</td>\n      <td>10.940295</td>\n      <td>0.313278</td>\n    </tr>\n    <tr>\n      <th>min</th>\n      <td>0.000000</td>\n      <td>501.000000</td>\n      <td>34.000000</td>\n      <td>501.000000</td>\n      <td>20.000000</td>\n      <td>0.000000</td>\n    </tr>\n    <tr>\n      <th>25%</th>\n      <td>44.000000</td>\n      <td>592.000000</td>\n      <td>68.000000</td>\n      <td>587.000000</td>\n      <td>56.000000</td>\n      <td>0.000000</td>\n    </tr>\n    <tr>\n      <th>50%</th>\n      <td>75.000000</td>\n      <td>678.000000</td>\n      <td>75.000000</td>\n      <td>675.000000</td>\n      <td>63.000000</td>\n      <td>0.000000</td>\n    </tr>\n    <tr>\n      <th>75%</th>\n      <td>103.000000</td>\n      <td>772.000000</td>\n      <td>83.000000</td>\n      <td>768.000000</td>\n      <td>70.000000</td>\n      <td>0.000000</td>\n    </tr>\n    <tr>\n      <th>max</th>\n      <td>133.000000</td>\n      <td>856.000000</td>\n      <td>153.000000</td>\n      <td>856.000000</td>\n      <td>140.000000</td>\n      <td>6.000000</td>\n    </tr>\n  </tbody>\n</table>\n</div>"
     },
     "execution_count": 42,
     "metadata": {},
     "output_type": "execute_result"
    }
   ],
   "source": [
    "regular_season_results.describe()"
   ],
   "metadata": {
    "collapsed": false
   }
  },
  {
   "cell_type": "code",
   "execution_count": 43,
   "outputs": [
    {
     "data": {
      "text/plain": "season        0\ndaynum        0\nwteam         0\nwscore        0\nlteam         0\nlscore        0\nwloc          0\nnumot     39891\ndtype: int64"
     },
     "execution_count": 43,
     "metadata": {},
     "output_type": "execute_result"
    }
   ],
   "source": [
    "regular_season_results.isna().sum()"
   ],
   "metadata": {
    "collapsed": false
   }
  },
  {
   "cell_type": "markdown",
   "source": [
    "Kao sto vidimo od 90 tisuca zapisa u tablici 39 tisuca ih ima null vrijednost za atribut numot kao i u tablici tourney_results imamo 3 mogucnosti, a ja samo opet odabrao istu da dropam stupac numot."
   ],
   "metadata": {
    "collapsed": false
   }
  },
  {
   "cell_type": "code",
   "execution_count": 44,
   "outputs": [
    {
     "data": {
      "text/plain": "  season  daynum  wteam  wscore  lteam  lscore wloc\n0      A      16    511      91    647      57    H\n1      A      16    515      75    812      67    H\n2      A      16    606      87    658      67    H\n3      A      16    670      73    573      65    H\n4      A      16    721      99    632      68    H",
      "text/html": "<div>\n<style scoped>\n    .dataframe tbody tr th:only-of-type {\n        vertical-align: middle;\n    }\n\n    .dataframe tbody tr th {\n        vertical-align: top;\n    }\n\n    .dataframe thead th {\n        text-align: right;\n    }\n</style>\n<table border=\"1\" class=\"dataframe\">\n  <thead>\n    <tr style=\"text-align: right;\">\n      <th></th>\n      <th>season</th>\n      <th>daynum</th>\n      <th>wteam</th>\n      <th>wscore</th>\n      <th>lteam</th>\n      <th>lscore</th>\n      <th>wloc</th>\n    </tr>\n  </thead>\n  <tbody>\n    <tr>\n      <th>0</th>\n      <td>A</td>\n      <td>16</td>\n      <td>511</td>\n      <td>91</td>\n      <td>647</td>\n      <td>57</td>\n      <td>H</td>\n    </tr>\n    <tr>\n      <th>1</th>\n      <td>A</td>\n      <td>16</td>\n      <td>515</td>\n      <td>75</td>\n      <td>812</td>\n      <td>67</td>\n      <td>H</td>\n    </tr>\n    <tr>\n      <th>2</th>\n      <td>A</td>\n      <td>16</td>\n      <td>606</td>\n      <td>87</td>\n      <td>658</td>\n      <td>67</td>\n      <td>H</td>\n    </tr>\n    <tr>\n      <th>3</th>\n      <td>A</td>\n      <td>16</td>\n      <td>670</td>\n      <td>73</td>\n      <td>573</td>\n      <td>65</td>\n      <td>H</td>\n    </tr>\n    <tr>\n      <th>4</th>\n      <td>A</td>\n      <td>16</td>\n      <td>721</td>\n      <td>99</td>\n      <td>632</td>\n      <td>68</td>\n      <td>H</td>\n    </tr>\n  </tbody>\n</table>\n</div>"
     },
     "execution_count": 44,
     "metadata": {},
     "output_type": "execute_result"
    }
   ],
   "source": [
    "regular_season_results.drop((['numot']), axis=1, inplace=True)\n",
    "regular_season_results.head()"
   ],
   "metadata": {
    "collapsed": false
   }
  },
  {
   "cell_type": "markdown",
   "source": [
    "Zatim cemo namapirati atribut season sa vec koristenim maperom te cemo pomocu label encodera promjeniti atribut wloc iz stringa u int da ga mzoemo koristiti u klasifikaciji"
   ],
   "metadata": {
    "collapsed": false
   }
  },
  {
   "cell_type": "code",
   "execution_count": 45,
   "outputs": [
    {
     "data": {
      "text/plain": "   season  daynum  wteam  wscore  lteam  lscore  wloc\n0       0      16    511      91    647      57     1\n1       0      16    515      75    812      67     1\n2       0      16    606      87    658      67     1\n3       0      16    670      73    573      65     1\n4       0      16    721      99    632      68     1",
      "text/html": "<div>\n<style scoped>\n    .dataframe tbody tr th:only-of-type {\n        vertical-align: middle;\n    }\n\n    .dataframe tbody tr th {\n        vertical-align: top;\n    }\n\n    .dataframe thead th {\n        text-align: right;\n    }\n</style>\n<table border=\"1\" class=\"dataframe\">\n  <thead>\n    <tr style=\"text-align: right;\">\n      <th></th>\n      <th>season</th>\n      <th>daynum</th>\n      <th>wteam</th>\n      <th>wscore</th>\n      <th>lteam</th>\n      <th>lscore</th>\n      <th>wloc</th>\n    </tr>\n  </thead>\n  <tbody>\n    <tr>\n      <th>0</th>\n      <td>0</td>\n      <td>16</td>\n      <td>511</td>\n      <td>91</td>\n      <td>647</td>\n      <td>57</td>\n      <td>1</td>\n    </tr>\n    <tr>\n      <th>1</th>\n      <td>0</td>\n      <td>16</td>\n      <td>515</td>\n      <td>75</td>\n      <td>812</td>\n      <td>67</td>\n      <td>1</td>\n    </tr>\n    <tr>\n      <th>2</th>\n      <td>0</td>\n      <td>16</td>\n      <td>606</td>\n      <td>87</td>\n      <td>658</td>\n      <td>67</td>\n      <td>1</td>\n    </tr>\n    <tr>\n      <th>3</th>\n      <td>0</td>\n      <td>16</td>\n      <td>670</td>\n      <td>73</td>\n      <td>573</td>\n      <td>65</td>\n      <td>1</td>\n    </tr>\n    <tr>\n      <th>4</th>\n      <td>0</td>\n      <td>16</td>\n      <td>721</td>\n      <td>99</td>\n      <td>632</td>\n      <td>68</td>\n      <td>1</td>\n    </tr>\n  </tbody>\n</table>\n</div>"
     },
     "execution_count": 45,
     "metadata": {},
     "output_type": "execute_result"
    }
   ],
   "source": [
    "regular_season_results['season'] = regular_season_results['season'].map(season_map)\n",
    "\n",
    "le = LabelEncoder()\n",
    "le.fit(regular_season_results.loc[:, 'wloc'])\n",
    "\n",
    "regular_season_results.loc[:, 'wloc'] = le.transform(regular_season_results.loc[:, 'wloc'])\n",
    "regular_season_results.head()"
   ],
   "metadata": {
    "collapsed": false
   }
  },
  {
   "cell_type": "code",
   "execution_count": 46,
   "outputs": [
    {
     "name": "stdout",
     "output_type": "stream",
     "text": [
      "<class 'pandas.core.frame.DataFrame'>\n",
      "RangeIndex: 91224 entries, 0 to 91223\n",
      "Data columns (total 7 columns):\n",
      " #   Column  Non-Null Count  Dtype\n",
      "---  ------  --------------  -----\n",
      " 0   season  91224 non-null  int64\n",
      " 1   daynum  91224 non-null  int64\n",
      " 2   wteam   91224 non-null  int64\n",
      " 3   wscore  91224 non-null  int64\n",
      " 4   lteam   91224 non-null  int64\n",
      " 5   lscore  91224 non-null  int64\n",
      " 6   wloc    91224 non-null  int32\n",
      "dtypes: int32(1), int64(6)\n",
      "memory usage: 4.5 MB\n"
     ]
    }
   ],
   "source": [
    "regular_season_results.info()"
   ],
   "metadata": {
    "collapsed": false
   }
  },
  {
   "cell_type": "code",
   "execution_count": 47,
   "outputs": [
    {
     "data": {
      "text/plain": "season     19\ndaynum    134\nwteam     356\nwscore    108\nlteam     356\nlscore    104\nwloc        3\ndtype: int64"
     },
     "execution_count": 47,
     "metadata": {},
     "output_type": "execute_result"
    }
   ],
   "source": [
    "regular_season_results.nunique()"
   ],
   "metadata": {
    "collapsed": false
   }
  },
  {
   "cell_type": "markdown",
   "source": [
    "## Vizualizacija podataka"
   ],
   "metadata": {
    "collapsed": false
   }
  },
  {
   "cell_type": "code",
   "execution_count": 48,
   "outputs": [
    {
     "data": {
      "text/plain": "   season    dayzero  regionW  regionX  regionY  regionZ  daynum  wteam  \\\n0     0.0 1995-10-30      0.0      1.0      4.0      5.0   136.0  515.0   \n1     0.0 1995-10-30      0.0      1.0      4.0      5.0   138.0  515.0   \n2     2.0 1997-10-27      0.0      5.0      1.0      6.0   136.0  515.0   \n3     3.0 1998-10-26      0.0      1.0      6.0      5.0   136.0  515.0   \n4    12.0 2007-11-05      0.0      1.0      6.0      5.0   137.0  515.0   \n\n   wscore  lteam  lscore     id      name  \n0    86.0  729.0    80.0  515.0  Arkansas  \n1    65.0  660.0    56.0  515.0  Arkansas  \n2    74.0  698.0    65.0  515.0  Arkansas  \n3    94.0  766.0    80.0  515.0  Arkansas  \n4    86.0  625.0    72.0  515.0  Arkansas  ",
      "text/html": "<div>\n<style scoped>\n    .dataframe tbody tr th:only-of-type {\n        vertical-align: middle;\n    }\n\n    .dataframe tbody tr th {\n        vertical-align: top;\n    }\n\n    .dataframe thead th {\n        text-align: right;\n    }\n</style>\n<table border=\"1\" class=\"dataframe\">\n  <thead>\n    <tr style=\"text-align: right;\">\n      <th></th>\n      <th>season</th>\n      <th>dayzero</th>\n      <th>regionW</th>\n      <th>regionX</th>\n      <th>regionY</th>\n      <th>regionZ</th>\n      <th>daynum</th>\n      <th>wteam</th>\n      <th>wscore</th>\n      <th>lteam</th>\n      <th>lscore</th>\n      <th>id</th>\n      <th>name</th>\n    </tr>\n  </thead>\n  <tbody>\n    <tr>\n      <th>0</th>\n      <td>0.0</td>\n      <td>1995-10-30</td>\n      <td>0.0</td>\n      <td>1.0</td>\n      <td>4.0</td>\n      <td>5.0</td>\n      <td>136.0</td>\n      <td>515.0</td>\n      <td>86.0</td>\n      <td>729.0</td>\n      <td>80.0</td>\n      <td>515.0</td>\n      <td>Arkansas</td>\n    </tr>\n    <tr>\n      <th>1</th>\n      <td>0.0</td>\n      <td>1995-10-30</td>\n      <td>0.0</td>\n      <td>1.0</td>\n      <td>4.0</td>\n      <td>5.0</td>\n      <td>138.0</td>\n      <td>515.0</td>\n      <td>65.0</td>\n      <td>660.0</td>\n      <td>56.0</td>\n      <td>515.0</td>\n      <td>Arkansas</td>\n    </tr>\n    <tr>\n      <th>2</th>\n      <td>2.0</td>\n      <td>1997-10-27</td>\n      <td>0.0</td>\n      <td>5.0</td>\n      <td>1.0</td>\n      <td>6.0</td>\n      <td>136.0</td>\n      <td>515.0</td>\n      <td>74.0</td>\n      <td>698.0</td>\n      <td>65.0</td>\n      <td>515.0</td>\n      <td>Arkansas</td>\n    </tr>\n    <tr>\n      <th>3</th>\n      <td>3.0</td>\n      <td>1998-10-26</td>\n      <td>0.0</td>\n      <td>1.0</td>\n      <td>6.0</td>\n      <td>5.0</td>\n      <td>136.0</td>\n      <td>515.0</td>\n      <td>94.0</td>\n      <td>766.0</td>\n      <td>80.0</td>\n      <td>515.0</td>\n      <td>Arkansas</td>\n    </tr>\n    <tr>\n      <th>4</th>\n      <td>12.0</td>\n      <td>2007-11-05</td>\n      <td>0.0</td>\n      <td>1.0</td>\n      <td>6.0</td>\n      <td>5.0</td>\n      <td>137.0</td>\n      <td>515.0</td>\n      <td>86.0</td>\n      <td>625.0</td>\n      <td>72.0</td>\n      <td>515.0</td>\n      <td>Arkansas</td>\n    </tr>\n  </tbody>\n</table>\n</div>"
     },
     "execution_count": 48,
     "metadata": {},
     "output_type": "execute_result"
    }
   ],
   "source": [
    "X = pd.merge(seasons, tourney_results, on='season', how='outer')\n",
    "X = pd.merge(X, teams, left_on='wteam', right_on='id', how='outer')\n",
    "X.head()"
   ],
   "metadata": {
    "collapsed": false
   }
  },
  {
   "cell_type": "code",
   "execution_count": 49,
   "outputs": [
    {
     "data": {
      "text/plain": "<Figure size 432x288 with 1 Axes>",
      "image/png": "[encoded data removed]"
     },
     "metadata": {
      "needs_background": "light"
     },
     "output_type": "display_data"
    }
   ],
   "source": [
    "ppg_per_game_winner = X.groupby('season').mean().loc[:,'wscore'].values\n",
    "ppg_per_game_loser = X.groupby('season').mean().loc[:,'lscore'].values\n",
    "season_values = X.groupby('season').count().index.values\n",
    "\n",
    "plt.plot(season_values, ppg_per_game_winner)\n",
    "plt.plot(season_values, ppg_per_game_loser)\n",
    "plt.show()"
   ],
   "metadata": {
    "collapsed": false
   }
  },
  {
   "cell_type": "markdown",
   "source": [
    "Prikazao sam linijskim grafom po sezonama koliko su timovi u prosjeku ubacivali i primali poena"
   ],
   "metadata": {
    "collapsed": false
   }
  },
  {
   "cell_type": "code",
   "execution_count": 50,
   "outputs": [
    {
     "data": {
      "text/plain": "<Figure size 432x288 with 1 Axes>",
      "image/png": "[encoded data removed]"
     },
     "metadata": {
      "needs_background": "light"
     },
     "output_type": "display_data"
    }
   ],
   "source": [
    "X =X[X.season == 17]\n",
    "wins_tour = X.groupby('wteam').count().loc[:,'name']\n",
    "ppg_per_game = X.groupby('wteam').mean().loc[:,'wscore'].values\n",
    "\n",
    "plt.scatter(ppg_per_game, wins_tour)\n",
    "plt.show()"
   ],
   "metadata": {
    "collapsed": false
   }
  },
  {
   "cell_type": "markdown",
   "source": [
    "Na ovom grafu rasprsenja sam prikazo koliko su timovi u zadnjoj sezoni ubacivali poena u prosjeku u turnirskom dijelu natjecanja u odnosu na koliko su pobjeda imali u turniru."
   ],
   "metadata": {
    "collapsed": false
   }
  },
  {
   "cell_type": "code",
   "execution_count": 51,
   "outputs": [
    {
     "data": {
      "text/plain": "<Figure size 432x288 with 1 Axes>",
      "image/png": "[encoded data removed]"
     },
     "metadata": {
      "needs_background": "light"
     },
     "output_type": "display_data"
    }
   ],
   "source": [
    "X = pd.merge(seasons, tourney_results, on='season', how='outer')\n",
    "X = pd.merge(X, teams, left_on='wteam', right_on='id', how='outer')\n",
    "\n",
    "wins_tour = X.groupby(['wteam','name']).count().loc[:,'daynum'].reset_index(name='count').sort_values(['count'], ascending=False).head(10)\n",
    "\n",
    "wins_tour_names = wins_tour.loc[:,'name'].values\n",
    "wins_tour_wins = wins_tour.loc[:,'count'].values\n",
    "\n",
    "plt.bar(wins_tour_names, wins_tour_wins, width=0.9)\n",
    "plt.xticks(rotation=90)\n",
    "plt.show()"
   ],
   "metadata": {
    "collapsed": false
   }
  },
  {
   "cell_type": "markdown",
   "source": [
    "Ovdje sam prikazao top 10 timova sa najvise pobjeda u turnirskom djelu natjecanja"
   ],
   "metadata": {
    "collapsed": false
   }
  },
  {
   "cell_type": "code",
   "execution_count": 52,
   "outputs": [
    {
     "data": {
      "text/plain": "<Figure size 432x288 with 1 Axes>",
      "image/png": "[encoded data removed]"
     },
     "metadata": {
      "needs_background": "light"
     },
     "output_type": "display_data"
    }
   ],
   "source": [
    "plt.boxplot(regular_season_results.wscore)\n",
    "plt.show()"
   ],
   "metadata": {
    "collapsed": false
   }
  },
  {
   "cell_type": "code",
   "execution_count": 53,
   "outputs": [
    {
     "data": {
      "text/plain": "<Figure size 432x288 with 1 Axes>",
      "image/png": "[encoded data removed]"
     },
     "metadata": {
      "needs_background": "light"
     },
     "output_type": "display_data"
    }
   ],
   "source": [
    "plt.boxplot(tourney_results.wscore)\n",
    "plt.show()"
   ],
   "metadata": {
    "collapsed": false
   }
  },
  {
   "cell_type": "markdown",
   "source": [
    "Na ova dva kutijasta grafa sam prikazao brojeva zabijenih poena iako izgleda da imamo puno strsecih vrijdnosti znamo da je to sve moguce i u granicama normale jer postoje utakmice koje su imale puno produzetaka pa je rezultat mogao biti dosta visok"
   ],
   "metadata": {
    "collapsed": false
   }
  },
  {
   "cell_type": "code",
   "execution_count": 54,
   "outputs": [
    {
     "data": {
      "text/plain": "<Figure size 432x288 with 1 Axes>",
      "image/png": "[encoded data removed]"
     },
     "metadata": {
      "needs_background": "light"
     },
     "output_type": "display_data"
    }
   ],
   "source": [
    "X = pd.merge(seasons, regular_season_results, on='season', how='outer')\n",
    "X = pd.merge(X, teams, left_on='wteam', right_on='id', how='outer')\n",
    "\n",
    "ppg_per_game_winner = X.groupby('season').mean().loc[:,'wscore'].values\n",
    "ppg_per_game_loser = X.groupby('season').mean().loc[:,'lscore'].values\n",
    "season_values = X.groupby('season').count().index.values\n",
    "\n",
    "plt.bar(season_values, ppg_per_game_loser, color='red', label='allowed')\n",
    "plt.bar(season_values, ppg_per_game_winner, color='green', label='scored',bottom=ppg_per_game_loser)\n",
    "plt.legend(loc='best')\n",
    "plt.grid()\n",
    "plt.show()"
   ],
   "metadata": {
    "collapsed": false
   }
  },
  {
   "cell_type": "markdown",
   "source": [
    "Na ovom grafu sam prikazao koliko timovi u prosjeku zabijaju i primaju koseva u regularnoj sezoni te ukupni broj koseva na utakmici"
   ],
   "metadata": {
    "collapsed": false
   }
  },
  {
   "cell_type": "code",
   "execution_count": 55,
   "outputs": [
    {
     "data": {
      "text/plain": "<Figure size 432x288 with 1 Axes>",
      "image/png": "[encoded data removed]"
     },
     "metadata": {
      "needs_background": "light"
     },
     "output_type": "display_data"
    }
   ],
   "source": [
    "plt.hist(X.wscore, bins=30, label=\"Winner\", alpha=0.3)\n",
    "plt.hist(X.lscore, color='red', bins=30, alpha=0.3, label=\"Loser\")\n",
    "plt.legend(loc='best')\n",
    "plt.show()"
   ],
   "metadata": {
    "collapsed": false
   }
  },
  {
   "cell_type": "markdown",
   "source": [
    "Histogram sa prikazom broja poena pobjednika i porazenih"
   ],
   "metadata": {
    "collapsed": false
   }
  },
  {
   "cell_type": "markdown",
   "source": [],
   "metadata": {
    "collapsed": false
   }
  },
  {
   "cell_type": "markdown",
   "source": [],
   "metadata": {
    "collapsed": false
   }
  }
 ],
 "metadata": {
  "kernelspec": {
   "display_name": "Python 3",
   "language": "python",
   "name": "python3"
  },
  "language_info": {
   "codemirror_mode": {
    "name": "ipython",
    "version": 2
   },
   "file_extension": ".py",
   "mimetype": "text/x-python",
   "name": "python",
   "nbconvert_exporter": "python",
   "pygments_lexer": "ipython2",
   "version": "2.7.6"
  }
 },
 "nbformat": 4,
 "nbformat_minor": 0
}
